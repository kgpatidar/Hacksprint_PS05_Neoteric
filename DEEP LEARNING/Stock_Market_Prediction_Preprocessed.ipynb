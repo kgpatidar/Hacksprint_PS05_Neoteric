{
  "nbformat": 4,
  "nbformat_minor": 0,
  "metadata": {
    "colab": {
      "name": "Stock-Market-Prediction-Preprocessed.ipynb",
      "provenance": [],
      "collapsed_sections": []
    },
    "kernelspec": {
      "name": "python3",
      "display_name": "Python 3"
    }
  },
  "cells": [
    {
      "cell_type": "markdown",
      "metadata": {
        "id": "Az69W9vRtk7q"
      },
      "source": [
        "#**Stock Market Prediction using machine learing.**\n",
        "\n",
        "For doing the stock market prediction, we are taking 20 years HDFC stocks results from 2000-01-03 to 2020-08-31. \n",
        "\n",
        "Stride:\n",
        "\n",
        "\n",
        "\n",
        "1.   Loading Libraries\n",
        "2.   Loading dataset\n",
        "3.   Visualization of data\n",
        "4.   Preprocessing of data\n",
        "5.   Train and Test Split\n",
        "6.   Building Model\n",
        "7.   Optimization and Hyperparameter tuning\n",
        "8.   Prediction\n",
        "\n",
        "This file will contain top 4 strides and will continue the last 4 strides in next file.\n",
        "\n",
        "\n",
        "\n",
        "\n"
      ]
    },
    {
      "cell_type": "markdown",
      "metadata": {
        "id": "SM7kz7RqdGB0"
      },
      "source": [
        "## **1. Loading Libraries**\n",
        "\n",
        "We have loaded the important libraries and we will load other libraries as we need them."
      ]
    },
    {
      "cell_type": "code",
      "metadata": {
        "id": "p8KW7CYgyNyi"
      },
      "source": [
        "import pandas as pd\n",
        "import numpy as np\n",
        "import missingno as msno\n",
        "import matplotlib.pyplot as plt \n",
        "%matplotlib inline\n",
        "\n",
        "#setting figure size\n",
        "from matplotlib.pylab import rcParams\n",
        "rcParams['figure.figsize'] = 20,10\n",
        "\n",
        "from plotly import tools\n",
        "from plotly.graph_objs import *\n",
        "from plotly.offline import init_notebook_mode, iplot, iplot_mpl"
      ],
      "execution_count": 3,
      "outputs": []
    },
    {
      "cell_type": "markdown",
      "metadata": {
        "id": "Br1EOKcTd5Ls"
      },
      "source": [
        "# **2. Loading Data**\n",
        "\n",
        "We have HDFC stock data and it contains several columns\n",
        "1. Date\n",
        "2. Symbol\n",
        "3. Series\n",
        "4. Prev Close\n",
        "5. Open\n",
        "6. High\n",
        "7. Low \n",
        "8. Last\n",
        "9. Close\n",
        "10. VMAP\n",
        "11. Volume\n",
        "12. Turnover\n",
        "13. Trades\n",
        "14. Deliverable Volume \n",
        "15. %Deliverable\n"
      ]
    },
    {
      "cell_type": "code",
      "metadata": {
        "id": "GgGyNFhSqyyq"
      },
      "source": [
        "data=pd.read_csv('HDFC.csv') #loading the dataset"
      ],
      "execution_count": 4,
      "outputs": []
    },
    {
      "cell_type": "code",
      "metadata": {
        "id": "lLrL3W4PybRl",
        "outputId": "b022b949-a23b-4ff4-d8c1-9e6a6a903d37",
        "colab": {
          "base_uri": "https://localhost:8080/",
          "height": 204
        }
      },
      "source": [
        "data.head() #top 5 values of dataset"
      ],
      "execution_count": 5,
      "outputs": [
        {
          "output_type": "execute_result",
          "data": {
            "text/html": [
              "<div>\n",
              "<style scoped>\n",
              "    .dataframe tbody tr th:only-of-type {\n",
              "        vertical-align: middle;\n",
              "    }\n",
              "\n",
              "    .dataframe tbody tr th {\n",
              "        vertical-align: top;\n",
              "    }\n",
              "\n",
              "    .dataframe thead th {\n",
              "        text-align: right;\n",
              "    }\n",
              "</style>\n",
              "<table border=\"1\" class=\"dataframe\">\n",
              "  <thead>\n",
              "    <tr style=\"text-align: right;\">\n",
              "      <th></th>\n",
              "      <th>Date</th>\n",
              "      <th>Symbol</th>\n",
              "      <th>Series</th>\n",
              "      <th>Prev Close</th>\n",
              "      <th>Open</th>\n",
              "      <th>High</th>\n",
              "      <th>Low</th>\n",
              "      <th>Last</th>\n",
              "      <th>Close</th>\n",
              "      <th>VWAP</th>\n",
              "      <th>Volume</th>\n",
              "      <th>Turnover</th>\n",
              "      <th>Trades</th>\n",
              "      <th>Deliverable Volume</th>\n",
              "      <th>%Deliverble</th>\n",
              "    </tr>\n",
              "  </thead>\n",
              "  <tbody>\n",
              "    <tr>\n",
              "      <th>0</th>\n",
              "      <td>2000-01-03</td>\n",
              "      <td>HDFC</td>\n",
              "      <td>EQ</td>\n",
              "      <td>271.75</td>\n",
              "      <td>293.5</td>\n",
              "      <td>293.50</td>\n",
              "      <td>293.5</td>\n",
              "      <td>293.5</td>\n",
              "      <td>293.50</td>\n",
              "      <td>293.50</td>\n",
              "      <td>22744</td>\n",
              "      <td>6.675364e+11</td>\n",
              "      <td>NaN</td>\n",
              "      <td>NaN</td>\n",
              "      <td>NaN</td>\n",
              "    </tr>\n",
              "    <tr>\n",
              "      <th>1</th>\n",
              "      <td>2000-01-04</td>\n",
              "      <td>HDFC</td>\n",
              "      <td>EQ</td>\n",
              "      <td>293.50</td>\n",
              "      <td>317.0</td>\n",
              "      <td>317.00</td>\n",
              "      <td>297.0</td>\n",
              "      <td>304.0</td>\n",
              "      <td>304.05</td>\n",
              "      <td>303.62</td>\n",
              "      <td>255251</td>\n",
              "      <td>7.749972e+12</td>\n",
              "      <td>NaN</td>\n",
              "      <td>NaN</td>\n",
              "      <td>NaN</td>\n",
              "    </tr>\n",
              "    <tr>\n",
              "      <th>2</th>\n",
              "      <td>2000-01-05</td>\n",
              "      <td>HDFC</td>\n",
              "      <td>EQ</td>\n",
              "      <td>304.05</td>\n",
              "      <td>290.0</td>\n",
              "      <td>303.90</td>\n",
              "      <td>285.0</td>\n",
              "      <td>295.0</td>\n",
              "      <td>292.80</td>\n",
              "      <td>294.53</td>\n",
              "      <td>269087</td>\n",
              "      <td>7.925368e+12</td>\n",
              "      <td>NaN</td>\n",
              "      <td>NaN</td>\n",
              "      <td>NaN</td>\n",
              "    </tr>\n",
              "    <tr>\n",
              "      <th>3</th>\n",
              "      <td>2000-01-06</td>\n",
              "      <td>HDFC</td>\n",
              "      <td>EQ</td>\n",
              "      <td>292.80</td>\n",
              "      <td>301.0</td>\n",
              "      <td>314.00</td>\n",
              "      <td>295.0</td>\n",
              "      <td>296.0</td>\n",
              "      <td>296.45</td>\n",
              "      <td>300.14</td>\n",
              "      <td>305916</td>\n",
              "      <td>9.181669e+12</td>\n",
              "      <td>NaN</td>\n",
              "      <td>NaN</td>\n",
              "      <td>NaN</td>\n",
              "    </tr>\n",
              "    <tr>\n",
              "      <th>4</th>\n",
              "      <td>2000-01-07</td>\n",
              "      <td>HDFC</td>\n",
              "      <td>EQ</td>\n",
              "      <td>296.45</td>\n",
              "      <td>290.0</td>\n",
              "      <td>296.35</td>\n",
              "      <td>281.0</td>\n",
              "      <td>287.1</td>\n",
              "      <td>286.55</td>\n",
              "      <td>288.80</td>\n",
              "      <td>197039</td>\n",
              "      <td>5.690480e+12</td>\n",
              "      <td>NaN</td>\n",
              "      <td>NaN</td>\n",
              "      <td>NaN</td>\n",
              "    </tr>\n",
              "  </tbody>\n",
              "</table>\n",
              "</div>"
            ],
            "text/plain": [
              "         Date Symbol Series  ...  Trades  Deliverable Volume  %Deliverble\n",
              "0  2000-01-03   HDFC     EQ  ...     NaN                 NaN          NaN\n",
              "1  2000-01-04   HDFC     EQ  ...     NaN                 NaN          NaN\n",
              "2  2000-01-05   HDFC     EQ  ...     NaN                 NaN          NaN\n",
              "3  2000-01-06   HDFC     EQ  ...     NaN                 NaN          NaN\n",
              "4  2000-01-07   HDFC     EQ  ...     NaN                 NaN          NaN\n",
              "\n",
              "[5 rows x 15 columns]"
            ]
          },
          "metadata": {
            "tags": []
          },
          "execution_count": 5
        }
      ]
    },
    {
      "cell_type": "code",
      "metadata": {
        "id": "GwlWeyb8yf8w",
        "outputId": "1441f8d6-5875-456f-ad15-6e22979e7d13",
        "colab": {
          "base_uri": "https://localhost:8080/",
          "height": 195
        }
      },
      "source": [
        "data.tail() #bottom 5 values of data"
      ],
      "execution_count": null,
      "outputs": [
        {
          "output_type": "execute_result",
          "data": {
            "text/html": [
              "<div>\n",
              "<style scoped>\n",
              "    .dataframe tbody tr th:only-of-type {\n",
              "        vertical-align: middle;\n",
              "    }\n",
              "\n",
              "    .dataframe tbody tr th {\n",
              "        vertical-align: top;\n",
              "    }\n",
              "\n",
              "    .dataframe thead th {\n",
              "        text-align: right;\n",
              "    }\n",
              "</style>\n",
              "<table border=\"1\" class=\"dataframe\">\n",
              "  <thead>\n",
              "    <tr style=\"text-align: right;\">\n",
              "      <th></th>\n",
              "      <th>Date</th>\n",
              "      <th>Symbol</th>\n",
              "      <th>Series</th>\n",
              "      <th>Prev Close</th>\n",
              "      <th>Open</th>\n",
              "      <th>High</th>\n",
              "      <th>Low</th>\n",
              "      <th>Last</th>\n",
              "      <th>Close</th>\n",
              "      <th>VWAP</th>\n",
              "      <th>Volume</th>\n",
              "      <th>Turnover</th>\n",
              "      <th>Trades</th>\n",
              "      <th>Deliverable Volume</th>\n",
              "      <th>%Deliverble</th>\n",
              "    </tr>\n",
              "  </thead>\n",
              "  <tbody>\n",
              "    <tr>\n",
              "      <th>5136</th>\n",
              "      <td>2020-08-25</td>\n",
              "      <td>HDFC</td>\n",
              "      <td>EQ</td>\n",
              "      <td>1829.85</td>\n",
              "      <td>1843.75</td>\n",
              "      <td>1852.4</td>\n",
              "      <td>1817.05</td>\n",
              "      <td>1831.40</td>\n",
              "      <td>1829.60</td>\n",
              "      <td>1834.86</td>\n",
              "      <td>2646159</td>\n",
              "      <td>4.855322e+14</td>\n",
              "      <td>111918.0</td>\n",
              "      <td>1044629.0</td>\n",
              "      <td>0.3948</td>\n",
              "    </tr>\n",
              "    <tr>\n",
              "      <th>5137</th>\n",
              "      <td>2020-08-26</td>\n",
              "      <td>HDFC</td>\n",
              "      <td>EQ</td>\n",
              "      <td>1829.60</td>\n",
              "      <td>1837.00</td>\n",
              "      <td>1837.8</td>\n",
              "      <td>1803.60</td>\n",
              "      <td>1810.75</td>\n",
              "      <td>1816.00</td>\n",
              "      <td>1816.89</td>\n",
              "      <td>3187424</td>\n",
              "      <td>5.791196e+14</td>\n",
              "      <td>122481.0</td>\n",
              "      <td>1609579.0</td>\n",
              "      <td>0.5050</td>\n",
              "    </tr>\n",
              "    <tr>\n",
              "      <th>5138</th>\n",
              "      <td>2020-08-27</td>\n",
              "      <td>HDFC</td>\n",
              "      <td>EQ</td>\n",
              "      <td>1816.00</td>\n",
              "      <td>1832.00</td>\n",
              "      <td>1883.0</td>\n",
              "      <td>1830.00</td>\n",
              "      <td>1863.50</td>\n",
              "      <td>1864.10</td>\n",
              "      <td>1864.76</td>\n",
              "      <td>8648531</td>\n",
              "      <td>1.612739e+15</td>\n",
              "      <td>256931.0</td>\n",
              "      <td>3892406.0</td>\n",
              "      <td>0.4501</td>\n",
              "    </tr>\n",
              "    <tr>\n",
              "      <th>5139</th>\n",
              "      <td>2020-08-28</td>\n",
              "      <td>HDFC</td>\n",
              "      <td>EQ</td>\n",
              "      <td>1864.10</td>\n",
              "      <td>1871.00</td>\n",
              "      <td>1889.0</td>\n",
              "      <td>1862.80</td>\n",
              "      <td>1881.00</td>\n",
              "      <td>1883.25</td>\n",
              "      <td>1879.87</td>\n",
              "      <td>4903981</td>\n",
              "      <td>9.218858e+14</td>\n",
              "      <td>167080.0</td>\n",
              "      <td>2547535.0</td>\n",
              "      <td>0.5195</td>\n",
              "    </tr>\n",
              "    <tr>\n",
              "      <th>5140</th>\n",
              "      <td>2020-08-31</td>\n",
              "      <td>HDFC</td>\n",
              "      <td>EQ</td>\n",
              "      <td>1883.25</td>\n",
              "      <td>1898.50</td>\n",
              "      <td>1921.9</td>\n",
              "      <td>1797.55</td>\n",
              "      <td>1825.00</td>\n",
              "      <td>1832.60</td>\n",
              "      <td>1852.71</td>\n",
              "      <td>7604691</td>\n",
              "      <td>1.408930e+15</td>\n",
              "      <td>225537.0</td>\n",
              "      <td>3496941.0</td>\n",
              "      <td>0.4598</td>\n",
              "    </tr>\n",
              "  </tbody>\n",
              "</table>\n",
              "</div>"
            ],
            "text/plain": [
              "            Date Symbol Series  ...    Trades  Deliverable Volume  %Deliverble\n",
              "5136  2020-08-25   HDFC     EQ  ...  111918.0           1044629.0       0.3948\n",
              "5137  2020-08-26   HDFC     EQ  ...  122481.0           1609579.0       0.5050\n",
              "5138  2020-08-27   HDFC     EQ  ...  256931.0           3892406.0       0.4501\n",
              "5139  2020-08-28   HDFC     EQ  ...  167080.0           2547535.0       0.5195\n",
              "5140  2020-08-31   HDFC     EQ  ...  225537.0           3496941.0       0.4598\n",
              "\n",
              "[5 rows x 15 columns]"
            ]
          },
          "metadata": {
            "tags": []
          },
          "execution_count": 7
        }
      ]
    },
    {
      "cell_type": "code",
      "metadata": {
        "id": "OcMl9UIa1j34",
        "outputId": "d29c513e-c07b-4dd8-da64-8be39bdd1e68",
        "colab": {
          "base_uri": "https://localhost:8080/",
          "height": 34
        }
      },
      "source": [
        "data.shape #shape of data"
      ],
      "execution_count": null,
      "outputs": [
        {
          "output_type": "execute_result",
          "data": {
            "text/plain": [
              "(5141, 15)"
            ]
          },
          "metadata": {
            "tags": []
          },
          "execution_count": 8
        }
      ]
    },
    {
      "cell_type": "code",
      "metadata": {
        "id": "HQk_kmAa32N8",
        "outputId": "d6c7e500-e597-437b-9f8d-3a7ae209c7d3",
        "colab": {
          "base_uri": "https://localhost:8080/",
          "height": 386
        }
      },
      "source": [
        "data.info() #information of the columns"
      ],
      "execution_count": null,
      "outputs": [
        {
          "output_type": "stream",
          "text": [
            "<class 'pandas.core.frame.DataFrame'>\n",
            "RangeIndex: 5141 entries, 0 to 5140\n",
            "Data columns (total 15 columns):\n",
            " #   Column              Non-Null Count  Dtype  \n",
            "---  ------              --------------  -----  \n",
            " 0   Date                5141 non-null   object \n",
            " 1   Symbol              5141 non-null   object \n",
            " 2   Series              5141 non-null   object \n",
            " 3   Prev Close          5141 non-null   float64\n",
            " 4   Open                5141 non-null   float64\n",
            " 5   High                5141 non-null   float64\n",
            " 6   Low                 5141 non-null   float64\n",
            " 7   Last                5141 non-null   float64\n",
            " 8   Close               5141 non-null   float64\n",
            " 9   VWAP                5141 non-null   float64\n",
            " 10  Volume              5141 non-null   int64  \n",
            " 11  Turnover            5141 non-null   float64\n",
            " 12  Trades              2291 non-null   float64\n",
            " 13  Deliverable Volume  4632 non-null   float64\n",
            " 14  %Deliverble         4632 non-null   float64\n",
            "dtypes: float64(11), int64(1), object(3)\n",
            "memory usage: 602.6+ KB\n"
          ],
          "name": "stdout"
        }
      ]
    },
    {
      "cell_type": "code",
      "metadata": {
        "id": "2AfpCYoq1uWT",
        "outputId": "aecab77b-9b2c-425b-cda4-4af2df9e50b4",
        "colab": {
          "base_uri": "https://localhost:8080/",
          "height": 84
        }
      },
      "source": [
        "data.columns #columns of the data"
      ],
      "execution_count": null,
      "outputs": [
        {
          "output_type": "execute_result",
          "data": {
            "text/plain": [
              "Index(['Date', 'Symbol', 'Series', 'Prev Close', 'Open', 'High', 'Low', 'Last',\n",
              "       'Close', 'VWAP', 'Volume', 'Turnover', 'Trades', 'Deliverable Volume',\n",
              "       '%Deliverble'],\n",
              "      dtype='object')"
            ]
          },
          "metadata": {
            "tags": []
          },
          "execution_count": 10
        }
      ]
    },
    {
      "cell_type": "code",
      "metadata": {
        "id": "S8Y2dsD11xv_",
        "outputId": "07669329-2476-4156-853e-bb65e59d14d2",
        "colab": {
          "base_uri": "https://localhost:8080/",
          "height": 286
        }
      },
      "source": [
        "data.dtypes #data types of column"
      ],
      "execution_count": null,
      "outputs": [
        {
          "output_type": "execute_result",
          "data": {
            "text/plain": [
              "Date                   object\n",
              "Symbol                 object\n",
              "Series                 object\n",
              "Prev Close            float64\n",
              "Open                  float64\n",
              "High                  float64\n",
              "Low                   float64\n",
              "Last                  float64\n",
              "Close                 float64\n",
              "VWAP                  float64\n",
              "Volume                  int64\n",
              "Turnover              float64\n",
              "Trades                float64\n",
              "Deliverable Volume    float64\n",
              "%Deliverble           float64\n",
              "dtype: object"
            ]
          },
          "metadata": {
            "tags": []
          },
          "execution_count": 11
        }
      ]
    },
    {
      "cell_type": "code",
      "metadata": {
        "id": "v9mxDhfo0g-9",
        "outputId": "f90ad1d9-5d14-423f-cbf5-23d2ca8aa5e5",
        "colab": {
          "base_uri": "https://localhost:8080/",
          "height": 286
        }
      },
      "source": [
        "data.isna().sum() #null values in the data"
      ],
      "execution_count": null,
      "outputs": [
        {
          "output_type": "execute_result",
          "data": {
            "text/plain": [
              "Date                     0\n",
              "Symbol                   0\n",
              "Series                   0\n",
              "Prev Close               0\n",
              "Open                     0\n",
              "High                     0\n",
              "Low                      0\n",
              "Last                     0\n",
              "Close                    0\n",
              "VWAP                     0\n",
              "Volume                   0\n",
              "Turnover                 0\n",
              "Trades                2850\n",
              "Deliverable Volume     509\n",
              "%Deliverble            509\n",
              "dtype: int64"
            ]
          },
          "metadata": {
            "tags": []
          },
          "execution_count": 12
        }
      ]
    },
    {
      "cell_type": "code",
      "metadata": {
        "id": "IL3V_-0q2DHc",
        "outputId": "c8f347bb-5a35-45ff-e916-c6ff1b84ab61",
        "colab": {
          "base_uri": "https://localhost:8080/",
          "height": 286
        }
      },
      "source": [
        "((data.isnull().sum()/len(data))*100).sort_values(ascending=False) #percentage of null values in the data"
      ],
      "execution_count": null,
      "outputs": [
        {
          "output_type": "execute_result",
          "data": {
            "text/plain": [
              "Trades                55.436685\n",
              "%Deliverble            9.900798\n",
              "Deliverable Volume     9.900798\n",
              "Turnover               0.000000\n",
              "Volume                 0.000000\n",
              "VWAP                   0.000000\n",
              "Close                  0.000000\n",
              "Last                   0.000000\n",
              "Low                    0.000000\n",
              "High                   0.000000\n",
              "Open                   0.000000\n",
              "Prev Close             0.000000\n",
              "Series                 0.000000\n",
              "Symbol                 0.000000\n",
              "Date                   0.000000\n",
              "dtype: float64"
            ]
          },
          "metadata": {
            "tags": []
          },
          "execution_count": 13
        }
      ]
    },
    {
      "cell_type": "markdown",
      "metadata": {
        "id": "mmuX8V728NAX"
      },
      "source": [
        "**Visualization of data for seeing null values**"
      ]
    },
    {
      "cell_type": "code",
      "metadata": {
        "id": "YP_9DuDu0ycJ",
        "outputId": "7725d02a-af31-4286-964c-ec84e027f8e2",
        "colab": {
          "base_uri": "https://localhost:8080/",
          "height": 447
        }
      },
      "source": [
        "figure, (ax1, ax2) = plt.subplots(1, 2, figsize=(11,4))\n",
        "msno.matrix(data, ax=ax1, sparkline=False, fontsize = 12, color=(0., 0.25, 0.25))\n",
        "msno.bar(data, ax=ax2, fontsize = 12, color=(0.25, 0., 0.25))\n",
        "plt.show() "
      ],
      "execution_count": null,
      "outputs": [
        {
          "output_type": "display_data",
          "data": {
            "image/png": "[encoded data removed]",
            "text/plain": [
              "<Figure size 792x288 with 4 Axes>"
            ]
          },
          "metadata": {
            "tags": [],
            "needs_background": "light"
          }
        }
      ]
    },
    {
      "cell_type": "code",
      "metadata": {
        "id": "JnIiwOFg2mxd",
        "outputId": "c5069844-c556-48cc-92ba-c24a9200720c",
        "colab": {
          "base_uri": "https://localhost:8080/",
          "height": 47
        }
      },
      "source": [
        "data[data.duplicated()] #checking the duplicacy of data "
      ],
      "execution_count": null,
      "outputs": [
        {
          "output_type": "execute_result",
          "data": {
            "text/html": [
              "<div>\n",
              "<style scoped>\n",
              "    .dataframe tbody tr th:only-of-type {\n",
              "        vertical-align: middle;\n",
              "    }\n",
              "\n",
              "    .dataframe tbody tr th {\n",
              "        vertical-align: top;\n",
              "    }\n",
              "\n",
              "    .dataframe thead th {\n",
              "        text-align: right;\n",
              "    }\n",
              "</style>\n",
              "<table border=\"1\" class=\"dataframe\">\n",
              "  <thead>\n",
              "    <tr style=\"text-align: right;\">\n",
              "      <th></th>\n",
              "      <th>Date</th>\n",
              "      <th>Symbol</th>\n",
              "      <th>Series</th>\n",
              "      <th>Prev Close</th>\n",
              "      <th>Open</th>\n",
              "      <th>High</th>\n",
              "      <th>Low</th>\n",
              "      <th>Last</th>\n",
              "      <th>Close</th>\n",
              "      <th>VWAP</th>\n",
              "      <th>Volume</th>\n",
              "      <th>Turnover</th>\n",
              "      <th>Trades</th>\n",
              "      <th>Deliverable Volume</th>\n",
              "      <th>%Deliverble</th>\n",
              "    </tr>\n",
              "  </thead>\n",
              "  <tbody>\n",
              "  </tbody>\n",
              "</table>\n",
              "</div>"
            ],
            "text/plain": [
              "Empty DataFrame\n",
              "Columns: [Date, Symbol, Series, Prev Close, Open, High, Low, Last, Close, VWAP, Volume, Turnover, Trades, Deliverable Volume, %Deliverble]\n",
              "Index: []"
            ]
          },
          "metadata": {
            "tags": []
          },
          "execution_count": 15
        }
      ]
    },
    {
      "cell_type": "code",
      "metadata": {
        "id": "t2bxi_4_3DVC",
        "outputId": "fdb2f4c0-5b9d-43e0-eeeb-f0dc930df19e",
        "colab": {
          "base_uri": "https://localhost:8080/",
          "height": 34
        }
      },
      "source": [
        "data.Symbol.unique() #unique value will check the unique element of that particular column"
      ],
      "execution_count": null,
      "outputs": [
        {
          "output_type": "execute_result",
          "data": {
            "text/plain": [
              "array(['HDFC'], dtype=object)"
            ]
          },
          "metadata": {
            "tags": []
          },
          "execution_count": 16
        }
      ]
    },
    {
      "cell_type": "code",
      "metadata": {
        "id": "8ySIv0kw3YRg",
        "outputId": "9e83f581-63cf-4110-8a68-88ec1b9436e2",
        "colab": {
          "base_uri": "https://localhost:8080/",
          "height": 34
        }
      },
      "source": [
        "data.Series.unique()"
      ],
      "execution_count": null,
      "outputs": [
        {
          "output_type": "execute_result",
          "data": {
            "text/plain": [
              "array(['EQ'], dtype=object)"
            ]
          },
          "metadata": {
            "tags": []
          },
          "execution_count": 17
        }
      ]
    },
    {
      "cell_type": "markdown",
      "metadata": {
        "id": "J1nanvST8lGy"
      },
      "source": [
        "##### As we can see HDFC is only element present in Symbol column cause we are using stocks of HDFC only and in Series column we have EQ series only. Hence weare discarding those column. Drop function of pandas will do this work."
      ]
    },
    {
      "cell_type": "code",
      "metadata": {
        "id": "vvePJY6w3LLH"
      },
      "source": [
        "data.drop('Symbol',axis=1,inplace=True)"
      ],
      "execution_count": null,
      "outputs": []
    },
    {
      "cell_type": "code",
      "metadata": {
        "id": "qGhFM36w3fCU"
      },
      "source": [
        "data.drop('Series',axis=1,inplace=True)"
      ],
      "execution_count": null,
      "outputs": []
    },
    {
      "cell_type": "code",
      "metadata": {
        "id": "WTZRYfsj3mhO",
        "outputId": "6ac8b5f6-6475-4acb-c838-42bbc59ab380",
        "colab": {
          "base_uri": "https://localhost:8080/",
          "height": 402
        }
      },
      "source": [
        "data"
      ],
      "execution_count": null,
      "outputs": [
        {
          "output_type": "execute_result",
          "data": {
            "text/html": [
              "<div>\n",
              "<style scoped>\n",
              "    .dataframe tbody tr th:only-of-type {\n",
              "        vertical-align: middle;\n",
              "    }\n",
              "\n",
              "    .dataframe tbody tr th {\n",
              "        vertical-align: top;\n",
              "    }\n",
              "\n",
              "    .dataframe thead th {\n",
              "        text-align: right;\n",
              "    }\n",
              "</style>\n",
              "<table border=\"1\" class=\"dataframe\">\n",
              "  <thead>\n",
              "    <tr style=\"text-align: right;\">\n",
              "      <th></th>\n",
              "      <th>Date</th>\n",
              "      <th>Prev Close</th>\n",
              "      <th>Open</th>\n",
              "      <th>High</th>\n",
              "      <th>Low</th>\n",
              "      <th>Last</th>\n",
              "      <th>Close</th>\n",
              "      <th>VWAP</th>\n",
              "      <th>Volume</th>\n",
              "      <th>Turnover</th>\n",
              "      <th>Trades</th>\n",
              "      <th>Deliverable Volume</th>\n",
              "      <th>%Deliverble</th>\n",
              "    </tr>\n",
              "  </thead>\n",
              "  <tbody>\n",
              "    <tr>\n",
              "      <th>0</th>\n",
              "      <td>2000-01-03</td>\n",
              "      <td>271.75</td>\n",
              "      <td>293.50</td>\n",
              "      <td>293.50</td>\n",
              "      <td>293.50</td>\n",
              "      <td>293.50</td>\n",
              "      <td>293.50</td>\n",
              "      <td>293.50</td>\n",
              "      <td>22744</td>\n",
              "      <td>6.675364e+11</td>\n",
              "      <td>NaN</td>\n",
              "      <td>NaN</td>\n",
              "      <td>NaN</td>\n",
              "    </tr>\n",
              "    <tr>\n",
              "      <th>1</th>\n",
              "      <td>2000-01-04</td>\n",
              "      <td>293.50</td>\n",
              "      <td>317.00</td>\n",
              "      <td>317.00</td>\n",
              "      <td>297.00</td>\n",
              "      <td>304.00</td>\n",
              "      <td>304.05</td>\n",
              "      <td>303.62</td>\n",
              "      <td>255251</td>\n",
              "      <td>7.749972e+12</td>\n",
              "      <td>NaN</td>\n",
              "      <td>NaN</td>\n",
              "      <td>NaN</td>\n",
              "    </tr>\n",
              "    <tr>\n",
              "      <th>2</th>\n",
              "      <td>2000-01-05</td>\n",
              "      <td>304.05</td>\n",
              "      <td>290.00</td>\n",
              "      <td>303.90</td>\n",
              "      <td>285.00</td>\n",
              "      <td>295.00</td>\n",
              "      <td>292.80</td>\n",
              "      <td>294.53</td>\n",
              "      <td>269087</td>\n",
              "      <td>7.925368e+12</td>\n",
              "      <td>NaN</td>\n",
              "      <td>NaN</td>\n",
              "      <td>NaN</td>\n",
              "    </tr>\n",
              "    <tr>\n",
              "      <th>3</th>\n",
              "      <td>2000-01-06</td>\n",
              "      <td>292.80</td>\n",
              "      <td>301.00</td>\n",
              "      <td>314.00</td>\n",
              "      <td>295.00</td>\n",
              "      <td>296.00</td>\n",
              "      <td>296.45</td>\n",
              "      <td>300.14</td>\n",
              "      <td>305916</td>\n",
              "      <td>9.181669e+12</td>\n",
              "      <td>NaN</td>\n",
              "      <td>NaN</td>\n",
              "      <td>NaN</td>\n",
              "    </tr>\n",
              "    <tr>\n",
              "      <th>4</th>\n",
              "      <td>2000-01-07</td>\n",
              "      <td>296.45</td>\n",
              "      <td>290.00</td>\n",
              "      <td>296.35</td>\n",
              "      <td>281.00</td>\n",
              "      <td>287.10</td>\n",
              "      <td>286.55</td>\n",
              "      <td>288.80</td>\n",
              "      <td>197039</td>\n",
              "      <td>5.690480e+12</td>\n",
              "      <td>NaN</td>\n",
              "      <td>NaN</td>\n",
              "      <td>NaN</td>\n",
              "    </tr>\n",
              "    <tr>\n",
              "      <th>...</th>\n",
              "      <td>...</td>\n",
              "      <td>...</td>\n",
              "      <td>...</td>\n",
              "      <td>...</td>\n",
              "      <td>...</td>\n",
              "      <td>...</td>\n",
              "      <td>...</td>\n",
              "      <td>...</td>\n",
              "      <td>...</td>\n",
              "      <td>...</td>\n",
              "      <td>...</td>\n",
              "      <td>...</td>\n",
              "      <td>...</td>\n",
              "    </tr>\n",
              "    <tr>\n",
              "      <th>5136</th>\n",
              "      <td>2020-08-25</td>\n",
              "      <td>1829.85</td>\n",
              "      <td>1843.75</td>\n",
              "      <td>1852.40</td>\n",
              "      <td>1817.05</td>\n",
              "      <td>1831.40</td>\n",
              "      <td>1829.60</td>\n",
              "      <td>1834.86</td>\n",
              "      <td>2646159</td>\n",
              "      <td>4.855322e+14</td>\n",
              "      <td>111918.0</td>\n",
              "      <td>1044629.0</td>\n",
              "      <td>0.3948</td>\n",
              "    </tr>\n",
              "    <tr>\n",
              "      <th>5137</th>\n",
              "      <td>2020-08-26</td>\n",
              "      <td>1829.60</td>\n",
              "      <td>1837.00</td>\n",
              "      <td>1837.80</td>\n",
              "      <td>1803.60</td>\n",
              "      <td>1810.75</td>\n",
              "      <td>1816.00</td>\n",
              "      <td>1816.89</td>\n",
              "      <td>3187424</td>\n",
              "      <td>5.791196e+14</td>\n",
              "      <td>122481.0</td>\n",
              "      <td>1609579.0</td>\n",
              "      <td>0.5050</td>\n",
              "    </tr>\n",
              "    <tr>\n",
              "      <th>5138</th>\n",
              "      <td>2020-08-27</td>\n",
              "      <td>1816.00</td>\n",
              "      <td>1832.00</td>\n",
              "      <td>1883.00</td>\n",
              "      <td>1830.00</td>\n",
              "      <td>1863.50</td>\n",
              "      <td>1864.10</td>\n",
              "      <td>1864.76</td>\n",
              "      <td>8648531</td>\n",
              "      <td>1.612739e+15</td>\n",
              "      <td>256931.0</td>\n",
              "      <td>3892406.0</td>\n",
              "      <td>0.4501</td>\n",
              "    </tr>\n",
              "    <tr>\n",
              "      <th>5139</th>\n",
              "      <td>2020-08-28</td>\n",
              "      <td>1864.10</td>\n",
              "      <td>1871.00</td>\n",
              "      <td>1889.00</td>\n",
              "      <td>1862.80</td>\n",
              "      <td>1881.00</td>\n",
              "      <td>1883.25</td>\n",
              "      <td>1879.87</td>\n",
              "      <td>4903981</td>\n",
              "      <td>9.218858e+14</td>\n",
              "      <td>167080.0</td>\n",
              "      <td>2547535.0</td>\n",
              "      <td>0.5195</td>\n",
              "    </tr>\n",
              "    <tr>\n",
              "      <th>5140</th>\n",
              "      <td>2020-08-31</td>\n",
              "      <td>1883.25</td>\n",
              "      <td>1898.50</td>\n",
              "      <td>1921.90</td>\n",
              "      <td>1797.55</td>\n",
              "      <td>1825.00</td>\n",
              "      <td>1832.60</td>\n",
              "      <td>1852.71</td>\n",
              "      <td>7604691</td>\n",
              "      <td>1.408930e+15</td>\n",
              "      <td>225537.0</td>\n",
              "      <td>3496941.0</td>\n",
              "      <td>0.4598</td>\n",
              "    </tr>\n",
              "  </tbody>\n",
              "</table>\n",
              "<p>5141 rows × 13 columns</p>\n",
              "</div>"
            ],
            "text/plain": [
              "            Date  Prev Close  ...  Deliverable Volume  %Deliverble\n",
              "0     2000-01-03      271.75  ...                 NaN          NaN\n",
              "1     2000-01-04      293.50  ...                 NaN          NaN\n",
              "2     2000-01-05      304.05  ...                 NaN          NaN\n",
              "3     2000-01-06      292.80  ...                 NaN          NaN\n",
              "4     2000-01-07      296.45  ...                 NaN          NaN\n",
              "...          ...         ...  ...                 ...          ...\n",
              "5136  2020-08-25     1829.85  ...           1044629.0       0.3948\n",
              "5137  2020-08-26     1829.60  ...           1609579.0       0.5050\n",
              "5138  2020-08-27     1816.00  ...           3892406.0       0.4501\n",
              "5139  2020-08-28     1864.10  ...           2547535.0       0.5195\n",
              "5140  2020-08-31     1883.25  ...           3496941.0       0.4598\n",
              "\n",
              "[5141 rows x 13 columns]"
            ]
          },
          "metadata": {
            "tags": []
          },
          "execution_count": 20
        }
      ]
    },
    {
      "cell_type": "markdown",
      "metadata": {
        "id": "1dK-8VWf9Wok"
      },
      "source": [
        "Now we are seeing the description of data that will contain count of all data, mean values, standard deviation, 5 scale values(min, 25% quartile, 50% quartile, 75% quartile and max).\n",
        "We can use this information for checking any anamolies in the data"
      ]
    },
    {
      "cell_type": "code",
      "metadata": {
        "id": "NIe3UKUs3tZE",
        "outputId": "c644f256-be5e-4952-fb8d-f144296c6694",
        "colab": {
          "base_uri": "https://localhost:8080/",
          "height": 284
        }
      },
      "source": [
        "data.describe()"
      ],
      "execution_count": null,
      "outputs": [
        {
          "output_type": "execute_result",
          "data": {
            "text/html": [
              "<div>\n",
              "<style scoped>\n",
              "    .dataframe tbody tr th:only-of-type {\n",
              "        vertical-align: middle;\n",
              "    }\n",
              "\n",
              "    .dataframe tbody tr th {\n",
              "        vertical-align: top;\n",
              "    }\n",
              "\n",
              "    .dataframe thead th {\n",
              "        text-align: right;\n",
              "    }\n",
              "</style>\n",
              "<table border=\"1\" class=\"dataframe\">\n",
              "  <thead>\n",
              "    <tr style=\"text-align: right;\">\n",
              "      <th></th>\n",
              "      <th>Prev Close</th>\n",
              "      <th>Open</th>\n",
              "      <th>High</th>\n",
              "      <th>Low</th>\n",
              "      <th>Last</th>\n",
              "      <th>Close</th>\n",
              "      <th>VWAP</th>\n",
              "      <th>Volume</th>\n",
              "      <th>Turnover</th>\n",
              "      <th>Trades</th>\n",
              "      <th>Deliverable Volume</th>\n",
              "      <th>%Deliverble</th>\n",
              "    </tr>\n",
              "  </thead>\n",
              "  <tbody>\n",
              "    <tr>\n",
              "      <th>count</th>\n",
              "      <td>5141.000000</td>\n",
              "      <td>5141.000000</td>\n",
              "      <td>5141.000000</td>\n",
              "      <td>5141.000000</td>\n",
              "      <td>5141.000000</td>\n",
              "      <td>5141.000000</td>\n",
              "      <td>5141.000000</td>\n",
              "      <td>5.141000e+03</td>\n",
              "      <td>5.141000e+03</td>\n",
              "      <td>2291.000000</td>\n",
              "      <td>4.632000e+03</td>\n",
              "      <td>4632.000000</td>\n",
              "    </tr>\n",
              "    <tr>\n",
              "      <th>mean</th>\n",
              "      <td>1250.235295</td>\n",
              "      <td>1250.866553</td>\n",
              "      <td>1270.373556</td>\n",
              "      <td>1230.175170</td>\n",
              "      <td>1250.370064</td>\n",
              "      <td>1250.538903</td>\n",
              "      <td>1250.162379</td>\n",
              "      <td>1.764469e+06</td>\n",
              "      <td>2.373866e+14</td>\n",
              "      <td>97687.354867</td>\n",
              "      <td>1.292154e+06</td>\n",
              "      <td>0.657592</td>\n",
              "    </tr>\n",
              "    <tr>\n",
              "      <th>std</th>\n",
              "      <td>692.794341</td>\n",
              "      <td>692.954979</td>\n",
              "      <td>704.615342</td>\n",
              "      <td>680.761221</td>\n",
              "      <td>692.541757</td>\n",
              "      <td>692.707454</td>\n",
              "      <td>692.428824</td>\n",
              "      <td>2.980988e+06</td>\n",
              "      <td>3.291024e+14</td>\n",
              "      <td>55197.587466</td>\n",
              "      <td>2.584001e+06</td>\n",
              "      <td>0.127174</td>\n",
              "    </tr>\n",
              "    <tr>\n",
              "      <th>min</th>\n",
              "      <td>271.750000</td>\n",
              "      <td>284.000000</td>\n",
              "      <td>290.500000</td>\n",
              "      <td>273.250000</td>\n",
              "      <td>282.850000</td>\n",
              "      <td>283.850000</td>\n",
              "      <td>283.600000</td>\n",
              "      <td>2.919000e+03</td>\n",
              "      <td>1.834686e+11</td>\n",
              "      <td>973.000000</td>\n",
              "      <td>1.786000e+03</td>\n",
              "      <td>0.119000</td>\n",
              "    </tr>\n",
              "    <tr>\n",
              "      <th>25%</th>\n",
              "      <td>665.800000</td>\n",
              "      <td>665.450000</td>\n",
              "      <td>674.700000</td>\n",
              "      <td>657.400000</td>\n",
              "      <td>665.850000</td>\n",
              "      <td>666.050000</td>\n",
              "      <td>665.370000</td>\n",
              "      <td>2.896580e+05</td>\n",
              "      <td>2.275939e+13</td>\n",
              "      <td>59893.500000</td>\n",
              "      <td>2.560635e+05</td>\n",
              "      <td>0.582775</td>\n",
              "    </tr>\n",
              "    <tr>\n",
              "      <th>50%</th>\n",
              "      <td>1099.600000</td>\n",
              "      <td>1100.000000</td>\n",
              "      <td>1117.000000</td>\n",
              "      <td>1077.000000</td>\n",
              "      <td>1098.150000</td>\n",
              "      <td>1099.750000</td>\n",
              "      <td>1099.570000</td>\n",
              "      <td>1.239746e+06</td>\n",
              "      <td>1.611455e+14</td>\n",
              "      <td>86901.000000</td>\n",
              "      <td>9.622980e+05</td>\n",
              "      <td>0.672000</td>\n",
              "    </tr>\n",
              "    <tr>\n",
              "      <th>75%</th>\n",
              "      <td>1762.000000</td>\n",
              "      <td>1765.700000</td>\n",
              "      <td>1792.700000</td>\n",
              "      <td>1740.000000</td>\n",
              "      <td>1762.000000</td>\n",
              "      <td>1762.250000</td>\n",
              "      <td>1762.550000</td>\n",
              "      <td>2.623207e+06</td>\n",
              "      <td>3.189503e+14</td>\n",
              "      <td>122501.000000</td>\n",
              "      <td>1.885564e+06</td>\n",
              "      <td>0.744600</td>\n",
              "    </tr>\n",
              "    <tr>\n",
              "      <th>max</th>\n",
              "      <td>3180.150000</td>\n",
              "      <td>3148.000000</td>\n",
              "      <td>3262.000000</td>\n",
              "      <td>3100.550000</td>\n",
              "      <td>3178.000000</td>\n",
              "      <td>3180.150000</td>\n",
              "      <td>3166.580000</td>\n",
              "      <td>1.584141e+08</td>\n",
              "      <td>1.043773e+16</td>\n",
              "      <td>454758.000000</td>\n",
              "      <td>1.483131e+08</td>\n",
              "      <td>0.989400</td>\n",
              "    </tr>\n",
              "  </tbody>\n",
              "</table>\n",
              "</div>"
            ],
            "text/plain": [
              "        Prev Close         Open  ...  Deliverable Volume  %Deliverble\n",
              "count  5141.000000  5141.000000  ...        4.632000e+03  4632.000000\n",
              "mean   1250.235295  1250.866553  ...        1.292154e+06     0.657592\n",
              "std     692.794341   692.954979  ...        2.584001e+06     0.127174\n",
              "min     271.750000   284.000000  ...        1.786000e+03     0.119000\n",
              "25%     665.800000   665.450000  ...        2.560635e+05     0.582775\n",
              "50%    1099.600000  1100.000000  ...        9.622980e+05     0.672000\n",
              "75%    1762.000000  1765.700000  ...        1.885564e+06     0.744600\n",
              "max    3180.150000  3148.000000  ...        1.483131e+08     0.989400\n",
              "\n",
              "[8 rows x 12 columns]"
            ]
          },
          "metadata": {
            "tags": []
          },
          "execution_count": 21
        }
      ]
    },
    {
      "cell_type": "markdown",
      "metadata": {
        "id": "UMMwa30E-QWj"
      },
      "source": [
        "After getting some insights of the data we are proceeding further and in this section we will visualizing our data\n",
        "\n",
        "**Note.- After doing some research we got know that the profit and loss calculation is usually determined by the closing price of a stock.**\n",
        "\n",
        "So we are going to focus on closing price and preprocess our data based on it.\n"
      ]
    },
    {
      "cell_type": "markdown",
      "metadata": {
        "id": "YCJvoXDe947p"
      },
      "source": [
        "#**3. Visualization of data**\n",
        "\n",
        "\n",
        "Visualization of our data will give us insights about the data and\n",
        "For visualization we are using matplotlib library. \n"
      ]
    },
    {
      "cell_type": "code",
      "metadata": {
        "id": "laxolGUKaW25",
        "outputId": "a868fa68-59e2-46fa-9137-4e7be68078c4",
        "colab": {
          "base_uri": "https://localhost:8080/",
          "height": 542
        }
      },
      "source": [
        "data = [\n",
        "        Candlestick(x=data.index, open=data['Open'], high=data['High'], low=data['Low'], close=data['Close'], name='Data'),\n",
        "    ]\n",
        "figure = Figure(data=data)\n",
        "iplot(figure)"
      ],
      "execution_count": 7,
      "outputs": [
        {
          "output_type": "display_data",
          "data": {
            "text/html": [
              "<html>\n",
              "<head><meta charset=\"utf-8\" /></head>\n",
              "<body>\n",
              "    <div>\n",
              "            <script src=\"https://cdnjs.cloudflare.com/ajax/libs/mathjax/2.7.5/MathJax.js?config=TeX-AMS-MML_SVG\"></script><script type=\"text/javascript\">if (window.MathJax) {MathJax.Hub.Config({SVG: {font: \"STIX-Web\"}});}</script>\n",
              "                <script type=\"text/javascript\">window.PlotlyConfig = {MathJaxConfig: 'local'};</script>\n",
              "        <script src=\"https://cdn.plot.ly/plotly-latest.min.js\"></script>    \n",
              "            <div id=\"e87ed5c1-5614-412d-afd1-f55e0b000865\" class=\"plotly-graph-div\" style=\"height:525px; width:100%;\"></div>\n",
              "            <script type=\"text/javascript\">\n",
              "                \n",
              "                    window.PLOTLYENV=window.PLOTLYENV || {};\n",
              "                    \n",
              "                if (document.getElementById(\"e87ed5c1-5614-412d-afd1-f55e0b000865\")) {\n",
              "                    Plotly.newPlot(\n",
              "                        'e87ed5c1-5614-412d-afd1-f55e0b000865',\n",
              "                        [{\"close\": [293.5, 304.05, 292.8, 296.45, 286.55, 287.2, 283.85, 285.6, 283.85, 286.55, 302.2, 305.75, 305.25, 291.35, 299.55, 293.05, 303.15, 316.6, 324.4, 333.5, 350.55, 351.4, 341.9, 357.2, 355.45, 350.5, 329.15, 320.35, 343.65, 359.15, 332.6, 341.6, 339.2, 327.9, 319.15, 305.95, 330.45, 351.7, 379.85, 409.7, 401.7, 433.85, 468.6, 473.05, 443.5, 412.2, 416.7, 399.6, 397.55, 381.6, 396.65, 400.5, 398.2, 406.35, 413.25, 409.85, 416.8, 417.4, 412.7, 380.3, 363.85, 393.0, 424.45, 458.45, 469.8, 459.25, 490.95, 477.7, 464.3, 453.25, 448.7, 433.1, 445.4, 459.35, 475.1, 448.05, 456.9, 460.65, 460.15, 472.35, 479.35, 460.85, 455.75, 449.0, 437.55, 424.95, 441.75, 448.65, 461.05, 460.4, 471.75, 461.35, 465.45, 477.65, 486.15, 501.9, 486.4, 473.0, 483.3, 541.3, 543.65, 478.45, 496.35, 525.35, 544.7, 530.7, 513.2, 515.25, 509.35, 503.6, 495.35, 488.2, 484.85, 499.85, 504.1, 509.2, 525.1, 525.35, 536.25, 541.15, 558.2, 551.55, 548.15, 551.65, 548.7, 480.0, 484.65, 511.25, 499.9, 489.85, 481.2, 490.55, 487.65, 478.55, 480.95, 475.55, 475.3, 511.65, 509.25, 501.0, 498.4, 499.75, 500.3, 500.05, 505.9, 499.3, 491.75, 489.15, 503.15, 502.75, 505.55, 493.55, 496.05, 504.95, 503.15, 522.8, 513.0, 501.1, 490.4, 482.9, 489.6, 495.35, 500.5, 500.7, 505.0, 520.15, 524.05, 528.25, 544.6, 539.95, 534.3, 532.2, 529.45, 520.65, 506.0, 513.55, 507.5, 499.55, 502.05, 500.0, 499.7, 481.0, 474.95, 445.15, 426.55, 441.05, 437.85, 433.9, 439.0, 439.0, 449.45, 449.25, 455.95, 448.6, 449.65, 450.0, 450.85, 458.8, 458.75, 477.4, 469.75, 464.65, 457.35, 462.2, 461.3, 464.1, 471.45, 470.25, 480.0, 489.85, 488.5, 482.9, 485.6, 489.0, 488.2, 496.85, 508.05, 496.8, 500.4, 494.65, 489.2, 477.35, 477.25, 474.15, 485.5, 509.4, 525.1, 528.0, 524.65, 529.2, 519.5, 523.4, 522.55, 530.75, 535.3, 546.7, 555.6, 561.55, 555.35, 553.3, 560.45, 555.3, 556.5, 554.75, 545.05, 549.3, 542.75, 536.6, 538.7, 541.8, 538.25, 542.15, 552.15, 550.6, 583.3, 589.35, 595.6, 572.45, 551.15, 547.85, 536.35, 529.35, 531.55, 529.9, 515.0, 505.5, 495.5, 513.85, 545.25, 582.2, 558.9, 554.85, 555.15, 573.85, 558.65, 554.55, 558.45, 573.25, 593.05, 578.75, 574.75, 571.1, 574.35, 567.4, 577.7, 568.6, 567.9, 562.8, 555.6, 569.7, 591.3, 593.5, 598.5, 556.1, 526.15, 544.05, 540.8, 540.35, 545.05, 546.0, 594.0, 572.7, 571.85, 569.45, 556.8, 568.8, 586.4, 586.2, 578.85, 586.7, 574.25, 567.2, 546.4, 568.4, 578.35, 560.45, 560.45, 552.6, 550.2, 551.35, 555.25, 585.0, 594.95, 576.95, 571.2, 569.55, 583.5, 589.4, 596.8, 587.2, 581.2, 574.0, 589.55, 592.95, 604.45, 611.75, 608.85, 591.05, 591.05, 588.85, 590.1, 594.55, 609.15, 671.45, 660.1, 651.25, 641.1, 649.95, 660.1, 660.15, 664.65, 674.0, 672.15, 663.1, 665.5, 666.35, 667.65, 652.1, 650.35, 662.05, 670.0, 668.25, 652.95, 649.45, 653.8, 657.85, 669.2, 674.4, 666.05, 666.15, 674.8, 695.3, 688.9, 676.95, 690.3, 662.35, 663.6, 669.8, 664.9, 660.0, 652.85, 650.55, 660.15, 651.15, 664.1, 660.85, 659.9, 659.85, 654.5, 633.7, 629.55, 633.25, 640.4, 651.05, 657.45, 653.7, 670.0, 680.75, 673.4, 670.3, 669.85, 662.1, 665.0, 667.1, 678.1, 664.05, 662.9, 662.85, 680.9, 689.0, 702.5, 710.45, 702.25, 677.7, 675.9, 680.1, 697.1, 704.85, 691.8, 689.9, 697.3, 706.85, 710.5, 720.35, 709.35, 668.35, 678.7, 620.75, 620.3, 627.35, 666.6, 645.65, 644.2, 617.9, 674.55, 629.95, 629.95, 623.45, 653.75, 649.25, 699.3, 673.0, 670.15, 681.85, 650.45, 669.25, 657.7, 652.65, 664.55, 663.7, 650.35, 640.65, 645.55, 654.45, 678.55, 677.95, 678.2, 694.4, 698.15, 700.35, 704.2, 700.1, 699.45, 705.65, 700.3, 688.45, 689.95, 684.25, 686.65, 690.05, 689.1, 679.4, 706.4, 700.25, 702.25, 702.6, 700.15, 699.85, 688.85, 692.4, 687.1, 685.4, 694.85, 695.3, 685.75, 686.9, 689.9, 685.0, 689.5, 688.0, 679.95, 679.05, 668.25, 672.45, 668.55, 669.35, 668.65, 666.1, 659.45, 648.8, 646.6, 643.0, 624.95, 620.55, 644.55, 647.05, 643.55, 647.4, 640.6, 635.85, 629.85, 624.65, 627.7, 625.8, 625.05, 630.2, 640.15, 635.8, 634.85, 633.3, 632.15, 649.7, 636.8, 631.05, 636.9, 635.45, 631.65, 635.95, 643.5, 650.95, 690.3, 668.4, 677.3, 673.25, 669.75, 660.7, 670.05, 671.3, 680.55, 672.4, 680.65, 672.25, 686.8, 670.4, 675.95, 671.15, 673.9, 667.1, 665.55, 668.2, 668.7, 670.0, 665.8, 669.65, 683.8, 674.5, 665.25, 665.35, 661.3, 684.45, 665.3, 664.35, 665.1, 660.2, 660.0, 660.15, 659.9, 647.85, 650.75, 657.25, 659.3, 659.95, 655.35, 649.7, 634.6, 609.75, 610.85, 620.55, 626.2, 639.4, 644.2, 654.0, 653.1, 645.3, 653.9, 644.3, 648.65, 641.1, 639.1, 640.45, 649.75, 648.5, 624.15, 630.0, 629.7, 620.7, 619.25, 610.45, 610.6, 607.55, 599.65, 594.9, 594.8, 600.3, 603.35, 591.1, 607.85, 623.35, 629.25, 622.65, 639.75, 640.85, 639.9, 658.95, 649.05, 650.0, 624.8, 628.4, 610.0, 629.25, 626.75, 636.75, 644.4, 653.9, 639.95, 640.1, 617.05, 626.6, 644.65, 644.3, 627.95, 624.45, 621.05, 619.4, 617.8, 625.1, 613.75, 615.25, 619.85, 615.15, 611.45, 607.45, 616.55, 601.5, 610.6, 615.85, 632.3, 640.4, 629.85, 617.3, 618.2, 618.2, 613.8, 630.35, 625.5, 618.95, 610.2, 616.55, 613.35, 604.15, 600.0, 596.9, 587.85, 563.05, 570.55, 574.95, 574.75, 582.8, 596.05, 596.65, 595.45, 577.8, 588.7, 593.75, 584.85, 578.75, 585.45, 594.65, 593.5, 594.8, 593.8, 594.3, 590.1, 593.65, 588.65, 593.55, 599.8, 598.9, 605.6, 599.5, 609.75, 611.65, 610.05, 612.45, 608.4, 614.35, 617.2, 630.3, 619.2, 617.65, 617.25, 634.1, 638.8, 631.2, 634.1, 630.95, 629.2, 629.45, 627.55, 627.55, 631.0, 634.4, 634.2, 631.55, 638.25, 642.2, 644.65, 650.8, 661.05, 659.2, 668.85, 689.85, 682.65, 677.9, 689.3, 681.2, 688.55, 684.3, 676.75, 664.9, 661.35, 681.1, 687.25, 681.5, 680.8, 690.35, 343.6, 364.65, 376.95, 360.4, 361.25, 357.55, 360.2, 357.2, 353.4, 351.25, 360.1, 360.5, 358.35, 356.2, 360.05, 353.6, 360.25, 365.55, 365.25, 367.8, 363.8, 367.65, 370.55, 374.45, 372.25, 370.6, 372.45, 371.7, 375.25, 377.5, 373.1, 375.55, 375.45, 375.2, 375.25, 375.1, 374.1, 369.6, 374.75, 374.45, 376.15, 390.2, 387.5, 379.0, 375.05, 376.8, 375.1, 374.8, 375.55, 375.95, 375.55, 375.05, 375.1, 374.7, 374.8, 374.8, 373.05, 370.15, 368.15, 368.0, 368.35, 365.15, 357.5, 354.05, 339.5, 351.85, 351.15, 352.55, 349.65, 352.65, 348.15, 341.35, 340.0, 333.4, 331.35, 338.8, 341.8, 344.15, 340.35, 338.85, 340.4, 341.25, 340.2, 342.45, 340.1, 334.7, 328.9, 326.75, 329.05, 325.75, 313.85, 299.2, 314.5, 328.7, 340.3, 357.05, 349.7, 345.2, 326.4, 330.95, 331.3, 333.0, 332.95, 331.65, 338.25, 338.2, 341.4, 342.25, 343.55, 346.35, 354.65, 365.25, 364.55, 364.85, 373.75, 371.2, 375.0, 380.7, 367.8, 365.75, 367.35, 381.5, 374.95, 372.3, 367.65, 387.1, 394.55, 402.55, 405.4, 409.8, 408.8, 406.25, 405.55, 406.7, 413.75, 407.45, 408.65, 395.95, 385.1, 418.1, 402.65, 415.25, 409.35, 408.05, 410.45, 416.15, 411.2, 409.05, 406.95, 400.25, 407.95, 420.95, 408.05, 400.4, 408.35, 419.9, 406.8, 404.3, 409.6, 413.05, 422.15, 438.95, 432.9, 431.35, 434.55, 443.55, 452.75, 478.75, 469.35, 459.8, 479.8, 510.55, 510.9, 481.4, 468.3, 472.9, 465.45, 479.45, 483.9, 482.6, 503.25, 479.95, 485.25, 496.5, 499.65, 501.75, 499.25, 507.85, 492.75, 480.8, 483.8, 493.15, 477.8, 473.95, 481.25, 479.25, 480.75, 505.5, 493.2, 500.4, 493.7, 498.7, 510.0, 522.0, 550.9, 549.8, 528.85, 535.65, 540.0, 530.9, 529.15, 531.9, 553.25, 550.7, 534.9, 528.0, 511.0, 517.85, 527.95, 521.9, 536.1, 543.5, 538.2, 527.6, 520.0, 525.5, 525.5, 531.8, 519.95, 520.3, 522.35, 512.7, 534.2, 526.85, 522.85, 523.55, 528.95, 530.9, 513.55, 526.2, 521.95, 519.25, 519.85, 542.6, 554.15, 573.9, 557.1, 561.6, 577.3, 577.45, 579.45, 581.95, 583.95, 610.15, 631.95, 630.15, 620.75, 623.6, 614.4, 616.45, 613.2, 621.3, 665.35, 657.05, 664.45, 659.35, 645.55, 647.9, 652.1, 660.4, 654.3, 636.95, 641.2, 644.9, 630.75, 645.15, 646.45, 644.6, 644.25, 670.15, 656.45, 626.25, 622.65, 629.65, 619.65, 655.35, 649.45, 649.3, 648.95, 649.8, 646.9, 647.9, 659.85, 669.85, 677.6, 670.45, 674.0, 660.9, 662.4, 671.4, 676.5, 647.7, 640.3, 618.9, 619.45, 624.15, 609.7, 641.75, 639.5, 639.7, 639.4, 636.55, 627.45, 628.05, 614.8, 615.45, 613.8, 608.3, 586.2, 601.4, 601.05, 603.45, 613.75, 608.75, 600.9, 612.75, 619.25, 621.35, 643.25, 662.6, 677.7, 675.05, 676.2, 686.65, 660.7, 656.6, 655.3, 655.5, 638.15, 636.65, 621.5, 619.95, 625.2, 625.7, 620.2, 617.8, 611.45, 600.2, 594.7, 604.25, 619.75, 646.75, 642.6, 644.45, 648.3, 607.85, 582.2, 591.95, 544.95, 505.65, 590.45, 589.8, 558.6, 579.9, 583.05, 566.65, 573.8, 576.05, 568.5, 577.6, 558.8, 562.7, 566.4, 583.4, 611.9, 615.55, 616.15, 617.4, 606.5, 589.5, 588.75, 565.45, 561.3, 564.4, 570.65, 579.3, 567.95, 540.6, 552.4, 543.5, 532.45, 517.1, 528.8, 532.2, 532.85, 539.8, 550.85, 551.9, 559.05, 550.0, 559.85, 549.3, 550.1, 550.8, 549.85, 548.3, 568.05, 599.5, 597.9, 590.85, 581.4, 575.45, 576.25, 575.95, 575.5, 572.45, 571.1, 574.4, 570.65, 568.65, 569.95, 564.55, 570.65, 562.35, 554.25, 542.2, 542.75, 545.45, 538.5, 542.25, 547.55, 551.05, 557.3, 558.7, 555.6, 555.85, 560.9, 558.35, 560.1, 568.6, 569.15, 590.15, 589.8, 611.2, 623.85, 636.8, 616.85, 606.45, 618.4, 614.6, 627.8, 629.25, 624.55, 614.2, 607.5, 609.5, 609.6, 611.9, 628.8, 649.85, 648.85, 668.1, 672.25, 682.15, 672.05, 681.0, 690.15, 654.55, 629.7, 648.4, 658.7, 653.85, 661.85, 655.4, 641.35, 659.85, 639.75, 640.4, 629.85, 649.65, 668.95, 670.25, 667.7, 679.7, 704.9, 695.65, 690.0, 693.55, 689.9, 687.1, 707.5, 715.6, 726.45, 730.8, 751.15, 767.75, 769.6, 800.75, 769.3, 803.7, 769.25, 776.25, 769.85, 754.75, 777.15, 764.1, 779.75, 787.25, 795.25, 794.8, 777.2, 782.65, 779.65, 769.15, 758.05, 761.0, 761.2, 758.05, 761.2, 756.55, 769.05, 766.6, 764.85, 747.0, 737.35, 726.35, 730.45, 721.5, 722.1, 719.7, 733.55, 751.65, 778.65, 776.55, 762.9, 745.25, 749.55, 754.7, 754.05, 778.1, 775.5, 773.35, 787.15, 817.0, 794.95, 816.35, 813.3, 791.2, 784.8, 782.7, 779.7, 772.45, 775.8, 781.7, 776.2, 778.5, 776.65, 770.85, 757.55, 778.75, 782.15, 770.25, 773.55, 786.9, 802.45, 794.45, 801.25, 820.05, 802.0, 800.8, 788.25, 783.2, 780.15, 761.1, 752.6, 738.65, 708.1, 691.05, 708.85, 689.4, 734.8, 729.0, 716.65, 725.4, 725.65, 714.95, 717.6, 712.5, 701.3, 708.4, 722.8, 702.65, 691.5, 705.35, 717.85, 726.5, 726.7, 730.35, 720.25, 726.1, 752.45, 731.2, 736.55, 747.8, 753.75, 743.85, 743.0, 742.1, 735.9, 735.1, 753.3, 766.5, 764.8, 766.35, 761.85, 762.15, 761.45, 757.55, 754.8, 757.15, 771.05, 765.0, 760.0, 763.6, 769.1, 764.7, 763.9, 769.7, 781.7, 807.45, 826.6, 838.9, 842.25, 831.5, 822.0, 817.7, 844.2, 859.85, 850.1, 845.6, 872.6, 860.1, 849.85, 852.0, 864.4, 851.9, 890.85, 870.25, 880.6, 901.8, 930.65, 901.8, 910.35, 927.3, 899.4, 887.9, 878.2, 890.9, 891.0, 900.45, 880.05, 892.6, 894.85, 905.05, 907.4, 907.6, 925.8, 925.25, 929.75, 927.45, 918.2, 906.0, 893.35, 897.9, 909.15, 950.95, 937.45, 939.3, 939.75, 927.6, 927.6, 913.5, 909.25, 899.75, 885.4, 893.05, 871.7, 898.25, 903.8, 918.5, 903.5, 903.65, 901.8, 937.3, 917.7, 932.6, 961.45, 987.15, 1001.1, 1064.8, 1052.3, 1029.85, 990.35, 966.75, 955.85, 988.95, 1001.75, 1037.85, 1019.75, 1039.4, 1018.45, 1023.55, 1030.4, 1000.9, 994.55, 983.8, 991.9, 981.6, 985.85, 979.4, 983.25, 973.9, 950.85, 923.7, 912.9, 910.6, 926.8, 944.35, 938.95, 967.9, 969.65, 1000.3, 1004.45, 1040.75, 1048.9, 1027.05, 1049.85, 1077.5, 1067.9, 1046.1, 1042.95, 1069.85, 1048.15, 1052.9, 1085.85, 1116.25, 1118.6, 1138.9, 1138.1, 1127.95, 1143.65, 1145.2, 1112.85, 1126.15, 1120.8, 1102.8, 1111.0, 1127.9, 1171.35, 1191.6, 1195.4, 1232.15, 1241.3, 1241.5, 1268.5, 1290.35, 1203.3, 1174.5, 1169.05, 1188.9, 1218.5, 1207.0, 1191.3, 1230.0, 1241.3, 1240.75, 1267.5, 1274.55, 1224.95, 1199.95, 1180.75, 1171.85, 1157.8, 1148.05, 1181.55, 1250.5, 1211.5, 1237.4, 1280.75, 1302.45, 1318.15, 1339.7, 1387.8, 1358.7, 1303.9, 1337.6, 1343.75, 1341.55, 1363.55, 1363.0, 1370.6, 1338.0, 1340.35, 1300.15, 1318.25, 1332.15, 1377.1, 1377.9, 1364.9, 1384.95, 1365.65, 1354.8, 1355.25, 1316.95, 1335.5, 1342.1, 1296.5, 1278.8, 1326.95, 1305.1, 1320.65, 1349.45, 1338.05, 1338.7, 1310.15, 1318.65, 1318.85, 1314.25, 1315.35, 1339.0, 1337.45, 1358.4, 1336.8, 1340.0, 1348.1, 1351.7, 1335.8, 1329.55, 1286.35, 1258.0, 1273.6, 1282.15, 1299.05, 1275.45, 1272.65, 1261.55, 1254.55, 1296.45, 1296.45, 1299.65, 1311.75, 1308.0, 1298.25, 1293.3, 1287.15, 1340.95, 1355.0, 1362.8, 1390.7, 1380.75, 1353.55, 1343.35, 1354.35, 1292.3, 1255.3, 1210.35, 1246.55, 1174.65, 1153.3, 1176.0, 1203.4, 1179.1, 1123.55, 1105.15, 1178.5, 1199.0, 1163.45, 1160.85, 1109.65, 1207.75, 1117.3, 1016.7, 998.05, 1059.75, 1044.45, 1053.15, 1013.95, 1020.3, 1123.7, 1105.45, 1103.0, 1043.2, 1089.05, 1051.85, 1087.45, 1139.8, 1131.55, 1160.55, 1214.95, 1221.1, 1166.5, 1198.85, 1199.6, 1204.15, 1164.85, 1143.2, 1081.3, 1064.15, 1063.25, 1080.25, 1071.35, 1077.4, 1097.15, 1135.15, 1191.3, 1185.25, 1177.4, 1194.15, 1191.6, 1225.35, 1242.1, 1235.3, 1246.05, 1240.15, 1274.05, 1267.45, 1301.65, 1285.7, 1294.5, 1306.05, 1291.3, 1324.35, 1278.4, 1277.6, 1278.15, 1262.5, 1290.7, 1300.7, 1310.15, 1320.0, 1319.65, 1324.55, 1316.4, 1355.2, 1339.0, 1335.7, 1329.8, 1353.0, 1335.3, 1333.05, 1376.9, 1348.1, 1373.9, 1405.85, 1408.8, 1397.1, 1418.5, 1447.65, 1498.4, 1533.15, 1480.3, 1434.9, 1448.1, 1432.3, 1393.2, 1419.8, 1439.8, 1501.15, 1527.0, 1547.15, 1511.9, 1479.9, 1456.35, 1450.75, 1446.85, 1430.7, 1449.05, 1478.65, 1453.15, 1463.9, 1425.75, 1444.5, 1479.0, 1526.15, 1561.3, 1521.55, 1506.45, 1498.25, 1551.1, 1545.7, 1525.8, 1555.9, 1605.25, 1659.6, 1644.5, 1638.45, 1652.95, 1649.4, 1649.65, 1626.75, 1631.25, 1646.95, 1640.95, 1621.8, 1606.0, 1589.4, 1565.95, 1551.4, 1545.15, 1498.3, 1500.0, 1530.1, 1553.65, 1556.3, 1553.15, 1571.55, 1581.95, 1579.05, 1600.35, 1626.15, 1631.45, 1626.9, 1619.55, 1608.0, 1578.7, 1618.15, 1595.05, 1562.4, 1528.25, 1522.55, 1578.7, 1596.5, 1559.6, 1546.5, 1599.5, 1600.15, 1611.85, 1602.55, 1641.1, 1686.75, 1669.55, 1673.85, 1674.95, 1743.65, 1820.35, 1797.1, 1803.05, 1806.95, 1816.75, 1758.95, 1723.55, 1683.05, 1692.5, 1695.85, 1653.0, 1672.8, 1662.05, 1603.9, 1606.35, 1605.95, 1507.25, 1511.35, 1533.85, 1497.2, 1492.0, 1532.55, 1546.8, 1563.65, 1582.5, 1605.3, 1556.0, 1512.85, 1504.15, 1534.1, 1567.25, 1545.5, 1574.0, 1593.9, 1574.05, 1518.4, 1537.85, 1519.8, 1434.75, 1426.65, 1496.9, 1527.1, 1557.2, 1606.95, 1581.85, 1539.25, 1563.05, 1575.95, 1581.65, 1593.05, 1561.9, 1650.55, 1667.55, 1711.2, 1755.6, 1737.7, 1686.5, 1666.35, 1679.45, 1633.4, 1628.95, 1604.1, 1591.75, 1683.45, 1654.65, 1675.9, 1671.7, 1698.1, 1710.95, 1702.4, 1718.15, 1792.8, 1804.45, 1757.35, 1816.65, 1845.85, 1812.8, 1827.3, 1882.6, 1863.4, 1894.55, 1897.65, 1833.1, 1819.7, 1749.6, 1758.45, 1779.45, 1751.25, 1824.55, 1785.7, 1766.2, 1771.15, 1814.55, 1851.95, 1880.9, 1900.3, 1887.45, 1865.0, 1959.95, 2033.7, 2032.0, 2000.55, 1982.35, 1950.25, 1916.55, 1922.35, 1915.4, 1904.35, 1954.1, 1987.55, 1995.25, 1962.7, 1950.1, 1957.8, 1966.3, 1991.85, 1973.0, 1966.4, 2028.85, 1907.6, 1907.45, 2017.1, 1942.55, 1945.45, 1989.55, 1940.95, 1973.2, 2072.3, 2019.75, 1948.75, 1983.3, 1941.1, 1883.25, 1899.6, 1915.7, 1903.2, 1901.75, 1907.75, 1908.6, 1972.05, 1977.85, 1955.5, 1990.55, 1977.5, 1998.3, 2060.55, 2051.65, 2112.65, 2126.95, 2107.7, 2148.25, 2170.95, 2207.05, 2221.65, 2180.3, 2180.6, 2351.8, 2339.15, 2368.85, 2380.55, 2392.4, 2476.6, 2503.2, 2527.9, 2526.55, 2591.5, 2493.75, 2450.65, 2469.5, 2509.45, 2508.95, 2524.6, 2477.75, 2561.65, 2574.5, 2486.4, 2450.1, 2412.8, 2558.95, 2568.65, 2542.75, 2528.3, 2571.75, 2813.0, 2761.05, 2771.55, 2697.25, 2650.5, 2610.1, 2587.3, 2571.2, 2565.5, 2523.9, 2517.05, 2581.6, 2760.95, 2701.0, 2701.25, 2693.95, 2640.4, 2609.4, 2565.15, 2669.45, 2712.4, 2700.1, 2705.15, 2707.55, 2781.4, 2738.35, 2737.2, 2739.95, 2814.3, 2922.4, 2876.7, 2944.95, 3112.1, 3169.4, 3060.75, 2869.55, 2811.75, 2748.9, 2722.95, 2898.55, 2891.8, 2910.2, 2926.35, 2877.75, 2922.6, 3058.8, 3045.0, 3126.5, 3116.3, 3080.5, 3180.15, 3131.65, 3058.7, 2978.9, 2918.55, 2845.0, 2851.85, 2810.0, 2685.1, 2510.25, 2533.4, 2609.2, 2714.25, 2785.05, 2864.0, 2884.15, 2839.1, 2999.9, 3018.9, 3070.05, 2978.2, 2948.45, 2792.85, 2627.6, 2617.5, 2718.5, 2865.1, 2925.45, 2902.4, 2853.4, 2750.65, 2649.85, 2574.5, 2588.2, 2580.55, 2690.5, 2748.15, 2796.35, 2571.4, 2630.95, 2766.65, 2625.2, 2553.85, 2502.3, 2533.5, 2500.15, 2502.3, 2226.55, 2210.9, 2214.0, 2379.7, 2595.4, 2670.15, 2665.7, 2613.95, 2379.75, 2361.95, 2472.9, 2444.95, 2274.7, 2301.35, 2310.2, 2403.65, 2388.7, 2380.1, 2376.45, 2387.3, 2483.75, 2489.55, 2585.35, 2563.4, 2594.5, 2694.75, 2720.25, 2888.8, 2800.0, 2774.8, 2711.3, 2722.9, 2732.4, 2722.55, 2644.5, 2700.25, 2651.35, 2738.7, 2801.8, 2762.0, 2781.35, 2690.0, 2627.65, 2674.9, 2567.0, 2519.85, 2514.5, 2433.0, 2572.85, 2521.4, 2457.0, 2402.7, 2392.8, 2349.45, 2207.15, 2103.9, 2185.6, 2174.25, 2129.2, 2160.6, 2297.2, 2314.7, 2232.8, 2172.6, 2213.85, 2264.25, 2168.7, 2236.25, 2052.4, 1964.85, 1838.75, 2036.85, 1940.8, 2057.4, 2059.55, 2010.95, 2096.55, 2116.35, 1998.2, 1933.55, 1799.55, 1718.3, 1888.6, 2066.55, 2085.5, 2140.8, 2376.4, 2352.65, 2214.8, 2223.5, 2108.0, 2273.1, 2277.35, 2401.75, 2373.0, 2465.0, 2391.35, 2477.6, 2516.1, 2576.75, 2466.75, 2406.85, 2288.35, 2363.7, 2284.65, 2315.9, 2207.85, 2280.1, 2364.75, 2342.0, 2296.4, 2246.3, 2343.5, 2339.4, 2447.6, 2419.1, 2281.85, 2379.9, 2379.8, 2319.85, 2261.0, 2182.0, 2203.5, 2175.55, 2168.15, 2130.5, 2317.35, 2332.3, 2197.25, 2178.7, 2165.4, 2091.15, 2031.8, 2143.95, 2207.05, 2079.55, 1961.05, 1952.15, 1888.2, 1721.8, 1811.85, 1833.4, 1710.05, 1804.75, 1782.05, 1883.0, 1975.15, 1904.95, 1763.8, 1575.05, 1467.4, 1541.65, 1504.5, 1764.7, 1894.35, 1918.95, 1749.8, 1657.3, 1701.55, 1776.5, 1659.3, 1636.15, 1558.65, 1497.3, 1419.85, 1366.15, 1287.1, 1396.05, 1371.95, 1350.6, 1415.2, 1469.45, 1443.75, 1387.4, 1410.5, 1511.75, 1430.3, 1511.95, 1618.55, 1606.0, 1634.3, 1612.75, 1546.2, 1538.3, 1534.55, 1523.8, 1496.25, 1480.05, 1463.55, 1449.05, 1498.05, 1532.65, 1486.4, 1505.35, 1545.15, 1630.15, 1680.45, 1629.25, 1643.7, 1616.8, 1553.2, 1586.35, 1534.85, 1565.5, 1546.1, 1485.8, 1373.55, 1403.25, 1389.1, 1445.6, 1504.55, 1530.2, 1531.6, 1421.5, 1431.3, 1438.55, 1387.9, 1412.0, 1492.05, 1510.2, 1531.95, 1525.05, 1540.4, 1498.55, 1433.6, 1362.35, 1392.8, 1352.4, 1291.7, 1254.75, 1212.05, 1274.5, 1240.45, 1201.3, 1160.9, 1151.25, 1220.25, 1255.8, 1290.2, 1377.5, 1392.85, 1364.6, 1354.0, 1387.95, 1410.8, 1527.9, 1564.85, 1594.0, 1656.45, 1585.4, 1446.8, 1412.2, 1505.8, 1576.9, 1698.35, 1708.5, 1705.1, 1688.65, 1770.8, 1754.3, 1799.55, 1751.7, 1750.7, 1742.15, 1758.0, 1805.4, 1807.95, 1665.05, 1726.95, 1965.05, 1850.85, 1740.7, 1817.45, 1736.4, 1711.15, 1844.7, 1905.7, 1860.9, 1938.55, 2374.2, 2370.3, 2200.55, 2093.65, 2117.0, 2086.15, 2083.3, 2170.85, 2183.25, 2179.6, 2302.75, 2402.8, 2379.75, 2432.5, 2425.7, 2329.75, 2359.1, 2349.65, 2346.5, 2282.15, 2283.45, 2309.35, 2280.9, 2275.7, 2291.05, 2306.3, 2365.35, 2310.45, 2377.25, 2435.15, 2373.2, 2344.75, 2345.55, 2404.7, 2586.3, 2355.9, 2361.45, 2326.05, 2306.85, 2198.5, 2211.45, 2371.65, 2426.2, 2378.05, 2522.8, 2506.85, 2525.1, 2402.0, 2451.15, 2413.5, 2356.7, 2377.4, 2367.5, 2473.45, 2536.05, 2533.8, 2504.7, 2469.25, 2410.8, 2381.9, 2335.8, 2307.9, 2288.8, 2363.15, 2316.0, 2249.85, 2323.15, 2355.1, 2392.65, 2440.7, 2525.5, 2508.6, 2514.7, 2501.25, 2511.15, 2474.35, 2413.9, 2394.4, 2382.1, 2462.65, 2520.8, 2500.85, 2535.2, 2491.05, 2523.1, 2504.35, 2555.85, 2536.8, 2561.3, 2536.75, 2666.2, 2651.75, 2747.65, 2748.35, 2777.1, 2789.55, 2702.5, 2693.95, 2734.2, 2727.5, 2733.75, 2693.5, 2756.05, 2800.65, 2764.55, 2836.4, 2813.0, 2790.0, 2690.8, 2677.5, 2721.1, 2773.6, 2757.65, 2659.05, 2671.1, 2658.4, 2601.35, 2650.35, 2650.0, 2701.35, 2772.6, 2756.3, 2810.4, 2738.55, 2757.0, 2761.35, 2749.1, 2735.1, 2744.75, 2811.95, 2839.05, 2815.65, 2807.0, 2756.9, 2705.7, 2766.75, 2804.45, 2750.4, 2731.35, 2721.2, 2762.3, 2799.6, 2725.3, 2721.75, 2695.25, 2679.8, 2617.35, 2609.35, 2606.5, 2575.35, 2564.25, 2562.8, 2645.05, 2659.15, 2689.8, 2677.2, 2675.8, 2674.35, 2683.45, 2696.35, 2646.15, 2600.05, 2600.1, 2559.65, 2543.9, 2524.95, 2521.5, 2557.45, 2510.5, 2527.25, 2437.0, 2408.7, 2381.95, 2305.55, 2346.85, 2383.85, 2386.7, 2420.05, 2515.65, 2418.5, 2389.8, 2396.6, 2393.5, 2397.3, 2380.35, 2382.5, 2390.9, 2428.2, 2463.95, 2480.95, 2480.0, 2484.6, 2518.7, 2492.85, 2462.5, 2500.3, 2560.3, 2604.65, 2596.2, 2588.35, 2611.25, 2659.25, 2705.75, 2701.55, 2715.7, 2675.25, 2688.85, 2726.75, 2737.95, 2694.45, 2624.85, 2621.55, 2586.15, 2613.0, 2661.1, 2638.7, 2717.2, 2782.55, 2795.05, 2824.95, 2806.55, 2725.9, 2843.05, 2827.8, 2748.3, 2689.7, 2674.6, 2693.15, 2702.85, 2704.8, 2736.65, 2727.4, 2829.75, 2852.9, 2806.4, 2832.65, 2813.95, 2801.6, 2822.6, 2801.15, 2752.8, 2726.8, 2789.35, 2773.3, 2779.05, 2808.75, 2776.8, 2759.45, 2740.0, 2673.7, 2710.5, 2710.2, 2664.1, 2610.1, 2695.05, 2763.8, 2790.15, 2789.75, 2706.8, 2710.6, 2735.2, 2748.9, 2671.0, 2702.2, 2705.15, 2749.9, 2808.9, 2837.4, 2859.05, 2912.9, 2932.75, 2930.45, 2985.45, 2979.25, 2993.65, 3022.3, 2935.4, 2958.75, 2902.65, 2944.2, 2915.4, 2916.25, 2939.35, 2945.0, 2905.05, 2941.7, 2966.4, 3003.35, 3064.3, 3076.85, 3044.65, 3019.85, 3059.55, 3013.6, 2970.4, 3017.7, 2993.45, 2958.55, 2939.0, 2895.55, 2976.9, 2980.25, 3024.05, 3051.5, 3060.0, 3028.8, 3069.2, 3115.55, 3073.2, 2998.75, 2985.6, 2995.9, 2973.9, 3008.95, 621.2, 645.05, 639.95, 629.6, 624.25, 620.05, 628.45, 623.15, 627.85, 627.0, 623.1, 632.55, 630.85, 636.3, 633.0, 630.55, 629.95, 665.4, 672.5, 683.9, 691.65, 683.65, 706.3, 721.6, 733.7, 729.3, 732.9, 728.45, 712.45, 707.0, 733.2, 743.35, 760.35, 741.35, 745.05, 725.8, 717.35, 721.1, 708.05, 739.9, 733.35, 727.15, 724.4, 720.65, 697.9, 704.75, 691.95, 706.5, 696.35, 678.05, 692.2, 687.7, 710.7, 702.8, 715.95, 739.7, 738.15, 726.2, 725.45, 725.35, 712.1, 716.05, 710.2, 698.4, 700.35, 695.35, 719.1, 699.65, 688.3, 695.95, 684.95, 694.85, 686.65, 697.75, 705.5, 695.3, 704.85, 700.8, 684.75, 671.95, 668.6, 693.75, 692.75, 685.45, 688.5, 692.3, 699.1, 697.75, 701.8, 698.9, 696.05, 700.4, 717.4, 729.2, 728.35, 728.2, 731.75, 708.1, 706.9, 683.9, 653.6, 659.35, 680.65, 667.35, 641.75, 663.65, 658.35, 653.1, 660.6, 651.2, 669.45, 670.2, 667.1, 645.25, 628.35, 633.25, 617.45, 624.3, 604.15, 590.65, 589.15, 608.3, 595.85, 623.15, 642.8, 646.6, 626.9, 650.05, 643.85, 648.1, 641.1, 647.0, 616.8, 623.6, 629.2, 650.75, 672.1, 681.5, 667.0, 675.15, 672.7, 666.8, 660.4, 671.45, 663.1, 659.85, 637.0, 620.3, 626.45, 637.8, 640.2, 644.1, 663.7, 667.9, 683.05, 698.45, 701.2, 708.2, 705.55, 698.35, 698.9, 715.7, 710.65, 690.15, 718.0, 706.7, 692.1, 694.6, 715.0, 732.2, 731.05, 722.85, 722.1, 717.35, 706.8, 699.4, 684.35, 662.5, 655.05, 664.8, 664.55, 661.1, 666.1, 647.2, 644.7, 634.0, 631.6, 646.05, 643.85, 658.85, 646.55, 649.4, 644.25, 643.15, 656.3, 668.55, 684.05, 689.1, 680.0, 660.05, 670.65, 669.2, 658.3, 654.8, 651.5, 657.0, 648.4, 648.2, 648.1, 638.65, 630.05, 643.05, 644.65, 638.95, 668.0, 674.55, 689.75, 696.05, 706.3, 703.3, 700.75, 700.2, 710.9, 724.4, 714.2, 709.1, 689.75, 694.2, 703.6, 693.8, 700.7, 703.7, 697.25, 698.55, 707.85, 708.2, 693.95, 703.3, 688.35, 689.0, 694.6, 685.0, 679.95, 676.45, 664.8, 646.75, 659.0, 666.15, 683.7, 668.75, 644.5, 660.6, 640.65, 639.2, 641.15, 645.85, 646.3, 628.2, 621.8, 645.2, 662.65, 660.95, 650.05, 655.2, 667.5, 659.25, 661.55, 654.2, 646.65, 645.1, 654.8, 662.35, 653.0, 675.05, 674.1, 643.5, 625.0, 622.35, 641.15, 636.95, 652.45, 640.9, 634.45, 620.8, 624.95, 645.4, 662.55, 666.75, 669.9, 664.4, 666.8, 673.45, 673.8, 673.95, 644.95, 633.4, 640.5, 669.2, 667.2, 688.7, 688.85, 684.35, 682.7, 683.45, 683.9, 679.85, 682.4, 666.7, 672.75, 657.55, 645.4, 635.05, 645.6, 623.35, 637.95, 624.15, 626.1, 613.75, 646.65, 635.65, 641.7, 656.1, 667.6, 662.2, 675.55, 669.3, 655.4, 647.35, 646.35, 630.35, 636.4, 626.35, 618.25, 623.4, 655.45, 662.45, 660.9, 665.75, 667.85, 660.85, 656.6, 652.05, 650.4, 665.2, 660.95, 670.3, 670.4, 668.55, 663.25, 684.0, 680.95, 687.4, 681.55, 674.2, 675.35, 682.8, 693.7, 692.1, 695.5, 700.55, 709.2, 699.8, 688.1, 697.85, 688.9, 685.75, 696.65, 699.2, 685.35, 696.9, 697.15, 693.9, 695.15, 697.75, 713.65, 718.0, 716.8, 714.35, 701.7, 701.3, 676.4, 664.75, 670.05, 663.15, 669.4, 672.65, 668.65, 657.15, 651.1, 654.0, 680.5, 671.1, 681.85, 677.5, 661.3, 666.45, 650.25, 657.5, 667.5, 659.2, 660.55, 651.25, 667.55, 660.95, 666.8, 673.3, 683.15, 687.45, 679.65, 666.05, 671.75, 674.05, 679.4, 680.7, 677.8, 683.8, 680.35, 690.65, 684.7, 683.4, 683.0, 676.85, 674.1, 674.45, 677.25, 673.6, 672.2, 666.8, 659.95, 663.65, 657.3, 650.05, 651.4, 645.8, 645.0, 645.3, 620.9, 633.85, 635.3, 641.25, 642.6, 635.5, 663.8, 656.55, 664.1, 660.65, 655.9, 654.65, 643.25, 639.6, 643.95, 650.65, 656.45, 655.95, 656.6, 658.45, 655.85, 644.3, 646.25, 638.7, 642.2, 642.5, 647.85, 640.05, 644.0, 643.0, 644.6, 645.1, 653.2, 662.35, 674.55, 675.6, 676.5, 684.35, 676.25, 682.4, 678.8, 675.85, 676.35, 680.45, 683.75, 687.15, 693.8, 684.75, 677.0, 674.3, 675.1, 670.1, 673.8, 678.1, 691.15, 699.85, 695.7, 699.35, 710.4, 719.55, 721.6, 694.9, 690.15, 716.35, 702.85, 710.15, 713.3, 732.5, 726.4, 719.75, 722.5, 721.95, 723.25, 715.05, 726.6, 735.3, 734.65, 722.55, 724.65, 722.4, 729.4, 731.0, 741.2, 759.55, 756.55, 750.35, 770.45, 779.9, 774.6, 760.9, 780.2, 759.35, 768.8, 760.9, 761.25, 774.4, 768.95, 776.3, 789.05, 749.95, 750.6, 747.95, 741.2, 748.1, 740.25, 740.2, 744.2, 752.85, 761.65, 753.3, 750.75, 750.55, 765.75, 758.3, 756.95, 750.65, 762.35, 763.5, 766.25, 770.0, 783.75, 799.65, 793.8, 793.95, 791.6, 784.55, 793.15, 774.85, 764.85, 782.05, 778.75, 775.15, 779.35, 775.65, 799.2, 821.8, 843.5, 836.2, 841.55, 837.95, 844.15, 837.75, 865.8, 874.95, 859.7, 854.3, 852.3, 836.85, 846.85, 830.75, 831.0, 830.2, 828.7, 834.7, 828.45, 834.4, 828.85, 832.95, 846.6, 845.5, 837.7, 822.95, 840.3, 830.0, 825.5, 809.5, 827.05, 825.5, 818.85, 807.6, 822.7, 812.5, 813.35, 820.85, 807.65, 805.85, 801.7, 802.5, 797.15, 786.55, 777.95, 798.25, 797.4, 807.75, 810.65, 808.8, 800.2, 800.4, 815.0, 816.2, 812.1, 824.45, 823.45, 819.6, 815.05, 799.85, 802.05, 771.55, 779.35, 757.65, 777.5, 773.8, 773.1, 774.3, 782.05, 813.25, 831.65, 823.8, 809.2, 814.1, 817.3, 810.1, 784.55, 780.4, 797.9, 796.4, 806.2, 824.2, 826.25, 825.2, 817.25, 811.65, 792.35, 770.8, 758.2, 752.95, 783.15, 763.6, 764.8, 774.9, 803.7, 790.4, 818.25, 835.6, 838.1, 862.75, 872.6, 864.2, 847.6, 863.45, 854.9, 852.65, 853.75, 885.0, 880.35, 877.3, 874.5, 863.5, 870.85, 910.05, 908.35, 903.35, 898.4, 902.05, 899.85, 903.15, 906.05, 929.5, 919.8, 910.55, 926.25, 890.15, 869.05, 854.2, 843.95, 845.0, 839.35, 852.6, 831.15, 820.75, 812.2, 835.0, 844.4, 834.0, 842.75, 817.55, 820.7, 824.8, 817.45, 815.6, 837.15, 879.05, 889.65, 875.15, 853.6, 852.1, 850.1, 824.05, 830.05, 827.5, 854.8, 851.3, 848.5, 816.05, 817.1, 829.05, 803.2, 830.3, 826.85, 803.25, 800.8, 805.55, 806.6, 807.85, 800.45, 817.0, 808.35, 798.95, 751.85, 729.7, 746.95, 769.75, 791.95, 780.7, 737.9, 735.5, 726.25, 747.25, 735.9, 740.85, 744.0, 686.0, 652.75, 695.5, 718.65, 738.4, 702.35, 709.5, 750.4, 760.85, 809.15, 811.8, 814.45, 807.95, 814.25, 803.95, 799.2, 834.55, 810.4, 776.2, 788.25, 779.65, 792.85, 784.2, 764.25, 785.9, 802.4, 798.7, 797.8, 791.5, 802.2, 808.25, 810.5, 803.35, 801.95, 795.2, 819.45, 821.15, 810.7, 809.7, 812.15, 809.8, 820.85, 839.6, 849.45, 855.05, 855.4, 852.8, 859.45, 838.95, 841.75, 809.35, 805.35, 794.85, 791.4, 793.3, 814.45, 818.4, 807.75, 781.7, 793.35, 818.7, 807.35, 808.1, 814.1, 823.8, 827.65, 822.4, 812.15, 827.45, 813.75, 820.0, 808.95, 818.2, 826.95, 806.8, 798.55, 778.45, 798.25, 776.25, 801.85, 789.8, 779.9, 779.3, 788.4, 795.65, 794.65, 793.5, 791.1, 791.0, 795.85, 797.9, 804.3, 802.15, 801.45, 818.65, 824.35, 846.5, 857.6, 840.05, 834.8, 838.15, 841.05, 856.15, 844.7, 833.0, 831.15, 825.15, 829.15, 808.45, 788.85, 788.15, 784.8, 785.35, 783.45, 765.4, 774.8, 785.5, 766.05, 770.7, 779.3, 803.9, 805.8, 791.65, 800.6, 810.25, 811.4, 819.1, 819.3, 812.55, 821.85, 827.15, 837.85, 848.25, 850.2, 853.1, 854.65, 865.4, 856.65, 852.2, 867.7, 847.85, 843.25, 841.9, 860.25, 871.7, 866.4, 875.1, 875.8, 883.9, 888.8, 899.0, 904.15, 895.1, 895.85, 922.7, 927.25, 918.65, 887.5, 870.2, 879.8, 876.95, 874.85, 879.55, 894.1, 884.35, 887.4, 897.95, 910.95, 886.45, 877.55, 852.6, 850.45, 884.6, 895.55, 906.35, 888.85, 903.15, 885.8, 916.95, 940.6, 940.75, 920.15, 931.95, 927.75, 910.25, 902.05, 896.9, 876.8, 896.35, 912.75, 901.55, 908.75, 935.15, 944.95, 954.45, 956.9, 982.05, 979.7, 961.65, 965.6, 958.45, 968.45, 969.05, 971.0, 996.1, 995.45, 976.85, 976.1, 992.55, 984.1, 1007.8, 1008.15, 1013.1, 1020.6, 1022.2, 1015.4, 1022.85, 989.65, 983.8, 977.55, 976.0, 972.35, 983.0, 1010.3, 1041.05, 1037.05, 1036.25, 1067.75, 1066.5, 1087.55, 1068.4, 1039.65, 1027.2, 1045.45, 1035.35, 1026.85, 1026.95, 1063.2, 1116.4, 1144.1, 1124.3, 1112.55, 1085.05, 1072.4, 1064.4, 1044.6, 1056.3, 1061.95, 1069.65, 1074.5, 1058.7, 1066.25, 1062.7, 1080.2, 1055.05, 1051.65, 1050.25, 1035.05, 1037.85, 1050.3, 1034.1, 1017.8, 1018.4, 1053.05, 1066.25, 1079.15, 1066.15, 1054.7, 1056.7, 1038.2, 1031.15, 1055.25, 1050.35, 1017.8, 1014.65, 1042.65, 1006.4, 1017.8, 1004.05, 981.3, 997.15, 1020.1, 1021.0, 1030.75, 1031.55, 1036.75, 1049.65, 1048.6, 1064.7, 1105.9, 1120.5, 1100.55, 1099.75, 1113.7, 1127.55, 1142.7, 1129.05, 1126.85, 1129.9, 1105.65, 1117.2, 1122.35, 1134.4, 1136.7, 1146.45, 1158.45, 1152.6, 1160.65, 1137.55, 1125.1, 1104.6, 1113.0, 1114.85, 1107.6, 1103.2, 1100.05, 1092.6, 1069.5, 1124.3, 1086.85, 1088.95, 1098.2, 1114.95, 1146.3, 1124.35, 1099.85, 1116.15, 1124.1, 1129.4, 1135.9, 1124.0, 1171.9, 1156.4, 1101.95, 1099.25, 1123.35, 1113.3, 1128.55, 1122.2, 1120.3, 1202.55, 1194.55, 1181.7, 1251.55, 1287.2, 1279.65, 1290.1, 1315.85, 1344.6, 1315.55, 1262.5, 1269.3, 1230.15, 1232.45, 1246.45, 1280.55, 1271.95, 1246.15, 1245.8, 1253.25, 1268.65, 1288.0, 1328.6, 1353.45, 1333.15, 1311.25, 1310.4, 1340.55, 1345.7, 1347.4, 1335.15, 1339.95, 1368.05, 1367.7, 1394.8, 1368.35, 1312.4, 1322.75, 1332.85, 1328.05, 1305.7, 1339.45, 1322.05, 1327.7, 1338.45, 1345.7, 1358.85, 1354.55, 1283.7, 1262.7, 1306.2, 1315.7, 1337.05, 1330.6, 1328.7, 1299.7, 1303.05, 1290.35, 1305.25, 1290.45, 1306.8, 1306.7, 1268.65, 1258.15, 1277.2, 1276.05, 1245.15, 1211.75, 1228.25, 1201.15, 1170.0, 1202.2, 1180.35, 1163.6, 1154.25, 1185.35, 1226.1, 1191.35, 1219.4, 1209.7, 1234.3, 1264.3, 1240.55, 1270.05, 1255.95, 1288.05, 1252.65, 1240.45, 1239.9, 1229.25, 1236.05, 1247.75, 1203.1, 1202.85, 1216.0, 1201.35, 1176.75, 1188.8, 1190.55, 1164.3, 1190.4, 1214.55, 1199.05, 1200.9, 1213.3, 1236.85, 1271.55, 1285.2, 1283.9, 1308.85, 1287.85, 1285.5, 1296.45, 1292.7, 1285.2, 1316.05, 1317.6, 1337.3, 1290.05, 1285.3, 1283.35, 1323.75, 1318.4, 1340.15, 1359.7, 1326.65, 1315.35, 1311.6, 1345.75, 1350.55, 1358.75, 1336.0, 1304.4, 1312.05, 1335.8, 1340.4, 1324.35, 1302.45, 1302.45, 1303.85, 1298.45, 1305.5, 1290.65, 1261.95, 1256.95, 1299.95, 1279.6, 1266.1, 1256.3, 1249.9, 1228.35, 1167.75, 1145.55, 1102.35, 1193.9, 1201.9, 1186.15, 1157.4, 1123.15, 1172.05, 1141.6, 1155.05, 1171.05, 1186.65, 1162.75, 1176.35, 1184.7, 1179.85, 1196.35, 1207.05, 1207.3, 1168.6, 1165.95, 1181.85, 1172.15, 1216.8, 1212.75, 1196.6, 1256.95, 1265.2, 1277.45, 1278.1, 1291.7, 1270.25, 1278.7, 1294.15, 1294.7, 1311.6, 1315.35, 1312.5, 1315.75, 1337.9, 1312.7, 1275.1, 1266.6, 1264.65, 1256.85, 1221.05, 1221.4, 1220.15, 1205.85, 1205.4, 1190.75, 1171.35, 1177.4, 1178.75, 1178.4, 1200.75, 1178.7, 1214.2, 1205.75, 1191.15, 1218.95, 1222.65, 1230.6, 1211.2, 1224.7, 1211.75, 1200.2, 1171.6, 1184.6, 1171.55, 1153.25, 1182.3, 1174.75, 1188.05, 1206.55, 1219.3, 1240.95, 1224.85, 1232.35, 1228.25, 1239.2, 1229.55, 1227.65, 1234.3, 1233.7, 1263.75, 1258.45, 1216.7, 1209.4, 1209.3, 1179.45, 1174.4, 1161.55, 1151.85, 1167.65, 1159.3, 1149.8, 1131.8, 1153.0, 1136.65, 1131.1, 1158.45, 1174.6, 1169.95, 1147.75, 1180.0, 1180.05, 1179.8, 1160.95, 1168.35, 1182.95, 1164.1, 1159.9, 1116.55, 1066.65, 1083.75, 1080.45, 1077.15, 1076.3, 1069.1, 1060.85, 1058.4, 1051.1, 1022.1, 1042.65, 1053.7, 1060.3, 1069.45, 1099.55, 1124.15, 1129.0, 1146.45, 1128.65, 1153.15, 1160.5, 1158.7, 1111.35, 1125.95, 1108.05, 1129.3, 1151.25, 1168.1, 1162.75, 1143.35, 1125.75, 1115.3, 1105.6, 1113.4, 1103.7, 1103.45, 1102.05, 1070.85, 1079.55, 1079.8, 1090.5, 1114.95, 1132.4, 1140.0, 1150.1, 1131.9, 1112.0, 1127.3, 1121.5, 1085.55, 1088.45, 1091.9, 1099.6, 1129.9, 1162.65, 1167.8, 1203.6, 1218.55, 1203.8, 1195.85, 1166.0, 1186.45, 1217.85, 1208.2, 1175.85, 1179.55, 1160.25, 1172.75, 1207.05, 1228.25, 1255.55, 1233.95, 1237.7, 1243.25, 1260.55, 1254.9, 1251.65, 1251.3, 1262.5, 1237.5, 1230.4, 1205.35, 1198.2, 1205.15, 1200.95, 1227.3, 1227.55, 1238.15, 1238.35, 1245.5, 1222.75, 1214.6, 1228.9, 1248.55, 1253.6, 1242.35, 1256.25, 1260.7, 1290.55, 1286.9, 1314.1, 1333.75, 1330.45, 1336.95, 1364.1, 1346.35, 1338.55, 1334.45, 1332.9, 1357.0, 1382.0, 1367.45, 1387.7, 1402.15, 1374.5, 1374.3, 1342.15, 1325.45, 1320.15, 1342.1, 1367.45, 1343.0, 1337.15, 1348.45, 1382.15, 1358.55, 1366.9, 1374.3, 1369.4, 1377.55, 1375.15, 1382.85, 1357.5, 1366.35, 1375.5, 1392.1, 1405.45, 1424.75, 1439.15, 1458.05, 1427.15, 1437.8, 1410.65, 1399.05, 1392.2, 1410.05, 1397.35, 1392.8, 1393.1, 1392.35, 1413.25, 1425.1, 1412.45, 1418.9, 1423.55, 1401.4, 1393.45, 1425.5, 1432.4, 1423.15, 1426.0, 1403.7, 1391.45, 1338.9, 1316.05, 1301.95, 1355.25, 1342.15, 1359.95, 1336.55, 1344.0, 1340.1, 1334.65, 1378.55, 1391.7, 1377.5, 1417.2, 1404.35, 1401.6, 1386.15, 1381.4, 1391.35, 1350.8, 1324.55, 1268.35, 1225.75, 1255.4, 1250.2, 1249.8, 1221.95, 1249.7, 1226.9, 1217.65, 1244.05, 1246.7, 1255.8, 1263.1, 1270.0, 1236.8, 1215.55, 1243.4, 1264.95, 1289.85, 1268.25, 1264.5, 1278.55, 1266.55, 1259.2, 1269.15, 1247.9, 1235.55, 1235.6, 1217.4, 1224.85, 1219.5, 1232.15, 1237.95, 1257.2, 1262.6, 1217.1, 1214.0, 1212.1, 1217.2, 1222.35, 1223.55, 1217.25, 1230.05, 1221.1, 1247.5, 1256.9, 1245.8, 1249.05, 1242.4, 1237.3, 1259.75, 1280.75, 1337.4, 1373.7, 1371.9, 1365.85, 1412.1, 1401.3, 1397.45, 1400.3, 1407.25, 1401.1, 1396.9, 1388.55, 1392.05, 1398.15, 1399.15, 1393.55, 1402.5, 1393.3, 1412.45, 1394.1, 1385.7, 1375.7, 1370.05, 1400.55, 1399.0, 1371.2, 1365.95, 1365.4, 1367.7, 1371.5, 1373.8, 1424.15, 1426.1, 1450.25, 1451.2, 1457.75, 1458.4, 1442.3, 1456.65, 1462.6, 1474.7, 1504.1, 1522.05, 1519.95, 1502.1, 1533.65, 1490.15, 1482.6, 1484.75, 1467.5, 1476.85, 1466.65, 1474.9, 1479.55, 1480.05, 1490.2, 1517.1, 1507.45, 1530.7, 1548.4, 1586.0, 1566.5, 1537.15, 1584.75, 1571.3, 1564.35, 1546.85, 1529.5, 1523.5, 1572.0, 1565.3, 1549.8, 1559.5, 1566.55, 1552.5, 1537.05, 1520.6, 1519.85, 1511.5, 1524.85, 1539.75, 1547.9, 1598.85, 1579.5, 1569.85, 1583.75, 1604.65, 1606.15, 1605.75, 1599.35, 1633.55, 1647.2, 1647.5, 1667.65, 1651.1, 1636.85, 1640.85, 1654.2, 1631.5, 1628.25, 1653.8, 1651.35, 1651.05, 1629.0, 1632.2, 1614.95, 1621.65, 1640.65, 1629.1, 1647.9, 1629.15, 1638.85, 1642.75, 1639.95, 1656.9, 1647.7, 1652.35, 1653.0, 1654.85, 1651.0, 1640.95, 1632.25, 1632.05, 1633.45, 1728.2, 1785.35, 1789.25, 1779.1, 1766.4, 1736.75, 1731.35, 1725.4, 1719.9, 1731.65, 1709.8, 1695.35, 1713.95, 1741.75, 1759.25, 1735.05, 1738.15, 1750.4, 1765.25, 1757.35, 1766.45, 1727.8, 1759.05, 1776.9, 1759.55, 1755.4, 1767.3, 1775.0, 1781.7, 1779.15, 1781.7, 1798.1, 1778.1, 1771.8, 1768.95, 1771.75, 1752.6, 1767.15, 1788.6, 1780.95, 1755.05, 1741.25, 1719.35, 1744.35, 1742.15, 1761.6, 1768.1, 1751.7, 1740.0, 1749.7, 1744.75, 1750.75, 1755.55, 1766.45, 1762.9, 1759.75, 1751.55, 1745.75, 1722.4, 1722.3, 1677.65, 1692.35, 1699.05, 1705.8, 1707.4, 1754.3, 1762.25, 1776.3, 1790.2, 1764.65, 1747.45, 1725.85, 1709.5, 1670.3, 1661.4, 1650.9, 1664.4, 1705.5, 1689.2, 1694.5, 1718.15, 1704.6, 1711.05, 1711.0, 1725.5, 1704.15, 1675.7, 1658.8, 1680.4, 1679.5, 1648.4, 1655.55, 1682.95, 1709.95, 1710.8, 1696.7, 1704.5, 1723.0, 1719.95, 1709.15, 1693.7, 1701.9, 1709.35, 1713.2, 1707.9, 1696.15, 1710.4, 1683.75, 1703.25, 1700.8, 1703.2, 1725.2, 1740.95, 1735.05, 1726.45, 1741.35, 1760.95, 1871.2, 1845.95, 1858.35, 1896.8, 1901.25, 1872.0, 1884.65, 1911.2, 1908.3, 1967.6, 1937.5, 1956.3, 1967.55, 1903.85, 1823.35, 1788.6, 1785.35, 1811.8, 1773.05, 1805.45, 1814.0, 1829.5, 1815.5, 1814.05, 1811.75, 1824.8, 1819.25, 1824.2, 1843.25, 1828.65, 1808.7, 1814.15, 1789.6, 1782.8, 1761.75, 1798.75, 1818.6, 1858.05, 1868.5, 1844.7, 1830.0, 1791.4, 1774.5, 1800.05, 1817.85, 1809.55, 1789.6, 1830.15, 1823.15, 1825.6, 1838.05, 1825.7, 1803.3, 1824.45, 1829.0, 1836.7, 1817.5, 1812.4, 1829.05, 1840.6, 1870.45, 1889.7, 1877.7, 1858.65, 1834.15, 1830.85, 1859.55, 1849.5, 1850.45, 1853.75, 1883.25, 1910.6, 1922.7, 1910.35, 1918.7, 1903.35, 1897.65, 1894.3, 1919.8, 1930.6, 1929.55, 1914.55, 1875.1, 1853.0, 1819.2, 1810.0, 1783.65, 1806.1, 1819.75, 1829.55, 1809.75, 1790.8, 1833.0, 1844.25, 1833.15, 1848.4, 1858.45, 1869.0, 1840.45, 1839.45, 1847.7, 1832.3, 1833.75, 1832.25, 1823.55, 1828.0, 1847.0, 1858.9, 1906.75, 1893.8, 1915.85, 1904.85, 1878.0, 1908.1, 1897.1, 1879.7, 1922.5, 1931.05, 1916.85, 1904.9, 1942.55, 1928.1, 1962.7, 1972.5, 1991.2, 1989.3, 2009.45, 1988.4, 1973.85, 1966.85, 1975.55, 2000.85, 2023.4, 2047.25, 2028.75, 1994.85, 1970.15, 1931.95, 1977.5, 1979.3, 1978.6, 1984.6, 1969.95, 1974.3, 1947.0, 1941.5, 1891.2, 1885.65, 1920.05, 1913.35, 1906.3, 1919.05, 1924.85, 1955.15, 1956.25, 1934.15, 1935.95, 1944.8, 1954.8, 1937.4, 1956.15, 1920.0, 1883.55, 1868.05, 1877.8, 1925.45, 1878.85, 1855.7, 1830.65, 1839.4, 1718.7, 1773.35, 1767.45, 1729.0, 1754.5, 1806.35, 1797.55, 1778.45, 1708.65, 1667.7, 1712.75, 1736.95, 1684.55, 1730.3, 1732.9, 1756.25, 1737.8, 1660.25, 1658.3, 1686.75, 1741.45, 1694.45, 1702.1, 1698.4, 1671.9, 1769.25, 1762.0, 1824.4, 1792.9, 1805.9, 1815.85, 1816.1, 1795.9, 1824.7, 1839.15, 1853.6, 1889.0, 1899.35, 1876.8, 1868.15, 1873.7, 1884.65, 1901.7, 1928.0, 1956.3, 1989.0, 1980.75, 1939.45, 1973.3, 1945.8, 1951.35, 1906.5, 1905.25, 1940.2, 1942.05, 1904.1, 1960.35, 1952.0, 1981.7, 1974.7, 1948.6, 1902.15, 1933.35, 1948.85, 1979.95, 1968.35, 2009.0, 1980.65, 1936.85, 1972.6, 1972.9, 1958.95, 1994.95, 1980.1, 1991.4, 1969.2, 1992.15, 1975.0, 2004.55, 2006.85, 2004.45, 1979.4, 1958.25, 1971.1, 1977.8, 1946.9, 1922.3, 1885.8, 1922.35, 1961.25, 1978.5, 1981.4, 1987.95, 1969.65, 1944.65, 1948.2, 1905.05, 1930.5, 1900.7, 1874.9, 1874.85, 1853.45, 1870.5, 1891.45, 1887.4, 1894.5, 1853.65, 1841.0, 1841.2, 1859.45, 1860.0, 1885.2, 1880.2, 1884.05, 1897.55, 1930.0, 1950.65, 1956.95, 1974.65, 1962.4, 1967.85, 1987.55, 1981.55, 1945.65, 1946.3, 1919.9, 1944.45, 1968.25, 1959.65, 1995.95, 2013.1, 2042.05, 2059.2, 2054.9, 2069.15, 2029.25, 2022.8, 2024.95, 2014.25, 2026.7, 2003.75, 1953.9, 1934.7, 1980.4, 1955.15, 1977.4, 1995.05, 2017.4, 2006.4, 1965.45, 1966.3, 1930.75, 1914.6, 1931.7, 1952.9, 1965.2, 1944.95, 1942.1, 1993.65, 2122.5, 2114.5, 2138.8, 2114.4, 2123.4, 2165.3, 2147.85, 2147.45, 2184.4, 2182.65, 2230.45, 2223.95, 2183.45, 2210.85, 2194.05, 2189.85, 2181.95, 2197.5, 2185.85, 2173.0, 2153.0, 2175.4, 2199.25, 2140.8, 2148.9, 2172.8, 2168.1, 2195.45, 2192.1, 2245.9, 2281.25, 2277.2, 2280.25, 2278.9, 2259.95, 2232.8, 2227.75, 2261.9, 2257.8, 2265.35, 2277.55, 2286.7, 2345.15, 2303.55, 2186.9, 2138.5, 2184.25, 2195.35, 2165.75, 2149.0, 2127.25, 2121.8, 2086.8, 2124.8, 2152.35, 2189.9, 2175.2, 2182.3, 2211.65, 2100.1, 2117.7, 2100.0, 2114.05, 2090.1, 2066.9, 2014.1, 2043.75, 2148.35, 2174.3, 2187.15, 2128.45, 2166.45, 2089.9, 2100.1, 2044.15, 2041.45, 2064.25, 2071.85, 2082.75, 2083.85, 2046.75, 1996.25, 1988.3, 1974.6, 2049.3, 2162.0, 2130.0, 2069.95, 2063.2, 2035.9, 1977.05, 1995.65, 1974.55, 1978.3, 1969.3, 2002.0, 1987.95, 2010.15, 2014.75, 2013.3, 2048.7, 2089.75, 2094.45, 2114.9, 2142.95, 2144.95, 2101.55, 2105.35, 2113.05, 2107.45, 2131.9, 2128.6, 2181.3, 2181.3, 2220.6, 2251.0, 2233.2, 2234.55, 2207.45, 2226.8, 2224.05, 2236.3, 2212.1, 2200.95, 2210.35, 2237.3, 2294.55, 2304.65, 2336.3, 2309.75, 2297.25, 2306.6, 2319.7, 2322.4, 2327.55, 2264.65, 2311.4, 2295.15, 2321.65, 2318.45, 2354.5, 2375.25, 2430.1, 2445.15, 2411.9, 2404.1, 2422.65, 2412.75, 2414.1, 2444.15, 2438.25, 2412.55, 2433.95, 2466.4, 2454.45, 2384.1, 2415.05, 2406.15, 2457.4, 2457.55, 2462.55, 2492.3, 2488.6, 2482.1, 2453.95, 2454.35, 2465.45, 2416.6, 2428.4, 2450.75, 2395.8, 2431.6, 2404.25, 2415.0, 2414.0, 2268.25, 2259.75, 2345.95, 2391.65, 2436.45, 2405.65, 2414.3, 2435.15, 2437.6, 2403.65, 2401.75, 2350.25, 2318.8, 2377.25, 2369.5, 2292.3, 2302.6, 2281.45, 2272.2, 2175.75, 2179.65, 2191.4, 2206.05, 2195.05, 2109.45, 2027.9, 2036.25, 1875.7, 2066.8, 1841.75, 1755.8, 1622.55, 1617.6, 1753.95, 1520.7, 1505.1, 1646.05, 1733.25, 1754.0, 1558.75, 1633.1, 1583.5, 1499.55, 1555.15, 1558.8, 1703.1, 1655.2, 1596.3, 1625.75, 1680.6, 1727.7, 1669.7, 1664.15, 1663.45, 1580.3, 1591.45, 1715.8, 1836.75, 1916.0, 1724.35, 1689.9, 1732.15, 1703.9, 1689.7, 1658.45, 1674.1, 1712.75, 1632.4, 1633.8, 1512.05, 1539.85, 1627.0, 1597.3, 1516.15, 1502.15, 1570.4, 1623.7, 1658.9, 1737.7, 1813.55, 1835.65, 1764.3, 1766.6, 1760.8, 1772.1, 1809.3, 1787.45, 1792.2, 1751.65, 1821.9, 1794.65, 1855.95, 1835.1, 1819.4, 1838.1, 1797.75, 1777.8, 1769.35, 1741.15, 1754.65, 1835.15, 1889.45, 1885.2, 1868.7, 1886.75, 1886.05, 1941.85, 1886.0, 1845.55, 1791.6, 1789.9, 1787.8, 1805.85, 1806.05, 1883.65, 1881.05, 1875.8, 1841.3, 1850.75, 1897.35, 1877.3, 1810.65, 1781.95, 1739.8, 1781.1, 1776.7, 1783.75, 1777.7, 1798.95, 1826.75, 1814.2, 1804.85, 1791.7, 1800.55, 1820.7, 1827.95, 1785.15, 1804.05, 1829.85, 1829.6, 1816.0, 1864.1, 1883.25, 1832.6], \"high\": [293.5, 317.0, 303.9, 314.0, 296.35, 296.0, 292.0, 293.0, 290.5, 294.0, 309.5, 317.85, 315.0, 306.0, 307.0, 306.0, 308.95, 316.6, 328.9, 349.95, 353.9, 357.0, 351.5, 362.4, 362.5, 359.0, 354.0, 329.0, 346.0, 369.0, 353.5, 354.8, 347.0, 340.0, 334.0, 319.4, 330.45, 356.0, 379.85, 410.25, 442.5, 433.85, 468.6, 489.0, 479.0, 447.0, 425.0, 419.0, 408.9, 406.0, 400.0, 406.8, 405.85, 427.0, 428.8, 446.35, 420.0, 444.7, 424.85, 418.6, 378.0, 393.0, 424.45, 458.45, 482.4, 465.0, 496.0, 504.0, 470.05, 464.0, 476.0, 444.55, 453.75, 463.0, 494.0, 475.0, 459.9, 474.0, 464.0, 477.7, 492.45, 468.0, 470.0, 453.0, 449.75, 434.9, 447.0, 467.0, 462.5, 466.0, 475.0, 468.0, 468.0, 480.0, 494.9, 509.0, 502.0, 493.0, 487.5, 541.3, 582.25, 564.6, 509.0, 531.9, 567.0, 558.0, 532.5, 525.0, 525.0, 520.0, 505.0, 501.0, 487.8, 510.0, 509.0, 512.0, 531.85, 538.5, 545.0, 546.95, 570.5, 580.0, 560.0, 556.0, 566.0, 543.0, 501.0, 521.0, 514.0, 509.0, 492.0, 499.0, 510.0, 492.0, 489.0, 488.0, 479.9, 521.2, 535.0, 509.95, 503.0, 505.0, 503.0, 504.5, 511.0, 510.0, 502.65, 491.5, 509.5, 504.9, 509.0, 508.0, 501.9, 506.0, 505.0, 529.0, 525.5, 512.0, 505.0, 492.0, 494.5, 500.0, 503.0, 505.0, 508.0, 524.6, 526.85, 530.0, 548.0, 541.9, 546.0, 545.9, 540.0, 525.0, 517.95, 516.0, 515.0, 505.0, 506.0, 515.0, 515.0, 496.0, 482.0, 474.0, 447.0, 455.15, 445.9, 441.9, 448.0, 443.0, 451.0, 452.9, 458.75, 455.0, 451.25, 454.0, 469.9, 465.0, 464.55, 480.0, 488.0, 472.0, 467.0, 464.8, 468.9, 468.0, 472.8, 473.0, 484.9, 495.5, 500.0, 496.0, 489.9, 500.0, 489.75, 502.9, 515.0, 518.0, 508.0, 503.5, 492.0, 487.0, 482.0, 479.0, 490.0, 518.4, 542.9, 532.0, 526.9, 535.8, 528.0, 525.0, 528.0, 533.05, 545.0, 548.9, 557.9, 564.9, 565.0, 559.85, 565.0, 559.0, 560.0, 556.95, 553.0, 553.0, 560.0, 540.0, 543.0, 544.0, 543.9, 544.9, 554.85, 568.0, 589.0, 599.0, 599.0, 595.0, 565.1, 562.0, 552.6, 545.0, 542.8, 541.0, 538.0, 523.75, 515.2, 523.9, 554.0, 588.9, 592.0, 577.0, 563.0, 580.0, 582.9, 570.0, 568.0, 583.0, 605.0, 600.0, 582.0, 579.0, 587.8, 584.0, 579.0, 578.0, 574.0, 572.0, 571.75, 575.8, 597.0, 621.0, 609.0, 608.0, 574.0, 550.0, 548.0, 550.0, 559.0, 553.0, 603.2, 600.0, 588.0, 574.0, 569.5, 579.9, 589.0, 590.0, 586.0, 589.0, 591.9, 574.9, 569.0, 574.0, 586.9, 574.0, 580.0, 563.5, 560.5, 558.0, 575.0, 587.8, 600.0, 595.0, 590.0, 579.9, 586.0, 593.0, 600.0, 599.25, 587.0, 589.1, 592.0, 595.0, 610.0, 621.0, 622.0, 619.0, 600.0, 596.0, 595.0, 600.6, 614.0, 680.0, 702.0, 669.0, 661.95, 651.0, 664.0, 665.0, 668.0, 684.0, 675.0, 677.0, 674.8, 670.0, 669.7, 669.0, 654.75, 665.9, 673.0, 675.0, 660.0, 658.0, 656.0, 659.0, 692.45, 676.0, 675.0, 669.95, 679.0, 699.0, 702.0, 690.0, 695.0, 684.0, 674.9, 675.0, 669.75, 668.0, 666.8, 663.0, 695.0, 664.0, 670.0, 674.9, 664.4, 665.0, 661.0, 660.0, 635.0, 635.0, 650.0, 656.0, 714.0, 660.0, 675.0, 690.0, 686.0, 680.05, 673.8, 666.05, 670.0, 674.0, 688.0, 679.8, 668.65, 668.0, 685.9, 693.9, 704.45, 713.0, 709.8, 699.85, 685.8, 684.75, 700.0, 708.0, 704.1, 699.95, 698.75, 710.0, 714.0, 722.0, 728.05, 698.65, 689.0, 687.8, 649.95, 647.9, 678.0, 665.0, 663.0, 650.0, 679.65, 670.0, 659.0, 649.0, 659.0, 656.0, 701.9, 698.0, 674.75, 691.0, 679.5, 678.0, 675.0, 671.0, 672.4, 694.0, 677.95, 657.0, 650.0, 658.9, 688.0, 680.0, 691.9, 698.0, 700.0, 704.0, 707.85, 709.9, 702.0, 709.8, 704.95, 705.0, 695.0, 695.9, 699.0, 695.0, 694.4, 696.0, 710.0, 710.0, 705.9, 705.0, 703.85, 709.0, 700.0, 697.9, 696.0, 695.0, 703.8, 699.95, 698.0, 695.0, 694.5, 690.0, 690.25, 690.25, 689.0, 682.0, 677.0, 676.0, 674.0, 670.0, 670.0, 674.9, 669.95, 665.45, 657.0, 657.0, 649.75, 634.0, 650.0, 650.0, 651.9, 658.0, 648.0, 644.0, 638.4, 635.0, 632.75, 630.0, 629.0, 633.0, 643.0, 649.95, 645.25, 635.0, 644.85, 650.0, 648.0, 643.85, 644.9, 640.0, 643.9, 640.0, 644.95, 653.9, 695.0, 692.0, 680.0, 685.95, 671.0, 668.0, 672.05, 675.0, 685.0, 686.0, 690.85, 685.0, 690.0, 690.0, 678.0, 678.5, 677.8, 672.9, 669.7, 680.0, 670.0, 671.95, 679.8, 675.0, 685.0, 684.4, 673.0, 671.95, 669.8, 689.9, 685.0, 677.0, 668.0, 666.9, 667.95, 664.4, 664.9, 689.9, 666.0, 661.95, 679.85, 665.0, 660.0, 656.0, 654.0, 637.0, 615.0, 624.7, 629.0, 645.0, 649.0, 657.0, 656.0, 658.0, 655.0, 655.0, 650.05, 648.0, 644.95, 643.9, 650.9, 661.95, 660.0, 634.7, 630.0, 629.0, 620.0, 619.8, 614.4, 618.0, 619.75, 600.0, 601.2, 610.0, 607.7, 604.0, 619.0, 627.0, 639.0, 645.0, 641.0, 642.0, 642.0, 673.7, 653.95, 650.4, 654.5, 647.0, 638.0, 631.0, 634.25, 642.0, 665.0, 660.0, 650.0, 652.0, 628.0, 635.0, 650.0, 648.3, 640.0, 636.95, 630.0, 629.0, 630.0, 629.6, 624.0, 629.0, 624.85, 621.0, 623.95, 613.9, 623.5, 621.9, 619.9, 618.5, 637.0, 646.5, 639.9, 626.5, 624.0, 623.0, 615.0, 634.85, 630.35, 633.0, 625.0, 621.65, 620.0, 618.75, 613.0, 603.0, 598.55, 589.0, 585.0, 578.0, 577.4, 590.0, 600.9, 600.0, 597.8, 598.0, 590.05, 596.45, 599.9, 589.4, 588.9, 595.0, 595.95, 597.3, 596.0, 597.25, 594.0, 595.0, 591.0, 597.5, 602.0, 601.5, 606.5, 600.1, 615.0, 613.0, 614.7, 615.1, 611.9, 674.0, 629.1, 639.0, 638.75, 630.0, 620.95, 637.0, 641.5, 640.0, 639.0, 635.5, 634.5, 632.0, 630.0, 630.0, 632.0, 638.0, 636.0, 634.9, 640.0, 646.8, 649.0, 656.0, 666.5, 661.0, 670.0, 690.95, 695.0, 687.2, 690.0, 688.05, 689.95, 689.9, 688.0, 689.95, 690.0, 685.0, 689.0, 689.95, 689.9, 692.45, 360.0, 387.0, 382.0, 376.0, 365.9, 362.7, 362.5, 360.1, 358.95, 356.9, 363.0, 362.9, 362.6, 360.4, 360.75, 360.5, 362.4, 367.0, 367.0, 368.0, 375.0, 369.8, 372.0, 375.0, 374.0, 373.0, 375.0, 379.5, 379.5, 383.75, 378.0, 377.0, 380.0, 378.0, 376.95, 377.7, 375.5, 378.0, 376.0, 375.0, 378.0, 394.4, 394.4, 388.0, 380.5, 382.5, 378.35, 376.3, 381.0, 376.5, 377.0, 377.0, 377.0, 375.95, 379.8, 375.1, 375.0, 375.0, 373.0, 369.0, 374.9, 374.9, 368.0, 358.85, 355.0, 362.0, 356.9, 355.0, 354.5, 353.9, 357.9, 348.0, 345.0, 340.0, 339.8, 350.0, 374.0, 345.9, 347.0, 349.0, 342.0, 342.75, 344.75, 347.8, 347.75, 340.0, 345.9, 330.85, 335.0, 337.85, 327.9, 314.7, 318.5, 333.35, 344.9, 360.0, 358.5, 355.0, 348.5, 338.6, 334.9, 335.5, 335.0, 333.0, 344.0, 343.0, 344.7, 344.5, 346.0, 351.0, 357.3, 369.0, 370.0, 366.0, 380.0, 377.95, 383.4, 390.9, 379.95, 375.0, 371.45, 402.0, 380.0, 377.7, 375.0, 392.0, 395.95, 406.7, 406.8, 412.9, 470.0, 414.0, 411.75, 410.0, 415.0, 414.0, 416.4, 404.0, 399.95, 435.0, 421.0, 418.8, 419.0, 414.0, 415.0, 420.0, 416.1, 420.0, 409.9, 415.1, 417.9, 424.9, 420.95, 420.0, 416.95, 421.85, 425.0, 409.0, 415.0, 429.0, 428.0, 440.0, 442.5, 441.0, 436.75, 447.9, 455.9, 481.95, 482.0, 470.5, 485.0, 521.0, 515.0, 504.0, 489.0, 486.0, 480.0, 481.45, 486.0, 488.95, 506.25, 508.0, 490.0, 500.0, 501.9, 507.0, 504.8, 510.0, 509.4, 498.9, 490.1, 498.0, 504.9, 489.0, 489.0, 484.0, 485.0, 514.5, 507.0, 503.05, 508.0, 503.0, 512.0, 524.85, 551.9, 555.0, 545.9, 540.5, 549.0, 550.0, 546.0, 535.0, 558.7, 565.0, 550.0, 538.0, 539.7, 530.1, 533.3, 535.0, 539.9, 546.0, 544.75, 538.0, 538.0, 530.0, 538.0, 533.95, 534.9, 525.0, 529.95, 528.95, 540.0, 541.0, 532.0, 525.95, 534.0, 535.0, 525.0, 529.5, 529.95, 529.0, 528.65, 558.0, 556.25, 576.75, 574.95, 572.8, 580.0, 580.0, 582.0, 585.0, 599.9, 617.0, 647.0, 639.9, 667.1, 638.95, 624.95, 621.5, 624.95, 625.0, 700.0, 670.0, 668.05, 677.0, 660.05, 653.85, 660.9, 665.0, 674.95, 650.0, 648.0, 660.0, 656.6, 648.0, 649.8, 649.8, 646.0, 675.45, 682.0, 658.0, 648.0, 648.0, 639.9, 672.0, 664.95, 659.9, 660.85, 662.0, 660.05, 655.0, 686.8, 680.0, 683.0, 685.0, 675.0, 679.9, 669.0, 679.9, 679.95, 672.7, 657.0, 647.9, 633.0, 627.7, 630.0, 650.45, 650.0, 645.5, 644.0, 646.0, 639.65, 639.8, 627.0, 629.1, 630.0, 619.8, 610.0, 608.45, 608.0, 609.4, 622.0, 619.8, 614.95, 617.0, 622.0, 626.0, 650.0, 669.9, 681.9, 691.9, 683.65, 690.5, 691.0, 663.8, 665.9, 665.0, 658.95, 649.0, 639.85, 627.95, 635.0, 630.0, 629.65, 638.0, 626.8, 612.1, 605.0, 610.9, 628.9, 649.9, 656.0, 655.0, 653.85, 639.95, 612.65, 601.8, 599.8, 590.0, 620.0, 620.0, 609.0, 585.0, 595.0, 583.0, 577.0, 582.0, 585.0, 583.9, 585.0, 578.6, 569.0, 584.9, 618.0, 620.0, 620.0, 628.0, 619.9, 605.95, 603.5, 609.0, 574.8, 568.3, 577.0, 584.0, 579.0, 570.0, 555.9, 554.9, 559.0, 538.8, 532.0, 535.8, 538.8, 544.2, 555.0, 560.8, 567.95, 560.0, 564.0, 564.4, 553.0, 559.0, 560.0, 555.35, 575.0, 603.9, 600.0, 599.0, 591.0, 588.75, 591.9, 598.75, 579.75, 579.85, 574.75, 578.7, 573.0, 573.9, 572.0, 575.0, 572.75, 569.0, 560.0, 569.0, 544.95, 549.9, 544.45, 546.75, 549.55, 554.0, 559.95, 567.05, 560.6, 559.05, 564.95, 561.85, 562.8, 572.5, 571.8, 596.0, 621.8, 614.95, 637.65, 641.0, 638.7, 618.95, 626.9, 630.0, 629.95, 634.9, 634.9, 628.0, 620.0, 613.85, 613.95, 620.0, 631.85, 650.0, 650.0, 673.2, 675.0, 685.5, 679.75, 684.45, 702.9, 691.2, 654.0, 655.0, 660.0, 664.0, 667.0, 662.0, 657.0, 665.0, 658.0, 651.95, 653.0, 651.0, 674.0, 675.0, 673.0, 682.0, 708.9, 701.95, 705.0, 701.0, 699.9, 697.0, 709.85, 718.2, 736.8, 739.95, 755.0, 775.0, 784.0, 803.0, 800.0, 807.9, 804.8, 794.7, 779.9, 772.25, 780.0, 782.75, 783.0, 790.0, 802.0, 802.95, 797.0, 798.5, 784.7, 782.0, 778.95, 773.9, 769.7, 767.95, 768.85, 766.5, 771.0, 773.9, 770.0, 769.0, 742.9, 740.0, 744.0, 731.0, 730.0, 732.4, 745.0, 759.4, 782.0, 780.0, 773.0, 763.8, 762.9, 773.95, 775.0, 787.9, 787.0, 778.0, 792.35, 820.0, 821.0, 820.0, 822.0, 818.0, 814.45, 793.0, 786.0, 791.8, 780.0, 785.0, 790.0, 785.0, 789.8, 779.75, 777.85, 784.7, 789.85, 784.9, 778.0, 810.0, 811.0, 830.0, 807.0, 823.65, 825.0, 804.9, 798.0, 811.0, 785.0, 780.0, 768.7, 753.8, 741.9, 718.0, 713.0, 714.0, 739.9, 759.4, 734.95, 735.0, 730.0, 726.85, 724.0, 722.0, 716.95, 712.9, 725.0, 720.0, 709.9, 717.85, 722.0, 729.75, 730.0, 734.9, 731.0, 738.0, 765.0, 752.5, 740.0, 752.55, 757.9, 765.0, 753.0, 749.5, 746.75, 745.0, 759.7, 775.15, 773.0, 771.7, 766.1, 768.0, 765.9, 764.0, 758.95, 759.95, 781.0, 772.0, 765.0, 765.0, 772.0, 775.0, 769.7, 773.0, 785.0, 829.8, 831.8, 845.9, 849.9, 844.5, 839.9, 825.0, 850.5, 864.0, 865.0, 857.8, 879.0, 878.9, 858.0, 860.0, 868.0, 859.0, 912.0, 885.0, 915.0, 916.9, 939.8, 935.0, 923.95, 940.0, 932.0, 915.0, 898.9, 900.0, 908.0, 905.0, 908.8, 901.65, 901.1, 915.1, 915.0, 915.0, 950.0, 935.0, 942.0, 932.0, 925.65, 921.0, 911.95, 903.75, 913.65, 953.25, 959.8, 947.0, 940.0, 942.0, 940.0, 939.0, 923.0, 924.0, 910.8, 918.0, 890.0, 904.7, 914.9, 924.5, 925.0, 918.0, 907.0, 940.05, 937.0, 940.0, 965.5, 1004.0, 1005.0, 1080.9, 1068.0, 1054.8, 1030.0, 1003.0, 979.9, 996.95, 1012.0, 1044.0, 1050.0, 1049.7, 1044.85, 1045.0, 1035.25, 1029.9, 1010.0, 1009.8, 998.0, 1020.0, 1019.45, 990.0, 990.0, 984.95, 989.95, 954.0, 927.0, 925.0, 936.75, 964.0, 943.0, 977.95, 979.8, 1010.0, 1033.65, 1049.9, 1080.0, 1048.9, 1056.0, 1090.0, 1083.0, 1071.5, 1064.0, 1075.0, 1066.8, 1056.0, 1095.0, 1120.0, 1124.85, 1146.9, 1148.0, 1159.95, 1150.0, 1167.5, 1156.95, 1150.0, 1126.9, 1140.0, 1121.95, 1141.0, 1176.0, 1200.0, 1204.7, 1257.75, 1262.0, 1250.95, 1278.0, 1309.95, 1290.0, 1250.0, 1189.0, 1211.95, 1235.0, 1218.0, 1239.9, 1234.9, 1248.5, 1245.95, 1279.6, 1281.95, 1269.0, 1242.2, 1230.0, 1195.0, 1190.0, 1165.0, 1191.0, 1256.1, 1252.0, 1247.0, 1286.6, 1308.0, 1340.0, 1346.0, 1419.7, 1393.0, 1355.0, 1380.0, 1370.0, 1352.5, 1376.0, 1375.0, 1377.9, 1385.0, 1364.0, 1359.0, 1329.0, 1345.0, 1390.0, 1410.0, 1384.4, 1394.0, 1399.9, 1391.95, 1367.0, 1357.95, 1340.0, 1358.95, 1349.95, 1305.0, 1330.0, 1339.8, 1391.0, 1353.0, 1352.8, 1345.0, 1358.0, 1333.0, 1329.0, 1335.0, 1324.0, 1350.0, 1344.5, 1372.25, 1380.0, 1355.05, 1379.0, 1364.7, 1355.0, 1350.0, 1325.0, 1291.0, 1297.0, 1291.95, 1322.85, 1304.7, 1292.0, 1287.45, 1267.95, 1303.0, 1326.0, 1309.0, 1320.0, 1348.0, 1327.0, 1320.0, 1300.0, 1355.05, 1372.0, 1372.0, 1398.0, 1387.0, 1420.2, 1356.8, 1374.0, 1350.0, 1360.0, 1259.9, 1279.9, 1238.0, 1197.8, 1225.0, 1228.95, 1224.0, 1176.0, 1190.0, 1190.05, 1235.0, 1197.0, 1195.0, 1155.0, 1217.2, 1200.0, 1119.8, 1060.0, 1082.0, 1117.0, 1064.7, 1045.0, 1028.0, 1144.0, 1125.0, 1140.0, 1123.4, 1100.0, 1083.25, 1095.5, 1150.0, 1140.05, 1170.0, 1230.0, 1234.0, 1249.0, 1209.0, 1210.0, 1215.0, 1197.8, 1159.95, 1130.0, 1107.0, 1115.5, 1104.0, 1085.0, 1086.0, 1115.95, 1142.9, 1213.0, 1191.9, 1196.0, 1200.0, 1208.0, 1242.0, 1263.25, 1244.4, 1264.9, 1270.95, 1279.0, 1284.9, 1315.0, 1320.0, 1307.9, 1309.8, 1299.7, 1334.5, 1315.0, 1286.95, 1296.5, 1279.0, 1295.0, 1314.0, 1327.6, 1324.75, 1330.05, 1330.0, 1330.0, 1368.0, 1370.0, 1348.0, 1334.7, 1359.9, 1359.95, 1347.0, 1385.0, 1383.0, 1385.0, 1416.0, 1439.75, 1422.0, 1425.0, 1458.0, 1524.0, 1540.0, 1533.0, 1488.0, 1466.75, 1454.9, 1420.0, 1429.7, 1448.0, 1510.0, 1535.9, 1550.0, 1561.0, 1515.0, 1499.0, 1478.0, 1480.0, 1450.0, 1460.0, 1737.4, 1500.0, 1494.0, 1478.0, 1451.1, 1484.15, 1537.0, 1573.0, 1551.0, 1540.0, 1511.9, 1566.0, 1576.8, 1568.7, 1582.0, 1619.0, 1704.0, 1694.8, 1669.9, 1674.45, 1676.0, 1659.95, 1662.0, 1648.0, 1668.95, 1659.7, 1660.0, 1637.85, 1610.0, 1590.0, 1579.7, 1559.0, 1539.8, 1525.0, 1565.0, 1580.0, 1560.0, 1580.95, 1597.0, 1600.0, 1586.0, 1610.0, 1650.0, 1645.0, 1645.4, 1639.7, 1620.0, 1619.7, 1638.0, 1618.0, 1623.0, 1565.0, 1568.0, 1594.8, 1625.95, 1596.05, 1570.0, 1615.0, 1616.0, 1619.0, 1618.8, 1651.1, 1704.7, 1690.1, 1686.0, 1690.55, 1760.0, 1828.0, 1828.0, 1813.0, 1820.0, 1825.0, 1821.0, 1777.7, 1736.4, 1734.95, 1724.0, 1701.0, 1689.8, 1700.0, 1678.0, 1629.7, 1650.0, 1624.8, 1524.9, 1582.0, 1514.7, 1534.8, 1554.0, 1565.0, 1593.85, 1615.0, 1610.25, 1595.0, 1585.0, 1573.8, 1549.75, 1577.9, 1588.0, 1584.0, 1612.0, 1611.0, 1579.0, 1579.1, 1539.95, 1494.0, 1450.0, 1500.0, 1533.9, 1564.45, 1615.0, 1614.0, 1575.0, 1572.7, 1599.0, 1600.0, 1619.45, 1574.9, 1669.9, 1695.05, 1743.0, 1765.0, 1788.0, 1734.8, 1693.0, 1708.9, 1707.0, 1669.7, 1645.0, 1604.0, 1695.0, 1667.8, 1700.0, 1708.8, 1700.0, 1744.65, 1714.0, 1735.9, 1899.9, 1850.0, 1813.9, 1860.0, 1898.0, 1874.0, 1863.7, 1902.0, 1899.0, 1922.0, 1904.9, 1954.55, 1839.7, 1819.5, 1817.95, 1794.7, 1765.05, 1832.5, 1835.0, 1820.0, 1794.8, 1822.0, 1860.0, 1897.8, 1912.0, 1914.25, 1900.0, 1975.0, 2045.0, 2045.0, 2046.0, 2024.9, 1998.0, 1950.0, 1954.9, 1942.0, 1933.0, 1967.1, 2001.1, 2012.0, 2004.6, 1969.0, 1975.0, 1994.8, 2000.0, 2000.0, 2000.0, 2050.0, 2000.0, 1942.0, 2030.0, 2000.0, 1965.0, 2039.0, 1969.9, 1985.0, 2092.8, 2100.0, 1980.0, 2000.0, 1988.85, 1944.9, 1934.9, 1989.0, 1940.0, 1945.0, 1999.05, 1937.0, 1985.0, 2000.0, 1980.0, 2022.0, 2005.0, 2022.0, 2075.0, 2079.8, 2130.0, 2149.7, 2125.0, 2154.7, 2200.0, 2214.0, 2240.0, 2250.0, 2194.0, 2424.0, 2382.0, 2395.0, 2409.0, 2418.8, 2544.7, 2539.7, 2548.0, 2548.0, 2699.0, 2575.0, 2530.0, 2500.0, 2525.0, 2555.0, 2563.35, 2504.9, 2585.0, 2595.0, 2520.0, 2585.0, 2490.0, 2653.0, 2600.0, 2689.0, 2550.0, 2608.0, 2834.95, 2899.0, 2849.0, 2810.0, 2675.0, 2650.0, 2640.0, 2615.0, 2629.0, 2640.0, 2548.0, 2622.0, 2814.95, 2760.0, 2750.0, 2734.0, 2689.9, 2650.0, 2620.0, 2695.0, 2758.0, 2730.5, 2730.0, 2787.8, 2814.0, 2840.0, 2760.0, 2754.0, 2842.0, 2949.4, 2960.0, 2968.5, 3132.25, 3215.0, 3130.0, 3060.75, 2999.0, 2869.7, 2799.8, 2900.0, 2920.0, 2934.15, 2951.0, 2975.0, 2934.9, 3090.0, 3089.7, 3190.0, 3139.7, 3199.9, 3262.0, 3219.7, 3158.5, 3148.0, 3045.0, 2925.0, 2926.0, 2879.0, 2839.0, 2685.0, 2799.8, 2790.0, 2749.0, 2816.55, 2929.0, 2920.1, 2900.0, 3008.85, 3055.0, 3098.0, 3050.0, 2995.0, 2919.0, 2799.0, 2699.8, 2756.95, 2898.9, 2949.75, 2950.0, 2959.0, 2840.0, 2805.1, 2640.0, 2602.0, 2625.0, 2716.5, 2805.0, 2839.7, 2777.0, 2719.8, 2810.0, 2715.0, 2744.0, 2552.0, 2600.0, 2545.0, 2530.0, 2424.95, 2380.0, 2350.0, 2395.0, 2635.0, 2719.0, 2695.0, 2697.7, 2614.0, 2473.0, 2524.0, 2498.7, 2469.0, 2363.0, 2335.0, 2449.0, 2449.0, 2439.95, 2394.8, 2449.8, 2535.0, 2609.95, 2595.0, 2594.0, 2637.7, 2713.0, 2744.0, 2915.0, 2900.15, 2889.0, 2827.7, 2745.0, 2765.95, 2739.0, 2734.4, 2718.85, 2739.0, 2784.7, 2822.0, 2845.0, 2800.0, 2759.0, 2667.85, 2713.0, 2699.0, 2598.0, 2569.0, 2594.0, 2599.0, 2610.0, 2520.0, 2488.7, 2449.0, 2469.0, 2299.9, 2214.95, 2212.0, 2215.0, 2200.0, 2243.0, 2308.0, 2345.0, 2284.9, 2345.0, 2244.8, 2290.0, 2199.9, 2270.0, 2167.0, 2085.0, 1999.7, 2098.0, 2020.0, 2074.0, 2110.0, 2043.8, 2149.7, 2163.9, 2133.0, 2000.0, 1929.9, 1875.0, 1900.0, 2085.0, 2141.1, 2175.5, 2405.0, 2425.0, 2305.0, 2247.0, 2200.0, 2276.5, 2304.95, 2414.9, 2400.0, 2484.7, 2598.9, 2500.0, 2525.0, 2600.0, 2579.0, 2470.0, 2430.0, 2399.0, 2350.0, 2335.4, 2309.75, 2293.0, 2392.05, 2357.85, 2375.0, 2324.5, 2359.5, 2359.0, 2464.65, 2444.7, 2390.0, 2414.85, 2405.0, 2400.0, 2316.0, 2300.0, 2219.95, 2224.0, 2219.8, 2172.0, 2332.85, 2350.0, 2314.0, 2260.0, 2232.0, 2169.0, 2120.0, 2210.95, 2234.0, 2218.2, 2074.0, 2068.0, 1945.0, 1858.7, 1874.95, 1947.7, 1800.0, 1894.95, 1869.8, 1899.0, 2006.0, 1985.0, 1922.0, 1760.0, 1569.0, 1575.9, 1650.0, 1815.0, 1944.4, 1929.75, 1999.0, 1740.0, 1730.0, 1785.0, 1768.0, 1730.0, 1715.0, 1589.0, 1480.0, 1490.5, 1338.0, 1420.0, 1443.0, 1448.0, 1429.8, 1486.0, 1493.4, 1413.0, 1439.8, 1532.5, 1548.0, 1558.0, 1640.0, 1647.0, 1650.0, 1678.8, 1608.0, 1589.0, 1569.7, 1563.9, 1572.0, 1494.0, 1522.85, 1515.0, 1507.9, 1548.8, 1558.7, 1514.9, 1561.8, 1649.0, 1711.5, 1724.0, 1900.0, 1653.0, 1649.0, 1613.15, 1574.95, 1582.0, 1570.0, 1525.0, 1458.05, 1434.9, 1425.0, 1460.0, 1520.0, 1564.45, 1548.8, 1526.05, 1466.0, 1475.0, 1455.0, 1424.95, 1504.9, 1547.0, 1550.0, 1544.7, 1550.0, 1549.7, 1490.0, 1472.65, 1410.0, 1385.0, 1335.0, 1325.0, 1244.0, 1280.0, 1259.75, 1243.2, 1232.0, 1198.8, 1234.0, 1270.0, 1309.75, 1387.85, 1405.0, 1394.8, 1397.3, 1398.0, 1428.7, 1546.0, 1596.25, 1608.9, 1671.85, 1670.0, 1569.0, 1497.0, 1519.6, 1619.9, 1710.0, 1725.0, 1748.9, 1744.8, 1799.0, 1815.0, 1847.9, 1831.75, 1765.0, 1796.0, 1778.0, 1814.8, 1834.8, 1810.0, 1754.0, 1984.0, 1975.55, 1873.7, 1830.0, 1834.8, 1786.25, 1859.8, 1950.0, 1898.9, 1950.0, 2500.0, 2847.4, 2450.0, 2229.7, 2175.0, 2162.0, 2155.6, 2199.0, 2232.0, 2234.0, 2331.0, 2421.0, 2448.0, 2449.0, 2499.0, 2425.0, 2384.7, 2445.0, 2385.0, 2379.0, 2310.0, 2325.0, 2324.95, 2309.0, 2307.0, 2369.0, 2379.0, 2378.0, 2426.0, 2448.0, 2448.0, 2407.0, 2388.75, 2419.7, 2595.0, 2618.1, 2399.7, 2361.45, 2364.85, 2311.05, 2240.0, 2400.0, 2439.75, 2476.0, 2550.0, 2579.0, 2549.95, 2598.0, 2469.0, 2470.0, 2475.0, 2390.0, 2420.0, 2498.0, 2559.9, 2568.8, 2557.0, 2518.0, 2485.0, 2444.6, 2468.7, 2339.7, 2307.0, 2385.0, 2374.0, 2320.0, 2347.7, 2378.9, 2425.8, 2450.0, 2535.0, 2539.65, 2539.0, 2525.0, 2537.75, 2505.0, 2520.0, 2422.8, 2420.45, 2478.0, 2539.0, 2544.8, 2541.1, 2594.0, 2540.0, 2529.0, 2578.0, 2598.0, 2575.05, 2559.9, 2688.0, 2680.4, 2769.9, 2770.0, 2804.0, 2803.8, 2785.0, 2748.0, 2745.0, 2761.3, 2758.0, 2750.0, 2770.0, 2834.0, 2865.7, 2849.95, 2860.0, 2854.8, 2796.4, 2735.0, 2762.9, 2804.9, 2784.95, 2774.95, 2715.5, 2747.9, 2711.55, 2664.0, 2660.0, 2721.0, 2790.0, 2800.2, 2825.0, 2800.0, 2790.0, 2793.7, 2788.8, 2749.1, 2763.6, 2822.0, 2845.0, 2845.1, 2830.0, 2823.0, 2739.0, 2796.4, 2814.75, 2824.9, 2797.0, 2760.0, 2772.15, 2805.0, 2782.0, 2739.9, 2744.0, 2719.95, 2705.8, 2656.0, 2630.0, 2606.5, 2600.0, 2589.85, 2657.0, 2678.4, 2721.9, 2689.7, 2709.4, 2737.0, 2730.0, 2700.0, 2695.0, 2667.3, 2644.45, 2618.8, 2598.8, 2555.75, 2538.0, 2588.7, 2590.0, 2551.9, 2535.0, 2441.8, 2400.0, 2379.4, 2386.0, 2420.0, 2400.0, 2440.0, 2526.0, 2509.0, 2413.8, 2412.5, 2440.0, 2419.7, 2423.85, 2420.0, 2404.0, 2450.0, 2475.0, 2489.0, 2499.0, 2524.0, 2535.0, 2533.8, 2527.95, 2529.7, 2572.0, 2610.0, 2612.4, 2627.75, 2624.0, 2665.0, 2712.0, 2715.0, 2720.0, 2715.7, 2703.6, 2734.75, 2759.5, 2745.0, 2684.95, 2643.8, 2623.9, 2640.0, 2685.0, 2689.7, 2733.7, 2794.0, 2804.7, 2835.0, 2832.0, 2813.0, 2849.5, 2856.6, 2842.0, 2790.0, 2697.0, 2715.0, 2716.8, 2720.0, 2782.0, 2749.8, 2839.7, 2881.7, 2858.0, 2867.9, 2857.8, 2849.0, 2847.7, 2811.5, 2802.9, 2747.8, 2799.0, 2800.0, 2799.0, 2818.4, 2819.5, 2775.5, 2784.5, 2738.0, 2725.0, 2738.65, 2749.75, 2657.8, 2711.95, 2790.0, 2803.0, 2804.9, 2776.0, 2749.9, 2758.0, 2754.4, 2710.6, 2752.0, 2749.9, 2755.0, 2823.0, 2846.8, 2869.95, 2924.4, 2956.95, 2940.3, 3027.35, 2997.35, 3002.0, 3040.0, 3008.9, 2970.0, 2958.75, 2958.7, 2934.6, 2937.9, 2949.0, 2952.1, 2950.0, 2958.0, 2985.0, 3023.75, 3076.0, 3145.0, 3088.8, 3059.9, 3080.1, 3087.0, 3048.0, 3024.9, 3042.9, 3021.75, 2987.0, 2962.25, 2995.0, 3000.1, 3030.0, 3059.0, 3075.0, 3070.0, 3092.2, 3120.0, 3128.9, 3084.8, 3004.8, 3027.0, 3019.4, 3031.3, 668.7, 649.1, 645.05, 644.95, 632.8, 628.8, 632.7, 634.8, 632.5, 631.45, 634.75, 635.0, 636.8, 642.5, 638.7, 634.95, 634.65, 669.0, 681.7, 687.2, 709.45, 699.8, 710.0, 735.65, 736.5, 742.5, 735.9, 738.0, 730.1, 720.05, 738.3, 747.45, 766.9, 765.0, 755.0, 749.9, 734.7, 860.8, 725.0, 740.75, 750.0, 743.0, 763.5, 732.6, 719.5, 708.9, 709.4, 711.95, 709.0, 699.4, 699.4, 702.0, 712.4, 717.0, 718.4, 743.6, 744.95, 740.0, 730.0, 730.75, 730.0, 726.5, 716.75, 721.1, 722.9, 708.5, 720.0, 715.15, 705.0, 707.8, 701.05, 699.0, 696.0, 701.6, 710.0, 708.9, 712.0, 708.85, 702.35, 690.0, 673.75, 695.0, 697.2, 695.0, 692.8, 702.0, 704.4, 703.95, 704.75, 702.0, 703.9, 702.9, 719.5, 731.75, 734.0, 737.9, 738.8, 727.8, 714.7, 708.7, 683.0, 669.1, 687.25, 687.5, 677.8, 667.15, 668.95, 661.9, 665.6, 661.45, 676.0, 682.8, 677.8, 673.0, 641.0, 648.35, 644.0, 629.8, 632.9, 615.0, 603.0, 616.45, 618.4, 626.05, 645.0, 653.0, 646.85, 652.8, 663.8, 651.9, 646.55, 661.5, 647.8, 631.2, 652.9, 654.85, 679.0, 687.0, 677.0, 679.0, 683.1, 678.4, 667.0, 675.45, 670.0, 673.4, 655.0, 643.2, 631.7, 639.95, 643.9, 646.8, 667.0, 679.9, 689.0, 700.0, 715.0, 710.35, 713.75, 711.0, 706.65, 719.9, 722.5, 706.35, 721.8, 723.25, 718.35, 699.85, 716.65, 733.85, 737.9, 733.0, 726.0, 723.1, 720.4, 711.35, 704.8, 690.65, 673.5, 669.85, 670.0, 669.7, 668.1, 661.9, 655.0, 646.2, 638.7, 647.6, 649.85, 663.4, 653.15, 659.85, 656.5, 649.9, 658.4, 671.5, 688.8, 692.95, 684.7, 683.05, 674.1, 674.65, 669.5, 662.4, 658.5, 659.5, 655.65, 659.4, 655.9, 654.5, 641.95, 649.3, 649.0, 645.75, 670.45, 684.9, 692.0, 699.5, 709.9, 712.0, 710.0, 703.4, 714.15, 726.2, 732.95, 715.0, 709.0, 696.9, 712.0, 708.7, 702.0, 709.0, 709.05, 702.35, 712.0, 709.9, 714.0, 705.5, 696.7, 692.9, 707.0, 693.15, 684.95, 696.5, 674.0, 666.2, 664.85, 673.8, 688.65, 688.9, 681.45, 670.5, 668.8, 647.2, 648.4, 650.9, 657.5, 650.6, 638.5, 650.25, 667.0, 685.75, 659.85, 655.9, 670.7, 667.95, 671.9, 658.65, 664.6, 649.95, 663.7, 675.0, 660.55, 678.0, 679.9, 669.9, 639.0, 628.8, 646.95, 646.7, 660.0, 654.5, 635.1, 634.75, 640.0, 655.55, 666.65, 679.0, 672.5, 673.35, 669.0, 677.65, 677.65, 679.9, 669.75, 649.7, 648.0, 674.7, 673.8, 699.5, 695.05, 686.7, 689.0, 687.0, 689.75, 690.3, 687.0, 680.0, 676.7, 673.7, 657.8, 651.8, 648.0, 643.9, 645.9, 639.3, 630.0, 623.25, 649.05, 648.5, 647.8, 664.45, 669.0, 670.5, 677.85, 677.0, 663.75, 661.0, 654.5, 647.9, 642.25, 646.0, 624.4, 628.7, 659.75, 665.0, 668.65, 670.7, 670.8, 675.8, 664.1, 668.9, 655.3, 669.0, 668.2, 673.75, 674.7, 673.0, 669.4, 687.6, 692.75, 701.65, 694.75, 679.9, 680.45, 684.3, 695.0, 695.0, 700.7, 706.0, 711.95, 717.0, 699.8, 701.95, 692.0, 696.0, 699.0, 705.0, 709.0, 699.9, 699.7, 700.0, 700.0, 699.0, 714.9, 720.0, 726.2, 721.15, 719.85, 707.95, 685.55, 682.9, 682.0, 679.3, 670.95, 676.0, 673.25, 668.0, 666.0, 658.95, 682.3, 688.75, 683.7, 689.25, 677.0, 676.95, 672.0, 660.8, 669.0, 671.0, 664.35, 660.65, 671.05, 665.6, 672.05, 677.0, 685.0, 689.0, 684.95, 675.25, 674.65, 679.8, 681.8, 685.25, 680.55, 688.35, 690.4, 692.25, 690.9, 689.95, 688.4, 687.75, 679.85, 679.85, 679.0, 681.8, 677.3, 672.0, 670.65, 666.4, 670.75, 659.7, 662.65, 654.0, 650.4, 650.0, 637.5, 638.75, 640.05, 650.0, 653.45, 643.45, 667.65, 663.0, 665.2, 667.3, 660.9, 660.0, 656.3, 640.95, 645.8, 652.5, 658.4, 658.25, 664.9, 659.8, 660.65, 657.95, 647.85, 650.75, 645.0, 645.85, 649.4, 641.9, 646.85, 646.25, 648.55, 649.5, 655.0, 664.0, 676.0, 682.9, 677.5, 685.5, 684.0, 683.5, 684.5, 682.25, 679.9, 683.0, 684.55, 688.2, 695.0, 696.95, 682.7, 678.0, 677.55, 676.9, 680.95, 679.9, 692.25, 701.95, 701.0, 700.0, 712.75, 721.4, 725.0, 723.1, 692.9, 719.0, 715.95, 717.2, 719.2, 735.0, 734.5, 735.0, 730.0, 728.65, 727.95, 727.55, 737.0, 739.1, 741.4, 734.8, 730.5, 729.4, 739.55, 733.65, 744.5, 761.0, 763.0, 763.0, 773.35, 785.45, 778.7, 771.0, 784.0, 784.65, 776.1, 769.4, 772.5, 778.9, 773.9, 779.9, 794.0, 775.8, 756.4, 756.8, 747.1, 750.05, 750.25, 742.0, 750.95, 754.8, 763.0, 761.2, 757.0, 755.0, 768.9, 766.5, 763.0, 764.5, 765.95, 765.0, 772.5, 772.35, 785.0, 805.85, 796.95, 797.7, 832.1, 794.45, 795.9, 790.3, 775.9, 787.45, 782.15, 785.0, 781.55, 784.8, 802.0, 825.85, 849.9, 844.9, 843.5, 851.95, 847.0, 848.25, 870.0, 882.3, 880.45, 870.8, 859.25, 859.15, 850.0, 849.55, 836.0, 833.5, 841.6, 838.3, 840.65, 840.9, 834.6, 840.9, 849.9, 850.9, 845.0, 842.0, 843.1, 845.0, 835.45, 830.55, 834.5, 832.5, 832.0, 820.8, 825.8, 827.3, 816.7, 824.5, 821.9, 811.65, 813.0, 808.7, 806.45, 802.75, 790.0, 802.0, 800.9, 818.0, 821.75, 820.9, 810.85, 806.9, 817.3, 820.5, 820.25, 827.0, 828.4, 828.3, 820.0, 811.95, 810.35, 800.0, 788.2, 787.3, 782.5, 782.15, 785.8, 780.0, 786.35, 816.0, 835.9, 838.55, 820.9, 820.0, 831.5, 816.0, 814.85, 795.85, 812.75, 806.1, 818.9, 827.5, 830.0, 835.4, 827.5, 817.25, 808.45, 789.9, 778.95, 775.0, 788.0, 782.0, 772.8, 790.0, 807.3, 817.2, 821.0, 839.0, 844.8, 885.4, 879.1, 874.5, 870.55, 870.9, 862.0, 861.35, 860.8, 895.0, 900.85, 882.15, 880.0, 876.8, 873.0, 915.95, 917.5, 908.0, 916.7, 908.8, 904.0, 913.8, 910.15, 931.4, 929.9, 923.4, 929.0, 924.0, 898.65, 876.8, 855.0, 859.5, 856.35, 864.05, 851.8, 830.4, 816.55, 838.0, 855.05, 847.0, 844.7, 834.0, 824.15, 829.0, 834.9, 824.35, 843.2, 886.5, 891.0, 893.0, 871.6, 867.7, 859.65, 846.85, 832.0, 834.15, 856.7, 859.55, 853.6, 831.8, 829.05, 835.0, 832.0, 833.7, 838.45, 818.7, 816.0, 813.95, 816.8, 821.0, 816.0, 825.0, 827.3, 817.0, 807.55, 759.7, 751.5, 783.15, 794.6, 799.3, 780.3, 740.65, 740.7, 759.45, 748.85, 747.9, 749.8, 735.0, 676.05, 702.8, 733.25, 745.0, 745.0, 712.4, 774.9, 768.0, 816.8, 816.8, 825.0, 813.7, 828.0, 808.55, 808.9, 843.6, 843.2, 796.25, 796.55, 792.0, 799.5, 797.0, 780.0, 789.5, 804.8, 806.4, 800.15, 817.8, 804.95, 812.25, 817.0, 809.9, 811.0, 816.0, 822.0, 826.5, 820.55, 816.9, 820.0, 814.0, 823.0, 842.0, 852.2, 859.25, 859.3, 858.65, 864.9, 857.95, 859.0, 838.95, 814.0, 813.8, 801.65, 812.95, 817.0, 821.55, 826.1, 803.7, 802.7, 822.0, 818.0, 812.0, 818.6, 827.45, 832.0, 826.0, 821.35, 839.0, 829.5, 842.95, 820.6, 824.6, 830.55, 821.65, 809.8, 803.0, 808.9, 808.95, 808.35, 807.2, 795.05, 786.05, 791.6, 799.4, 801.85, 800.1, 809.5, 794.9, 798.4, 800.6, 805.5, 806.85, 806.25, 822.0, 826.25, 849.8, 866.5, 861.95, 845.0, 843.3, 846.1, 859.45, 851.95, 842.5, 845.0, 839.0, 833.9, 830.45, 808.65, 796.0, 789.65, 796.3, 793.95, 785.65, 777.25, 786.65, 784.85, 773.6, 788.5, 807.5, 808.4, 805.1, 803.75, 813.2, 817.65, 821.75, 824.05, 825.9, 824.6, 828.6, 841.9, 853.9, 858.0, 856.1, 858.0, 868.8, 862.8, 859.8, 869.1, 868.0, 857.45, 847.0, 863.7, 874.5, 874.7, 880.0, 880.0, 887.0, 894.8, 905.35, 908.1, 903.0, 900.9, 929.7, 934.4, 925.8, 918.65, 886.15, 881.95, 882.15, 886.9, 882.5, 897.0, 892.95, 893.4, 903.5, 914.75, 912.15, 895.2, 882.9, 859.0, 888.0, 912.9, 915.0, 915.0, 908.25, 956.45, 931.5, 944.4, 946.0, 944.6, 938.75, 944.4, 934.0, 918.0, 914.9, 899.0, 905.5, 918.3, 924.5, 918.6, 938.7, 947.7, 962.0, 959.95, 985.0, 984.7, 983.55, 971.95, 972.0, 971.0, 977.4, 978.2, 1000.0, 1003.4, 1002.45, 998.9, 999.0, 998.5, 1011.35, 1017.15, 1016.65, 1024.4, 1046.5, 1030.6, 1044.7, 1018.0, 1011.95, 992.2, 984.8, 985.2, 987.95, 1015.7, 1044.7, 1045.85, 1040.25, 1079.7, 1073.85, 1092.3, 1085.0, 1059.0, 1048.2, 1054.7, 1061.0, 1041.7, 1029.8, 1069.9, 1121.9, 1149.0, 1151.4, 1125.55, 1124.0, 1094.0, 1080.0, 1076.5, 1064.4, 1069.8, 1075.7, 1079.9, 1084.1, 1080.0, 1074.85, 1081.7, 1081.4, 1065.9, 1057.35, 1053.25, 1049.75, 1054.8, 1050.0, 1040.7, 1033.8, 1056.0, 1074.0, 1083.05, 1084.0, 1066.25, 1067.25, 1057.7, 1046.5, 1062.9, 1058.0, 1047.0, 1025.65, 1045.15, 1040.65, 1023.7, 1026.2, 1008.8, 1006.1, 1034.0, 1026.7, 1035.15, 1035.35, 1066.4, 1054.05, 1057.05, 1069.85, 1110.0, 1125.0, 1126.9, 1106.3, 1117.0, 1133.6, 1149.5, 1145.75, 1134.4, 1138.2, 1134.0, 1123.4, 1127.85, 1139.4, 1146.0, 1156.7, 1162.8, 1164.15, 1177.8, 1166.1, 1137.5, 1130.95, 1116.65, 1122.65, 1128.8, 1119.45, 1112.35, 1109.85, 1102.25, 1129.9, 1125.7, 1106.3, 1104.4, 1120.0, 1150.6, 1165.9, 1133.5, 1119.9, 1130.0, 1134.9, 1140.75, 1131.15, 1176.95, 1175.0, 1148.6, 1114.15, 1128.5, 1135.95, 1135.0, 1137.3, 1136.85, 1210.9, 1209.0, 1204.65, 1257.75, 1297.4, 1294.85, 1340.95, 1320.0, 1361.85, 1343.9, 1333.0, 1284.5, 1272.0, 1252.0, 1292.0, 1289.8, 1279.25, 1293.0, 1267.7, 1260.0, 1275.0, 1300.0, 1335.0, 1357.35, 1353.45, 1338.7, 1321.95, 1349.55, 1374.2, 1368.75, 1380.0, 1370.0, 1373.0, 1402.3, 1402.15, 1397.5, 1365.15, 1338.5, 1343.45, 1368.0, 1327.0, 1347.65, 1343.65, 1354.6, 1343.85, 1348.9, 1386.75, 1380.95, 1339.3, 1299.0, 1308.9, 1322.95, 1341.9, 1354.15, 1341.75, 1335.3, 1316.55, 1308.65, 1312.0, 1313.5, 1310.0, 1315.95, 1305.75, 1276.8, 1285.0, 1297.65, 1275.0, 1255.0, 1236.4, 1237.0, 1200.0, 1205.75, 1201.8, 1179.95, 1172.85, 1200.0, 1230.55, 1223.0, 1228.7, 1224.4, 1236.45, 1271.0, 1264.2, 1273.4, 1273.4, 1292.95, 1288.0, 1260.0, 1245.0, 1249.3, 1248.0, 1255.0, 1250.1, 1217.85, 1225.0, 1217.0, 1205.0, 1196.0, 1205.0, 1200.0, 1194.9, 1218.0, 1213.95, 1217.9, 1219.6, 1247.55, 1274.5, 1288.7, 1294.85, 1314.0, 1310.0, 1293.4, 1302.85, 1302.95, 1297.9, 1323.0, 1321.25, 1347.4, 1332.25, 1299.1, 1294.3, 1327.0, 1322.95, 1343.95, 1372.4, 1359.9, 1333.4, 1329.35, 1349.95, 1357.45, 1365.0, 1359.15, 1337.0, 1332.0, 1352.0, 1350.0, 1350.5, 1331.1, 1319.95, 1313.4, 1315.0, 1333.4, 1306.95, 1284.5, 1273.0, 1306.9, 1306.2, 1285.75, 1264.85, 1266.9, 1239.0, 1195.0, 1187.05, 1158.15, 1204.2, 1215.7, 1213.8, 1176.35, 1179.0, 1176.35, 1163.95, 1176.6, 1180.0, 1203.4, 1174.9, 1186.0, 1188.5, 1184.45, 1200.0, 1235.75, 1209.7, 1217.0, 1173.4, 1184.4, 1189.0, 1230.95, 1244.0, 1232.8, 1262.7, 1271.0, 1280.0, 1279.8, 1299.0, 1295.35, 1282.5, 1297.0, 1305.0, 1315.8, 1322.0, 1316.4, 1320.0, 1344.0, 1350.0, 1304.9, 1284.55, 1285.65, 1273.55, 1267.0, 1233.35, 1236.0, 1224.8, 1224.5, 1203.3, 1185.7, 1182.7, 1181.25, 1189.95, 1203.95, 1202.5, 1217.0, 1222.2, 1211.0, 1224.5, 1231.95, 1242.15, 1229.4, 1228.15, 1233.3, 1208.9, 1192.65, 1187.9, 1178.9, 1170.4, 1185.0, 1188.0, 1195.0, 1209.5, 1222.8, 1243.85, 1247.9, 1240.0, 1237.0, 1242.0, 1245.0, 1239.0, 1239.9, 1244.9, 1274.7, 1266.9, 1253.9, 1233.45, 1220.75, 1203.55, 1230.0, 1171.0, 1169.4, 1173.65, 1167.0, 1167.3, 1157.7, 1157.15, 1198.1, 1147.7, 1163.2, 1183.4, 1188.45, 1159.65, 1187.75, 1193.95, 1192.85, 1180.85, 1177.0, 1186.1, 1186.0, 1168.65, 1156.75, 1115.1, 1097.1, 1102.0, 1090.45, 1085.4, 1086.85, 1065.4, 1063.75, 1062.0, 1050.8, 1049.5, 1059.0, 1078.5, 1073.5, 1107.0, 1135.8, 1134.9, 1150.8, 1145.0, 1157.0, 1167.0, 1175.0, 1148.7, 1128.7, 1152.0, 1133.0, 1155.85, 1174.0, 1167.7, 1170.25, 1142.0, 1131.35, 1118.95, 1117.8, 1124.25, 1111.0, 1112.35, 1100.0, 1082.85, 1084.7, 1091.95, 1117.45, 1139.4, 1158.65, 1157.45, 1152.05, 1127.5, 1131.85, 1128.5, 1126.4, 1102.25, 1097.0, 1116.55, 1138.0, 1176.2, 1173.95, 1207.0, 1220.45, 1221.5, 1212.45, 1203.1, 1191.0, 1230.0, 1214.3, 1208.55, 1193.8, 1187.25, 1177.9, 1212.45, 1235.0, 1268.4, 1259.0, 1247.8, 1248.35, 1263.5, 1268.8, 1264.95, 1260.0, 1267.0, 1258.0, 1251.7, 1225.0, 1209.4, 1209.4, 1205.8, 1235.9, 1234.0, 1242.4, 1241.8, 1249.45, 1225.9, 1229.75, 1231.65, 1251.0, 1266.25, 1262.8, 1266.1, 1263.45, 1295.4, 1301.7, 1322.0, 1337.8, 1337.75, 1340.2, 1370.0, 1386.4, 1355.95, 1345.8, 1345.0, 1361.15, 1387.0, 1385.0, 1398.1, 1410.0, 1407.95, 1397.45, 1373.35, 1342.15, 1333.7, 1350.0, 1370.6, 1376.0, 1349.0, 1353.1, 1383.8, 1385.0, 1372.45, 1377.75, 1376.15, 1380.8, 1380.0, 1386.8, 1390.0, 1371.15, 1379.5, 1394.25, 1414.0, 1430.0, 1441.95, 1462.0, 1464.0, 1442.8, 1442.0, 1410.0, 1397.9, 1412.5, 1417.0, 1401.0, 1396.0, 1406.0, 1419.4, 1427.2, 1424.2, 1423.0, 1432.0, 1432.95, 1399.2, 1430.2, 1435.2, 1437.35, 1433.9, 1426.0, 1412.0, 1400.0, 1342.0, 1322.95, 1357.7, 1359.25, 1368.0, 1361.45, 1350.0, 1349.25, 1343.95, 1383.0, 1393.0, 1398.0, 1431.75, 1408.95, 1411.45, 1408.0, 1401.95, 1394.6, 1362.1, 1364.55, 1311.4, 1258.0, 1265.45, 1270.55, 1261.65, 1250.0, 1252.5, 1255.0, 1229.85, 1257.15, 1252.0, 1284.95, 1272.1, 1285.75, 1260.5, 1239.95, 1259.8, 1283.45, 1295.0, 1289.7, 1278.0, 1281.5, 1279.0, 1277.4, 1278.0, 1263.9, 1255.9, 1256.95, 1237.85, 1232.3, 1224.25, 1237.0, 1248.05, 1261.55, 1269.75, 1272.0, 1222.6, 1224.5, 1220.4, 1232.0, 1229.0, 1227.95, 1233.0, 1242.95, 1250.6, 1264.0, 1261.0, 1260.95, 1251.7, 1245.0, 1262.0, 1282.0, 1341.45, 1379.0, 1379.4, 1388.2, 1417.45, 1411.0, 1408.0, 1411.85, 1410.0, 1410.0, 1421.2, 1410.0, 1398.4, 1403.65, 1409.8, 1403.0, 1432.65, 1402.85, 1414.0, 1415.0, 1404.9, 1389.45, 1383.95, 1405.0, 1415.4, 1397.0, 1392.0, 1374.4, 1376.8, 1381.9, 1383.35, 1428.0, 1435.0, 1454.75, 1458.5, 1464.95, 1473.45, 1454.75, 1460.9, 1467.25, 1478.5, 1508.0, 1531.0, 1528.4, 1520.2, 1537.2, 1530.0, 1490.0, 1494.0, 1484.0, 1486.95, 1476.45, 1484.7, 1494.45, 1491.0, 1492.3, 1531.75, 1526.75, 1538.55, 1557.6, 1590.0, 1589.95, 1566.0, 1590.75, 1591.85, 1587.4, 1570.2, 1549.0, 1542.8, 1575.25, 1581.0, 1566.2, 1572.6, 1569.0, 1570.95, 1558.6, 1548.0, 1530.0, 1537.2, 1541.75, 1546.0, 1563.0, 1601.25, 1604.0, 1596.15, 1587.4, 1612.8, 1612.0, 1624.85, 1611.5, 1635.0, 1649.0, 1651.8, 1682.2, 1668.0, 1653.7, 1651.0, 1660.0, 1660.0, 1638.0, 1660.0, 1661.0, 1667.0, 1658.8, 1654.9, 1625.0, 1629.0, 1646.5, 1640.0, 1654.0, 1650.0, 1678.0, 1649.1, 1648.0, 1665.0, 1649.9, 1658.9, 1676.95, 1661.0, 1665.15, 1655.7, 1647.0, 1643.0, 1643.8, 1743.45, 1799.2, 1799.9, 1799.0, 1783.25, 1776.8, 1738.65, 1753.0, 1732.05, 1741.8, 1749.05, 1709.45, 1745.3, 1758.0, 1766.0, 1758.75, 1745.4, 1756.75, 1769.0, 1769.0, 1784.45, 1762.5, 1770.0, 1780.95, 1776.0, 1768.5, 1772.2, 1777.0, 1790.4, 1789.85, 1796.0, 1802.0, 1799.7, 1778.15, 1781.3, 1779.45, 1776.15, 1771.0, 1795.35, 1786.1, 1777.85, 1758.8, 1757.0, 1764.8, 1758.7, 1768.0, 1777.65, 1776.0, 1765.95, 1753.8, 1749.7, 1763.4, 1758.8, 1773.8, 1779.4, 1767.45, 1764.2, 1754.75, 1751.8, 1732.0, 1737.9, 1707.0, 1716.0, 1722.8, 1727.8, 1760.1, 1769.85, 1790.0, 1799.0, 1804.0, 1777.95, 1760.0, 1726.0, 1705.0, 1682.55, 1676.4, 1672.0, 1720.0, 1706.75, 1706.0, 1724.95, 1720.95, 1715.0, 1714.55, 1737.0, 1727.1, 1703.85, 1685.75, 1685.0, 1690.0, 1675.4, 1660.0, 1688.1, 1718.0, 1715.0, 1716.65, 1710.0, 1734.55, 1741.3, 1725.0, 1718.35, 1710.0, 1717.0, 1719.0, 1715.0, 1715.0, 1713.0, 1711.05, 1706.25, 1711.8, 1708.95, 1731.0, 1745.0, 1748.35, 1739.5, 1745.0, 1764.95, 1886.8, 1870.0, 1869.0, 1918.65, 1912.8, 1924.35, 1896.9, 1919.55, 1922.5, 1986.05, 1971.5, 1963.05, 1975.3, 1946.0, 1886.0, 1808.8, 1806.65, 1836.4, 1783.45, 1812.3, 1833.0, 1851.0, 1836.95, 1830.2, 1840.0, 1832.7, 1825.0, 1827.4, 1852.75, 1851.0, 1832.0, 1818.5, 1814.0, 1819.0, 1782.2, 1803.55, 1834.3, 1865.35, 1881.5, 1863.8, 1847.7, 1832.0, 1806.85, 1808.5, 1830.4, 1838.5, 1799.55, 1835.35, 1838.0, 1830.95, 1854.15, 1846.55, 1831.8, 1830.0, 1837.8, 1847.0, 1851.65, 1827.8, 1830.55, 1842.85, 1873.0, 1896.65, 1898.0, 1887.05, 1873.0, 1849.0, 1867.5, 1858.0, 1857.35, 1859.35, 1891.55, 1912.5, 1931.65, 1933.8, 1922.1, 1920.1, 1905.4, 1909.95, 1921.7, 1936.9, 1941.9, 1929.0, 1919.0, 1882.1, 1860.0, 1829.0, 1807.4, 1814.05, 1828.65, 1835.0, 1828.75, 1807.0, 1838.5, 1857.0, 1870.45, 1854.9, 1861.5, 1874.0, 1863.3, 1850.0, 1854.8, 1856.25, 1838.5, 1865.45, 1834.6, 1837.9, 1852.1, 1876.6, 1912.7, 1911.5, 1922.85, 1936.0, 1913.0, 1913.0, 1915.35, 1900.0, 1926.7, 1937.15, 1938.4, 1922.0, 1947.6, 1961.8, 1979.9, 1978.35, 1997.5, 1998.0, 2025.0, 2005.05, 1982.0, 1988.0, 1982.8, 2011.85, 2034.1, 2049.95, 2052.95, 2018.6, 1995.2, 1966.5, 1980.0, 1999.0, 1992.9, 1989.75, 1988.7, 1980.0, 1967.35, 1970.65, 1936.5, 1903.0, 1923.55, 1931.8, 1954.95, 1921.65, 1935.0, 1958.95, 1971.4, 1964.45, 1942.45, 1950.0, 1959.65, 1965.0, 1960.6, 1963.5, 1916.0, 1892.55, 1886.75, 1928.95, 1910.0, 1888.75, 1864.0, 1875.0, 1846.25, 1784.0, 1806.3, 1768.75, 1773.5, 1817.1, 1819.45, 1797.95, 1775.0, 1708.55, 1734.0, 1768.0, 1724.1, 1741.5, 1765.5, 1773.7, 1775.0, 1760.95, 1689.7, 1710.0, 1748.5, 1740.0, 1719.85, 1710.0, 1710.0, 1774.5, 1794.9, 1836.9, 1824.4, 1814.0, 1819.0, 1832.7, 1838.45, 1829.0, 1850.0, 1858.0, 1892.9, 1906.95, 1904.0, 1891.25, 1889.2, 1891.3, 1908.8, 1930.9, 1965.0, 1998.75, 2017.0, 1980.0, 1979.8, 1969.8, 1961.3, 1939.9, 1912.65, 1946.8, 1961.9, 1955.0, 1963.4, 1957.9, 1985.5, 1982.0, 1979.6, 1955.0, 1944.7, 1955.0, 1990.0, 1989.75, 2014.7, 2009.0, 1987.1, 1976.0, 1987.5, 1983.0, 1998.0, 1993.0, 2007.7, 1983.15, 1996.0, 1994.75, 2007.0, 2012.6, 2016.0, 2002.15, 1984.95, 1976.0, 1993.0, 1982.2, 1949.9, 1929.3, 1941.2, 1974.45, 1981.95, 1985.0, 1994.9, 1991.95, 1968.6, 1959.0, 1956.4, 1943.0, 1929.25, 1900.6, 1893.0, 1888.5, 1874.95, 1894.7, 1899.0, 1897.9, 1894.65, 1870.0, 1853.65, 1863.4, 1868.4, 1889.5, 1892.0, 1888.0, 1903.8, 1936.65, 1964.4, 1975.1, 1991.7, 1994.95, 1978.55, 1998.0, 2010.0, 1976.9, 1953.35, 1959.0, 1950.0, 1972.25, 1975.0, 2001.0, 2032.45, 2058.8, 2065.0, 2072.5, 2073.0, 2068.0, 2048.0, 2029.9, 2034.9, 2034.3, 2047.9, 2010.0, 1966.25, 1985.0, 1998.8, 1982.15, 1999.85, 2027.9, 2037.6, 1993.95, 2009.15, 1964.5, 1931.6, 1956.0, 1984.4, 1989.8, 1979.95, 1954.0, 1997.95, 2135.5, 2178.9, 2155.2, 2210.0, 2151.9, 2187.5, 2169.75, 2170.0, 2189.45, 2197.0, 2235.0, 2233.9, 2231.0, 2217.75, 2224.8, 2204.0, 2188.1, 2200.8, 2207.55, 2193.0, 2194.6, 2186.4, 2207.7, 2201.2, 2159.0, 2176.8, 2180.6, 2202.55, 2205.0, 2252.95, 2285.0, 2287.0, 2286.3, 2300.7, 2275.55, 2248.85, 2253.4, 2269.3, 2282.0, 2271.0, 2284.8, 2289.45, 2357.85, 2339.0, 2298.0, 2189.75, 2188.85, 2215.2, 2197.8, 2174.95, 2158.3, 2131.95, 2115.9, 2148.65, 2159.45, 2217.65, 2198.95, 2187.7, 2240.0, 2209.65, 2146.0, 2162.0, 2135.0, 2114.9, 2099.95, 2073.5, 2058.05, 2152.95, 2186.75, 2193.6, 2179.0, 2171.25, 2144.7, 2113.1, 2100.0, 2056.45, 2069.95, 2086.55, 2113.85, 2092.05, 2083.0, 2045.5, 2012.4, 2002.3, 2065.0, 2194.8, 2185.0, 2127.05, 2088.0, 2096.7, 2038.5, 2028.95, 1999.0, 2016.9, 1996.8, 2005.0, 2000.0, 2025.5, 2031.85, 2030.4, 2056.0, 2095.0, 2102.0, 2140.5, 2148.0, 2174.2, 2153.45, 2120.0, 2123.55, 2134.95, 2146.8, 2167.25, 2195.0, 2209.8, 2228.0, 2264.8, 2252.5, 2239.8, 2231.95, 2232.85, 2238.75, 2240.85, 2238.75, 2221.0, 2216.0, 2240.0, 2297.0, 2320.0, 2352.0, 2346.0, 2316.35, 2316.0, 2325.0, 2328.7, 2333.55, 2335.0, 2315.45, 2332.9, 2328.25, 2327.0, 2365.95, 2384.0, 2436.55, 2459.3, 2438.5, 2425.0, 2433.8, 2444.95, 2433.35, 2449.55, 2450.0, 2435.0, 2438.5, 2472.75, 2466.4, 2445.0, 2428.8, 2413.0, 2462.7, 2477.65, 2471.05, 2499.9, 2495.0, 2495.75, 2479.0, 2486.55, 2485.9, 2483.35, 2436.4, 2458.6, 2445.0, 2471.7, 2447.5, 2428.7, 2434.75, 2422.7, 2298.05, 2351.0, 2395.5, 2447.8, 2452.3, 2425.3, 2441.75, 2487.0, 2444.15, 2425.85, 2406.65, 2349.0, 2385.0, 2377.5, 2365.2, 2320.75, 2309.5, 2289.6, 2228.55, 2248.35, 2226.9, 2216.6, 2232.2, 2145.0, 2067.3, 2073.85, 1990.0, 2123.7, 1979.5, 1869.9, 1784.7, 1703.95, 1776.9, 1673.25, 1649.7, 1655.6, 1843.45, 1849.65, 1699.0, 1666.55, 1693.6, 1578.8, 1577.5, 1692.0, 1714.65, 1763.75, 1710.0, 1663.7, 1738.0, 1738.0, 1694.8, 1679.0, 1687.0, 1624.95, 1652.15, 1725.0, 1845.0, 1927.0, 1856.0, 1769.5, 1777.55, 1745.95, 1742.0, 1722.0, 1682.8, 1749.5, 1693.0, 1657.75, 1637.65, 1591.75, 1640.0, 1651.8, 1596.7, 1568.15, 1578.0, 1643.8, 1676.35, 1764.85, 1822.35, 1859.45, 1828.4, 1788.95, 1818.9, 1826.75, 1820.0, 1826.0, 1809.0, 1805.25, 1834.0, 1847.15, 1869.0, 1867.5, 1874.2, 1845.0, 1869.0, 1811.0, 1799.9, 1775.0, 1792.7, 1844.8, 1899.0, 1908.0, 1909.25, 1892.35, 1907.0, 1947.9, 1931.9, 1907.2, 1825.3, 1821.9, 1794.7, 1821.95, 1844.0, 1900.95, 1898.95, 1910.0, 1857.8, 1861.95, 1907.0, 1918.5, 1900.7, 1811.2, 1781.95, 1794.45, 1811.5, 1805.7, 1781.8, 1811.0, 1846.75, 1837.7, 1823.65, 1823.75, 1807.85, 1825.4, 1835.9, 1807.95, 1824.7, 1849.0, 1852.4, 1837.8, 1883.0, 1889.0, 1921.9], \"low\": [293.5, 297.0, 285.0, 295.0, 281.0, 285.0, 273.25, 284.5, 283.0, 276.25, 295.0, 301.05, 303.05, 288.0, 290.0, 291.0, 281.0, 309.9, 315.0, 320.05, 335.0, 342.0, 338.15, 341.0, 348.15, 345.6, 322.5, 311.6, 313.0, 345.0, 330.45, 338.1, 336.0, 325.0, 317.05, 301.2, 315.0, 332.0, 351.1, 380.5, 376.95, 400.0, 442.0, 431.15, 435.25, 408.05, 391.05, 388.1, 390.3, 367.0, 367.0, 386.0, 395.1, 397.0, 374.0, 404.0, 402.6, 411.5, 405.15, 379.7, 356.1, 354.0, 419.0, 442.0, 438.0, 436.75, 461.0, 466.0, 457.0, 441.0, 430.05, 415.3, 435.3, 431.0, 446.1, 444.2, 428.0, 452.2, 446.6, 460.0, 460.55, 446.0, 445.15, 437.25, 430.0, 415.5, 410.0, 437.0, 445.05, 451.0, 459.1, 458.1, 458.5, 461.0, 472.0, 482.6, 482.1, 465.1, 467.0, 485.0, 525.0, 478.45, 465.0, 495.05, 520.0, 525.05, 510.05, 500.1, 502.5, 490.1, 488.1, 485.0, 481.0, 484.0, 502.0, 503.1, 508.0, 508.0, 517.0, 526.0, 540.0, 538.15, 544.6, 542.25, 541.25, 471.0, 452.3, 490.0, 496.0, 487.0, 479.0, 482.0, 486.5, 475.05, 475.0, 472.25, 463.0, 480.0, 502.0, 497.5, 485.0, 493.0, 490.0, 496.6, 498.3, 497.25, 481.5, 484.25, 485.0, 498.6, 499.05, 483.0, 488.0, 491.25, 496.0, 491.0, 511.0, 498.0, 480.0, 481.5, 486.1, 490.0, 493.6, 496.7, 497.65, 505.5, 513.0, 521.0, 523.5, 530.5, 532.0, 528.15, 525.1, 515.7, 504.0, 504.0, 505.0, 491.3, 495.0, 495.0, 496.0, 460.0, 471.1, 438.8, 411.0, 425.0, 432.0, 430.0, 437.0, 438.0, 434.25, 443.0, 448.0, 440.05, 441.05, 442.5, 427.0, 435.0, 440.1, 453.15, 465.0, 463.1, 453.1, 457.0, 457.55, 458.0, 455.0, 466.1, 466.15, 471.0, 483.0, 482.1, 480.3, 486.0, 484.3, 485.6, 490.05, 495.0, 491.1, 492.55, 486.6, 475.0, 471.0, 472.0, 470.1, 483.5, 503.55, 519.1, 517.0, 522.0, 515.05, 520.0, 521.0, 525.05, 525.0, 533.5, 540.0, 554.3, 552.0, 551.5, 540.1, 549.0, 551.0, 549.1, 539.05, 545.15, 540.0, 530.1, 530.0, 537.1, 536.15, 535.1, 540.0, 547.0, 555.0, 580.0, 585.1, 560.05, 548.0, 545.05, 534.5, 525.0, 530.0, 526.0, 510.0, 500.0, 493.1, 501.0, 518.9, 506.15, 551.1, 553.0, 545.0, 553.0, 553.8, 551.25, 556.0, 562.75, 577.9, 575.0, 571.5, 570.25, 571.05, 565.0, 566.2, 566.5, 563.3, 540.0, 551.1, 557.2, 574.0, 586.75, 586.05, 553.0, 516.4, 530.0, 537.0, 511.3, 540.0, 530.0, 511.0, 562.25, 560.0, 564.0, 554.0, 548.5, 572.0, 584.0, 575.0, 578.0, 572.55, 563.25, 541.05, 520.0, 563.0, 555.2, 558.0, 550.05, 547.5, 541.2, 539.1, 554.0, 586.0, 571.7, 564.25, 535.1, 572.0, 582.5, 584.0, 585.0, 570.0, 572.0, 555.5, 585.1, 590.0, 605.0, 602.0, 590.0, 589.0, 585.0, 584.9, 563.0, 597.1, 617.0, 653.0, 646.0, 637.0, 643.0, 652.5, 655.1, 656.0, 665.0, 662.6, 660.0, 660.0, 658.5, 660.05, 650.0, 645.4, 650.0, 657.1, 659.0, 652.0, 648.0, 645.0, 646.3, 659.5, 642.0, 665.0, 662.65, 657.0, 666.5, 676.0, 675.0, 671.2, 661.0, 655.1, 620.0, 661.0, 651.0, 650.0, 646.65, 650.0, 649.0, 653.0, 656.15, 657.0, 651.0, 648.3, 625.0, 615.0, 621.0, 630.0, 620.25, 640.0, 647.15, 659.0, 642.0, 662.5, 667.1, 665.0, 659.05, 660.0, 660.0, 665.0, 660.0, 656.5, 655.25, 665.5, 673.35, 683.1, 691.25, 697.2, 675.0, 674.5, 672.5, 680.1, 692.0, 682.9, 687.0, 687.0, 693.1, 701.1, 703.1, 700.15, 660.0, 670.0, 610.85, 590.15, 615.0, 628.25, 625.5, 625.5, 602.1, 606.0, 625.0, 617.0, 620.0, 630.05, 640.0, 643.0, 669.0, 614.0, 657.0, 646.5, 658.0, 650.35, 649.1, 657.0, 651.0, 645.0, 638.5, 640.1, 646.6, 656.0, 670.0, 670.0, 672.0, 676.4, 688.0, 701.0, 685.0, 689.05, 693.0, 692.25, 685.0, 688.0, 679.85, 684.0, 686.0, 685.0, 670.05, 680.0, 700.0, 695.0, 700.0, 700.0, 698.0, 685.1, 680.25, 685.0, 683.0, 686.1, 690.0, 683.5, 681.0, 685.0, 665.0, 680.0, 682.1, 670.3, 666.0, 664.0, 665.8, 665.1, 665.0, 658.0, 659.0, 659.0, 641.5, 642.25, 638.0, 620.0, 617.0, 622.0, 642.55, 633.1, 643.0, 633.0, 633.0, 625.0, 621.3, 626.0, 625.0, 623.0, 625.0, 628.0, 622.0, 629.9, 630.0, 630.0, 631.1, 633.6, 626.0, 628.0, 631.15, 627.0, 633.0, 634.5, 639.0, 653.7, 661.1, 663.0, 664.6, 658.0, 649.95, 660.0, 665.0, 669.0, 660.0, 675.0, 662.25, 678.5, 666.0, 669.0, 666.1, 665.05, 665.0, 660.0, 663.0, 665.0, 665.6, 660.2, 662.55, 670.05, 670.0, 663.0, 664.25, 656.1, 630.6, 658.2, 660.05, 663.15, 659.25, 660.0, 660.0, 655.0, 640.0, 645.15, 645.1, 652.15, 655.0, 651.95, 641.0, 625.0, 598.0, 610.0, 612.1, 615.0, 600.0, 627.0, 640.05, 626.7, 643.25, 630.0, 633.45, 637.0, 638.6, 632.1, 634.05, 640.0, 640.0, 603.0, 625.0, 625.5, 615.1, 611.1, 608.0, 603.0, 603.5, 594.25, 592.7, 561.1, 592.25, 591.05, 590.0, 553.0, 601.0, 611.1, 619.25, 621.3, 555.55, 630.5, 637.6, 643.0, 645.25, 616.0, 622.5, 570.0, 610.0, 620.5, 623.0, 635.0, 636.55, 636.0, 637.5, 615.0, 620.0, 630.0, 626.05, 625.0, 622.0, 619.0, 618.2, 611.3, 619.8, 610.0, 611.0, 614.0, 610.0, 610.0, 606.0, 605.0, 600.0, 605.0, 610.15, 560.0, 622.0, 581.1, 615.05, 615.0, 612.5, 611.1, 608.3, 618.0, 612.25, 605.0, 610.3, 609.25, 601.0, 597.1, 593.2, 585.2, 555.0, 561.0, 562.05, 570.05, 568.0, 587.0, 592.25, 588.05, 541.85, 577.2, 577.0, 581.5, 575.0, 580.0, 582.0, 588.0, 587.0, 589.05, 589.0, 565.0, 585.5, 578.0, 578.0, 591.1, 592.25, 597.25, 589.0, 599.9, 600.65, 602.1, 608.0, 607.95, 610.05, 612.5, 619.3, 611.1, 615.0, 615.05, 617.1, 627.25, 609.0, 628.0, 628.0, 626.0, 625.0, 620.0, 625.25, 626.0, 629.0, 628.05, 629.0, 629.45, 631.2, 639.0, 642.0, 650.05, 653.2, 658.85, 668.0, 674.85, 670.0, 675.0, 680.0, 589.95, 681.1, 667.0, 660.0, 643.0, 670.0, 672.0, 678.0, 676.0, 671.0, 338.05, 344.0, 367.0, 356.35, 358.1, 355.0, 350.5, 354.15, 351.15, 348.0, 341.05, 355.0, 355.5, 355.0, 358.0, 352.1, 354.25, 359.9, 362.0, 362.15, 325.0, 363.0, 364.85, 368.5, 370.0, 368.0, 366.0, 370.0, 370.0, 376.1, 371.5, 369.05, 374.0, 374.5, 371.1, 372.1, 371.4, 365.15, 352.0, 371.5, 371.25, 375.2, 382.4, 376.25, 371.15, 374.0, 373.2, 373.95, 374.0, 374.2, 374.35, 375.0, 374.75, 373.3, 374.0, 373.0, 372.05, 366.5, 366.5, 365.3, 364.0, 364.3, 357.0, 353.0, 336.15, 336.0, 348.1, 346.55, 349.0, 348.0, 340.0, 340.1, 338.0, 330.25, 328.35, 319.0, 336.0, 338.0, 335.2, 336.05, 338.0, 339.3, 339.0, 335.1, 333.25, 332.05, 320.05, 321.2, 321.0, 319.0, 310.15, 293.2, 293.75, 315.0, 326.05, 339.0, 347.05, 342.25, 322.5, 328.0, 329.0, 330.0, 331.95, 325.95, 331.1, 333.5, 330.0, 340.0, 340.0, 330.1, 341.0, 345.0, 360.0, 352.5, 355.5, 365.1, 369.0, 360.55, 366.0, 360.0, 365.25, 364.0, 368.0, 362.0, 366.15, 365.0, 384.0, 391.0, 400.0, 401.05, 403.2, 404.25, 401.0, 404.05, 405.0, 405.8, 406.0, 390.05, 384.0, 385.0, 401.0, 403.0, 407.1, 406.05, 407.05, 407.0, 409.4, 401.25, 404.5, 396.4, 395.0, 390.0, 406.0, 399.25, 395.35, 405.0, 403.9, 402.0, 404.9, 402.0, 409.05, 421.0, 430.0, 428.3, 429.6, 430.0, 438.1, 450.1, 463.0, 451.3, 456.25, 475.0, 497.3, 475.2, 463.05, 463.0, 459.9, 466.0, 474.0, 470.0, 479.0, 478.0, 481.0, 480.25, 495.0, 485.0, 492.1, 493.05, 491.0, 477.0, 477.0, 475.05, 475.0, 465.0, 471.0, 470.0, 472.2, 481.0, 489.0, 485.3, 488.0, 487.05, 490.0, 499.0, 522.0, 537.5, 521.65, 529.8, 533.6, 525.05, 520.0, 511.0, 528.0, 548.05, 530.0, 521.0, 505.1, 493.05, 491.05, 520.0, 516.5, 528.0, 534.55, 512.35, 510.0, 522.0, 520.0, 520.6, 511.1, 513.0, 515.05, 510.0, 517.2, 521.4, 518.35, 511.15, 521.65, 511.15, 505.05, 510.75, 515.0, 513.0, 517.2, 520.0, 537.0, 550.05, 550.5, 550.0, 476.95, 565.35, 568.0, 568.05, 566.35, 572.0, 608.0, 621.0, 610.25, 611.1, 612.25, 611.1, 608.1, 611.55, 616.1, 641.05, 651.1, 652.0, 642.0, 640.0, 641.0, 640.0, 651.0, 632.2, 635.0, 621.25, 625.05, 625.0, 635.0, 636.15, 625.3, 632.0, 641.1, 605.25, 606.0, 620.1, 610.6, 625.0, 565.0, 633.0, 638.25, 633.25, 640.15, 645.0, 647.0, 662.0, 666.25, 582.7, 668.0, 656.0, 651.1, 645.0, 670.05, 642.15, 637.05, 612.0, 609.0, 616.5, 605.35, 616.6, 631.1, 632.05, 633.0, 633.55, 616.1, 613.2, 612.25, 609.1, 609.0, 605.0, 575.0, 587.0, 598.0, 599.0, 600.5, 600.25, 595.05, 604.0, 609.0, 610.0, 617.0, 633.0, 648.0, 661.05, 672.2, 675.5, 652.0, 648.5, 633.0, 649.6, 634.05, 635.05, 592.0, 617.0, 610.0, 620.0, 619.0, 608.0, 609.0, 595.0, 589.0, 585.1, 595.25, 622.05, 633.0, 633.0, 617.0, 603.0, 571.35, 570.0, 514.0, 450.0, 500.0, 575.0, 550.0, 551.0, 580.4, 553.0, 563.0, 560.0, 562.0, 557.55, 548.0, 545.0, 560.0, 560.0, 582.0, 596.0, 610.0, 610.25, 598.0, 585.15, 583.1, 562.0, 558.05, 555.3, 564.15, 565.0, 563.0, 531.2, 545.0, 540.55, 526.0, 514.0, 517.2, 515.05, 525.5, 529.2, 537.0, 545.0, 530.0, 540.0, 548.0, 541.55, 540.0, 543.1, 547.1, 540.0, 547.0, 580.0, 583.05, 585.4, 578.05, 571.0, 565.0, 571.1, 565.6, 568.1, 565.05, 566.0, 564.9, 565.25, 558.5, 561.2, 564.0, 560.3, 550.35, 538.0, 532.0, 532.1, 536.15, 532.55, 541.0, 546.05, 548.15, 552.05, 550.0, 550.0, 551.5, 553.0, 552.5, 558.0, 557.0, 564.0, 577.0, 582.0, 609.5, 615.15, 614.0, 603.0, 607.5, 610.2, 612.1, 621.1, 622.0, 612.0, 601.15, 604.9, 605.25, 607.25, 605.3, 628.0, 637.0, 645.0, 660.0, 665.0, 670.1, 673.0, 678.15, 650.2, 625.0, 635.0, 649.1, 570.0, 655.0, 653.2, 635.25, 640.0, 636.1, 637.25, 624.0, 632.0, 645.5, 665.4, 660.4, 662.3, 665.0, 691.3, 685.3, 691.05, 687.5, 682.0, 683.05, 704.0, 715.0, 720.05, 731.0, 745.25, 765.05, 770.25, 750.0, 773.0, 761.0, 769.25, 762.25, 745.95, 758.1, 760.25, 767.95, 780.3, 786.15, 785.3, 773.85, 770.25, 774.05, 768.0, 755.15, 752.0, 750.2, 755.0, 753.0, 752.25, 754.15, 760.35, 757.0, 735.25, 725.0, 682.0, 725.0, 714.0, 718.0, 712.0, 715.7, 733.05, 751.55, 765.0, 753.15, 715.0, 735.0, 746.0, 746.65, 757.1, 768.55, 760.0, 773.0, 788.0, 791.4, 787.05, 806.15, 787.75, 779.0, 780.0, 776.0, 765.2, 765.0, 775.0, 767.0, 772.0, 771.5, 768.0, 751.25, 758.0, 775.2, 767.3, 760.2, 781.0, 787.2, 790.0, 790.0, 795.05, 794.0, 793.0, 780.0, 777.2, 777.25, 750.0, 749.0, 735.05, 702.0, 687.0, 692.1, 677.1, 691.25, 719.05, 710.0, 715.0, 711.0, 710.5, 712.0, 708.2, 697.0, 695.0, 708.2, 697.05, 679.0, 692.2, 707.0, 711.0, 720.05, 715.15, 714.0, 713.2, 717.0, 727.0, 718.3, 732.0, 739.05, 735.9, 734.0, 735.0, 732.0, 728.0, 736.2, 747.1, 758.05, 762.05, 752.1, 757.9, 756.15, 754.0, 752.3, 754.0, 750.5, 755.25, 750.0, 754.0, 761.5, 755.0, 762.0, 765.0, 767.0, 773.0, 810.1, 809.0, 835.0, 825.1, 817.25, 815.0, 810.25, 835.05, 846.0, 840.1, 844.0, 852.25, 840.15, 839.0, 845.2, 841.0, 848.5, 862.1, 868.5, 880.6, 894.0, 900.0, 903.05, 919.0, 875.0, 878.05, 875.0, 876.1, 855.0, 885.0, 875.0, 880.15, 881.1, 883.0, 904.75, 893.5, 908.0, 922.0, 917.2, 918.0, 905.0, 902.0, 889.0, 888.75, 892.0, 902.0, 930.15, 925.2, 927.0, 921.5, 921.0, 900.0, 902.0, 894.0, 878.0, 885.0, 868.0, 873.7, 882.5, 904.05, 901.0, 900.4, 899.0, 901.0, 915.0, 915.0, 933.2, 950.0, 977.0, 996.25, 1044.0, 1020.3, 980.0, 950.0, 950.0, 960.0, 990.1, 1007.2, 1005.0, 990.0, 1010.0, 1015.5, 1021.0, 991.55, 981.1, 980.0, 965.15, 970.0, 978.0, 969.95, 975.0, 961.15, 939.1, 911.0, 910.75, 901.0, 910.5, 919.0, 920.0, 938.0, 942.0, 967.55, 991.0, 1000.0, 1035.2, 1013.1, 1023.0, 1049.85, 1064.0, 1040.0, 1035.2, 1040.0, 1041.15, 1040.0, 1058.0, 1041.55, 1111.0, 1119.0, 1053.5, 1115.65, 1126.0, 1142.1, 1105.2, 1096.25, 1113.1, 1093.0, 1106.0, 1117.5, 1111.0, 1150.35, 1172.1, 1175.25, 1171.0, 1236.4, 1242.3, 1250.15, 1192.5, 1160.0, 1160.0, 1162.05, 1199.0, 1189.05, 1180.35, 1194.0, 1215.0, 1226.2, 1201.0, 1252.2, 1216.25, 1180.05, 1169.0, 1166.0, 1151.0, 1123.0, 1150.0, 1193.6, 1207.15, 1220.0, 1237.1, 1263.0, 1300.0, 1307.15, 1345.0, 1352.0, 1296.35, 1281.1, 1320.0, 1307.95, 1338.0, 1345.35, 1356.05, 1322.4, 1329.1, 1296.0, 1285.0, 1321.0, 1333.0, 1366.0, 1360.1, 1364.9, 1356.0, 1315.0, 1341.3, 1311.05, 1318.3, 1327.4, 1285.0, 1260.0, 1284.0, 1295.35, 1300.3, 1325.0, 1320.1, 1323.0, 1301.1, 1305.3, 1312.25, 1308.2, 1313.1, 1312.55, 1321.0, 1337.45, 1328.0, 1318.0, 1325.1, 1339.5, 1315.0, 1315.0, 1275.5, 1245.0, 1225.0, 1258.95, 1291.0, 1242.6, 1265.0, 1255.0, 1243.0, 1246.0, 1291.0, 1205.2, 1275.1, 1286.6, 1272.0, 1252.55, 1285.0, 1280.15, 1331.0, 1339.95, 1350.0, 1355.05, 1335.0, 1295.0, 1331.0, 1279.0, 1235.0, 1181.0, 1170.0, 1121.55, 1129.0, 1152.0, 1176.5, 1168.2, 1075.0, 1095.0, 1091.25, 1176.55, 1152.0, 1111.55, 1076.0, 1109.0, 1100.0, 1005.0, 962.0, 990.0, 1030.0, 1019.5, 998.0, 998.1, 1040.0, 1061.1, 1092.1, 1031.1, 1047.75, 1031.0, 1060.3, 1072.0, 1095.35, 1125.0, 1140.0, 1177.0, 1150.0, 1125.0, 1171.0, 1150.2, 1152.0, 1127.0, 1071.0, 1050.0, 1041.0, 1070.0, 1065.05, 1050.0, 1085.9, 1085.5, 1128.0, 1153.1, 1160.0, 1160.2, 1170.0, 1187.0, 1225.0, 1217.5, 1237.1, 1238.5, 1240.05, 1261.0, 1263.1, 1280.05, 1289.05, 1255.0, 1270.1, 1285.6, 1271.4, 1241.0, 1266.3, 1241.55, 1268.5, 1283.1, 1287.1, 1290.35, 1314.95, 1307.0, 1309.0, 1297.0, 1330.05, 1312.0, 1322.3, 1329.95, 1328.0, 1320.05, 1312.1, 1342.0, 1326.0, 1372.15, 1386.0, 1391.05, 1378.0, 1417.0, 1448.0, 1474.1, 1475.0, 1418.0, 1436.1, 1424.0, 1385.0, 1405.0, 1426.2, 1451.2, 1501.25, 1500.0, 1498.0, 1455.25, 1445.0, 1445.75, 1441.0, 1425.0, 1434.0, 1438.0, 1443.0, 1453.05, 1420.3, 1380.0, 1421.0, 1450.0, 1511.0, 1515.2, 1492.5, 1481.25, 1505.0, 1533.35, 1517.35, 1530.0, 1555.0, 1599.8, 1612.0, 1616.1, 1638.0, 1638.0, 1641.0, 1623.25, 1614.0, 1614.0, 1625.0, 1618.4, 1600.35, 1576.0, 1557.1, 1540.55, 1540.0, 1487.05, 1455.25, 1500.55, 1530.1, 1501.0, 1525.25, 1506.55, 1541.0, 1553.05, 1572.05, 1600.55, 1616.0, 1616.2, 1610.0, 1590.0, 1570.0, 1553.1, 1577.15, 1516.1, 1520.0, 1514.3, 1531.35, 1581.25, 1558.0, 1533.3, 1548.0, 1591.0, 1576.0, 1592.0, 1590.0, 1645.0, 1651.05, 1640.25, 1648.6, 1666.0, 1728.0, 1788.5, 1775.35, 1763.1, 1791.0, 1711.0, 1700.0, 1629.0, 1676.1, 1682.05, 1648.0, 1655.0, 1650.0, 1585.2, 1570.0, 1581.05, 1447.0, 1470.0, 1490.05, 1470.0, 1480.1, 1495.9, 1511.2, 1521.1, 1550.0, 1575.4, 1541.6, 1500.25, 1496.0, 1505.0, 1544.0, 1525.0, 1550.1, 1560.1, 1557.0, 1501.15, 1519.0, 1501.25, 1421.0, 1400.0, 1435.0, 1486.0, 1533.0, 1545.05, 1567.0, 1518.0, 1525.0, 1565.4, 1563.0, 1583.1, 1551.0, 1562.3, 1651.0, 1640.25, 1710.2, 1701.25, 1681.0, 1630.0, 1651.25, 1626.1, 1616.0, 1600.0, 1561.15, 1590.1, 1531.9, 1660.2, 1652.55, 1666.6, 1700.1, 1681.0, 1704.0, 1656.55, 1770.55, 1750.0, 1726.0, 1835.0, 1806.1, 1805.1, 1820.0, 1851.3, 1851.35, 1850.0, 1826.15, 1800.0, 1740.0, 1742.1, 1731.6, 1743.0, 1724.0, 1770.1, 1757.1, 1740.0, 1785.6, 1805.05, 1830.1, 1854.25, 1875.0, 1850.0, 1876.3, 1960.1, 1800.0, 1966.2, 1976.05, 1932.6, 1912.0, 1906.0, 1898.0, 1900.05, 1915.55, 1955.15, 1970.1, 1945.0, 1942.0, 1941.0, 1945.55, 1960.0, 1955.0, 1933.0, 1960.0, 1895.0, 1861.0, 1915.0, 1900.0, 1911.0, 1952.0, 1922.15, 1946.25, 1979.0, 2002.0, 1916.3, 1955.0, 1935.0, 1850.0, 1785.55, 1895.0, 1895.0, 1890.25, 1900.0, 1900.0, 1928.0, 1951.0, 1921.55, 1940.15, 1965.0, 1960.0, 1995.45, 2031.0, 2016.0, 2095.0, 2060.0, 2110.0, 2125.15, 2175.0, 2195.0, 2148.0, 2151.1, 2241.3, 2326.0, 2285.0, 2361.3, 2361.2, 2392.5, 2450.05, 2429.9, 2447.0, 2525.0, 2475.0, 2440.25, 2440.0, 2456.0, 2490.55, 2491.55, 2421.0, 2445.55, 2501.0, 2350.0, 2402.0, 2250.0, 2310.0, 2491.0, 2520.55, 2480.25, 2520.0, 2580.0, 2730.25, 2725.0, 2660.55, 2590.0, 2600.0, 2570.0, 2510.0, 2422.55, 2500.0, 2480.25, 2490.0, 2635.15, 2675.0, 2625.0, 2682.0, 2621.6, 2580.0, 2490.1, 2560.15, 2696.0, 2641.0, 2682.0, 2680.0, 2685.25, 2727.0, 2720.0, 2720.0, 2755.65, 2800.9, 2816.1, 2880.1, 2899.9, 3000.0, 3040.0, 2835.0, 2785.65, 2695.05, 2710.2, 2769.9, 2850.05, 2860.0, 2840.1, 2851.0, 2865.0, 2902.05, 3010.55, 3030.3, 3050.5, 3020.0, 3040.0, 3100.55, 2986.0, 2960.5, 2883.0, 2795.25, 2742.0, 2780.55, 2620.0, 2200.0, 2500.0, 2520.0, 2641.3, 2601.0, 2740.1, 2795.0, 2750.0, 2835.0, 2971.0, 3013.0, 2900.0, 2882.1, 2705.2, 2555.0, 2592.25, 2622.0, 2740.0, 2795.0, 2852.0, 2826.0, 2725.0, 2601.2, 2560.0, 2542.15, 2562.0, 2595.0, 2690.0, 2715.25, 2517.0, 2525.25, 2561.0, 2580.05, 2511.0, 2490.0, 2500.0, 2412.0, 2440.0, 2185.0, 2125.0, 2152.35, 2255.0, 2425.25, 2595.0, 2595.0, 2536.4, 2351.35, 2290.05, 2424.0, 2419.3, 2251.0, 2261.05, 2275.0, 2280.0, 2378.75, 2372.0, 2295.0, 2325.55, 2402.0, 2460.0, 2441.0, 2510.0, 2560.0, 2580.0, 2695.0, 2711.55, 2775.0, 2757.0, 2695.0, 2630.55, 2712.1, 2713.0, 2630.15, 2610.1, 2611.0, 2630.1, 2711.0, 2745.0, 2729.0, 2659.0, 2604.1, 2636.0, 2531.2, 2492.55, 2480.0, 2376.2, 2460.0, 2499.0, 2430.0, 2390.1, 2369.0, 2336.6, 2114.5, 2062.3, 2115.0, 2001.1, 2105.0, 2146.75, 2165.0, 2270.55, 2192.55, 2141.25, 2140.0, 2154.0, 2137.0, 2170.0, 2031.25, 1930.0, 1793.15, 1751.0, 1865.0, 1921.0, 2011.6, 1981.0, 2063.65, 2055.0, 1970.0, 1905.0, 1754.2, 1682.2, 1755.0, 1900.0, 2022.0, 2060.0, 2200.0, 2325.55, 2160.0, 2185.1, 2055.0, 2110.55, 2230.1, 2166.65, 2325.25, 2360.0, 2360.0, 2390.0, 2434.0, 2510.4, 2450.0, 2393.2, 2261.0, 2251.35, 2225.1, 2253.0, 2201.0, 2151.2, 2310.0, 2311.0, 2278.25, 2233.85, 2300.0, 2270.55, 2312.55, 2350.0, 2271.0, 2330.0, 2320.0, 2305.0, 2238.0, 2165.0, 2036.65, 2080.25, 2125.3, 2000.0, 2216.0, 2293.25, 2185.0, 2156.25, 2150.0, 2073.15, 1999.8, 1953.0, 2115.1, 2060.15, 1949.0, 1940.3, 1810.0, 1641.0, 1666.65, 1800.0, 1691.55, 1586.25, 1751.0, 1780.0, 1886.0, 1881.15, 1722.35, 1543.6, 1382.0, 1501.0, 1485.05, 1540.0, 1780.0, 1795.35, 1735.2, 1636.3, 1640.1, 1710.0, 1632.55, 1602.1, 1515.35, 1396.0, 1400.3, 1350.0, 1200.0, 1261.2, 1343.15, 1342.05, 1316.0, 1370.5, 1414.15, 1337.0, 1375.0, 1402.2, 1411.15, 1481.3, 1504.4, 1584.0, 1525.0, 1598.0, 1528.0, 1510.55, 1477.2, 1495.0, 1467.0, 1428.2, 1451.3, 1430.0, 1417.05, 1482.0, 1475.0, 1481.2, 1507.85, 1545.55, 1592.0, 1611.0, 1562.3, 1572.0, 1528.0, 1555.0, 1501.35, 1540.0, 1515.0, 1460.0, 1351.1, 1358.5, 1375.05, 1395.0, 1416.0, 1490.0, 1487.0, 1406.3, 1407.1, 1430.0, 1375.0, 1385.3, 1424.0, 1476.25, 1471.0, 1500.0, 1530.0, 1485.1, 1422.1, 1348.0, 1365.0, 1327.7, 1271.55, 1232.1, 1192.65, 1200.0, 1225.35, 1196.0, 1129.05, 1128.2, 1119.0, 1200.0, 1268.35, 1304.8, 1318.1, 1345.0, 1346.1, 1356.2, 1361.5, 1425.0, 1528.0, 1491.0, 1601.0, 1573.0, 1425.1, 1397.35, 1411.0, 1520.0, 1600.1, 1616.65, 1680.25, 1661.6, 1628.5, 1723.3, 1755.45, 1737.1, 1695.25, 1708.1, 1717.15, 1746.05, 1741.0, 1644.0, 1695.0, 1761.25, 1572.05, 1717.0, 1762.35, 1724.0, 1670.0, 1676.25, 1833.1, 1831.0, 1881.3, 2088.0, 2171.2, 2170.0, 2074.25, 2078.0, 2075.0, 2055.5, 2120.25, 2148.3, 2160.0, 2205.55, 2281.4, 2342.35, 2330.0, 2395.2, 2303.0, 2257.65, 2331.4, 2305.0, 2275.0, 2230.05, 2213.0, 2251.2, 2228.0, 2250.0, 2275.0, 2261.1, 2267.55, 2323.2, 2332.35, 2354.45, 2315.0, 2320.1, 2345.0, 2366.7, 2304.3, 2300.05, 2240.0, 2286.0, 2144.9, 2146.0, 2231.0, 2342.0, 2342.3, 2347.9, 2480.0, 2467.5, 2367.5, 2400.5, 2380.1, 2333.2, 2318.0, 2322.1, 2342.0, 2477.0, 2460.0, 2480.1, 2436.65, 2400.0, 2370.0, 2300.0, 2243.35, 2250.15, 2300.0, 2296.0, 2227.35, 2207.85, 2315.0, 2375.0, 2358.1, 2455.0, 2460.0, 2490.1, 2470.0, 2455.1, 2460.0, 2400.1, 2375.7, 2375.0, 2380.0, 2462.65, 2493.0, 2450.0, 2477.15, 2502.6, 2466.7, 2483.1, 2515.0, 2525.0, 2515.0, 2507.05, 2635.3, 2605.0, 2691.0, 2732.5, 2732.0, 2695.1, 2640.35, 2655.4, 2684.25, 2691.0, 2632.75, 2672.55, 2750.0, 2735.35, 2760.0, 2787.1, 2765.5, 2680.0, 2656.1, 2687.0, 2701.05, 2692.3, 2648.2, 2625.3, 2639.1, 2560.0, 2559.95, 2575.0, 2655.55, 2670.3, 2726.0, 2705.0, 2714.65, 2725.0, 2750.0, 2707.25, 2715.0, 2708.5, 2727.35, 2785.55, 2775.6, 2786.0, 2740.15, 2645.5, 2728.0, 2750.55, 2734.15, 2720.0, 2702.6, 2710.0, 2741.2, 2719.95, 2703.0, 2667.4, 2665.85, 2610.0, 2590.0, 2560.0, 2561.0, 2555.0, 2560.0, 2565.0, 2630.0, 2643.1, 2652.65, 2660.05, 2665.85, 2666.1, 2661.25, 2625.55, 2590.35, 2580.3, 2548.0, 2508.05, 2515.0, 2505.0, 2512.95, 2504.0, 2496.0, 2425.1, 1949.65, 2367.0, 2300.0, 2306.0, 2340.0, 2346.1, 2390.2, 2412.65, 2402.15, 2340.1, 2382.3, 2325.0, 2368.35, 2366.7, 2375.0, 2361.55, 2380.2, 2442.0, 2445.0, 2427.85, 2480.5, 2462.35, 2485.0, 2456.65, 2445.8, 2495.45, 2545.4, 2580.0, 2575.0, 2585.0, 2586.6, 2651.1, 2682.5, 2671.4, 2667.0, 2653.0, 2693.0, 2720.3, 2678.1, 2601.0, 2610.1, 2561.7, 2592.1, 2615.1, 2631.0, 2616.0, 2715.0, 2767.95, 2777.0, 2780.0, 2715.0, 2731.1, 2791.2, 2741.35, 2681.0, 2642.65, 2618.45, 2665.25, 2690.1, 2690.15, 2706.75, 2735.25, 2787.0, 2791.95, 2812.25, 2797.0, 2793.0, 2808.0, 2766.0, 2720.3, 2690.5, 2748.0, 2753.0, 2751.0, 2781.0, 2760.0, 2715.0, 2713.0, 2667.0, 2646.45, 2651.25, 2652.0, 2600.0, 2621.55, 2672.1, 2761.25, 2761.5, 2700.85, 2689.1, 2724.4, 2720.0, 2660.1, 2667.6, 2680.7, 2706.7, 2755.0, 2810.45, 2830.1, 2860.3, 2848.0, 2912.15, 2945.0, 2966.0, 2961.55, 2976.35, 2926.0, 2915.1, 2892.0, 2870.6, 2896.0, 2906.6, 2900.7, 2925.1, 2896.7, 2925.15, 2950.1, 2970.25, 3007.0, 3044.25, 3025.05, 3006.0, 2994.2, 3004.05, 2962.3, 2955.45, 2982.4, 2952.1, 2923.5, 2880.0, 2901.1, 2954.0, 2967.6, 3005.75, 3011.3, 3022.1, 3007.0, 3060.85, 3065.0, 2991.1, 2964.4, 2981.2, 2956.1, 2960.1, 595.25, 622.1, 634.6, 627.6, 616.2, 615.0, 617.25, 618.1, 624.6, 613.3, 621.0, 622.15, 628.0, 631.1, 627.0, 627.5, 625.65, 631.2, 663.0, 671.05, 680.2, 680.05, 685.0, 705.0, 717.5, 723.2, 721.5, 724.4, 705.0, 698.95, 701.65, 730.05, 739.5, 675.0, 738.2, 722.25, 709.0, 711.1, 696.05, 699.1, 729.05, 725.05, 701.0, 715.4, 694.15, 692.25, 685.05, 695.0, 695.0, 672.1, 676.2, 677.0, 690.8, 698.8, 704.0, 719.0, 735.2, 720.5, 714.2, 721.25, 710.0, 708.2, 703.0, 693.85, 694.95, 691.6, 699.25, 694.75, 682.05, 685.8, 673.75, 686.0, 678.2, 685.8, 700.05, 692.75, 699.0, 695.1, 681.7, 662.5, 660.05, 669.05, 683.4, 678.55, 671.5, 680.6, 695.1, 694.15, 696.15, 690.0, 693.75, 694.25, 700.95, 712.55, 718.0, 724.0, 725.3, 706.15, 700.8, 680.0, 650.85, 649.05, 649.7, 664.15, 635.1, 637.6, 650.0, 651.0, 646.7, 648.1, 650.9, 664.85, 660.05, 639.1, 616.1, 629.6, 613.3, 615.05, 600.1, 586.55, 584.5, 582.3, 589.15, 597.2, 624.5, 633.7, 624.0, 628.5, 639.1, 635.0, 636.05, 641.8, 610.0, 611.4, 623.1, 635.0, 644.05, 675.0, 660.1, 663.1, 665.0, 664.85, 647.3, 656.0, 650.4, 658.6, 634.15, 617.35, 622.85, 624.0, 633.75, 637.1, 645.1, 659.05, 670.0, 685.65, 692.7, 696.05, 697.55, 693.3, 693.55, 696.05, 706.7, 688.3, 684.0, 702.65, 689.05, 686.95, 695.0, 717.4, 727.55, 709.1, 716.2, 707.0, 695.8, 696.55, 681.0, 659.0, 651.65, 655.0, 656.6, 650.1, 656.0, 646.0, 640.75, 632.0, 626.55, 634.8, 637.6, 640.0, 640.05, 645.05, 641.1, 635.0, 640.5, 658.0, 669.8, 676.55, 676.6, 658.25, 659.15, 662.3, 657.0, 650.4, 645.55, 646.35, 643.5, 646.0, 643.1, 635.55, 625.1, 631.0, 635.0, 636.0, 640.55, 660.5, 675.5, 692.6, 696.2, 701.3, 696.8, 690.15, 696.25, 712.0, 712.1, 703.0, 685.25, 683.35, 687.0, 691.5, 690.15, 695.05, 693.65, 691.05, 700.05, 696.1, 685.75, 686.25, 686.0, 675.3, 691.2, 683.0, 675.3, 673.75, 658.9, 641.0, 624.2, 660.0, 660.0, 663.0, 642.0, 645.05, 636.0, 628.1, 638.35, 631.55, 640.2, 622.2, 611.6, 625.95, 650.15, 653.0, 641.6, 642.1, 657.4, 655.1, 660.0, 643.0, 644.6, 634.25, 636.2, 657.7, 650.5, 654.8, 665.6, 641.1, 622.55, 617.7, 626.35, 631.55, 637.0, 636.25, 617.3, 617.5, 618.0, 636.7, 643.2, 665.0, 658.0, 662.7, 659.0, 664.5, 664.65, 669.75, 638.2, 630.0, 634.35, 633.0, 662.3, 681.0, 678.1, 679.5, 679.2, 674.3, 678.25, 675.05, 679.15, 663.65, 666.15, 654.0, 626.25, 631.4, 630.1, 618.1, 625.6, 613.2, 607.1, 606.6, 618.25, 632.1, 625.3, 651.0, 654.7, 656.85, 656.55, 659.45, 652.35, 644.1, 636.25, 628.3, 622.0, 618.55, 600.3, 618.0, 633.0, 645.5, 655.4, 658.25, 662.15, 658.3, 654.6, 648.0, 641.35, 655.9, 658.95, 660.7, 657.5, 667.0, 655.3, 666.55, 677.5, 669.45, 671.0, 671.05, 671.85, 672.1, 684.95, 684.35, 688.0, 695.35, 702.55, 696.1, 685.0, 689.95, 680.0, 682.8, 685.05, 692.45, 683.75, 686.8, 688.75, 676.25, 694.0, 691.95, 697.7, 706.0, 711.8, 711.0, 698.7, 695.95, 657.5, 661.8, 668.5, 660.6, 659.2, 662.35, 667.35, 654.45, 649.5, 648.0, 660.9, 669.1, 675.0, 670.0, 660.05, 662.25, 648.25, 650.0, 656.55, 653.75, 656.5, 649.5, 655.0, 659.25, 653.15, 670.3, 673.0, 682.25, 678.15, 663.85, 666.0, 665.55, 673.35, 676.15, 672.95, 671.6, 679.05, 682.15, 676.25, 681.65, 679.95, 674.25, 672.3, 671.05, 674.35, 672.3, 670.25, 665.2, 658.15, 647.0, 654.55, 648.9, 649.3, 644.65, 637.25, 641.1, 610.5, 624.75, 623.5, 638.15, 637.2, 629.1, 642.5, 651.3, 657.15, 658.5, 654.3, 643.65, 642.15, 635.3, 639.25, 644.5, 650.45, 649.4, 655.65, 652.0, 654.4, 641.65, 638.0, 637.55, 638.0, 640.0, 637.6, 629.95, 641.85, 640.8, 643.05, 641.85, 647.75, 652.1, 663.5, 670.65, 670.2, 675.35, 670.0, 676.0, 675.3, 672.4, 675.15, 677.0, 680.75, 682.6, 687.45, 683.05, 675.35, 672.2, 672.5, 669.0, 671.3, 674.0, 676.0, 689.05, 692.35, 688.1, 701.3, 705.85, 716.05, 691.0, 684.35, 688.0, 700.2, 705.0, 710.55, 711.05, 722.15, 717.2, 713.3, 718.1, 720.2, 710.5, 699.2, 725.25, 729.65, 718.7, 720.4, 718.1, 726.2, 728.9, 730.0, 736.05, 752.25, 746.7, 759.6, 769.85, 756.0, 752.1, 764.95, 758.15, 757.5, 757.4, 756.9, 763.05, 766.15, 770.0, 779.0, 631.25, 745.0, 747.0, 739.35, 735.6, 737.35, 732.65, 741.3, 743.45, 749.3, 749.1, 742.55, 747.0, 749.0, 752.0, 752.0, 747.25, 744.15, 758.0, 764.0, 763.0, 766.3, 779.65, 784.55, 788.1, 787.75, 782.0, 765.85, 771.3, 761.65, 767.0, 771.35, 772.95, 772.55, 772.0, 773.3, 799.55, 822.0, 830.5, 833.5, 834.1, 831.65, 835.5, 833.7, 866.6, 854.5, 850.7, 846.6, 833.0, 835.95, 827.1, 823.7, 820.0, 825.15, 821.0, 825.15, 826.15, 827.0, 832.0, 837.0, 841.0, 828.55, 819.75, 822.85, 827.0, 820.2, 807.0, 805.05, 818.2, 815.4, 805.55, 808.75, 808.5, 806.1, 814.05, 804.75, 795.2, 796.35, 792.35, 792.95, 784.55, 773.8, 780.0, 791.5, 802.9, 801.85, 805.15, 796.35, 795.25, 802.65, 809.65, 809.0, 805.65, 818.0, 815.55, 811.3, 791.0, 793.0, 765.95, 775.0, 750.0, 756.0, 768.4, 768.85, 766.35, 767.15, 786.35, 813.25, 819.1, 805.2, 797.75, 812.8, 806.0, 779.65, 776.95, 778.05, 789.6, 801.2, 804.1, 805.2, 817.95, 812.6, 803.05, 789.15, 763.1, 756.75, 750.1, 755.25, 759.2, 761.8, 766.1, 772.4, 785.55, 795.0, 816.95, 823.65, 838.55, 857.7, 858.0, 843.65, 845.65, 845.2, 845.5, 841.3, 852.0, 876.3, 863.1, 869.35, 859.6, 855.25, 875.0, 903.7, 898.3, 895.0, 890.1, 894.1, 892.15, 899.35, 898.65, 913.15, 900.7, 905.1, 883.65, 867.05, 852.0, 839.05, 833.15, 833.35, 835.8, 826.4, 816.25, 804.3, 820.0, 831.0, 831.15, 828.1, 812.0, 801.3, 809.95, 810.1, 810.0, 809.05, 839.0, 861.0, 872.25, 850.0, 849.8, 848.15, 818.0, 826.0, 822.4, 834.0, 836.95, 841.1, 805.0, 803.25, 815.2, 789.5, 795.85, 819.05, 799.5, 797.25, 795.3, 803.0, 801.55, 794.6, 805.0, 798.4, 787.2, 734.85, 723.0, 729.7, 745.0, 755.45, 775.55, 731.0, 712.2, 710.55, 734.0, 727.2, 720.1, 735.45, 666.75, 632.2, 658.2, 698.5, 723.1, 695.35, 685.4, 726.7, 730.0, 776.0, 787.8, 793.5, 797.1, 796.05, 796.4, 780.0, 822.5, 784.35, 770.0, 765.0, 771.4, 775.0, 777.3, 755.7, 761.25, 780.1, 790.95, 777.5, 785.3, 779.5, 796.0, 805.3, 796.35, 797.15, 790.0, 799.05, 804.05, 799.2, 798.3, 803.5, 803.7, 811.85, 812.55, 838.85, 844.05, 845.1, 843.25, 848.5, 833.05, 837.95, 805.55, 793.65, 793.0, 788.55, 790.0, 796.75, 811.35, 801.0, 780.1, 780.5, 797.4, 803.0, 795.55, 805.6, 812.25, 821.0, 815.0, 810.05, 822.65, 810.05, 818.95, 805.75, 804.4, 815.5, 803.4, 795.55, 774.55, 778.45, 775.0, 770.1, 787.15, 778.1, 774.1, 775.25, 786.95, 790.6, 790.6, 784.0, 780.0, 784.35, 788.4, 795.35, 797.4, 796.2, 800.0, 817.1, 820.65, 845.3, 834.25, 829.05, 832.2, 830.6, 836.2, 843.5, 830.95, 826.7, 820.7, 810.3, 804.35, 785.35, 778.45, 779.0, 772.35, 775.3, 762.8, 764.0, 773.9, 763.2, 755.0, 767.0, 779.3, 792.75, 788.95, 791.05, 788.55, 807.15, 810.0, 810.55, 808.9, 811.0, 812.6, 824.05, 837.25, 831.1, 843.65, 845.15, 850.0, 852.25, 841.0, 854.95, 845.6, 839.0, 840.7, 841.0, 856.2, 861.1, 860.9, 856.05, 873.2, 870.4, 888.4, 892.15, 892.7, 880.8, 896.0, 916.2, 899.55, 881.2, 866.05, 865.0, 870.0, 870.3, 862.1, 883.5, 880.0, 877.0, 888.45, 897.0, 883.15, 873.9, 850.1, 840.55, 851.3, 882.35, 899.2, 883.55, 875.35, 877.0, 900.25, 914.65, 933.0, 918.0, 918.45, 914.05, 908.0, 892.0, 891.0, 810.0, 871.0, 895.0, 899.2, 891.0, 907.0, 934.35, 930.4, 931.9, 951.2, 972.35, 956.0, 941.25, 952.1, 955.5, 964.5, 960.55, 972.0, 989.25, 970.45, 971.25, 975.2, 980.0, 989.0, 1002.0, 994.1, 1003.3, 1016.6, 1006.0, 1002.7, 981.0, 980.1, 968.9, 946.05, 968.65, 967.7, 986.0, 1007.65, 1030.05, 1023.5, 1040.0, 1046.7, 1055.55, 1061.6, 1035.2, 1016.15, 1010.0, 1030.4, 1020.7, 1016.6, 1030.15, 1067.35, 1106.5, 1111.5, 1107.55, 1082.4, 1064.55, 1060.65, 1042.15, 1045.8, 1054.0, 1057.4, 1063.9, 1057.0, 1059.0, 1057.1, 1057.7, 1049.5, 1046.6, 1045.1, 1032.2, 1032.55, 1038.45, 1026.7, 1012.75, 1013.0, 1010.65, 1048.65, 1054.8, 1060.0, 1041.55, 1046.7, 1023.25, 1025.0, 1030.2, 1040.0, 1015.15, 1006.85, 1020.0, 1003.35, 996.95, 1000.1, 975.0, 978.35, 1007.6, 1006.75, 1017.3, 1027.25, 1032.6, 1039.4, 1037.95, 1044.25, 1066.0, 1096.5, 1093.1, 1086.6, 1095.2, 1110.5, 1128.0, 1120.7, 1103.95, 1100.1, 1101.0, 1101.25, 1103.7, 1119.8, 1118.65, 1126.4, 1126.4, 1142.0, 1153.9, 1134.35, 1111.7, 1099.5, 1090.0, 1109.7, 1104.35, 1082.6, 1085.3, 1087.6, 1061.75, 1060.1, 1082.85, 1080.0, 1076.0, 1100.0, 1112.7, 1120.8, 1092.2, 1097.5, 1116.25, 1117.2, 1121.2, 1120.1, 1125.35, 1150.4, 1096.1, 1095.0, 1110.0, 1103.4, 1098.4, 1113.6, 1112.6, 1144.7, 1191.0, 1178.15, 1181.05, 1252.25, 1272.0, 1280.2, 1288.55, 1300.7, 1295.4, 1257.75, 1243.6, 1225.9, 1221.1, 1208.15, 1244.3, 1245.55, 1232.3, 1242.25, 1240.4, 1243.65, 1267.0, 1291.75, 1323.55, 1325.0, 1306.8, 1296.75, 1311.0, 1336.2, 1335.6, 1310.15, 1319.0, 1341.0, 1355.5, 1366.4, 1351.8, 1307.15, 1310.35, 1316.35, 1322.0, 1293.6, 1307.1, 1315.0, 1317.4, 1308.0, 1327.5, 1337.25, 1342.2, 1273.0, 1257.45, 1271.15, 1297.75, 1305.5, 1303.3, 1312.55, 1297.1, 1286.5, 1282.95, 1291.2, 1279.6, 1281.1, 1297.2, 1256.2, 1243.3, 1258.0, 1267.0, 1234.1, 1196.65, 1188.6, 1191.1, 1160.1, 1173.45, 1178.1, 1151.2, 1147.0, 1160.6, 1191.6, 1184.45, 1187.85, 1192.0, 1205.75, 1227.0, 1232.25, 1242.3, 1245.25, 1252.1, 1250.0, 1233.45, 1229.0, 1206.55, 1218.75, 1236.1, 1197.05, 1194.0, 1190.0, 1193.8, 1171.0, 1176.65, 1182.1, 1157.95, 1156.0, 1183.35, 1180.25, 1196.3, 1200.0, 1219.0, 1238.1, 1260.25, 1265.7, 1273.75, 1275.2, 1260.0, 1278.25, 1287.75, 1280.3, 1278.5, 1298.75, 1320.0, 1285.1, 1281.85, 1278.9, 1282.05, 1309.1, 1311.5, 1342.0, 1323.7, 1303.0, 1306.15, 1303.35, 1341.5, 1336.65, 1329.8, 1298.65, 1305.0, 1323.35, 1329.9, 1315.65, 1299.7, 1300.0, 1289.0, 1295.6, 1298.1, 1284.0, 1257.75, 1250.1, 1258.75, 1271.8, 1263.4, 1248.7, 1246.0, 1214.0, 1155.85, 1136.1, 1093.2, 1120.0, 1179.1, 1176.55, 1146.0, 1110.1, 1125.85, 1131.55, 1137.05, 1151.15, 1178.5, 1149.5, 1170.25, 1163.7, 1165.45, 1184.0, 1195.1, 1185.5, 1163.1, 1144.25, 1151.0, 1163.45, 1152.5, 1200.75, 1192.1, 1205.25, 1238.35, 1258.0, 1258.45, 1275.4, 1261.95, 1263.2, 1273.65, 1288.15, 1283.6, 1302.45, 1302.65, 1305.65, 1320.05, 1303.4, 1271.8, 1255.45, 1258.55, 1246.45, 1213.0, 1215.0, 1215.0, 1200.55, 1202.25, 1177.65, 1168.55, 1175.1, 1157.55, 1157.8, 1184.0, 1176.0, 1184.5, 1200.0, 1184.1, 1189.65, 1216.0, 1215.8, 1204.35, 1213.55, 1206.1, 1198.05, 1169.5, 1175.05, 1169.5, 1150.0, 1154.0, 1162.2, 1156.05, 1180.8, 1209.2, 1209.5, 1220.55, 1218.2, 1221.5, 1231.5, 1225.4, 1220.2, 1225.6, 1230.65, 1233.9, 1250.65, 1212.05, 1206.5, 1202.4, 1175.0, 1169.0, 1150.1, 1146.05, 1145.35, 1147.15, 1143.15, 1125.1, 1130.9, 1129.15, 1121.15, 1135.2, 1155.0, 1162.0, 1138.0, 1145.05, 1170.6, 1166.5, 1158.4, 1163.3, 1169.0, 1158.05, 1140.3, 1110.5, 1058.05, 1067.2, 1076.0, 1063.9, 1060.15, 1062.7, 1046.2, 1047.85, 1040.0, 1018.55, 1011.45, 1048.35, 1022.05, 1046.8, 1077.0, 1107.05, 1105.0, 1119.0, 1106.0, 1123.95, 1146.5, 1146.75, 1109.4, 1095.5, 1104.0, 1104.0, 1128.05, 1136.0, 1143.65, 1137.3, 1120.65, 1110.15, 1098.0, 1092.25, 1095.6, 1085.5, 1091.2, 1065.5, 1068.15, 1060.15, 1076.05, 1093.65, 1093.45, 1135.0, 1140.2, 1121.95, 1106.3, 1103.05, 1113.1, 1082.05, 1074.2, 1078.55, 1095.05, 1098.0, 1135.0, 1149.1, 1168.1, 1197.0, 1200.2, 1190.0, 1158.65, 1160.5, 1191.25, 1196.4, 1173.3, 1172.15, 1158.4, 1159.15, 1182.2, 1191.7, 1218.35, 1212.35, 1222.35, 1230.0, 1232.55, 1246.0, 1247.7, 1242.8, 1247.6, 1233.35, 1228.0, 1201.2, 1189.0, 1189.25, 1182.15, 1210.35, 1206.0, 1220.0, 1225.0, 1228.2, 1201.0, 1210.55, 1211.25, 1231.05, 1243.05, 1237.7, 1247.0, 1245.7, 1253.4, 1272.7, 1298.05, 1319.1, 1316.15, 1318.05, 1320.0, 1338.0, 1331.25, 1325.3, 1328.15, 1326.7, 1350.4, 1362.2, 1368.55, 1374.0, 1373.0, 1368.0, 1334.05, 1316.4, 1313.1, 1322.55, 1345.6, 1331.5, 1325.35, 1331.0, 1352.55, 1348.1, 1350.5, 1363.75, 1358.8, 1357.6, 1362.25, 1366.25, 1352.3, 1349.0, 1357.65, 1373.6, 1390.0, 1405.3, 1421.05, 1442.0, 1416.25, 1428.1, 1396.55, 1373.7, 1378.5, 1390.4, 1393.0, 1386.0, 1382.25, 1388.55, 1402.0, 1412.0, 1403.1, 1406.0, 1417.15, 1392.6, 1381.8, 1386.0, 1416.1, 1414.35, 1418.2, 1398.4, 1386.15, 1335.05, 1312.9, 1297.15, 1306.55, 1336.15, 1345.3, 1331.05, 1333.05, 1327.5, 1319.0, 1328.6, 1362.4, 1375.0, 1377.0, 1392.25, 1395.7, 1377.55, 1373.35, 1366.1, 1310.0, 1311.0, 1263.25, 1201.0, 1221.8, 1238.1, 1243.4, 1213.75, 1225.8, 1205.0, 1212.1, 1210.2, 1234.0, 1241.6, 1237.55, 1259.2, 1233.0, 1183.15, 1218.05, 1246.0, 1270.5, 1260.0, 1254.15, 1250.0, 1257.0, 1255.25, 1262.0, 1242.65, 1227.8, 1230.25, 1213.25, 1208.25, 1206.0, 1211.45, 1222.9, 1229.9, 1249.5, 1213.7, 1200.5, 1197.25, 1205.1, 1218.8, 1212.6, 1213.05, 1218.2, 1217.6, 1222.15, 1240.25, 1234.95, 1245.65, 1232.9, 1230.6, 1232.0, 1260.0, 1279.7, 1329.15, 1360.0, 1353.0, 1369.65, 1385.7, 1385.6, 1388.6, 1388.4, 1383.8, 1385.65, 1382.8, 1372.6, 1388.05, 1389.5, 1386.25, 1400.2, 1386.0, 1389.85, 1391.8, 1378.0, 1368.1, 1368.4, 1369.2, 1392.0, 1366.0, 1362.5, 1362.75, 1361.3, 1362.6, 1369.0, 1413.3, 1416.65, 1431.15, 1438.7, 1446.95, 1449.35, 1434.05, 1439.85, 1450.0, 1455.0, 1477.1, 1498.5, 1510.55, 1496.55, 1502.05, 1486.75, 1468.1, 1466.25, 1465.05, 1461.2, 1460.0, 1461.15, 1474.8, 1474.0, 1470.2, 1487.1, 1490.95, 1507.45, 1531.0, 1551.2, 1559.05, 1532.15, 1538.9, 1563.0, 1556.0, 1540.95, 1527.15, 1517.85, 1527.2, 1557.0, 1539.35, 1554.1, 1554.0, 1549.75, 1526.5, 1515.35, 1510.25, 1503.45, 1512.4, 1530.5, 1530.25, 1546.0, 1575.05, 1565.4, 1551.8, 1582.0, 1591.15, 1602.5, 1590.6, 1605.0, 1620.1, 1633.85, 1642.05, 1644.0, 1629.55, 1629.15, 1645.2, 1627.9, 1615.5, 1626.1, 1642.1, 1639.7, 1623.1, 1620.1, 1606.95, 1600.7, 1616.4, 1622.25, 1623.05, 1617.0, 1620.9, 1629.9, 1626.05, 1640.2, 1637.05, 1645.55, 1649.1, 1641.85, 1642.8, 1622.35, 1626.3, 1627.35, 1620.0, 1642.15, 1709.1, 1751.2, 1754.7, 1760.0, 1725.0, 1721.0, 1720.1, 1701.0, 1705.0, 1699.0, 1681.4, 1691.3, 1715.1, 1720.25, 1725.25, 1730.0, 1737.6, 1747.7, 1746.0, 1756.45, 1725.0, 1738.5, 1746.0, 1751.65, 1742.05, 1748.05, 1749.2, 1752.1, 1774.1, 1776.35, 1768.7, 1773.6, 1763.05, 1758.0, 1763.6, 1751.0, 1746.0, 1764.0, 1770.15, 1738.9, 1728.1, 1715.8, 1713.0, 1730.0, 1734.15, 1750.0, 1748.1, 1733.25, 1731.2, 1737.3, 1741.95, 1742.1, 1752.0, 1746.05, 1751.3, 1749.0, 1738.9, 1713.0, 1712.0, 1649.35, 1638.0, 1681.35, 1685.1, 1697.95, 1701.25, 1743.1, 1760.15, 1766.0, 1760.25, 1742.25, 1706.0, 1697.15, 1666.4, 1658.0, 1648.4, 1649.3, 1688.3, 1685.0, 1687.0, 1692.75, 1700.65, 1697.1, 1699.6, 1710.0, 1700.35, 1667.95, 1651.05, 1655.6, 1663.4, 1640.85, 1644.1, 1660.0, 1691.0, 1698.0, 1688.3, 1682.25, 1713.05, 1679.7, 1704.65, 1690.0, 1695.25, 1697.0, 1702.05, 1705.0, 1690.3, 1697.55, 1677.5, 1685.4, 1695.0, 1691.05, 1705.85, 1729.0, 1725.0, 1721.2, 1724.4, 1740.6, 1778.05, 1835.75, 1841.0, 1865.6, 1894.35, 1863.95, 1870.2, 1880.0, 1883.5, 1909.9, 1927.9, 1918.0, 1931.8, 1895.0, 1811.8, 1757.05, 1767.05, 1787.5, 1762.0, 1760.7, 1805.0, 1819.15, 1804.2, 1801.0, 1802.5, 1816.0, 1807.7, 1815.5, 1821.35, 1819.05, 1803.6, 1801.0, 1780.3, 1758.1, 1756.1, 1771.7, 1801.0, 1827.05, 1850.0, 1836.05, 1827.4, 1784.65, 1768.45, 1771.0, 1803.6, 1801.75, 1776.1, 1778.25, 1813.9, 1812.75, 1828.95, 1815.6, 1792.0, 1812.2, 1820.6, 1825.0, 1815.1, 1802.6, 1806.0, 1822.6, 1832.2, 1862.2, 1871.1, 1851.65, 1832.5, 1828.6, 1834.5, 1840.0, 1841.2, 1840.0, 1862.55, 1871.35, 1906.75, 1904.2, 1901.25, 1895.6, 1882.3, 1890.45, 1901.0, 1919.8, 1923.8, 1908.9, 1867.95, 1850.05, 1816.5, 1795.85, 1780.05, 1788.1, 1796.05, 1820.55, 1804.3, 1780.4, 1797.2, 1823.95, 1825.35, 1820.65, 1838.15, 1858.55, 1827.0, 1831.35, 1838.05, 1826.6, 1827.0, 1827.1, 1820.2, 1817.0, 1830.2, 1844.45, 1853.8, 1885.0, 1889.4, 1895.65, 1865.5, 1873.0, 1879.3, 1874.65, 1882.1, 1908.25, 1912.25, 1901.0, 1904.55, 1920.3, 1935.0, 1943.45, 1973.0, 1968.0, 1998.8, 1977.0, 1957.1, 1959.55, 1962.15, 1984.2, 1991.0, 2023.25, 2013.8, 1971.0, 1959.65, 1927.35, 1941.0, 1965.05, 1968.55, 1953.4, 1961.35, 1951.3, 1939.2, 1937.8, 1888.55, 1881.0, 1891.3, 1906.55, 1900.5, 1901.0, 1916.7, 1926.0, 1944.7, 1928.25, 1908.05, 1928.1, 1939.0, 1923.05, 1928.45, 1915.05, 1878.25, 1860.45, 1856.55, 1882.1, 1871.0, 1847.05, 1824.15, 1783.0, 1702.8, 1713.8, 1756.1, 1726.15, 1736.0, 1753.1, 1785.65, 1742.35, 1683.75, 1646.55, 1671.6, 1716.65, 1675.7, 1694.5, 1703.65, 1713.15, 1729.5, 1651.7, 1649.45, 1644.5, 1706.6, 1685.05, 1675.5, 1653.05, 1663.2, 1677.1, 1748.25, 1765.5, 1773.35, 1783.1, 1807.65, 1780.0, 1789.35, 1784.55, 1830.25, 1824.2, 1850.0, 1872.8, 1872.05, 1864.0, 1866.65, 1869.0, 1870.0, 1907.15, 1935.0, 1962.8, 1955.0, 1917.7, 1920.6, 1938.0, 1929.1, 1901.25, 1855.25, 1904.25, 1927.9, 1898.05, 1913.7, 1932.5, 1948.55, 1943.05, 1930.0, 1898.0, 1883.2, 1930.0, 1952.0, 1961.55, 1954.5, 1961.0, 1931.85, 1942.0, 1963.95, 1948.0, 1962.0, 1971.3, 1972.4, 1949.6, 1964.0, 1965.5, 1979.05, 1989.25, 1983.2, 1968.5, 1951.3, 1942.15, 1963.95, 1938.1, 1893.3, 1869.5, 1877.3, 1925.1, 1942.0, 1962.25, 1975.5, 1962.55, 1936.85, 1935.6, 1901.15, 1907.1, 1893.85, 1856.5, 1864.05, 1844.25, 1858.0, 1865.1, 1877.5, 1871.5, 1850.0, 1820.0, 1834.6, 1838.3, 1838.55, 1858.8, 1865.2, 1871.1, 1884.0, 1900.1, 1923.4, 1949.3, 1955.9, 1953.1, 1962.1, 1968.1, 1970.6, 1938.2, 1930.85, 1906.0, 1912.05, 1936.05, 1945.05, 1955.0, 1997.15, 2006.3, 2035.0, 2029.25, 2039.15, 2025.1, 2017.5, 2008.1, 2010.0, 2016.1, 1998.15, 1948.0, 1929.6, 1933.25, 1946.55, 1941.6, 1954.2, 1989.25, 2000.0, 1957.0, 1959.2, 1925.05, 1901.3, 1910.75, 1917.85, 1924.25, 1937.5, 1923.3, 1938.55, 2030.0, 2104.1, 2119.0, 2103.3, 2095.0, 2116.2, 2114.0, 2135.0, 2130.0, 2140.05, 2192.7, 2209.0, 2171.65, 2168.4, 2175.45, 2181.0, 2162.0, 2161.35, 2177.15, 2164.0, 2134.65, 2158.55, 2165.65, 2135.9, 2133.5, 2138.1, 2153.7, 2166.05, 2177.65, 2192.3, 2240.0, 2257.2, 2265.1, 2266.6, 2243.3, 2197.25, 2220.0, 2231.1, 2250.75, 2236.4, 2256.95, 2277.0, 2285.55, 2292.8, 2180.2, 2126.05, 2140.0, 2161.3, 2159.4, 2110.0, 2113.35, 2107.7, 2063.8, 2039.35, 2107.75, 2136.55, 2161.7, 2152.0, 2178.75, 2092.45, 2105.25, 2092.5, 2098.1, 2075.0, 2062.95, 2007.95, 1973.0, 2060.0, 2144.7, 2155.75, 2120.4, 2118.0, 2083.0, 2072.7, 2040.0, 2023.0, 2029.0, 2053.1, 2076.85, 2063.7, 2038.0, 1976.2, 1982.4, 1964.1, 1960.0, 2080.0, 2114.25, 2050.25, 2053.8, 2025.6, 1970.05, 1962.95, 1951.25, 1972.6, 1963.05, 1964.35, 1971.0, 1980.25, 2000.0, 2009.2, 2015.0, 2050.1, 2065.1, 2096.0, 2104.7, 2141.35, 2085.25, 2096.8, 2079.05, 2102.6, 2103.65, 2120.1, 2121.1, 2164.7, 2162.0, 2236.2, 2211.0, 2216.0, 2195.45, 2190.2, 2208.0, 2210.0, 2202.2, 2193.75, 2186.2, 2199.3, 2227.4, 2280.95, 2308.4, 2295.0, 2280.1, 2263.9, 2287.05, 2286.4, 2300.0, 2246.45, 2260.05, 2288.15, 2292.7, 2303.0, 2318.1, 2343.0, 2359.4, 2415.8, 2405.65, 2378.15, 2390.0, 2402.95, 2404.3, 2418.55, 2421.5, 2406.55, 2409.0, 2422.0, 2441.8, 2371.4, 2380.2, 2385.5, 2421.15, 2440.3, 2441.0, 2446.6, 2453.55, 2471.8, 2448.25, 2440.4, 2432.0, 2412.2, 2404.35, 2411.4, 2388.5, 2410.0, 2400.0, 2386.9, 2404.5, 2252.75, 2228.2, 2265.6, 2326.2, 2369.65, 2398.35, 2391.05, 2420.2, 2427.9, 2399.0, 2389.4, 2345.15, 2304.0, 2330.05, 2349.05, 2280.1, 2285.0, 2253.55, 2244.55, 2162.3, 2153.8, 2173.3, 2180.2, 2183.0, 2092.8, 1981.2, 1970.0, 1861.1, 1688.15, 1825.0, 1740.0, 1602.4, 1490.1, 1535.2, 1500.0, 1473.45, 1476.0, 1671.2, 1710.05, 1548.0, 1582.0, 1575.9, 1482.25, 1517.6, 1535.0, 1587.5, 1646.55, 1584.9, 1575.0, 1652.4, 1673.4, 1651.1, 1626.15, 1651.6, 1569.1, 1585.35, 1612.65, 1726.0, 1855.5, 1708.3, 1678.0, 1680.0, 1697.65, 1685.0, 1652.1, 1587.1, 1698.0, 1628.1, 1609.0, 1506.4, 1512.0, 1545.0, 1590.0, 1501.5, 1486.0, 1490.0, 1577.0, 1590.9, 1701.3, 1732.15, 1823.1, 1759.0, 1740.6, 1748.35, 1746.0, 1782.0, 1781.35, 1710.0, 1726.0, 1768.05, 1786.0, 1787.3, 1814.0, 1813.1, 1803.05, 1788.6, 1761.9, 1752.4, 1726.25, 1747.2, 1760.4, 1842.6, 1867.3, 1864.55, 1857.0, 1871.0, 1865.0, 1876.25, 1840.0, 1770.5, 1782.0, 1750.0, 1784.05, 1801.0, 1815.0, 1851.5, 1871.6, 1817.0, 1824.0, 1844.5, 1867.2, 1804.0, 1759.0, 1730.1, 1743.4, 1766.25, 1762.05, 1763.0, 1789.3, 1810.5, 1802.0, 1799.55, 1773.25, 1783.85, 1795.95, 1818.05, 1782.25, 1787.15, 1811.0, 1817.05, 1803.6, 1830.0, 1862.8, 1797.55], \"name\": \"Data\", \"open\": [293.5, 317.0, 290.0, 301.0, 290.0, 292.0, 290.0, 287.0, 288.0, 284.0, 302.0, 307.0, 310.0, 303.0, 292.0, 306.0, 285.0, 315.9, 328.5, 328.7, 337.0, 355.0, 345.55, 342.0, 351.0, 359.0, 354.0, 329.0, 327.0, 354.0, 352.35, 350.0, 336.0, 339.0, 329.0, 317.0, 317.0, 349.85, 354.0, 405.5, 420.0, 405.0, 456.9, 489.0, 479.0, 447.0, 415.0, 419.0, 400.0, 386.1, 385.0, 406.0, 405.85, 398.0, 414.0, 424.0, 409.95, 415.0, 424.85, 418.6, 378.0, 357.0, 419.0, 444.0, 480.0, 460.0, 461.0, 493.9, 470.05, 460.0, 449.0, 444.55, 444.0, 432.0, 459.0, 470.0, 444.15, 470.0, 458.0, 460.0, 475.0, 451.8, 470.0, 453.0, 440.0, 433.1, 423.0, 437.0, 460.0, 457.0, 465.0, 463.0, 460.0, 464.5, 472.0, 482.6, 500.0, 486.0, 479.0, 485.0, 565.0, 534.0, 474.0, 499.9, 535.5, 550.0, 520.0, 520.0, 519.4, 520.0, 495.1, 500.0, 481.0, 484.0, 502.0, 510.0, 513.0, 525.0, 517.0, 540.0, 545.0, 580.0, 557.0, 548.0, 554.0, 543.0, 452.3, 491.9, 513.0, 505.0, 486.0, 489.0, 505.0, 488.95, 480.0, 481.0, 479.9, 480.0, 518.0, 504.65, 501.0, 498.0, 495.0, 500.0, 498.3, 507.0, 496.0, 488.2, 488.0, 502.7, 501.0, 506.0, 494.0, 499.0, 501.0, 505.9, 522.1, 512.0, 502.5, 481.5, 488.0, 494.0, 494.0, 499.0, 500.0, 505.65, 518.0, 528.0, 528.2, 540.0, 532.0, 545.9, 535.0, 525.0, 517.0, 507.0, 514.0, 501.35, 495.0, 515.0, 504.9, 496.0, 477.0, 465.05, 447.0, 430.0, 444.85, 437.0, 440.0, 442.75, 441.0, 446.0, 448.0, 450.0, 445.0, 445.0, 453.9, 444.05, 461.0, 456.7, 485.0, 469.0, 462.0, 458.0, 465.0, 458.0, 462.0, 469.0, 477.7, 471.0, 489.0, 485.0, 482.05, 486.0, 487.9, 489.8, 495.0, 509.5, 508.0, 499.0, 491.0, 484.0, 478.0, 476.35, 471.05, 491.5, 511.0, 528.85, 522.0, 529.0, 525.55, 520.0, 523.0, 530.0, 528.0, 537.0, 550.0, 556.0, 565.0, 555.0, 557.0, 555.0, 556.0, 555.5, 550.5, 550.0, 555.0, 535.1, 533.25, 544.0, 538.1, 536.1, 541.0, 560.0, 555.0, 583.8, 589.0, 589.0, 565.1, 555.0, 550.0, 532.0, 542.0, 526.0, 530.0, 521.0, 500.0, 505.0, 519.8, 532.5, 585.0, 555.0, 547.0, 553.0, 575.0, 555.65, 563.0, 562.75, 578.0, 597.0, 580.0, 572.0, 574.0, 584.0, 574.75, 578.0, 570.5, 570.0, 561.0, 564.0, 574.0, 597.0, 604.75, 605.0, 555.1, 549.0, 548.0, 531.1, 540.25, 535.05, 511.0, 590.0, 566.0, 572.0, 569.5, 556.5, 572.0, 586.0, 584.0, 580.0, 588.0, 570.0, 569.0, 541.0, 563.0, 570.0, 570.0, 560.0, 554.0, 558.0, 543.0, 558.0, 586.0, 576.0, 585.0, 570.05, 572.0, 583.0, 588.0, 599.0, 583.0, 585.0, 575.0, 590.0, 591.1, 605.0, 610.0, 613.35, 589.0, 589.85, 586.0, 583.1, 599.0, 617.0, 675.05, 655.6, 661.0, 644.0, 652.9, 664.0, 660.05, 665.0, 662.6, 670.0, 674.8, 670.0, 660.1, 665.05, 654.75, 652.0, 665.0, 673.5, 660.0, 658.0, 645.25, 655.0, 659.5, 666.1, 674.9, 664.0, 657.05, 674.9, 687.0, 687.0, 677.7, 684.0, 665.0, 620.0, 666.6, 651.0, 664.95, 650.35, 650.0, 654.0, 653.0, 674.9, 660.0, 651.0, 658.9, 660.0, 634.0, 630.05, 639.95, 620.25, 640.0, 660.0, 659.95, 645.0, 686.0, 678.85, 669.95, 666.05, 660.0, 660.0, 665.0, 679.8, 665.0, 668.0, 670.0, 677.95, 683.1, 699.0, 709.8, 685.55, 678.0, 680.0, 680.1, 692.0, 702.0, 690.0, 697.8, 697.0, 701.1, 710.0, 725.0, 692.0, 689.0, 670.0, 620.0, 615.0, 636.0, 660.0, 646.0, 648.0, 627.0, 666.0, 632.0, 630.0, 630.05, 641.0, 650.0, 698.0, 614.0, 670.0, 679.0, 665.0, 672.0, 655.0, 658.95, 679.9, 672.0, 652.3, 649.0, 652.0, 680.0, 670.0, 670.05, 676.0, 685.0, 688.0, 704.0, 709.9, 690.0, 695.0, 701.75, 704.0, 689.0, 693.0, 699.0, 686.0, 694.4, 696.0, 685.0, 702.0, 700.0, 700.4, 702.05, 703.0, 696.0, 694.2, 696.0, 695.0, 697.0, 698.0, 695.0, 695.0, 687.0, 690.0, 685.0, 690.0, 681.0, 682.0, 670.5, 670.0, 674.0, 667.0, 670.0, 668.0, 665.05, 663.0, 656.9, 657.0, 644.5, 626.0, 624.0, 647.0, 650.0, 657.95, 646.0, 640.0, 635.0, 634.9, 628.0, 630.0, 625.0, 625.0, 631.5, 649.95, 645.25, 630.0, 642.85, 640.5, 641.0, 643.75, 632.0, 640.0, 643.9, 635.0, 639.0, 645.0, 653.7, 688.0, 675.0, 680.0, 668.95, 656.3, 660.0, 675.0, 675.0, 670.5, 688.0, 685.0, 678.5, 686.0, 669.0, 669.15, 667.6, 667.05, 660.0, 665.35, 666.25, 666.2, 679.8, 666.0, 676.9, 682.0, 673.0, 670.0, 667.0, 630.6, 680.0, 677.0, 665.0, 661.0, 667.95, 662.0, 660.0, 680.0, 665.0, 658.9, 660.0, 665.0, 651.95, 655.0, 650.0, 635.0, 613.0, 613.2, 615.0, 600.05, 630.2, 645.0, 645.0, 655.0, 630.0, 650.0, 637.0, 645.0, 642.0, 636.05, 648.95, 650.0, 650.0, 627.0, 629.9, 620.1, 617.85, 610.0, 603.0, 613.0, 601.05, 600.0, 594.0, 592.25, 596.0, 595.0, 592.0, 610.0, 611.1, 630.0, 621.3, 628.0, 640.0, 639.95, 650.0, 648.95, 641.5, 630.0, 601.0, 611.0, 630.0, 623.0, 665.0, 640.0, 645.2, 640.0, 627.9, 620.0, 634.0, 626.05, 640.0, 634.9, 629.95, 628.5, 620.0, 625.0, 620.15, 629.0, 614.5, 621.0, 623.95, 610.0, 605.0, 621.9, 605.0, 615.0, 560.0, 639.9, 581.1, 622.1, 619.0, 623.0, 611.15, 612.0, 630.0, 630.0, 612.0, 617.2, 613.1, 618.75, 605.0, 603.0, 595.0, 589.0, 561.0, 565.0, 577.4, 574.85, 587.0, 599.0, 593.0, 598.0, 577.5, 577.0, 599.9, 584.0, 580.0, 582.0, 591.0, 587.05, 590.6, 589.0, 593.0, 592.95, 580.0, 590.0, 594.0, 598.0, 600.0, 600.0, 599.9, 600.65, 608.25, 608.0, 608.2, 635.0, 620.0, 620.0, 632.0, 627.9, 619.0, 625.0, 630.0, 629.0, 632.0, 635.0, 628.0, 628.0, 630.0, 627.05, 632.0, 630.0, 628.05, 634.0, 629.45, 642.0, 649.0, 646.0, 656.4, 659.0, 660.0, 668.3, 695.0, 683.85, 676.0, 686.0, 682.0, 689.9, 686.0, 687.0, 661.0, 680.0, 685.0, 688.0, 680.0, 678.0, 360.0, 345.0, 375.0, 375.8, 360.0, 360.0, 360.0, 358.9, 357.0, 356.0, 348.1, 357.0, 360.0, 358.5, 359.9, 356.6, 354.25, 360.0, 363.9, 365.0, 371.0, 363.55, 364.85, 368.5, 374.0, 372.0, 370.0, 377.0, 372.0, 383.75, 371.55, 370.1, 375.0, 375.0, 375.0, 376.9, 372.1, 374.1, 352.0, 374.85, 372.55, 375.2, 392.0, 388.0, 375.0, 382.5, 375.75, 375.0, 381.0, 375.0, 377.0, 375.0, 377.0, 375.95, 377.9, 375.0, 375.0, 366.5, 373.0, 367.75, 368.0, 364.3, 364.35, 356.05, 354.3, 356.0, 356.9, 350.0, 350.0, 351.5, 352.55, 343.1, 341.0, 339.0, 333.75, 330.05, 374.0, 341.0, 340.1, 345.0, 338.6, 340.0, 340.0, 347.8, 347.75, 340.0, 335.0, 330.0, 326.1, 333.9, 322.3, 314.1, 298.0, 315.0, 326.05, 339.0, 358.5, 348.1, 347.25, 330.0, 330.0, 332.0, 332.25, 333.0, 333.95, 340.0, 337.05, 343.75, 340.0, 330.1, 350.0, 345.0, 365.0, 366.0, 364.5, 372.0, 369.0, 370.0, 378.1, 370.0, 366.05, 364.0, 380.0, 376.0, 375.0, 369.0, 385.95, 397.5, 400.05, 405.0, 415.0, 405.6, 406.0, 410.0, 405.25, 406.0, 416.4, 395.1, 398.0, 400.0, 419.5, 409.0, 414.0, 412.0, 410.5, 408.25, 415.0, 420.0, 405.2, 409.0, 401.0, 401.05, 418.2, 420.0, 406.95, 409.0, 417.95, 409.0, 415.0, 404.0, 409.1, 422.0, 440.0, 430.0, 430.0, 431.05, 440.0, 451.0, 482.0, 468.9, 460.0, 480.1, 512.0, 502.0, 488.95, 486.0, 480.0, 474.0, 482.0, 488.95, 482.05, 504.95, 482.5, 484.0, 496.5, 507.0, 500.0, 496.5, 500.0, 498.9, 480.0, 480.0, 504.9, 471.9, 471.0, 484.0, 479.0, 482.0, 501.95, 490.05, 500.0, 491.5, 491.75, 499.0, 529.0, 550.0, 535.0, 530.1, 549.0, 550.0, 531.0, 513.0, 538.9, 560.0, 541.0, 538.0, 537.0, 530.1, 491.05, 535.0, 520.0, 528.0, 540.5, 528.0, 535.0, 530.0, 527.1, 521.1, 534.9, 522.0, 515.05, 528.95, 519.0, 541.0, 524.0, 517.0, 523.65, 511.15, 525.0, 516.0, 522.65, 525.0, 520.0, 520.0, 543.0, 550.05, 572.0, 559.0, 476.95, 570.0, 575.0, 583.75, 590.0, 572.0, 608.0, 639.85, 630.2, 627.0, 624.0, 621.45, 622.0, 622.45, 625.0, 670.0, 661.0, 669.0, 660.05, 645.9, 660.9, 653.0, 660.5, 650.0, 640.0, 651.0, 656.0, 635.0, 643.0, 649.0, 641.0, 635.0, 668.0, 658.0, 645.0, 642.0, 632.0, 625.0, 602.15, 655.0, 645.0, 648.0, 643.2, 653.4, 660.0, 663.95, 674.0, 680.0, 668.0, 679.9, 664.9, 665.0, 678.95, 671.5, 657.0, 645.0, 633.0, 618.0, 630.0, 620.0, 640.0, 635.0, 644.0, 646.0, 635.0, 626.0, 627.0, 619.75, 630.0, 612.9, 607.0, 591.75, 601.0, 605.0, 602.0, 618.5, 612.0, 605.0, 610.5, 622.0, 617.0, 642.0, 648.0, 678.1, 673.0, 675.5, 689.95, 660.0, 664.8, 657.1, 655.0, 645.0, 592.0, 622.05, 621.0, 627.05, 625.0, 620.0, 623.9, 612.1, 601.0, 592.0, 605.5, 624.0, 649.0, 655.0, 649.0, 631.0, 610.0, 580.0, 592.0, 546.0, 510.0, 620.0, 609.0, 560.0, 590.0, 580.4, 570.0, 580.0, 570.0, 560.0, 578.0, 568.9, 565.0, 560.0, 582.0, 610.0, 618.0, 610.25, 617.0, 598.0, 588.0, 607.0, 567.0, 562.3, 575.25, 567.0, 575.0, 565.0, 545.0, 554.9, 559.0, 535.0, 518.0, 517.2, 529.0, 532.8, 540.0, 550.0, 530.0, 555.05, 548.0, 541.55, 540.0, 559.0, 560.0, 555.35, 550.0, 580.0, 599.0, 585.4, 585.0, 580.05, 575.1, 598.75, 572.1, 579.85, 567.0, 571.15, 570.1, 569.0, 566.0, 575.0, 564.3, 569.0, 560.0, 558.0, 535.0, 532.1, 540.5, 532.55, 544.5, 548.0, 556.0, 557.9, 560.0, 557.95, 555.5, 555.1, 558.0, 564.8, 571.8, 564.0, 592.0, 586.0, 612.0, 628.9, 636.0, 618.95, 607.5, 618.0, 614.15, 625.0, 628.8, 625.0, 616.0, 613.0, 613.95, 619.0, 610.0, 635.0, 649.9, 654.0, 660.05, 670.1, 672.1, 673.0, 678.15, 691.2, 654.0, 635.0, 650.0, 570.0, 655.0, 662.0, 657.0, 647.95, 655.0, 642.0, 653.0, 637.8, 646.0, 670.1, 673.0, 662.3, 665.0, 701.0, 705.0, 701.0, 690.0, 697.0, 683.05, 708.85, 720.0, 727.5, 735.0, 754.0, 773.95, 772.0, 800.0, 776.0, 804.0, 790.0, 770.05, 772.05, 760.0, 782.75, 768.0, 782.0, 788.0, 802.95, 797.0, 798.5, 780.3, 782.0, 778.95, 773.9, 755.2, 761.0, 759.9, 755.1, 755.0, 771.0, 770.0, 756.25, 742.0, 682.0, 730.0, 731.0, 720.0, 725.0, 718.0, 733.55, 765.0, 780.0, 756.05, 760.0, 744.0, 754.0, 775.0, 764.95, 785.0, 778.0, 778.0, 794.0, 811.0, 796.0, 818.05, 818.0, 814.45, 793.0, 784.9, 782.9, 779.85, 780.0, 780.0, 781.0, 788.9, 775.0, 777.85, 760.1, 783.0, 782.0, 760.2, 790.0, 798.7, 816.0, 794.0, 800.0, 825.0, 802.0, 791.25, 800.0, 783.0, 779.9, 755.0, 752.3, 732.05, 712.0, 697.0, 714.0, 696.95, 735.0, 734.95, 728.0, 725.4, 726.85, 724.0, 719.5, 705.0, 705.0, 708.2, 720.0, 698.2, 695.0, 711.0, 715.0, 721.3, 729.95, 723.0, 719.4, 725.5, 752.5, 735.0, 742.0, 741.0, 757.85, 749.9, 745.0, 739.0, 736.0, 738.9, 753.1, 769.9, 764.0, 765.1, 764.9, 764.9, 761.0, 754.1, 754.0, 756.0, 772.0, 765.0, 754.0, 766.9, 769.9, 769.7, 765.1, 770.0, 782.0, 810.1, 828.0, 838.8, 837.1, 830.0, 824.0, 821.4, 847.85, 850.1, 850.0, 844.0, 865.0, 854.7, 847.0, 852.0, 859.0, 868.85, 862.1, 875.45, 880.6, 901.0, 928.0, 910.0, 920.0, 930.0, 915.0, 893.0, 883.5, 855.0, 900.0, 900.0, 897.5, 893.1, 883.0, 908.0, 900.1, 915.0, 927.1, 934.0, 930.0, 918.0, 921.0, 909.0, 899.0, 892.0, 918.8, 950.0, 930.0, 933.05, 942.0, 922.0, 932.0, 914.0, 924.0, 905.0, 918.0, 890.0, 874.0, 896.25, 904.05, 920.9, 907.0, 905.1, 905.0, 937.0, 923.0, 945.0, 955.0, 985.1, 1005.0, 1065.5, 1054.8, 1011.0, 990.9, 973.0, 970.0, 1000.0, 1019.7, 1040.0, 1025.0, 1044.85, 1030.0, 1021.0, 1025.0, 999.0, 1003.0, 986.0, 986.15, 1019.45, 980.1, 983.0, 974.9, 989.95, 950.0, 920.1, 913.0, 910.5, 920.05, 935.0, 941.9, 967.9, 970.05, 1000.0, 1008.0, 1042.0, 1040.0, 1026.0, 1049.85, 1077.5, 1069.0, 1048.0, 1040.0, 1066.8, 1048.15, 1069.8, 1041.55, 1120.0, 1120.0, 1140.1, 1145.0, 1126.0, 1145.0, 1145.2, 1114.0, 1120.0, 1121.0, 1107.0, 1122.0, 1138.9, 1182.0, 1192.0, 1188.0, 1220.0, 1243.0, 1250.0, 1268.0, 1290.0, 1245.0, 1174.5, 1171.0, 1199.95, 1218.0, 1195.0, 1194.0, 1239.0, 1239.95, 1201.0, 1260.0, 1261.0, 1242.2, 1218.7, 1195.0, 1179.0, 1160.0, 1150.0, 1198.0, 1252.0, 1240.0, 1250.0, 1282.0, 1302.0, 1315.3, 1345.0, 1393.0, 1355.0, 1305.0, 1325.0, 1332.0, 1345.0, 1363.5, 1372.0, 1385.0, 1363.0, 1359.0, 1304.0, 1325.0, 1334.0, 1390.0, 1384.4, 1364.9, 1389.9, 1315.0, 1354.8, 1352.0, 1320.0, 1334.0, 1349.95, 1297.0, 1284.0, 1339.8, 1318.5, 1353.0, 1350.0, 1343.0, 1358.0, 1312.0, 1320.0, 1334.9, 1316.0, 1320.0, 1344.5, 1349.9, 1355.9, 1349.0, 1325.1, 1354.0, 1350.0, 1350.0, 1320.0, 1291.0, 1274.0, 1275.0, 1300.0, 1242.6, 1272.05, 1255.0, 1259.0, 1282.0, 1296.45, 1252.2, 1275.1, 1335.0, 1327.0, 1300.0, 1294.0, 1327.0, 1345.0, 1369.8, 1370.0, 1374.0, 1335.0, 1333.0, 1360.0, 1331.0, 1360.0, 1211.0, 1201.0, 1223.0, 1140.0, 1157.7, 1180.0, 1210.0, 1175.85, 1150.0, 1100.0, 1190.0, 1170.0, 1111.55, 1148.95, 1109.1, 1199.2, 1099.8, 1050.0, 1040.0, 1110.0, 1045.0, 1031.0, 1014.0, 1087.0, 1105.0, 1100.0, 1075.0, 1050.0, 1083.25, 1074.0, 1098.0, 1130.0, 1125.0, 1140.0, 1194.0, 1221.1, 1125.0, 1200.0, 1175.0, 1182.0, 1151.0, 1130.0, 1104.0, 1080.0, 1093.0, 1085.0, 1069.5, 1099.0, 1097.0, 1128.0, 1191.9, 1195.0, 1173.4, 1170.0, 1208.0, 1225.0, 1239.0, 1249.95, 1239.0, 1246.0, 1276.0, 1284.0, 1305.0, 1290.0, 1294.0, 1280.0, 1295.0, 1310.0, 1277.7, 1285.0, 1273.0, 1279.0, 1294.9, 1305.0, 1306.0, 1315.0, 1325.0, 1330.0, 1318.2, 1357.0, 1340.0, 1330.0, 1330.0, 1357.0, 1347.0, 1330.0, 1375.0, 1345.0, 1390.0, 1404.0, 1408.8, 1380.0, 1424.75, 1455.95, 1482.0, 1532.0, 1423.55, 1450.0, 1448.1, 1415.0, 1405.0, 1447.8, 1455.0, 1510.0, 1500.0, 1561.0, 1500.0, 1480.0, 1460.0, 1480.0, 1449.95, 1447.7, 1441.0, 1475.0, 1455.0, 1470.0, 1402.25, 1440.0, 1450.0, 1511.0, 1551.0, 1510.0, 1510.0, 1509.0, 1564.0, 1555.0, 1547.0, 1555.0, 1608.25, 1660.0, 1650.0, 1654.9, 1660.0, 1650.0, 1650.0, 1638.0, 1630.0, 1659.7, 1620.3, 1637.85, 1610.0, 1590.0, 1569.0, 1555.0, 1500.0, 1500.0, 1525.0, 1558.0, 1555.0, 1554.95, 1506.55, 1575.0, 1585.0, 1580.0, 1609.05, 1644.95, 1632.0, 1630.0, 1620.0, 1619.7, 1589.0, 1613.55, 1600.0, 1560.0, 1568.0, 1547.5, 1609.0, 1596.0, 1550.1, 1548.0, 1599.5, 1581.25, 1618.8, 1609.9, 1645.0, 1690.1, 1680.0, 1673.85, 1681.0, 1728.0, 1815.0, 1800.0, 1788.1, 1805.0, 1817.3, 1749.7, 1720.0, 1690.0, 1702.05, 1700.0, 1655.0, 1673.0, 1671.15, 1629.7, 1609.6, 1550.0, 1520.0, 1500.0, 1500.0, 1480.1, 1500.0, 1540.0, 1570.0, 1551.0, 1585.75, 1589.7, 1585.0, 1550.0, 1514.0, 1550.0, 1577.0, 1566.0, 1575.0, 1593.9, 1579.0, 1539.95, 1535.9, 1470.0, 1405.6, 1450.0, 1500.0, 1533.0, 1565.0, 1614.0, 1575.0, 1550.0, 1579.0, 1595.0, 1590.0, 1562.0, 1562.3, 1689.0, 1654.9, 1750.0, 1760.0, 1734.8, 1676.3, 1670.0, 1685.0, 1646.0, 1625.0, 1604.0, 1600.0, 1600.0, 1674.0, 1683.75, 1689.9, 1702.0, 1713.0, 1720.0, 1656.55, 1773.55, 1813.9, 1750.0, 1840.0, 1855.0, 1834.0, 1820.0, 1880.0, 1898.8, 1893.0, 1915.0, 1822.0, 1819.5, 1755.0, 1758.8, 1756.0, 1775.0, 1820.0, 1804.5, 1779.0, 1797.0, 1814.0, 1850.0, 1872.0, 1902.0, 1888.9, 1896.0, 1960.1, 1800.0, 2045.0, 2023.0, 1980.75, 1935.2, 1930.0, 1936.0, 1902.0, 1918.0, 1955.15, 1988.0, 2003.7, 1969.0, 1950.0, 1978.0, 1964.0, 1999.7, 1965.0, 1972.0, 2000.0, 1899.8, 1920.0, 1972.0, 1940.0, 2025.0, 1965.0, 1965.0, 1979.0, 2100.0, 1975.0, 1955.0, 1988.85, 1886.0, 1850.0, 1949.95, 1940.0, 1910.0, 1950.0, 1937.0, 1928.0, 1969.95, 1955.0, 1970.05, 1996.0, 1988.0, 2025.0, 2055.0, 2099.9, 2110.0, 2072.55, 2110.0, 2155.0, 2175.0, 2221.1, 2180.1, 2160.0, 2244.0, 2326.0, 2355.0, 2409.0, 2380.55, 2400.0, 2495.0, 2429.9, 2503.0, 2549.0, 2575.0, 2502.0, 2489.95, 2479.9, 2525.0, 2563.35, 2421.0, 2500.0, 2560.0, 2520.0, 2490.0, 2420.1, 2349.0, 2594.0, 2614.7, 2550.0, 2531.0, 2580.0, 2899.0, 2849.0, 2800.0, 2625.05, 2650.0, 2612.0, 2610.0, 2549.0, 2629.0, 2519.7, 2499.0, 2650.0, 2750.0, 2680.0, 2714.0, 2689.9, 2650.0, 2620.0, 2560.15, 2700.0, 2695.0, 2702.25, 2754.0, 2701.0, 2782.4, 2740.0, 2749.9, 2788.0, 2800.9, 2950.0, 2880.1, 2900.0, 3051.0, 3130.0, 3060.75, 2910.0, 2824.8, 2799.0, 2775.0, 2893.35, 2875.1, 2871.25, 2920.0, 2912.0, 2950.0, 3030.0, 3060.0, 3072.0, 3140.0, 3070.0, 3125.0, 3080.0, 3148.0, 3010.75, 2925.0, 2890.0, 2850.0, 2830.0, 2650.0, 2580.0, 2600.0, 2697.0, 2680.0, 2800.0, 2803.7, 2838.0, 2835.0, 3011.0, 3013.0, 3000.0, 2985.0, 2919.0, 2792.9, 2675.0, 2645.0, 2759.95, 2811.0, 2950.0, 2912.0, 2840.0, 2779.0, 2640.0, 2591.0, 2602.1, 2595.0, 2690.0, 2750.0, 2777.0, 2575.0, 2561.0, 2715.0, 2525.25, 2545.0, 2573.1, 2511.1, 2451.0, 2405.0, 2199.0, 2251.0, 2324.65, 2430.0, 2619.0, 2660.0, 2660.0, 2579.95, 2443.0, 2424.0, 2450.0, 2444.95, 2274.0, 2307.0, 2310.2, 2420.0, 2424.0, 2365.0, 2385.0, 2425.0, 2502.0, 2549.0, 2585.35, 2560.0, 2580.0, 2710.0, 2720.4, 2900.0, 2810.0, 2795.0, 2705.0, 2725.0, 2718.0, 2734.4, 2650.0, 2725.0, 2650.0, 2750.0, 2810.0, 2740.0, 2759.0, 2651.0, 2636.0, 2646.0, 2591.9, 2520.0, 2529.0, 2494.95, 2575.0, 2520.0, 2469.0, 2402.7, 2430.0, 2256.1, 2190.0, 2137.4, 2145.0, 2190.0, 2150.25, 2172.0, 2300.0, 2255.0, 2245.0, 2150.0, 2220.0, 2199.0, 2170.0, 2167.0, 2057.0, 1964.8, 1830.0, 2000.0, 1922.55, 2078.0, 2020.0, 2080.0, 2070.0, 2125.0, 1960.1, 1929.9, 1850.0, 1794.85, 1915.0, 2100.0, 2080.0, 2250.0, 2385.0, 2305.0, 2215.25, 2200.0, 2110.55, 2250.0, 2170.0, 2381.0, 2369.0, 2530.0, 2391.35, 2450.2, 2550.0, 2551.5, 2450.0, 2430.0, 2288.35, 2350.0, 2303.0, 2309.75, 2207.85, 2320.0, 2335.0, 2359.0, 2300.0, 2359.0, 2318.0, 2340.0, 2420.0, 2380.0, 2330.0, 2360.0, 2350.0, 2316.0, 2285.0, 2149.7, 2130.0, 2200.35, 2124.0, 2250.0, 2344.2, 2300.0, 2230.0, 2185.9, 2150.0, 2090.0, 1994.7, 2148.0, 2210.0, 2074.0, 2000.0, 1920.0, 1755.0, 1768.0, 1865.0, 1799.0, 1674.0, 1845.0, 1799.9, 1910.0, 1960.0, 1868.0, 1730.0, 1535.0, 1501.0, 1601.0, 1540.0, 1863.9, 1850.0, 1950.0, 1700.0, 1657.0, 1736.0, 1760.0, 1652.0, 1700.0, 1564.9, 1480.0, 1422.0, 1310.0, 1299.8, 1435.0, 1420.1, 1364.0, 1400.0, 1480.0, 1390.0, 1420.0, 1422.0, 1510.0, 1558.0, 1536.0, 1620.0, 1550.05, 1652.0, 1602.2, 1560.05, 1549.7, 1525.0, 1530.05, 1483.65, 1460.0, 1470.0, 1440.0, 1505.0, 1540.0, 1500.0, 1525.0, 1555.55, 1635.0, 1675.0, 1566.05, 1639.0, 1600.0, 1560.0, 1558.0, 1554.35, 1550.05, 1515.55, 1449.0, 1388.05, 1380.0, 1400.0, 1440.0, 1510.0, 1500.0, 1505.25, 1430.0, 1450.0, 1438.0, 1402.2, 1426.0, 1498.0, 1480.0, 1522.0, 1541.0, 1530.0, 1485.0, 1472.65, 1365.0, 1375.0, 1302.2, 1325.0, 1244.0, 1215.0, 1250.0, 1229.9, 1201.8, 1198.8, 1132.35, 1220.0, 1275.0, 1310.0, 1380.0, 1380.0, 1380.0, 1361.1, 1371.3, 1425.0, 1550.0, 1546.0, 1605.0, 1660.0, 1550.0, 1460.0, 1411.0, 1545.0, 1600.1, 1649.0, 1720.0, 1715.0, 1655.0, 1786.0, 1761.0, 1790.0, 1725.0, 1764.95, 1745.0, 1769.5, 1789.9, 1810.0, 1696.0, 1761.25, 1975.55, 1861.05, 1775.0, 1805.0, 1753.0, 1710.0, 1844.7, 1866.4, 1890.0, 2088.0, 2501.0, 2377.0, 2200.0, 2100.0, 2157.0, 2094.0, 2150.0, 2170.55, 2199.0, 2221.0, 2349.0, 2422.35, 2370.0, 2453.0, 2386.0, 2257.65, 2444.0, 2364.9, 2358.5, 2250.0, 2265.0, 2300.0, 2280.0, 2290.0, 2315.0, 2261.1, 2301.0, 2325.0, 2392.8, 2435.0, 2395.0, 2350.0, 2350.0, 2381.55, 2569.15, 2375.0, 2361.45, 2325.0, 2307.0, 2146.0, 2235.0, 2385.0, 2470.0, 2380.15, 2530.0, 2539.2, 2548.0, 2410.0, 2464.0, 2460.25, 2390.0, 2380.0, 2374.75, 2491.0, 2540.0, 2557.0, 2495.55, 2477.0, 2404.55, 2420.0, 2334.8, 2297.4, 2300.0, 2374.0, 2288.0, 2239.45, 2320.0, 2375.0, 2395.35, 2481.0, 2494.95, 2539.0, 2499.95, 2511.0, 2486.0, 2490.95, 2410.0, 2400.0, 2400.0, 2488.0, 2522.0, 2490.0, 2550.0, 2540.0, 2504.0, 2520.3, 2585.0, 2550.0, 2552.0, 2507.05, 2675.0, 2633.0, 2711.1, 2760.0, 2751.4, 2774.65, 2680.0, 2712.45, 2758.0, 2735.0, 2632.75, 2710.0, 2750.0, 2770.0, 2760.0, 2801.25, 2801.0, 2770.0, 2695.0, 2710.0, 2734.1, 2750.0, 2743.95, 2650.0, 2700.0, 2647.0, 2625.0, 2646.15, 2693.15, 2670.3, 2776.55, 2748.1, 2782.55, 2750.0, 2762.55, 2750.0, 2749.1, 2720.0, 2729.3, 2785.55, 2802.55, 2795.0, 2750.0, 2735.0, 2729.0, 2750.55, 2782.55, 2750.0, 2735.0, 2726.0, 2749.0, 2782.0, 2703.0, 2743.9, 2707.5, 2690.0, 2590.0, 2607.7, 2593.0, 2593.0, 2578.0, 2570.0, 2630.2, 2651.35, 2689.2, 2678.0, 2694.8, 2708.0, 2700.0, 2677.2, 2650.0, 2612.0, 2618.0, 2598.7, 2535.05, 2530.0, 2525.0, 2580.0, 2531.25, 2530.05, 2425.1, 2400.0, 2379.4, 2340.0, 2340.0, 2388.0, 2417.0, 2412.65, 2505.0, 2399.0, 2400.0, 2400.25, 2385.0, 2405.0, 2397.0, 2361.55, 2394.0, 2442.0, 2455.05, 2469.7, 2500.0, 2468.0, 2505.0, 2499.0, 2474.8, 2515.3, 2555.0, 2594.0, 2606.0, 2602.0, 2607.0, 2664.0, 2701.0, 2702.55, 2705.0, 2680.0, 2705.0, 2735.0, 2740.0, 2682.0, 2643.8, 2610.0, 2597.6, 2624.7, 2670.1, 2668.0, 2719.9, 2795.0, 2805.1, 2830.0, 2813.0, 2731.1, 2845.0, 2755.65, 2790.0, 2689.0, 2641.0, 2700.0, 2710.0, 2699.0, 2720.0, 2740.0, 2824.0, 2810.0, 2830.0, 2840.0, 2799.95, 2835.0, 2800.1, 2790.0, 2735.0, 2757.1, 2765.1, 2796.0, 2804.4, 2785.55, 2750.05, 2755.0, 2724.0, 2688.7, 2670.0, 2725.0, 2654.7, 2634.8, 2688.0, 2773.0, 2772.25, 2775.0, 2738.0, 2731.55, 2720.0, 2700.0, 2684.4, 2694.0, 2710.0, 2760.0, 2817.0, 2830.1, 2861.55, 2848.0, 2925.0, 2956.0, 2966.6, 2973.0, 2996.0, 3008.9, 2928.0, 2958.75, 2885.0, 2932.0, 2915.4, 2910.0, 2944.8, 2950.0, 2933.0, 2950.1, 2987.0, 3008.0, 3079.0, 3080.0, 3051.0, 2994.2, 3073.05, 3022.0, 2970.0, 3025.55, 3016.8, 2950.0, 2945.0, 2901.1, 3000.1, 3005.0, 3027.2, 3051.5, 3060.0, 3029.0, 3073.0, 3116.1, 3084.8, 2989.0, 2985.0, 3000.0, 2974.0, 630.0, 625.0, 645.05, 638.0, 630.5, 621.0, 624.0, 628.0, 627.0, 621.0, 631.0, 628.0, 634.1, 635.0, 638.7, 630.0, 631.0, 634.65, 670.0, 675.0, 683.9, 693.0, 689.0, 705.0, 723.0, 742.5, 728.0, 736.45, 728.45, 712.45, 701.65, 735.0, 748.0, 675.0, 747.05, 749.9, 734.0, 751.0, 725.0, 713.8, 750.0, 735.0, 763.5, 726.0, 719.5, 703.7, 708.0, 700.0, 709.0, 699.4, 685.0, 701.0, 700.0, 712.9, 707.0, 722.95, 742.0, 740.0, 730.0, 728.8, 730.0, 714.9, 715.0, 710.0, 722.9, 704.8, 699.9, 714.9, 705.0, 692.0, 700.0, 693.9, 693.0, 693.9, 710.0, 708.9, 704.9, 708.85, 691.2, 690.0, 673.75, 674.05, 697.0, 693.0, 689.65, 690.5, 695.1, 703.95, 704.75, 690.0, 700.0, 696.15, 701.8, 712.55, 728.0, 737.9, 731.0, 727.8, 713.7, 703.1, 680.6, 659.95, 664.8, 687.5, 671.1, 643.9, 668.7, 658.35, 651.0, 660.0, 657.3, 668.5, 677.8, 673.0, 635.05, 633.45, 642.3, 621.9, 624.0, 615.0, 596.0, 584.1, 610.25, 600.45, 632.7, 641.2, 642.3, 630.1, 653.55, 636.3, 643.8, 642.7, 641.5, 624.85, 630.1, 637.2, 644.05, 679.65, 672.35, 663.1, 677.0, 674.9, 662.0, 659.85, 655.15, 666.2, 650.5, 642.1, 625.95, 630.95, 637.85, 644.95, 655.3, 665.0, 673.7, 685.95, 700.05, 699.0, 713.75, 703.0, 700.75, 696.05, 716.1, 698.3, 686.15, 715.3, 709.9, 688.3, 701.7, 717.4, 732.0, 731.0, 721.5, 722.1, 715.0, 710.1, 696.1, 686.0, 665.95, 659.85, 670.0, 669.7, 665.1, 660.0, 650.0, 646.0, 635.0, 634.8, 649.75, 649.85, 652.45, 651.7, 650.0, 645.2, 640.5, 658.0, 669.8, 676.55, 681.05, 678.5, 659.95, 668.0, 664.0, 658.0, 654.0, 649.45, 648.0, 647.0, 647.7, 654.5, 640.8, 633.0, 639.0, 642.1, 640.55, 660.5, 678.1, 692.6, 696.2, 710.05, 708.0, 699.55, 696.25, 713.9, 726.0, 712.0, 701.9, 695.0, 692.8, 701.05, 693.95, 702.0, 708.9, 693.0, 704.0, 703.55, 711.4, 696.0, 695.3, 687.0, 697.8, 690.2, 677.3, 682.6, 661.3, 654.0, 625.05, 672.0, 660.0, 687.9, 677.9, 645.1, 663.0, 633.5, 639.1, 646.5, 640.2, 650.6, 629.1, 633.0, 650.65, 682.0, 658.0, 650.0, 659.7, 667.85, 664.85, 652.75, 656.7, 647.0, 652.9, 664.0, 659.8, 655.7, 679.9, 664.0, 639.0, 626.8, 630.15, 646.7, 638.75, 646.7, 630.55, 629.35, 622.0, 640.0, 643.2, 669.8, 670.0, 672.0, 661.9, 670.5, 668.7, 679.9, 669.75, 647.0, 644.0, 645.8, 665.9, 685.0, 689.0, 683.0, 680.0, 678.0, 688.5, 683.0, 681.25, 680.0, 671.0, 670.5, 657.8, 648.95, 630.1, 639.0, 625.6, 636.6, 623.0, 621.7, 618.25, 648.5, 626.05, 659.9, 658.0, 665.9, 663.0, 674.9, 660.0, 659.9, 642.0, 645.25, 622.0, 636.4, 620.0, 619.75, 633.0, 645.5, 668.65, 659.0, 666.0, 675.0, 659.5, 655.0, 650.0, 655.9, 663.2, 662.5, 667.1, 670.4, 669.3, 666.55, 685.0, 685.0, 688.0, 679.05, 678.0, 677.0, 687.5, 695.0, 692.5, 696.0, 704.8, 717.0, 692.05, 692.5, 691.0, 696.0, 688.0, 700.0, 709.0, 687.55, 693.85, 697.8, 695.0, 694.1, 702.1, 712.0, 725.0, 714.05, 713.25, 703.0, 673.0, 682.9, 669.0, 677.0, 663.0, 673.0, 673.0, 666.5, 656.5, 650.0, 662.0, 688.75, 675.0, 689.0, 677.0, 662.25, 670.0, 650.7, 658.0, 665.0, 663.4, 659.25, 657.0, 663.5, 654.1, 671.55, 673.0, 687.0, 684.95, 674.25, 668.0, 667.3, 675.85, 680.0, 679.5, 678.5, 688.0, 685.0, 687.0, 685.0, 685.25, 687.75, 679.85, 673.0, 677.8, 673.55, 674.55, 670.0, 665.3, 647.0, 668.4, 651.9, 653.0, 648.0, 648.0, 642.0, 637.5, 625.8, 624.3, 640.0, 647.8, 639.8, 642.5, 660.0, 657.25, 665.45, 658.0, 649.1, 650.5, 640.5, 643.0, 647.25, 657.0, 654.55, 658.25, 652.0, 659.35, 652.0, 639.95, 649.5, 639.65, 645.85, 637.6, 635.1, 644.0, 641.6, 646.0, 646.0, 650.5, 653.7, 663.5, 679.1, 670.2, 677.4, 684.0, 679.7, 678.05, 677.0, 676.5, 677.0, 683.0, 684.0, 690.0, 696.95, 681.05, 677.1, 673.9, 676.9, 680.95, 677.25, 679.0, 690.5, 700.0, 692.35, 701.3, 710.25, 719.2, 722.1, 689.9, 690.6, 715.95, 706.35, 713.5, 711.95, 728.55, 729.8, 718.0, 721.55, 722.9, 727.55, 710.1, 728.0, 733.95, 734.8, 721.8, 724.0, 729.25, 731.0, 730.0, 736.05, 758.5, 757.0, 764.7, 776.0, 777.1, 771.0, 765.0, 777.5, 758.0, 764.0, 762.55, 764.9, 771.0, 772.0, 779.0, 775.8, 754.7, 756.4, 743.0, 744.4, 748.5, 740.45, 742.1, 747.0, 755.0, 761.2, 752.0, 755.0, 750.0, 764.2, 758.0, 754.0, 751.0, 758.0, 772.0, 767.75, 766.3, 781.25, 791.25, 790.1, 794.3, 790.05, 784.7, 789.0, 775.0, 767.0, 782.15, 782.0, 777.6, 784.8, 779.0, 799.55, 822.05, 840.0, 836.0, 845.5, 841.0, 842.35, 840.0, 868.35, 875.0, 859.1, 856.05, 846.2, 841.8, 846.6, 836.0, 829.5, 832.0, 830.0, 839.0, 828.35, 831.55, 834.65, 837.0, 849.85, 845.0, 842.0, 823.0, 840.1, 835.0, 827.0, 810.1, 830.0, 826.0, 820.0, 810.8, 826.5, 811.0, 816.8, 817.15, 807.8, 809.0, 801.05, 806.0, 794.0, 787.0, 782.4, 791.55, 803.5, 805.0, 808.5, 809.1, 800.0, 805.0, 813.0, 813.0, 812.0, 824.8, 826.9, 815.0, 811.0, 802.0, 800.0, 775.25, 781.1, 757.0, 771.25, 776.35, 775.2, 771.05, 788.85, 813.25, 832.5, 818.0, 806.25, 815.15, 807.0, 814.4, 790.8, 780.0, 795.0, 811.9, 804.1, 828.7, 826.8, 826.35, 817.0, 805.0, 787.45, 770.0, 766.0, 760.0, 778.75, 765.1, 766.9, 777.0, 806.0, 795.0, 819.0, 838.0, 843.5, 862.95, 870.05, 863.6, 845.65, 859.8, 858.0, 854.25, 859.75, 893.0, 880.0, 875.0, 875.0, 864.7, 876.8, 909.8, 904.0, 903.0, 895.15, 903.8, 892.15, 908.0, 901.6, 929.9, 923.4, 905.1, 921.1, 895.0, 876.8, 853.8, 838.1, 840.0, 844.0, 845.5, 830.4, 806.1, 820.0, 836.1, 844.1, 830.0, 829.0, 815.0, 814.8, 826.9, 818.6, 816.5, 839.0, 879.0, 886.65, 870.0, 857.3, 859.0, 845.85, 826.0, 833.2, 838.5, 857.3, 849.85, 831.8, 820.5, 818.5, 829.05, 802.9, 832.0, 818.7, 804.4, 805.15, 803.0, 807.1, 807.85, 805.0, 825.7, 808.0, 798.45, 759.7, 730.0, 755.0, 769.85, 795.0, 780.0, 731.0, 716.0, 750.8, 744.0, 737.0, 744.25, 735.0, 671.55, 659.0, 700.0, 724.7, 745.0, 696.0, 726.7, 755.0, 780.0, 808.75, 815.5, 809.9, 828.0, 807.0, 807.0, 839.0, 836.0, 792.0, 765.15, 790.0, 777.0, 797.0, 780.0, 763.8, 793.5, 800.95, 793.25, 815.25, 782.55, 798.35, 816.2, 809.9, 805.0, 816.0, 800.0, 826.5, 816.05, 813.25, 807.1, 814.0, 815.0, 827.8, 842.0, 846.0, 855.5, 856.0, 848.5, 856.1, 842.0, 834.0, 809.35, 808.7, 790.0, 800.1, 802.25, 817.1, 813.5, 802.0, 780.5, 798.0, 811.0, 807.0, 815.0, 814.55, 821.0, 822.0, 820.0, 827.0, 824.5, 842.2, 820.0, 804.8, 815.5, 819.5, 809.8, 800.25, 779.9, 804.0, 770.1, 801.85, 793.3, 779.0, 780.2, 791.8, 800.25, 798.25, 791.6, 791.0, 790.0, 794.0, 797.9, 803.25, 796.2, 803.0, 817.1, 824.1, 846.0, 852.0, 844.4, 838.0, 838.15, 836.2, 849.0, 835.0, 832.5, 836.0, 811.25, 828.8, 802.1, 782.0, 787.9, 789.75, 790.8, 783.25, 764.0, 779.0, 780.25, 763.2, 767.0, 779.3, 804.1, 799.45, 792.3, 797.0, 815.1, 814.0, 812.25, 815.0, 811.0, 824.0, 830.0, 837.85, 841.0, 850.2, 846.25, 858.1, 855.1, 859.8, 856.0, 868.0, 852.25, 845.5, 845.1, 856.2, 873.0, 870.5, 880.0, 880.9, 885.0, 889.8, 899.1, 902.0, 895.1, 902.25, 925.0, 920.0, 915.5, 883.35, 873.0, 877.05, 877.1, 872.0, 885.0, 887.3, 881.15, 889.95, 897.9, 910.0, 892.0, 881.0, 858.95, 854.0, 882.35, 906.0, 910.0, 886.0, 920.0, 900.25, 921.5, 940.0, 941.0, 926.0, 929.3, 934.0, 912.0, 900.1, 899.0, 875.0, 898.0, 918.0, 900.0, 912.9, 940.0, 940.35, 951.35, 952.0, 980.0, 975.0, 957.25, 965.0, 959.55, 969.85, 974.4, 972.7, 998.9, 1000.0, 980.0, 983.7, 990.25, 991.05, 1007.8, 999.7, 1013.0, 1017.2, 1020.0, 1013.0, 1015.0, 988.2, 987.1, 983.0, 974.0, 972.8, 986.0, 1018.5, 1040.0, 1033.9, 1045.0, 1065.1, 1066.15, 1083.1, 1059.0, 1040.15, 1027.2, 1043.0, 1025.0, 1018.9, 1032.25, 1077.7, 1121.0, 1151.4, 1119.9, 1117.0, 1094.0, 1078.0, 1065.1, 1046.0, 1056.0, 1061.5, 1068.5, 1084.1, 1059.0, 1069.85, 1066.0, 1080.05, 1064.7, 1054.9, 1050.0, 1045.45, 1041.0, 1050.0, 1026.5, 1019.0, 1012.15, 1053.8, 1056.5, 1076.85, 1064.3, 1052.5, 1046.6, 1038.2, 1031.15, 1050.0, 1045.0, 1016.1, 1025.0, 1035.0, 1002.0, 1023.2, 1000.95, 983.0, 1011.0, 1022.85, 1027.9, 1034.9, 1040.0, 1040.0, 1053.5, 1045.0, 1066.8, 1108.2, 1125.75, 1101.0, 1095.25, 1111.95, 1130.0, 1145.0, 1134.4, 1129.9, 1134.0, 1106.0, 1115.6, 1121.05, 1131.0, 1132.3, 1151.4, 1152.5, 1155.0, 1161.1, 1136.1, 1122.5, 1110.0, 1120.0, 1120.0, 1108.0, 1109.25, 1102.0, 1088.25, 1061.0, 1125.7, 1088.0, 1102.5, 1108.75, 1120.0, 1150.0, 1127.0, 1108.8, 1118.35, 1120.0, 1135.15, 1130.0, 1127.3, 1168.8, 1148.6, 1097.5, 1114.0, 1127.0, 1114.35, 1134.4, 1128.7, 1145.05, 1207.5, 1198.0, 1185.1, 1259.0, 1287.0, 1288.7, 1303.9, 1323.95, 1338.15, 1328.4, 1262.5, 1262.5, 1231.05, 1236.9, 1245.0, 1267.0, 1254.1, 1248.9, 1254.95, 1253.9, 1282.5, 1295.0, 1330.0, 1350.0, 1333.15, 1311.9, 1311.0, 1348.0, 1354.9, 1361.45, 1342.1, 1341.0, 1390.0, 1367.7, 1397.5, 1365.1, 1320.8, 1332.9, 1351.0, 1327.0, 1311.9, 1340.9, 1336.0, 1324.0, 1332.2, 1337.55, 1362.0, 1339.3, 1290.65, 1274.9, 1314.0, 1318.95, 1354.15, 1332.65, 1330.25, 1309.9, 1304.7, 1299.9, 1313.0, 1294.8, 1306.7, 1295.0, 1266.65, 1261.1, 1283.0, 1271.0, 1251.9, 1214.0, 1225.0, 1199.3, 1179.9, 1197.0, 1179.95, 1161.65, 1167.45, 1195.0, 1223.0, 1195.5, 1224.4, 1215.0, 1234.0, 1258.0, 1245.0, 1266.2, 1256.4, 1280.0, 1252.1, 1231.0, 1242.0, 1229.0, 1236.1, 1247.0, 1202.55, 1209.2, 1213.0, 1202.0, 1179.5, 1182.1, 1198.0, 1156.0, 1189.9, 1210.3, 1208.0, 1201.0, 1222.9, 1240.0, 1272.8, 1283.5, 1278.2, 1305.0, 1265.5, 1289.9, 1296.0, 1293.55, 1286.9, 1304.2, 1324.0, 1324.85, 1291.1, 1287.8, 1298.0, 1322.6, 1316.75, 1342.0, 1359.9, 1332.65, 1315.35, 1306.0, 1349.9, 1355.0, 1353.45, 1332.0, 1310.0, 1327.0, 1334.7, 1331.2, 1324.4, 1307.4, 1304.25, 1306.3, 1305.95, 1306.75, 1284.5, 1261.95, 1268.25, 1300.0, 1280.5, 1259.0, 1258.0, 1238.0, 1194.3, 1177.3, 1145.0, 1120.0, 1201.45, 1204.0, 1175.0, 1175.0, 1139.0, 1161.0, 1145.0, 1158.0, 1183.5, 1167.55, 1175.0, 1177.35, 1176.65, 1189.9, 1217.0, 1187.8, 1217.0, 1155.0, 1165.0, 1180.0, 1164.4, 1244.0, 1232.8, 1210.0, 1268.0, 1258.0, 1278.5, 1286.0, 1292.0, 1270.0, 1273.65, 1295.3, 1295.0, 1320.0, 1311.1, 1307.1, 1325.0, 1347.5, 1304.9, 1275.0, 1266.0, 1266.1, 1252.0, 1230.0, 1228.75, 1220.0, 1207.2, 1180.0, 1184.2, 1178.3, 1178.65, 1170.1, 1190.2, 1199.0, 1187.25, 1216.0, 1210.0, 1191.15, 1222.0, 1225.1, 1223.5, 1218.95, 1221.3, 1207.35, 1190.0, 1176.3, 1178.9, 1166.25, 1155.0, 1185.0, 1156.05, 1184.35, 1211.0, 1220.0, 1247.9, 1218.2, 1233.7, 1233.0, 1243.0, 1229.55, 1226.55, 1240.0, 1233.9, 1261.0, 1250.0, 1229.9, 1209.6, 1198.85, 1189.85, 1165.0, 1169.4, 1157.0, 1154.9, 1160.7, 1140.0, 1132.9, 1140.25, 1147.05, 1140.0, 1165.0, 1176.4, 1150.0, 1147.75, 1182.4, 1177.6, 1174.4, 1165.25, 1169.0, 1185.2, 1151.1, 1155.0, 1110.3, 1079.0, 1093.4, 1084.5, 1078.0, 1086.85, 1065.0, 1051.0, 1062.0, 1050.8, 1022.0, 1056.7, 1056.0, 1072.0, 1081.95, 1114.7, 1128.0, 1120.0, 1144.0, 1134.8, 1159.0, 1168.0, 1144.0, 1101.1, 1135.55, 1111.4, 1130.0, 1142.05, 1162.1, 1154.5, 1135.25, 1128.25, 1111.0, 1100.0, 1122.5, 1102.0, 1112.35, 1100.0, 1071.8, 1083.95, 1085.0, 1098.1, 1130.0, 1148.7, 1145.0, 1141.0, 1120.0, 1104.0, 1122.4, 1121.0, 1084.8, 1091.45, 1097.0, 1099.0, 1137.0, 1161.0, 1168.1, 1202.2, 1207.5, 1204.0, 1192.0, 1164.4, 1197.5, 1205.25, 1208.5, 1178.1, 1184.0, 1163.9, 1186.0, 1210.4, 1230.0, 1255.2, 1235.05, 1242.15, 1236.05, 1266.0, 1261.0, 1256.5, 1252.2, 1257.0, 1233.0, 1218.05, 1208.3, 1206.2, 1198.0, 1215.0, 1212.0, 1233.0, 1234.0, 1237.9, 1210.0, 1211.1, 1211.25, 1233.05, 1260.0, 1253.5, 1252.0, 1257.5, 1262.0, 1290.0, 1300.0, 1320.5, 1333.0, 1328.4, 1325.05, 1364.0, 1346.35, 1339.9, 1335.95, 1333.95, 1355.5, 1383.7, 1376.9, 1390.3, 1407.95, 1385.0, 1371.8, 1342.15, 1331.3, 1330.0, 1350.0, 1375.0, 1343.35, 1339.0, 1354.0, 1378.0, 1350.5, 1369.5, 1375.0, 1370.0, 1373.65, 1386.3, 1380.65, 1361.5, 1364.9, 1379.9, 1390.1, 1412.0, 1426.5, 1453.0, 1464.0, 1432.75, 1442.0, 1390.0, 1391.05, 1393.1, 1416.7, 1399.9, 1390.0, 1392.35, 1405.9, 1418.0, 1417.3, 1415.7, 1418.1, 1428.5, 1396.9, 1401.0, 1423.25, 1435.0, 1425.2, 1426.0, 1408.0, 1385.0, 1340.8, 1321.95, 1307.0, 1358.9, 1348.0, 1361.45, 1341.35, 1344.8, 1336.6, 1336.1, 1374.7, 1398.0, 1382.6, 1400.0, 1400.9, 1408.0, 1401.35, 1381.4, 1335.55, 1361.0, 1310.0, 1258.0, 1237.7, 1260.0, 1250.2, 1250.0, 1230.0, 1250.0, 1217.1, 1227.0, 1236.1, 1241.6, 1254.2, 1268.4, 1260.4, 1236.8, 1218.05, 1246.4, 1270.5, 1287.0, 1266.9, 1269.4, 1279.0, 1262.0, 1262.0, 1263.0, 1245.9, 1242.0, 1234.8, 1217.4, 1220.0, 1221.9, 1238.9, 1234.7, 1263.35, 1272.0, 1218.7, 1215.8, 1215.7, 1219.0, 1225.0, 1225.0, 1224.7, 1234.0, 1224.95, 1245.1, 1258.35, 1246.3, 1251.7, 1236.15, 1234.7, 1263.1, 1284.0, 1329.15, 1370.4, 1371.45, 1370.0, 1411.0, 1401.5, 1402.0, 1399.6, 1410.0, 1402.0, 1408.0, 1398.4, 1398.0, 1399.9, 1394.15, 1425.0, 1401.55, 1393.1, 1415.0, 1401.0, 1389.45, 1377.0, 1369.8, 1403.0, 1392.3, 1379.0, 1374.4, 1368.1, 1368.25, 1378.0, 1415.2, 1425.4, 1431.65, 1458.5, 1449.8, 1452.15, 1449.9, 1444.6, 1458.0, 1455.0, 1477.7, 1510.1, 1520.0, 1520.2, 1509.65, 1525.1, 1490.0, 1474.9, 1484.0, 1465.1, 1475.0, 1470.0, 1475.0, 1482.0, 1491.55, 1490.0, 1519.9, 1509.8, 1535.0, 1551.2, 1582.0, 1564.1, 1547.0, 1588.0, 1573.0, 1570.1, 1542.0, 1537.9, 1532.0, 1581.0, 1565.0, 1554.5, 1558.0, 1565.5, 1547.0, 1545.0, 1530.0, 1521.7, 1519.0, 1533.9, 1538.1, 1546.0, 1595.7, 1581.0, 1551.8, 1582.0, 1606.4, 1610.0, 1609.7, 1608.9, 1628.0, 1644.0, 1642.05, 1661.55, 1648.7, 1634.3, 1659.0, 1651.15, 1632.15, 1626.1, 1660.0, 1655.7, 1656.5, 1629.4, 1625.0, 1610.35, 1626.35, 1639.05, 1623.05, 1650.0, 1678.0, 1640.4, 1647.0, 1640.2, 1649.0, 1649.0, 1655.0, 1661.0, 1665.1, 1655.7, 1646.8, 1643.0, 1635.0, 1647.0, 1717.5, 1783.9, 1787.25, 1777.0, 1774.0, 1725.3, 1731.0, 1729.9, 1718.9, 1728.0, 1686.5, 1700.8, 1722.8, 1748.75, 1757.0, 1737.2, 1743.9, 1750.25, 1764.6, 1765.0, 1754.5, 1741.0, 1762.0, 1776.0, 1767.8, 1754.0, 1754.0, 1773.1, 1782.0, 1782.5, 1792.8, 1795.0, 1777.0, 1761.1, 1774.0, 1775.15, 1746.0, 1766.0, 1785.0, 1777.8, 1755.0, 1757.0, 1720.1, 1749.0, 1753.1, 1762.1, 1772.3, 1752.2, 1739.9, 1748.55, 1750.0, 1752.15, 1752.1, 1771.0, 1760.8, 1759.75, 1751.0, 1751.8, 1725.0, 1736.9, 1669.5, 1704.0, 1706.4, 1711.0, 1710.0, 1743.1, 1771.0, 1770.0, 1783.6, 1758.2, 1760.0, 1726.0, 1700.1, 1664.0, 1663.0, 1660.0, 1694.0, 1699.9, 1692.9, 1694.5, 1715.0, 1707.9, 1709.0, 1713.2, 1727.1, 1702.0, 1684.2, 1664.9, 1677.0, 1673.05, 1650.0, 1665.0, 1692.0, 1707.1, 1709.1, 1705.0, 1714.0, 1713.1, 1722.0, 1715.95, 1710.0, 1708.9, 1715.0, 1710.0, 1713.75, 1699.0, 1710.0, 1690.0, 1705.2, 1708.95, 1716.0, 1729.25, 1743.85, 1730.0, 1729.9, 1744.0, 1790.0, 1870.0, 1841.0, 1875.45, 1897.0, 1901.0, 1874.0, 1886.6, 1917.0, 1915.0, 1971.5, 1932.25, 1963.0, 1946.0, 1866.1, 1769.0, 1795.0, 1788.0, 1780.25, 1777.1, 1820.0, 1828.9, 1835.5, 1827.75, 1832.9, 1825.0, 1819.7, 1826.85, 1830.0, 1850.0, 1830.0, 1811.0, 1814.0, 1803.9, 1774.35, 1772.9, 1801.0, 1831.6, 1850.0, 1857.25, 1846.0, 1830.0, 1799.0, 1771.0, 1820.0, 1820.0, 1787.7, 1781.0, 1837.9, 1821.0, 1830.95, 1836.0, 1830.7, 1821.0, 1827.0, 1834.85, 1848.0, 1823.5, 1808.45, 1834.0, 1833.0, 1875.0, 1897.7, 1883.0, 1863.0, 1849.0, 1836.9, 1858.0, 1853.0, 1848.1, 1864.0, 1897.0, 1908.0, 1929.0, 1914.0, 1920.1, 1893.15, 1908.0, 1901.0, 1919.8, 1936.5, 1924.9, 1919.0, 1870.0, 1860.0, 1820.2, 1807.4, 1797.0, 1808.2, 1825.0, 1827.75, 1804.0, 1812.0, 1833.0, 1860.9, 1832.1, 1848.0, 1862.5, 1855.05, 1839.1, 1840.3, 1851.0, 1837.5, 1842.0, 1831.5, 1823.25, 1832.1, 1855.0, 1859.0, 1909.0, 1892.0, 1922.0, 1904.0, 1889.0, 1912.9, 1900.0, 1883.0, 1923.7, 1926.1, 1919.0, 1912.0, 1946.0, 1938.0, 1968.0, 1979.95, 1991.0, 2005.0, 2003.0, 1980.5, 1969.0, 1967.1, 1988.45, 2004.3, 2032.0, 2047.0, 2018.6, 1995.0, 1962.0, 1945.0, 1999.0, 1982.0, 1976.0, 1988.0, 1969.95, 1967.0, 1956.0, 1936.5, 1897.0, 1894.75, 1915.05, 1954.95, 1904.0, 1926.9, 1927.2, 1959.4, 1950.0, 1940.9, 1950.0, 1939.0, 1950.0, 1949.0, 1963.5, 1915.0, 1890.0, 1878.9, 1892.0, 1910.0, 1877.25, 1860.4, 1835.65, 1839.0, 1728.8, 1783.6, 1767.15, 1742.0, 1765.7, 1804.8, 1780.0, 1768.7, 1695.8, 1682.7, 1717.4, 1690.0, 1705.9, 1755.0, 1735.0, 1772.0, 1725.0, 1683.9, 1645.0, 1715.0, 1729.75, 1694.0, 1705.0, 1703.0, 1678.0, 1776.8, 1790.0, 1811.25, 1801.4, 1813.55, 1820.0, 1817.1, 1790.0, 1836.0, 1837.0, 1861.0, 1899.95, 1890.0, 1877.1, 1872.0, 1883.9, 1884.65, 1909.0, 1940.0, 1970.0, 2000.15, 1980.0, 1927.0, 1955.05, 1946.9, 1924.35, 1878.0, 1912.0, 1945.0, 1945.0, 1915.0, 1955.0, 1954.0, 1970.0, 1974.8, 1955.0, 1896.0, 1948.45, 1959.0, 1988.0, 1968.0, 2004.7, 1984.05, 1948.0, 1976.95, 1983.0, 1962.0, 1993.0, 1978.0, 1983.0, 1975.2, 1989.0, 1982.75, 2004.0, 1998.0, 1999.0, 1981.8, 1960.0, 1964.4, 1978.7, 1943.7, 1924.6, 1883.0, 1929.0, 1959.9, 1979.8, 1983.6, 1990.05, 1963.1, 1943.9, 1950.0, 1907.1, 1921.0, 1900.6, 1877.3, 1870.0, 1865.0, 1871.0, 1893.95, 1897.9, 1874.0, 1868.0, 1849.0, 1850.4, 1856.8, 1864.7, 1892.0, 1879.0, 1886.35, 1914.9, 1939.0, 1971.8, 1960.0, 1982.0, 1972.9, 1975.0, 1998.0, 1976.9, 1950.4, 1955.55, 1917.0, 1950.05, 1968.1, 1966.1, 2004.0, 2008.0, 2045.0, 2068.0, 2062.5, 2067.5, 2028.0, 2024.0, 2034.9, 2019.7, 2040.0, 2005.0, 1958.0, 1943.9, 1987.55, 1959.3, 1977.4, 1995.0, 2017.5, 1987.25, 1974.8, 1964.5, 1926.0, 1915.25, 1926.1, 1961.0, 1975.0, 1954.0, 1941.0, 2030.5, 2141.2, 2124.0, 2174.0, 2125.0, 2129.95, 2167.0, 2150.1, 2141.4, 2190.0, 2200.0, 2220.0, 2230.0, 2190.0, 2215.25, 2202.25, 2187.5, 2180.0, 2204.5, 2193.0, 2178.9, 2160.05, 2174.1, 2200.8, 2136.1, 2147.9, 2165.0, 2166.5, 2196.0, 2197.0, 2256.8, 2280.0, 2277.0, 2281.25, 2269.9, 2248.85, 2232.0, 2240.0, 2270.0, 2255.9, 2270.0, 2277.0, 2287.95, 2332.0, 2287.0, 2181.4, 2140.0, 2184.1, 2193.75, 2162.8, 2150.0, 2110.25, 2115.2, 2075.25, 2115.0, 2146.05, 2189.8, 2183.9, 2192.7, 2196.1, 2129.0, 2160.0, 2114.45, 2112.35, 2096.0, 2066.0, 1999.0, 2088.0, 2158.0, 2174.0, 2176.0, 2137.7, 2141.0, 2091.65, 2100.0, 2056.45, 2044.45, 2072.0, 2085.45, 2079.0, 2080.0, 2041.9, 2010.0, 1988.3, 1983.9, 2085.0, 2159.9, 2127.05, 2070.1, 2061.25, 2035.9, 1988.0, 1990.0, 1992.0, 1988.5, 1974.85, 2000.0, 1997.95, 2017.0, 2019.0, 2020.0, 2056.95, 2089.0, 2115.0, 2116.0, 2150.0, 2149.0, 2114.95, 2095.0, 2134.95, 2115.0, 2135.9, 2140.9, 2207.1, 2188.0, 2247.4, 2242.95, 2228.0, 2227.95, 2207.9, 2220.1, 2222.5, 2235.6, 2215.0, 2202.0, 2203.0, 2244.75, 2300.0, 2316.0, 2339.0, 2309.75, 2316.0, 2310.95, 2311.2, 2309.2, 2326.5, 2263.1, 2318.5, 2302.0, 2320.8, 2330.7, 2356.0, 2365.0, 2427.0, 2432.1, 2415.0, 2404.0, 2420.6, 2412.75, 2427.0, 2449.0, 2433.0, 2418.0, 2430.0, 2455.0, 2428.0, 2401.25, 2387.0, 2430.0, 2465.0, 2461.1, 2463.65, 2483.95, 2486.0, 2467.75, 2474.0, 2443.0, 2474.0, 2422.0, 2423.0, 2433.0, 2413.0, 2446.0, 2413.0, 2417.0, 2406.0, 2250.0, 2265.6, 2345.55, 2390.0, 2428.1, 2405.0, 2424.45, 2449.5, 2426.0, 2402.0, 2401.75, 2349.0, 2343.0, 2364.0, 2355.0, 2309.0, 2278.0, 2279.8, 2228.55, 2215.0, 2201.7, 2207.0, 2206.0, 2145.0, 2067.3, 1970.0, 1990.0, 1780.05, 1964.0, 1858.05, 1771.0, 1502.1, 1624.0, 1578.6, 1554.0, 1476.0, 1689.5, 1785.2, 1667.3, 1625.0, 1645.5, 1575.5, 1574.7, 1543.4, 1587.7, 1725.0, 1708.5, 1590.0, 1690.0, 1709.8, 1670.0, 1669.7, 1674.9, 1603.0, 1618.1, 1615.8, 1734.0, 1857.0, 1856.0, 1745.0, 1709.0, 1730.0, 1737.0, 1712.5, 1630.0, 1747.0, 1685.0, 1649.0, 1633.5, 1570.0, 1550.0, 1632.9, 1582.0, 1516.0, 1513.0, 1580.0, 1615.9, 1706.6, 1737.7, 1835.2, 1815.0, 1775.0, 1801.0, 1763.2, 1784.0, 1805.0, 1710.0, 1786.95, 1785.0, 1819.0, 1790.0, 1854.0, 1850.8, 1820.0, 1825.0, 1782.2, 1793.85, 1755.0, 1751.15, 1764.0, 1852.95, 1905.55, 1903.25, 1880.0, 1895.0, 1871.3, 1915.0, 1905.0, 1825.0, 1809.0, 1792.0, 1800.0, 1844.0, 1816.5, 1895.5, 1881.05, 1854.0, 1841.3, 1859.35, 1885.0, 1880.0, 1805.0, 1781.0, 1749.0, 1784.4, 1798.25, 1774.95, 1794.0, 1813.0, 1825.75, 1818.5, 1818.6, 1805.0, 1801.1, 1835.0, 1803.0, 1800.0, 1814.95, 1843.75, 1837.0, 1832.0, 1871.0, 1898.5], \"type\": \"candlestick\", \"x\": [0, 1, 2, 3, 4, 5, 6, 7, 8, 9, 10, 11, 12, 13, 14, 15, 16, 17, 18, 19, 20, 21, 22, 23, 24, 25, 26, 27, 28, 29, 30, 31, 32, 33, 34, 35, 36, 37, 38, 39, 40, 41, 42, 43, 44, 45, 46, 47, 48, 49, 50, 51, 52, 53, 54, 55, 56, 57, 58, 59, 60, 61, 62, 63, 64, 65, 66, 67, 68, 69, 70, 71, 72, 73, 74, 75, 76, 77, 78, 79, 80, 81, 82, 83, 84, 85, 86, 87, 88, 89, 90, 91, 92, 93, 94, 95, 96, 97, 98, 99, 100, 101, 102, 103, 104, 105, 106, 107, 108, 109, 110, 111, 112, 113, 114, 115, 116, 117, 118, 119, 120, 121, 122, 123, 124, 125, 126, 127, 128, 129, 130, 131, 132, 133, 134, 135, 136, 137, 138, 139, 140, 141, 142, 143, 144, 145, 146, 147, 148, 149, 150, 151, 152, 153, 154, 155, 156, 157, 158, 159, 160, 161, 162, 163, 164, 165, 166, 167, 168, 169, 170, 171, 172, 173, 174, 175, 176, 177, 178, 179, 180, 181, 182, 183, 184, 185, 186, 187, 188, 189, 190, 191, 192, 193, 194, 195, 196, 197, 198, 199, 200, 201, 202, 203, 204, 205, 206, 207, 208, 209, 210, 211, 212, 213, 214, 215, 216, 217, 218, 219, 220, 221, 222, 223, 224, 225, 226, 227, 228, 229, 230, 231, 232, 233, 234, 235, 236, 237, 238, 239, 240, 241, 242, 243, 244, 245, 246, 247, 248, 249, 250, 251, 252, 253, 254, 255, 256, 257, 258, 259, 260, 261, 262, 263, 264, 265, 266, 267, 268, 269, 270, 271, 272, 273, 274, 275, 276, 277, 278, 279, 280, 281, 282, 283, 284, 285, 286, 287, 288, 289, 290, 291, 292, 293, 294, 295, 296, 297, 298, 299, 300, 301, 302, 303, 304, 305, 306, 307, 308, 309, 310, 311, 312, 313, 314, 315, 316, 317, 318, 319, 320, 321, 322, 323, 324, 325, 326, 327, 328, 329, 330, 331, 332, 333, 334, 335, 336, 337, 338, 339, 340, 341, 342, 343, 344, 345, 346, 347, 348, 349, 350, 351, 352, 353, 354, 355, 356, 357, 358, 359, 360, 361, 362, 363, 364, 365, 366, 367, 368, 369, 370, 371, 372, 373, 374, 375, 376, 377, 378, 379, 380, 381, 382, 383, 384, 385, 386, 387, 388, 389, 390, 391, 392, 393, 394, 395, 396, 397, 398, 399, 400, 401, 402, 403, 404, 405, 406, 407, 408, 409, 410, 411, 412, 413, 414, 415, 416, 417, 418, 419, 420, 421, 422, 423, 424, 425, 426, 427, 428, 429, 430, 431, 432, 433, 434, 435, 436, 437, 438, 439, 440, 441, 442, 443, 444, 445, 446, 447, 448, 449, 450, 451, 452, 453, 454, 455, 456, 457, 458, 459, 460, 461, 462, 463, 464, 465, 466, 467, 468, 469, 470, 471, 472, 473, 474, 475, 476, 477, 478, 479, 480, 481, 482, 483, 484, 485, 486, 487, 488, 489, 490, 491, 492, 493, 494, 495, 496, 497, 498, 499, 500, 501, 502, 503, 504, 505, 506, 507, 508, 509, 510, 511, 512, 513, 514, 515, 516, 517, 518, 519, 520, 521, 522, 523, 524, 525, 526, 527, 528, 529, 530, 531, 532, 533, 534, 535, 536, 537, 538, 539, 540, 541, 542, 543, 544, 545, 546, 547, 548, 549, 550, 551, 552, 553, 554, 555, 556, 557, 558, 559, 560, 561, 562, 563, 564, 565, 566, 567, 568, 569, 570, 571, 572, 573, 574, 575, 576, 577, 578, 579, 580, 581, 582, 583, 584, 585, 586, 587, 588, 589, 590, 591, 592, 593, 594, 595, 596, 597, 598, 599, 600, 601, 602, 603, 604, 605, 606, 607, 608, 609, 610, 611, 612, 613, 614, 615, 616, 617, 618, 619, 620, 621, 622, 623, 624, 625, 626, 627, 628, 629, 630, 631, 632, 633, 634, 635, 636, 637, 638, 639, 640, 641, 642, 643, 644, 645, 646, 647, 648, 649, 650, 651, 652, 653, 654, 655, 656, 657, 658, 659, 660, 661, 662, 663, 664, 665, 666, 667, 668, 669, 670, 671, 672, 673, 674, 675, 676, 677, 678, 679, 680, 681, 682, 683, 684, 685, 686, 687, 688, 689, 690, 691, 692, 693, 694, 695, 696, 697, 698, 699, 700, 701, 702, 703, 704, 705, 706, 707, 708, 709, 710, 711, 712, 713, 714, 715, 716, 717, 718, 719, 720, 721, 722, 723, 724, 725, 726, 727, 728, 729, 730, 731, 732, 733, 734, 735, 736, 737, 738, 739, 740, 741, 742, 743, 744, 745, 746, 747, 748, 749, 750, 751, 752, 753, 754, 755, 756, 757, 758, 759, 760, 761, 762, 763, 764, 765, 766, 767, 768, 769, 770, 771, 772, 773, 774, 775, 776, 777, 778, 779, 780, 781, 782, 783, 784, 785, 786, 787, 788, 789, 790, 791, 792, 793, 794, 795, 796, 797, 798, 799, 800, 801, 802, 803, 804, 805, 806, 807, 808, 809, 810, 811, 812, 813, 814, 815, 816, 817, 818, 819, 820, 821, 822, 823, 824, 825, 826, 827, 828, 829, 830, 831, 832, 833, 834, 835, 836, 837, 838, 839, 840, 841, 842, 843, 844, 845, 846, 847, 848, 849, 850, 851, 852, 853, 854, 855, 856, 857, 858, 859, 860, 861, 862, 863, 864, 865, 866, 867, 868, 869, 870, 871, 872, 873, 874, 875, 876, 877, 878, 879, 880, 881, 882, 883, 884, 885, 886, 887, 888, 889, 890, 891, 892, 893, 894, 895, 896, 897, 898, 899, 900, 901, 902, 903, 904, 905, 906, 907, 908, 909, 910, 911, 912, 913, 914, 915, 916, 917, 918, 919, 920, 921, 922, 923, 924, 925, 926, 927, 928, 929, 930, 931, 932, 933, 934, 935, 936, 937, 938, 939, 940, 941, 942, 943, 944, 945, 946, 947, 948, 949, 950, 951, 952, 953, 954, 955, 956, 957, 958, 959, 960, 961, 962, 963, 964, 965, 966, 967, 968, 969, 970, 971, 972, 973, 974, 975, 976, 977, 978, 979, 980, 981, 982, 983, 984, 985, 986, 987, 988, 989, 990, 991, 992, 993, 994, 995, 996, 997, 998, 999, 1000, 1001, 1002, 1003, 1004, 1005, 1006, 1007, 1008, 1009, 1010, 1011, 1012, 1013, 1014, 1015, 1016, 1017, 1018, 1019, 1020, 1021, 1022, 1023, 1024, 1025, 1026, 1027, 1028, 1029, 1030, 1031, 1032, 1033, 1034, 1035, 1036, 1037, 1038, 1039, 1040, 1041, 1042, 1043, 1044, 1045, 1046, 1047, 1048, 1049, 1050, 1051, 1052, 1053, 1054, 1055, 1056, 1057, 1058, 1059, 1060, 1061, 1062, 1063, 1064, 1065, 1066, 1067, 1068, 1069, 1070, 1071, 1072, 1073, 1074, 1075, 1076, 1077, 1078, 1079, 1080, 1081, 1082, 1083, 1084, 1085, 1086, 1087, 1088, 1089, 1090, 1091, 1092, 1093, 1094, 1095, 1096, 1097, 1098, 1099, 1100, 1101, 1102, 1103, 1104, 1105, 1106, 1107, 1108, 1109, 1110, 1111, 1112, 1113, 1114, 1115, 1116, 1117, 1118, 1119, 1120, 1121, 1122, 1123, 1124, 1125, 1126, 1127, 1128, 1129, 1130, 1131, 1132, 1133, 1134, 1135, 1136, 1137, 1138, 1139, 1140, 1141, 1142, 1143, 1144, 1145, 1146, 1147, 1148, 1149, 1150, 1151, 1152, 1153, 1154, 1155, 1156, 1157, 1158, 1159, 1160, 1161, 1162, 1163, 1164, 1165, 1166, 1167, 1168, 1169, 1170, 1171, 1172, 1173, 1174, 1175, 1176, 1177, 1178, 1179, 1180, 1181, 1182, 1183, 1184, 1185, 1186, 1187, 1188, 1189, 1190, 1191, 1192, 1193, 1194, 1195, 1196, 1197, 1198, 1199, 1200, 1201, 1202, 1203, 1204, 1205, 1206, 1207, 1208, 1209, 1210, 1211, 1212, 1213, 1214, 1215, 1216, 1217, 1218, 1219, 1220, 1221, 1222, 1223, 1224, 1225, 1226, 1227, 1228, 1229, 1230, 1231, 1232, 1233, 1234, 1235, 1236, 1237, 1238, 1239, 1240, 1241, 1242, 1243, 1244, 1245, 1246, 1247, 1248, 1249, 1250, 1251, 1252, 1253, 1254, 1255, 1256, 1257, 1258, 1259, 1260, 1261, 1262, 1263, 1264, 1265, 1266, 1267, 1268, 1269, 1270, 1271, 1272, 1273, 1274, 1275, 1276, 1277, 1278, 1279, 1280, 1281, 1282, 1283, 1284, 1285, 1286, 1287, 1288, 1289, 1290, 1291, 1292, 1293, 1294, 1295, 1296, 1297, 1298, 1299, 1300, 1301, 1302, 1303, 1304, 1305, 1306, 1307, 1308, 1309, 1310, 1311, 1312, 1313, 1314, 1315, 1316, 1317, 1318, 1319, 1320, 1321, 1322, 1323, 1324, 1325, 1326, 1327, 1328, 1329, 1330, 1331, 1332, 1333, 1334, 1335, 1336, 1337, 1338, 1339, 1340, 1341, 1342, 1343, 1344, 1345, 1346, 1347, 1348, 1349, 1350, 1351, 1352, 1353, 1354, 1355, 1356, 1357, 1358, 1359, 1360, 1361, 1362, 1363, 1364, 1365, 1366, 1367, 1368, 1369, 1370, 1371, 1372, 1373, 1374, 1375, 1376, 1377, 1378, 1379, 1380, 1381, 1382, 1383, 1384, 1385, 1386, 1387, 1388, 1389, 1390, 1391, 1392, 1393, 1394, 1395, 1396, 1397, 1398, 1399, 1400, 1401, 1402, 1403, 1404, 1405, 1406, 1407, 1408, 1409, 1410, 1411, 1412, 1413, 1414, 1415, 1416, 1417, 1418, 1419, 1420, 1421, 1422, 1423, 1424, 1425, 1426, 1427, 1428, 1429, 1430, 1431, 1432, 1433, 1434, 1435, 1436, 1437, 1438, 1439, 1440, 1441, 1442, 1443, 1444, 1445, 1446, 1447, 1448, 1449, 1450, 1451, 1452, 1453, 1454, 1455, 1456, 1457, 1458, 1459, 1460, 1461, 1462, 1463, 1464, 1465, 1466, 1467, 1468, 1469, 1470, 1471, 1472, 1473, 1474, 1475, 1476, 1477, 1478, 1479, 1480, 1481, 1482, 1483, 1484, 1485, 1486, 1487, 1488, 1489, 1490, 1491, 1492, 1493, 1494, 1495, 1496, 1497, 1498, 1499, 1500, 1501, 1502, 1503, 1504, 1505, 1506, 1507, 1508, 1509, 1510, 1511, 1512, 1513, 1514, 1515, 1516, 1517, 1518, 1519, 1520, 1521, 1522, 1523, 1524, 1525, 1526, 1527, 1528, 1529, 1530, 1531, 1532, 1533, 1534, 1535, 1536, 1537, 1538, 1539, 1540, 1541, 1542, 1543, 1544, 1545, 1546, 1547, 1548, 1549, 1550, 1551, 1552, 1553, 1554, 1555, 1556, 1557, 1558, 1559, 1560, 1561, 1562, 1563, 1564, 1565, 1566, 1567, 1568, 1569, 1570, 1571, 1572, 1573, 1574, 1575, 1576, 1577, 1578, 1579, 1580, 1581, 1582, 1583, 1584, 1585, 1586, 1587, 1588, 1589, 1590, 1591, 1592, 1593, 1594, 1595, 1596, 1597, 1598, 1599, 1600, 1601, 1602, 1603, 1604, 1605, 1606, 1607, 1608, 1609, 1610, 1611, 1612, 1613, 1614, 1615, 1616, 1617, 1618, 1619, 1620, 1621, 1622, 1623, 1624, 1625, 1626, 1627, 1628, 1629, 1630, 1631, 1632, 1633, 1634, 1635, 1636, 1637, 1638, 1639, 1640, 1641, 1642, 1643, 1644, 1645, 1646, 1647, 1648, 1649, 1650, 1651, 1652, 1653, 1654, 1655, 1656, 1657, 1658, 1659, 1660, 1661, 1662, 1663, 1664, 1665, 1666, 1667, 1668, 1669, 1670, 1671, 1672, 1673, 1674, 1675, 1676, 1677, 1678, 1679, 1680, 1681, 1682, 1683, 1684, 1685, 1686, 1687, 1688, 1689, 1690, 1691, 1692, 1693, 1694, 1695, 1696, 1697, 1698, 1699, 1700, 1701, 1702, 1703, 1704, 1705, 1706, 1707, 1708, 1709, 1710, 1711, 1712, 1713, 1714, 1715, 1716, 1717, 1718, 1719, 1720, 1721, 1722, 1723, 1724, 1725, 1726, 1727, 1728, 1729, 1730, 1731, 1732, 1733, 1734, 1735, 1736, 1737, 1738, 1739, 1740, 1741, 1742, 1743, 1744, 1745, 1746, 1747, 1748, 1749, 1750, 1751, 1752, 1753, 1754, 1755, 1756, 1757, 1758, 1759, 1760, 1761, 1762, 1763, 1764, 1765, 1766, 1767, 1768, 1769, 1770, 1771, 1772, 1773, 1774, 1775, 1776, 1777, 1778, 1779, 1780, 1781, 1782, 1783, 1784, 1785, 1786, 1787, 1788, 1789, 1790, 1791, 1792, 1793, 1794, 1795, 1796, 1797, 1798, 1799, 1800, 1801, 1802, 1803, 1804, 1805, 1806, 1807, 1808, 1809, 1810, 1811, 1812, 1813, 1814, 1815, 1816, 1817, 1818, 1819, 1820, 1821, 1822, 1823, 1824, 1825, 1826, 1827, 1828, 1829, 1830, 1831, 1832, 1833, 1834, 1835, 1836, 1837, 1838, 1839, 1840, 1841, 1842, 1843, 1844, 1845, 1846, 1847, 1848, 1849, 1850, 1851, 1852, 1853, 1854, 1855, 1856, 1857, 1858, 1859, 1860, 1861, 1862, 1863, 1864, 1865, 1866, 1867, 1868, 1869, 1870, 1871, 1872, 1873, 1874, 1875, 1876, 1877, 1878, 1879, 1880, 1881, 1882, 1883, 1884, 1885, 1886, 1887, 1888, 1889, 1890, 1891, 1892, 1893, 1894, 1895, 1896, 1897, 1898, 1899, 1900, 1901, 1902, 1903, 1904, 1905, 1906, 1907, 1908, 1909, 1910, 1911, 1912, 1913, 1914, 1915, 1916, 1917, 1918, 1919, 1920, 1921, 1922, 1923, 1924, 1925, 1926, 1927, 1928, 1929, 1930, 1931, 1932, 1933, 1934, 1935, 1936, 1937, 1938, 1939, 1940, 1941, 1942, 1943, 1944, 1945, 1946, 1947, 1948, 1949, 1950, 1951, 1952, 1953, 1954, 1955, 1956, 1957, 1958, 1959, 1960, 1961, 1962, 1963, 1964, 1965, 1966, 1967, 1968, 1969, 1970, 1971, 1972, 1973, 1974, 1975, 1976, 1977, 1978, 1979, 1980, 1981, 1982, 1983, 1984, 1985, 1986, 1987, 1988, 1989, 1990, 1991, 1992, 1993, 1994, 1995, 1996, 1997, 1998, 1999, 2000, 2001, 2002, 2003, 2004, 2005, 2006, 2007, 2008, 2009, 2010, 2011, 2012, 2013, 2014, 2015, 2016, 2017, 2018, 2019, 2020, 2021, 2022, 2023, 2024, 2025, 2026, 2027, 2028, 2029, 2030, 2031, 2032, 2033, 2034, 2035, 2036, 2037, 2038, 2039, 2040, 2041, 2042, 2043, 2044, 2045, 2046, 2047, 2048, 2049, 2050, 2051, 2052, 2053, 2054, 2055, 2056, 2057, 2058, 2059, 2060, 2061, 2062, 2063, 2064, 2065, 2066, 2067, 2068, 2069, 2070, 2071, 2072, 2073, 2074, 2075, 2076, 2077, 2078, 2079, 2080, 2081, 2082, 2083, 2084, 2085, 2086, 2087, 2088, 2089, 2090, 2091, 2092, 2093, 2094, 2095, 2096, 2097, 2098, 2099, 2100, 2101, 2102, 2103, 2104, 2105, 2106, 2107, 2108, 2109, 2110, 2111, 2112, 2113, 2114, 2115, 2116, 2117, 2118, 2119, 2120, 2121, 2122, 2123, 2124, 2125, 2126, 2127, 2128, 2129, 2130, 2131, 2132, 2133, 2134, 2135, 2136, 2137, 2138, 2139, 2140, 2141, 2142, 2143, 2144, 2145, 2146, 2147, 2148, 2149, 2150, 2151, 2152, 2153, 2154, 2155, 2156, 2157, 2158, 2159, 2160, 2161, 2162, 2163, 2164, 2165, 2166, 2167, 2168, 2169, 2170, 2171, 2172, 2173, 2174, 2175, 2176, 2177, 2178, 2179, 2180, 2181, 2182, 2183, 2184, 2185, 2186, 2187, 2188, 2189, 2190, 2191, 2192, 2193, 2194, 2195, 2196, 2197, 2198, 2199, 2200, 2201, 2202, 2203, 2204, 2205, 2206, 2207, 2208, 2209, 2210, 2211, 2212, 2213, 2214, 2215, 2216, 2217, 2218, 2219, 2220, 2221, 2222, 2223, 2224, 2225, 2226, 2227, 2228, 2229, 2230, 2231, 2232, 2233, 2234, 2235, 2236, 2237, 2238, 2239, 2240, 2241, 2242, 2243, 2244, 2245, 2246, 2247, 2248, 2249, 2250, 2251, 2252, 2253, 2254, 2255, 2256, 2257, 2258, 2259, 2260, 2261, 2262, 2263, 2264, 2265, 2266, 2267, 2268, 2269, 2270, 2271, 2272, 2273, 2274, 2275, 2276, 2277, 2278, 2279, 2280, 2281, 2282, 2283, 2284, 2285, 2286, 2287, 2288, 2289, 2290, 2291, 2292, 2293, 2294, 2295, 2296, 2297, 2298, 2299, 2300, 2301, 2302, 2303, 2304, 2305, 2306, 2307, 2308, 2309, 2310, 2311, 2312, 2313, 2314, 2315, 2316, 2317, 2318, 2319, 2320, 2321, 2322, 2323, 2324, 2325, 2326, 2327, 2328, 2329, 2330, 2331, 2332, 2333, 2334, 2335, 2336, 2337, 2338, 2339, 2340, 2341, 2342, 2343, 2344, 2345, 2346, 2347, 2348, 2349, 2350, 2351, 2352, 2353, 2354, 2355, 2356, 2357, 2358, 2359, 2360, 2361, 2362, 2363, 2364, 2365, 2366, 2367, 2368, 2369, 2370, 2371, 2372, 2373, 2374, 2375, 2376, 2377, 2378, 2379, 2380, 2381, 2382, 2383, 2384, 2385, 2386, 2387, 2388, 2389, 2390, 2391, 2392, 2393, 2394, 2395, 2396, 2397, 2398, 2399, 2400, 2401, 2402, 2403, 2404, 2405, 2406, 2407, 2408, 2409, 2410, 2411, 2412, 2413, 2414, 2415, 2416, 2417, 2418, 2419, 2420, 2421, 2422, 2423, 2424, 2425, 2426, 2427, 2428, 2429, 2430, 2431, 2432, 2433, 2434, 2435, 2436, 2437, 2438, 2439, 2440, 2441, 2442, 2443, 2444, 2445, 2446, 2447, 2448, 2449, 2450, 2451, 2452, 2453, 2454, 2455, 2456, 2457, 2458, 2459, 2460, 2461, 2462, 2463, 2464, 2465, 2466, 2467, 2468, 2469, 2470, 2471, 2472, 2473, 2474, 2475, 2476, 2477, 2478, 2479, 2480, 2481, 2482, 2483, 2484, 2485, 2486, 2487, 2488, 2489, 2490, 2491, 2492, 2493, 2494, 2495, 2496, 2497, 2498, 2499, 2500, 2501, 2502, 2503, 2504, 2505, 2506, 2507, 2508, 2509, 2510, 2511, 2512, 2513, 2514, 2515, 2516, 2517, 2518, 2519, 2520, 2521, 2522, 2523, 2524, 2525, 2526, 2527, 2528, 2529, 2530, 2531, 2532, 2533, 2534, 2535, 2536, 2537, 2538, 2539, 2540, 2541, 2542, 2543, 2544, 2545, 2546, 2547, 2548, 2549, 2550, 2551, 2552, 2553, 2554, 2555, 2556, 2557, 2558, 2559, 2560, 2561, 2562, 2563, 2564, 2565, 2566, 2567, 2568, 2569, 2570, 2571, 2572, 2573, 2574, 2575, 2576, 2577, 2578, 2579, 2580, 2581, 2582, 2583, 2584, 2585, 2586, 2587, 2588, 2589, 2590, 2591, 2592, 2593, 2594, 2595, 2596, 2597, 2598, 2599, 2600, 2601, 2602, 2603, 2604, 2605, 2606, 2607, 2608, 2609, 2610, 2611, 2612, 2613, 2614, 2615, 2616, 2617, 2618, 2619, 2620, 2621, 2622, 2623, 2624, 2625, 2626, 2627, 2628, 2629, 2630, 2631, 2632, 2633, 2634, 2635, 2636, 2637, 2638, 2639, 2640, 2641, 2642, 2643, 2644, 2645, 2646, 2647, 2648, 2649, 2650, 2651, 2652, 2653, 2654, 2655, 2656, 2657, 2658, 2659, 2660, 2661, 2662, 2663, 2664, 2665, 2666, 2667, 2668, 2669, 2670, 2671, 2672, 2673, 2674, 2675, 2676, 2677, 2678, 2679, 2680, 2681, 2682, 2683, 2684, 2685, 2686, 2687, 2688, 2689, 2690, 2691, 2692, 2693, 2694, 2695, 2696, 2697, 2698, 2699, 2700, 2701, 2702, 2703, 2704, 2705, 2706, 2707, 2708, 2709, 2710, 2711, 2712, 2713, 2714, 2715, 2716, 2717, 2718, 2719, 2720, 2721, 2722, 2723, 2724, 2725, 2726, 2727, 2728, 2729, 2730, 2731, 2732, 2733, 2734, 2735, 2736, 2737, 2738, 2739, 2740, 2741, 2742, 2743, 2744, 2745, 2746, 2747, 2748, 2749, 2750, 2751, 2752, 2753, 2754, 2755, 2756, 2757, 2758, 2759, 2760, 2761, 2762, 2763, 2764, 2765, 2766, 2767, 2768, 2769, 2770, 2771, 2772, 2773, 2774, 2775, 2776, 2777, 2778, 2779, 2780, 2781, 2782, 2783, 2784, 2785, 2786, 2787, 2788, 2789, 2790, 2791, 2792, 2793, 2794, 2795, 2796, 2797, 2798, 2799, 2800, 2801, 2802, 2803, 2804, 2805, 2806, 2807, 2808, 2809, 2810, 2811, 2812, 2813, 2814, 2815, 2816, 2817, 2818, 2819, 2820, 2821, 2822, 2823, 2824, 2825, 2826, 2827, 2828, 2829, 2830, 2831, 2832, 2833, 2834, 2835, 2836, 2837, 2838, 2839, 2840, 2841, 2842, 2843, 2844, 2845, 2846, 2847, 2848, 2849, 2850, 2851, 2852, 2853, 2854, 2855, 2856, 2857, 2858, 2859, 2860, 2861, 2862, 2863, 2864, 2865, 2866, 2867, 2868, 2869, 2870, 2871, 2872, 2873, 2874, 2875, 2876, 2877, 2878, 2879, 2880, 2881, 2882, 2883, 2884, 2885, 2886, 2887, 2888, 2889, 2890, 2891, 2892, 2893, 2894, 2895, 2896, 2897, 2898, 2899, 2900, 2901, 2902, 2903, 2904, 2905, 2906, 2907, 2908, 2909, 2910, 2911, 2912, 2913, 2914, 2915, 2916, 2917, 2918, 2919, 2920, 2921, 2922, 2923, 2924, 2925, 2926, 2927, 2928, 2929, 2930, 2931, 2932, 2933, 2934, 2935, 2936, 2937, 2938, 2939, 2940, 2941, 2942, 2943, 2944, 2945, 2946, 2947, 2948, 2949, 2950, 2951, 2952, 2953, 2954, 2955, 2956, 2957, 2958, 2959, 2960, 2961, 2962, 2963, 2964, 2965, 2966, 2967, 2968, 2969, 2970, 2971, 2972, 2973, 2974, 2975, 2976, 2977, 2978, 2979, 2980, 2981, 2982, 2983, 2984, 2985, 2986, 2987, 2988, 2989, 2990, 2991, 2992, 2993, 2994, 2995, 2996, 2997, 2998, 2999, 3000, 3001, 3002, 3003, 3004, 3005, 3006, 3007, 3008, 3009, 3010, 3011, 3012, 3013, 3014, 3015, 3016, 3017, 3018, 3019, 3020, 3021, 3022, 3023, 3024, 3025, 3026, 3027, 3028, 3029, 3030, 3031, 3032, 3033, 3034, 3035, 3036, 3037, 3038, 3039, 3040, 3041, 3042, 3043, 3044, 3045, 3046, 3047, 3048, 3049, 3050, 3051, 3052, 3053, 3054, 3055, 3056, 3057, 3058, 3059, 3060, 3061, 3062, 3063, 3064, 3065, 3066, 3067, 3068, 3069, 3070, 3071, 3072, 3073, 3074, 3075, 3076, 3077, 3078, 3079, 3080, 3081, 3082, 3083, 3084, 3085, 3086, 3087, 3088, 3089, 3090, 3091, 3092, 3093, 3094, 3095, 3096, 3097, 3098, 3099, 3100, 3101, 3102, 3103, 3104, 3105, 3106, 3107, 3108, 3109, 3110, 3111, 3112, 3113, 3114, 3115, 3116, 3117, 3118, 3119, 3120, 3121, 3122, 3123, 3124, 3125, 3126, 3127, 3128, 3129, 3130, 3131, 3132, 3133, 3134, 3135, 3136, 3137, 3138, 3139, 3140, 3141, 3142, 3143, 3144, 3145, 3146, 3147, 3148, 3149, 3150, 3151, 3152, 3153, 3154, 3155, 3156, 3157, 3158, 3159, 3160, 3161, 3162, 3163, 3164, 3165, 3166, 3167, 3168, 3169, 3170, 3171, 3172, 3173, 3174, 3175, 3176, 3177, 3178, 3179, 3180, 3181, 3182, 3183, 3184, 3185, 3186, 3187, 3188, 3189, 3190, 3191, 3192, 3193, 3194, 3195, 3196, 3197, 3198, 3199, 3200, 3201, 3202, 3203, 3204, 3205, 3206, 3207, 3208, 3209, 3210, 3211, 3212, 3213, 3214, 3215, 3216, 3217, 3218, 3219, 3220, 3221, 3222, 3223, 3224, 3225, 3226, 3227, 3228, 3229, 3230, 3231, 3232, 3233, 3234, 3235, 3236, 3237, 3238, 3239, 3240, 3241, 3242, 3243, 3244, 3245, 3246, 3247, 3248, 3249, 3250, 3251, 3252, 3253, 3254, 3255, 3256, 3257, 3258, 3259, 3260, 3261, 3262, 3263, 3264, 3265, 3266, 3267, 3268, 3269, 3270, 3271, 3272, 3273, 3274, 3275, 3276, 3277, 3278, 3279, 3280, 3281, 3282, 3283, 3284, 3285, 3286, 3287, 3288, 3289, 3290, 3291, 3292, 3293, 3294, 3295, 3296, 3297, 3298, 3299, 3300, 3301, 3302, 3303, 3304, 3305, 3306, 3307, 3308, 3309, 3310, 3311, 3312, 3313, 3314, 3315, 3316, 3317, 3318, 3319, 3320, 3321, 3322, 3323, 3324, 3325, 3326, 3327, 3328, 3329, 3330, 3331, 3332, 3333, 3334, 3335, 3336, 3337, 3338, 3339, 3340, 3341, 3342, 3343, 3344, 3345, 3346, 3347, 3348, 3349, 3350, 3351, 3352, 3353, 3354, 3355, 3356, 3357, 3358, 3359, 3360, 3361, 3362, 3363, 3364, 3365, 3366, 3367, 3368, 3369, 3370, 3371, 3372, 3373, 3374, 3375, 3376, 3377, 3378, 3379, 3380, 3381, 3382, 3383, 3384, 3385, 3386, 3387, 3388, 3389, 3390, 3391, 3392, 3393, 3394, 3395, 3396, 3397, 3398, 3399, 3400, 3401, 3402, 3403, 3404, 3405, 3406, 3407, 3408, 3409, 3410, 3411, 3412, 3413, 3414, 3415, 3416, 3417, 3418, 3419, 3420, 3421, 3422, 3423, 3424, 3425, 3426, 3427, 3428, 3429, 3430, 3431, 3432, 3433, 3434, 3435, 3436, 3437, 3438, 3439, 3440, 3441, 3442, 3443, 3444, 3445, 3446, 3447, 3448, 3449, 3450, 3451, 3452, 3453, 3454, 3455, 3456, 3457, 3458, 3459, 3460, 3461, 3462, 3463, 3464, 3465, 3466, 3467, 3468, 3469, 3470, 3471, 3472, 3473, 3474, 3475, 3476, 3477, 3478, 3479, 3480, 3481, 3482, 3483, 3484, 3485, 3486, 3487, 3488, 3489, 3490, 3491, 3492, 3493, 3494, 3495, 3496, 3497, 3498, 3499, 3500, 3501, 3502, 3503, 3504, 3505, 3506, 3507, 3508, 3509, 3510, 3511, 3512, 3513, 3514, 3515, 3516, 3517, 3518, 3519, 3520, 3521, 3522, 3523, 3524, 3525, 3526, 3527, 3528, 3529, 3530, 3531, 3532, 3533, 3534, 3535, 3536, 3537, 3538, 3539, 3540, 3541, 3542, 3543, 3544, 3545, 3546, 3547, 3548, 3549, 3550, 3551, 3552, 3553, 3554, 3555, 3556, 3557, 3558, 3559, 3560, 3561, 3562, 3563, 3564, 3565, 3566, 3567, 3568, 3569, 3570, 3571, 3572, 3573, 3574, 3575, 3576, 3577, 3578, 3579, 3580, 3581, 3582, 3583, 3584, 3585, 3586, 3587, 3588, 3589, 3590, 3591, 3592, 3593, 3594, 3595, 3596, 3597, 3598, 3599, 3600, 3601, 3602, 3603, 3604, 3605, 3606, 3607, 3608, 3609, 3610, 3611, 3612, 3613, 3614, 3615, 3616, 3617, 3618, 3619, 3620, 3621, 3622, 3623, 3624, 3625, 3626, 3627, 3628, 3629, 3630, 3631, 3632, 3633, 3634, 3635, 3636, 3637, 3638, 3639, 3640, 3641, 3642, 3643, 3644, 3645, 3646, 3647, 3648, 3649, 3650, 3651, 3652, 3653, 3654, 3655, 3656, 3657, 3658, 3659, 3660, 3661, 3662, 3663, 3664, 3665, 3666, 3667, 3668, 3669, 3670, 3671, 3672, 3673, 3674, 3675, 3676, 3677, 3678, 3679, 3680, 3681, 3682, 3683, 3684, 3685, 3686, 3687, 3688, 3689, 3690, 3691, 3692, 3693, 3694, 3695, 3696, 3697, 3698, 3699, 3700, 3701, 3702, 3703, 3704, 3705, 3706, 3707, 3708, 3709, 3710, 3711, 3712, 3713, 3714, 3715, 3716, 3717, 3718, 3719, 3720, 3721, 3722, 3723, 3724, 3725, 3726, 3727, 3728, 3729, 3730, 3731, 3732, 3733, 3734, 3735, 3736, 3737, 3738, 3739, 3740, 3741, 3742, 3743, 3744, 3745, 3746, 3747, 3748, 3749, 3750, 3751, 3752, 3753, 3754, 3755, 3756, 3757, 3758, 3759, 3760, 3761, 3762, 3763, 3764, 3765, 3766, 3767, 3768, 3769, 3770, 3771, 3772, 3773, 3774, 3775, 3776, 3777, 3778, 3779, 3780, 3781, 3782, 3783, 3784, 3785, 3786, 3787, 3788, 3789, 3790, 3791, 3792, 3793, 3794, 3795, 3796, 3797, 3798, 3799, 3800, 3801, 3802, 3803, 3804, 3805, 3806, 3807, 3808, 3809, 3810, 3811, 3812, 3813, 3814, 3815, 3816, 3817, 3818, 3819, 3820, 3821, 3822, 3823, 3824, 3825, 3826, 3827, 3828, 3829, 3830, 3831, 3832, 3833, 3834, 3835, 3836, 3837, 3838, 3839, 3840, 3841, 3842, 3843, 3844, 3845, 3846, 3847, 3848, 3849, 3850, 3851, 3852, 3853, 3854, 3855, 3856, 3857, 3858, 3859, 3860, 3861, 3862, 3863, 3864, 3865, 3866, 3867, 3868, 3869, 3870, 3871, 3872, 3873, 3874, 3875, 3876, 3877, 3878, 3879, 3880, 3881, 3882, 3883, 3884, 3885, 3886, 3887, 3888, 3889, 3890, 3891, 3892, 3893, 3894, 3895, 3896, 3897, 3898, 3899, 3900, 3901, 3902, 3903, 3904, 3905, 3906, 3907, 3908, 3909, 3910, 3911, 3912, 3913, 3914, 3915, 3916, 3917, 3918, 3919, 3920, 3921, 3922, 3923, 3924, 3925, 3926, 3927, 3928, 3929, 3930, 3931, 3932, 3933, 3934, 3935, 3936, 3937, 3938, 3939, 3940, 3941, 3942, 3943, 3944, 3945, 3946, 3947, 3948, 3949, 3950, 3951, 3952, 3953, 3954, 3955, 3956, 3957, 3958, 3959, 3960, 3961, 3962, 3963, 3964, 3965, 3966, 3967, 3968, 3969, 3970, 3971, 3972, 3973, 3974, 3975, 3976, 3977, 3978, 3979, 3980, 3981, 3982, 3983, 3984, 3985, 3986, 3987, 3988, 3989, 3990, 3991, 3992, 3993, 3994, 3995, 3996, 3997, 3998, 3999, 4000, 4001, 4002, 4003, 4004, 4005, 4006, 4007, 4008, 4009, 4010, 4011, 4012, 4013, 4014, 4015, 4016, 4017, 4018, 4019, 4020, 4021, 4022, 4023, 4024, 4025, 4026, 4027, 4028, 4029, 4030, 4031, 4032, 4033, 4034, 4035, 4036, 4037, 4038, 4039, 4040, 4041, 4042, 4043, 4044, 4045, 4046, 4047, 4048, 4049, 4050, 4051, 4052, 4053, 4054, 4055, 4056, 4057, 4058, 4059, 4060, 4061, 4062, 4063, 4064, 4065, 4066, 4067, 4068, 4069, 4070, 4071, 4072, 4073, 4074, 4075, 4076, 4077, 4078, 4079, 4080, 4081, 4082, 4083, 4084, 4085, 4086, 4087, 4088, 4089, 4090, 4091, 4092, 4093, 4094, 4095, 4096, 4097, 4098, 4099, 4100, 4101, 4102, 4103, 4104, 4105, 4106, 4107, 4108, 4109, 4110, 4111, 4112, 4113, 4114, 4115, 4116, 4117, 4118, 4119, 4120, 4121, 4122, 4123, 4124, 4125, 4126, 4127, 4128, 4129, 4130, 4131, 4132, 4133, 4134, 4135, 4136, 4137, 4138, 4139, 4140, 4141, 4142, 4143, 4144, 4145, 4146, 4147, 4148, 4149, 4150, 4151, 4152, 4153, 4154, 4155, 4156, 4157, 4158, 4159, 4160, 4161, 4162, 4163, 4164, 4165, 4166, 4167, 4168, 4169, 4170, 4171, 4172, 4173, 4174, 4175, 4176, 4177, 4178, 4179, 4180, 4181, 4182, 4183, 4184, 4185, 4186, 4187, 4188, 4189, 4190, 4191, 4192, 4193, 4194, 4195, 4196, 4197, 4198, 4199, 4200, 4201, 4202, 4203, 4204, 4205, 4206, 4207, 4208, 4209, 4210, 4211, 4212, 4213, 4214, 4215, 4216, 4217, 4218, 4219, 4220, 4221, 4222, 4223, 4224, 4225, 4226, 4227, 4228, 4229, 4230, 4231, 4232, 4233, 4234, 4235, 4236, 4237, 4238, 4239, 4240, 4241, 4242, 4243, 4244, 4245, 4246, 4247, 4248, 4249, 4250, 4251, 4252, 4253, 4254, 4255, 4256, 4257, 4258, 4259, 4260, 4261, 4262, 4263, 4264, 4265, 4266, 4267, 4268, 4269, 4270, 4271, 4272, 4273, 4274, 4275, 4276, 4277, 4278, 4279, 4280, 4281, 4282, 4283, 4284, 4285, 4286, 4287, 4288, 4289, 4290, 4291, 4292, 4293, 4294, 4295, 4296, 4297, 4298, 4299, 4300, 4301, 4302, 4303, 4304, 4305, 4306, 4307, 4308, 4309, 4310, 4311, 4312, 4313, 4314, 4315, 4316, 4317, 4318, 4319, 4320, 4321, 4322, 4323, 4324, 4325, 4326, 4327, 4328, 4329, 4330, 4331, 4332, 4333, 4334, 4335, 4336, 4337, 4338, 4339, 4340, 4341, 4342, 4343, 4344, 4345, 4346, 4347, 4348, 4349, 4350, 4351, 4352, 4353, 4354, 4355, 4356, 4357, 4358, 4359, 4360, 4361, 4362, 4363, 4364, 4365, 4366, 4367, 4368, 4369, 4370, 4371, 4372, 4373, 4374, 4375, 4376, 4377, 4378, 4379, 4380, 4381, 4382, 4383, 4384, 4385, 4386, 4387, 4388, 4389, 4390, 4391, 4392, 4393, 4394, 4395, 4396, 4397, 4398, 4399, 4400, 4401, 4402, 4403, 4404, 4405, 4406, 4407, 4408, 4409, 4410, 4411, 4412, 4413, 4414, 4415, 4416, 4417, 4418, 4419, 4420, 4421, 4422, 4423, 4424, 4425, 4426, 4427, 4428, 4429, 4430, 4431, 4432, 4433, 4434, 4435, 4436, 4437, 4438, 4439, 4440, 4441, 4442, 4443, 4444, 4445, 4446, 4447, 4448, 4449, 4450, 4451, 4452, 4453, 4454, 4455, 4456, 4457, 4458, 4459, 4460, 4461, 4462, 4463, 4464, 4465, 4466, 4467, 4468, 4469, 4470, 4471, 4472, 4473, 4474, 4475, 4476, 4477, 4478, 4479, 4480, 4481, 4482, 4483, 4484, 4485, 4486, 4487, 4488, 4489, 4490, 4491, 4492, 4493, 4494, 4495, 4496, 4497, 4498, 4499, 4500, 4501, 4502, 4503, 4504, 4505, 4506, 4507, 4508, 4509, 4510, 4511, 4512, 4513, 4514, 4515, 4516, 4517, 4518, 4519, 4520, 4521, 4522, 4523, 4524, 4525, 4526, 4527, 4528, 4529, 4530, 4531, 4532, 4533, 4534, 4535, 4536, 4537, 4538, 4539, 4540, 4541, 4542, 4543, 4544, 4545, 4546, 4547, 4548, 4549, 4550, 4551, 4552, 4553, 4554, 4555, 4556, 4557, 4558, 4559, 4560, 4561, 4562, 4563, 4564, 4565, 4566, 4567, 4568, 4569, 4570, 4571, 4572, 4573, 4574, 4575, 4576, 4577, 4578, 4579, 4580, 4581, 4582, 4583, 4584, 4585, 4586, 4587, 4588, 4589, 4590, 4591, 4592, 4593, 4594, 4595, 4596, 4597, 4598, 4599, 4600, 4601, 4602, 4603, 4604, 4605, 4606, 4607, 4608, 4609, 4610, 4611, 4612, 4613, 4614, 4615, 4616, 4617, 4618, 4619, 4620, 4621, 4622, 4623, 4624, 4625, 4626, 4627, 4628, 4629, 4630, 4631, 4632, 4633, 4634, 4635, 4636, 4637, 4638, 4639, 4640, 4641, 4642, 4643, 4644, 4645, 4646, 4647, 4648, 4649, 4650, 4651, 4652, 4653, 4654, 4655, 4656, 4657, 4658, 4659, 4660, 4661, 4662, 4663, 4664, 4665, 4666, 4667, 4668, 4669, 4670, 4671, 4672, 4673, 4674, 4675, 4676, 4677, 4678, 4679, 4680, 4681, 4682, 4683, 4684, 4685, 4686, 4687, 4688, 4689, 4690, 4691, 4692, 4693, 4694, 4695, 4696, 4697, 4698, 4699, 4700, 4701, 4702, 4703, 4704, 4705, 4706, 4707, 4708, 4709, 4710, 4711, 4712, 4713, 4714, 4715, 4716, 4717, 4718, 4719, 4720, 4721, 4722, 4723, 4724, 4725, 4726, 4727, 4728, 4729, 4730, 4731, 4732, 4733, 4734, 4735, 4736, 4737, 4738, 4739, 4740, 4741, 4742, 4743, 4744, 4745, 4746, 4747, 4748, 4749, 4750, 4751, 4752, 4753, 4754, 4755, 4756, 4757, 4758, 4759, 4760, 4761, 4762, 4763, 4764, 4765, 4766, 4767, 4768, 4769, 4770, 4771, 4772, 4773, 4774, 4775, 4776, 4777, 4778, 4779, 4780, 4781, 4782, 4783, 4784, 4785, 4786, 4787, 4788, 4789, 4790, 4791, 4792, 4793, 4794, 4795, 4796, 4797, 4798, 4799, 4800, 4801, 4802, 4803, 4804, 4805, 4806, 4807, 4808, 4809, 4810, 4811, 4812, 4813, 4814, 4815, 4816, 4817, 4818, 4819, 4820, 4821, 4822, 4823, 4824, 4825, 4826, 4827, 4828, 4829, 4830, 4831, 4832, 4833, 4834, 4835, 4836, 4837, 4838, 4839, 4840, 4841, 4842, 4843, 4844, 4845, 4846, 4847, 4848, 4849, 4850, 4851, 4852, 4853, 4854, 4855, 4856, 4857, 4858, 4859, 4860, 4861, 4862, 4863, 4864, 4865, 4866, 4867, 4868, 4869, 4870, 4871, 4872, 4873, 4874, 4875, 4876, 4877, 4878, 4879, 4880, 4881, 4882, 4883, 4884, 4885, 4886, 4887, 4888, 4889, 4890, 4891, 4892, 4893, 4894, 4895, 4896, 4897, 4898, 4899, 4900, 4901, 4902, 4903, 4904, 4905, 4906, 4907, 4908, 4909, 4910, 4911, 4912, 4913, 4914, 4915, 4916, 4917, 4918, 4919, 4920, 4921, 4922, 4923, 4924, 4925, 4926, 4927, 4928, 4929, 4930, 4931, 4932, 4933, 4934, 4935, 4936, 4937, 4938, 4939, 4940, 4941, 4942, 4943, 4944, 4945, 4946, 4947, 4948, 4949, 4950, 4951, 4952, 4953, 4954, 4955, 4956, 4957, 4958, 4959, 4960, 4961, 4962, 4963, 4964, 4965, 4966, 4967, 4968, 4969, 4970, 4971, 4972, 4973, 4974, 4975, 4976, 4977, 4978, 4979, 4980, 4981, 4982, 4983, 4984, 4985, 4986, 4987, 4988, 4989, 4990, 4991, 4992, 4993, 4994, 4995, 4996, 4997, 4998, 4999, 5000, 5001, 5002, 5003, 5004, 5005, 5006, 5007, 5008, 5009, 5010, 5011, 5012, 5013, 5014, 5015, 5016, 5017, 5018, 5019, 5020, 5021, 5022, 5023, 5024, 5025, 5026, 5027, 5028, 5029, 5030, 5031, 5032, 5033, 5034, 5035, 5036, 5037, 5038, 5039, 5040, 5041, 5042, 5043, 5044, 5045, 5046, 5047, 5048, 5049, 5050, 5051, 5052, 5053, 5054, 5055, 5056, 5057, 5058, 5059, 5060, 5061, 5062, 5063, 5064, 5065, 5066, 5067, 5068, 5069, 5070, 5071, 5072, 5073, 5074, 5075, 5076, 5077, 5078, 5079, 5080, 5081, 5082, 5083, 5084, 5085, 5086, 5087, 5088, 5089, 5090, 5091, 5092, 5093, 5094, 5095, 5096, 5097, 5098, 5099, 5100, 5101, 5102, 5103, 5104, 5105, 5106, 5107, 5108, 5109, 5110, 5111, 5112, 5113, 5114, 5115, 5116, 5117, 5118, 5119, 5120, 5121, 5122, 5123, 5124, 5125, 5126, 5127, 5128, 5129, 5130, 5131, 5132, 5133, 5134, 5135, 5136, 5137, 5138, 5139, 5140]}],\n",
              "                        {\"template\": {\"data\": {\"bar\": [{\"error_x\": {\"color\": \"#2a3f5f\"}, \"error_y\": {\"color\": \"#2a3f5f\"}, \"marker\": {\"line\": {\"color\": \"#E5ECF6\", \"width\": 0.5}}, \"type\": \"bar\"}], \"barpolar\": [{\"marker\": {\"line\": {\"color\": \"#E5ECF6\", \"width\": 0.5}}, \"type\": \"barpolar\"}], \"carpet\": [{\"aaxis\": {\"endlinecolor\": \"#2a3f5f\", \"gridcolor\": \"white\", \"linecolor\": \"white\", \"minorgridcolor\": \"white\", \"startlinecolor\": \"#2a3f5f\"}, \"baxis\": {\"endlinecolor\": \"#2a3f5f\", \"gridcolor\": \"white\", \"linecolor\": \"white\", \"minorgridcolor\": \"white\", \"startlinecolor\": \"#2a3f5f\"}, \"type\": \"carpet\"}], \"choropleth\": [{\"colorbar\": {\"outlinewidth\": 0, \"ticks\": \"\"}, \"type\": \"choropleth\"}], \"contour\": [{\"colorbar\": {\"outlinewidth\": 0, \"ticks\": \"\"}, \"colorscale\": [[0.0, \"#0d0887\"], [0.1111111111111111, \"#46039f\"], [0.2222222222222222, \"#7201a8\"], [0.3333333333333333, \"#9c179e\"], [0.4444444444444444, \"#bd3786\"], [0.5555555555555556, \"#d8576b\"], [0.6666666666666666, \"#ed7953\"], [0.7777777777777778, \"#fb9f3a\"], [0.8888888888888888, \"#fdca26\"], [1.0, \"#f0f921\"]], \"type\": \"contour\"}], \"contourcarpet\": [{\"colorbar\": {\"outlinewidth\": 0, \"ticks\": \"\"}, \"type\": \"contourcarpet\"}], \"heatmap\": [{\"colorbar\": {\"outlinewidth\": 0, \"ticks\": \"\"}, \"colorscale\": [[0.0, \"#0d0887\"], [0.1111111111111111, \"#46039f\"], [0.2222222222222222, \"#7201a8\"], [0.3333333333333333, \"#9c179e\"], [0.4444444444444444, \"#bd3786\"], [0.5555555555555556, \"#d8576b\"], [0.6666666666666666, \"#ed7953\"], [0.7777777777777778, \"#fb9f3a\"], [0.8888888888888888, \"#fdca26\"], [1.0, \"#f0f921\"]], \"type\": \"heatmap\"}], \"heatmapgl\": [{\"colorbar\": {\"outlinewidth\": 0, \"ticks\": \"\"}, \"colorscale\": [[0.0, \"#0d0887\"], [0.1111111111111111, \"#46039f\"], [0.2222222222222222, \"#7201a8\"], [0.3333333333333333, \"#9c179e\"], [0.4444444444444444, \"#bd3786\"], [0.5555555555555556, \"#d8576b\"], [0.6666666666666666, \"#ed7953\"], [0.7777777777777778, \"#fb9f3a\"], [0.8888888888888888, \"#fdca26\"], [1.0, \"#f0f921\"]], \"type\": \"heatmapgl\"}], \"histogram\": [{\"marker\": {\"colorbar\": {\"outlinewidth\": 0, \"ticks\": \"\"}}, \"type\": \"histogram\"}], \"histogram2d\": [{\"colorbar\": {\"outlinewidth\": 0, \"ticks\": \"\"}, \"colorscale\": [[0.0, \"#0d0887\"], [0.1111111111111111, \"#46039f\"], [0.2222222222222222, \"#7201a8\"], [0.3333333333333333, \"#9c179e\"], [0.4444444444444444, \"#bd3786\"], [0.5555555555555556, \"#d8576b\"], [0.6666666666666666, \"#ed7953\"], [0.7777777777777778, \"#fb9f3a\"], [0.8888888888888888, \"#fdca26\"], [1.0, \"#f0f921\"]], \"type\": \"histogram2d\"}], \"histogram2dcontour\": [{\"colorbar\": {\"outlinewidth\": 0, \"ticks\": \"\"}, \"colorscale\": [[0.0, \"#0d0887\"], [0.1111111111111111, \"#46039f\"], [0.2222222222222222, \"#7201a8\"], [0.3333333333333333, \"#9c179e\"], [0.4444444444444444, \"#bd3786\"], [0.5555555555555556, \"#d8576b\"], [0.6666666666666666, \"#ed7953\"], [0.7777777777777778, \"#fb9f3a\"], [0.8888888888888888, \"#fdca26\"], [1.0, \"#f0f921\"]], \"type\": \"histogram2dcontour\"}], \"mesh3d\": [{\"colorbar\": {\"outlinewidth\": 0, \"ticks\": \"\"}, \"type\": \"mesh3d\"}], \"parcoords\": [{\"line\": {\"colorbar\": {\"outlinewidth\": 0, \"ticks\": \"\"}}, \"type\": \"parcoords\"}], \"pie\": [{\"automargin\": true, \"type\": \"pie\"}], \"scatter\": [{\"marker\": {\"colorbar\": {\"outlinewidth\": 0, \"ticks\": \"\"}}, \"type\": \"scatter\"}], \"scatter3d\": [{\"line\": {\"colorbar\": {\"outlinewidth\": 0, \"ticks\": \"\"}}, \"marker\": {\"colorbar\": {\"outlinewidth\": 0, \"ticks\": \"\"}}, \"type\": \"scatter3d\"}], \"scattercarpet\": [{\"marker\": {\"colorbar\": {\"outlinewidth\": 0, \"ticks\": \"\"}}, \"type\": \"scattercarpet\"}], \"scattergeo\": [{\"marker\": {\"colorbar\": {\"outlinewidth\": 0, \"ticks\": \"\"}}, \"type\": \"scattergeo\"}], \"scattergl\": [{\"marker\": {\"colorbar\": {\"outlinewidth\": 0, \"ticks\": \"\"}}, \"type\": \"scattergl\"}], \"scattermapbox\": [{\"marker\": {\"colorbar\": {\"outlinewidth\": 0, \"ticks\": \"\"}}, \"type\": \"scattermapbox\"}], \"scatterpolar\": [{\"marker\": {\"colorbar\": {\"outlinewidth\": 0, \"ticks\": \"\"}}, \"type\": \"scatterpolar\"}], \"scatterpolargl\": [{\"marker\": {\"colorbar\": {\"outlinewidth\": 0, \"ticks\": \"\"}}, \"type\": \"scatterpolargl\"}], \"scatterternary\": [{\"marker\": {\"colorbar\": {\"outlinewidth\": 0, \"ticks\": \"\"}}, \"type\": \"scatterternary\"}], \"surface\": [{\"colorbar\": {\"outlinewidth\": 0, \"ticks\": \"\"}, \"colorscale\": [[0.0, \"#0d0887\"], [0.1111111111111111, \"#46039f\"], [0.2222222222222222, \"#7201a8\"], [0.3333333333333333, \"#9c179e\"], [0.4444444444444444, \"#bd3786\"], [0.5555555555555556, \"#d8576b\"], [0.6666666666666666, \"#ed7953\"], [0.7777777777777778, \"#fb9f3a\"], [0.8888888888888888, \"#fdca26\"], [1.0, \"#f0f921\"]], \"type\": \"surface\"}], \"table\": [{\"cells\": {\"fill\": {\"color\": \"#EBF0F8\"}, \"line\": {\"color\": \"white\"}}, \"header\": {\"fill\": {\"color\": \"#C8D4E3\"}, \"line\": {\"color\": \"white\"}}, \"type\": \"table\"}]}, \"layout\": {\"annotationdefaults\": {\"arrowcolor\": \"#2a3f5f\", \"arrowhead\": 0, \"arrowwidth\": 1}, \"coloraxis\": {\"colorbar\": {\"outlinewidth\": 0, \"ticks\": \"\"}}, \"colorscale\": {\"diverging\": [[0, \"#8e0152\"], [0.1, \"#c51b7d\"], [0.2, \"#de77ae\"], [0.3, \"#f1b6da\"], [0.4, \"#fde0ef\"], [0.5, \"#f7f7f7\"], [0.6, \"#e6f5d0\"], [0.7, \"#b8e186\"], [0.8, \"#7fbc41\"], [0.9, \"#4d9221\"], [1, \"#276419\"]], \"sequential\": [[0.0, \"#0d0887\"], [0.1111111111111111, \"#46039f\"], [0.2222222222222222, \"#7201a8\"], [0.3333333333333333, \"#9c179e\"], [0.4444444444444444, \"#bd3786\"], [0.5555555555555556, \"#d8576b\"], [0.6666666666666666, \"#ed7953\"], [0.7777777777777778, \"#fb9f3a\"], [0.8888888888888888, \"#fdca26\"], [1.0, \"#f0f921\"]], \"sequentialminus\": [[0.0, \"#0d0887\"], [0.1111111111111111, \"#46039f\"], [0.2222222222222222, \"#7201a8\"], [0.3333333333333333, \"#9c179e\"], [0.4444444444444444, \"#bd3786\"], [0.5555555555555556, \"#d8576b\"], [0.6666666666666666, \"#ed7953\"], [0.7777777777777778, \"#fb9f3a\"], [0.8888888888888888, \"#fdca26\"], [1.0, \"#f0f921\"]]}, \"colorway\": [\"#636efa\", \"#EF553B\", \"#00cc96\", \"#ab63fa\", \"#FFA15A\", \"#19d3f3\", \"#FF6692\", \"#B6E880\", \"#FF97FF\", \"#FECB52\"], \"font\": {\"color\": \"#2a3f5f\"}, \"geo\": {\"bgcolor\": \"white\", \"lakecolor\": \"white\", \"landcolor\": \"#E5ECF6\", \"showlakes\": true, \"showland\": true, \"subunitcolor\": \"white\"}, \"hoverlabel\": {\"align\": \"left\"}, \"hovermode\": \"closest\", \"mapbox\": {\"style\": \"light\"}, \"paper_bgcolor\": \"white\", \"plot_bgcolor\": \"#E5ECF6\", \"polar\": {\"angularaxis\": {\"gridcolor\": \"white\", \"linecolor\": \"white\", \"ticks\": \"\"}, \"bgcolor\": \"#E5ECF6\", \"radialaxis\": {\"gridcolor\": \"white\", \"linecolor\": \"white\", \"ticks\": \"\"}}, \"scene\": {\"xaxis\": {\"backgroundcolor\": \"#E5ECF6\", \"gridcolor\": \"white\", \"gridwidth\": 2, \"linecolor\": \"white\", \"showbackground\": true, \"ticks\": \"\", \"zerolinecolor\": \"white\"}, \"yaxis\": {\"backgroundcolor\": \"#E5ECF6\", \"gridcolor\": \"white\", \"gridwidth\": 2, \"linecolor\": \"white\", \"showbackground\": true, \"ticks\": \"\", \"zerolinecolor\": \"white\"}, \"zaxis\": {\"backgroundcolor\": \"#E5ECF6\", \"gridcolor\": \"white\", \"gridwidth\": 2, \"linecolor\": \"white\", \"showbackground\": true, \"ticks\": \"\", \"zerolinecolor\": \"white\"}}, \"shapedefaults\": {\"line\": {\"color\": \"#2a3f5f\"}}, \"ternary\": {\"aaxis\": {\"gridcolor\": \"white\", \"linecolor\": \"white\", \"ticks\": \"\"}, \"baxis\": {\"gridcolor\": \"white\", \"linecolor\": \"white\", \"ticks\": \"\"}, \"bgcolor\": \"#E5ECF6\", \"caxis\": {\"gridcolor\": \"white\", \"linecolor\": \"white\", \"ticks\": \"\"}}, \"title\": {\"x\": 0.05}, \"xaxis\": {\"automargin\": true, \"gridcolor\": \"white\", \"linecolor\": \"white\", \"ticks\": \"\", \"title\": {\"standoff\": 15}, \"zerolinecolor\": \"white\", \"zerolinewidth\": 2}, \"yaxis\": {\"automargin\": true, \"gridcolor\": \"white\", \"linecolor\": \"white\", \"ticks\": \"\", \"title\": {\"standoff\": 15}, \"zerolinecolor\": \"white\", \"zerolinewidth\": 2}}}},\n",
              "                        {\"responsive\": true}\n",
              "                    ).then(function(){\n",
              "                            \n",
              "var gd = document.getElementById('e87ed5c1-5614-412d-afd1-f55e0b000865');\n",
              "var x = new MutationObserver(function (mutations, observer) {{\n",
              "        var display = window.getComputedStyle(gd).display;\n",
              "        if (!display || display === 'none') {{\n",
              "            console.log([gd, 'removed!']);\n",
              "            Plotly.purge(gd);\n",
              "            observer.disconnect();\n",
              "        }}\n",
              "}});\n",
              "\n",
              "// Listen for the removal of the full notebook cells\n",
              "var notebookContainer = gd.closest('#notebook-container');\n",
              "if (notebookContainer) {{\n",
              "    x.observe(notebookContainer, {childList: true});\n",
              "}}\n",
              "\n",
              "// Listen for the clearing of the current output cell\n",
              "var outputEl = gd.closest('.output');\n",
              "if (outputEl) {{\n",
              "    x.observe(outputEl, {childList: true});\n",
              "}}\n",
              "\n",
              "                        })\n",
              "                };\n",
              "                \n",
              "            </script>\n",
              "        </div>\n",
              "</body>\n",
              "</html>"
            ]
          },
          "metadata": {
            "tags": []
          }
        }
      ]
    },
    {
      "cell_type": "markdown",
      "metadata": {
        "id": "IfW3JMr9ANwk"
      },
      "source": [
        "In the below code we set the index as date cause as we are focussing on closing price in the time series."
      ]
    },
    {
      "cell_type": "code",
      "metadata": {
        "id": "hhSf8-uT3_-_",
        "outputId": "310a8e83-5bbe-4ff5-808e-e460ae7b3ad4",
        "colab": {
          "base_uri": "https://localhost:8080/",
          "height": 500
        }
      },
      "source": [
        "#setting index as date\n",
        "data['Date'] = pd.to_datetime(data.Date,format='%Y-%m-%d')\n",
        "data.index = data['Date']\n",
        "\n",
        "#plot\n",
        "plt.figure(figsize=(16,8))\n",
        "plt.plot(data['Close'], label='Close Price history')"
      ],
      "execution_count": null,
      "outputs": [
        {
          "output_type": "execute_result",
          "data": {
            "text/plain": [
              "[<matplotlib.lines.Line2D at 0x7f4d348b1ac8>]"
            ]
          },
          "metadata": {
            "tags": []
          },
          "execution_count": 22
        },
        {
          "output_type": "display_data",
          "data": {
            "image/png": "[encoded data removed]",
            "text/plain": [
              "<Figure size 1152x576 with 1 Axes>"
            ]
          },
          "metadata": {
            "tags": [],
            "needs_background": "light"
          }
        }
      ]
    },
    {
      "cell_type": "markdown",
      "metadata": {
        "id": "i1rEcaeeAdlM"
      },
      "source": [
        "From the above we can see that how our closing price have behaved in several years. \n",
        "As we can observe there is huge fall in the year 2011, so it could be because company have faced any huge loss or due splitting up of companies."
      ]
    },
    {
      "cell_type": "code",
      "metadata": {
        "id": "DWOkTl6k7EPz",
        "outputId": "93f57fc8-71b3-42c8-8e2c-66d5a7314773",
        "colab": {
          "base_uri": "https://localhost:8080/",
          "height": 500
        }
      },
      "source": [
        "# Now we are visualizing the open price history as well for checking the behavior.\n",
        "#plot\n",
        "plt.figure(figsize=(16,8))\n",
        "plt.plot(data['Open'], label='Open Price history')"
      ],
      "execution_count": null,
      "outputs": [
        {
          "output_type": "execute_result",
          "data": {
            "text/plain": [
              "[<matplotlib.lines.Line2D at 0x7f4d343a79b0>]"
            ]
          },
          "metadata": {
            "tags": []
          },
          "execution_count": 23
        },
        {
          "output_type": "display_data",
          "data": {
            "image/png": "[encoded data removed]",
            "text/plain": [
              "<Figure size 1152x576 with 1 Axes>"
            ]
          },
          "metadata": {
            "tags": [],
            "needs_background": "light"
          }
        }
      ]
    },
    {
      "cell_type": "markdown",
      "metadata": {
        "id": "LUklz2cbCsl9"
      },
      "source": [
        "##**4. Preprocessing of data**"
      ]
    },
    {
      "cell_type": "markdown",
      "metadata": {
        "id": "c-xUISwvB_7t"
      },
      "source": [
        "Now we are making a new dataframe that will contain our date and close (closing price) columns"
      ]
    },
    {
      "cell_type": "code",
      "metadata": {
        "id": "RbrC5hha6QpM"
      },
      "source": [
        "#sorting\n",
        "df = data.sort_index(ascending=True, axis=0)\n",
        "\n",
        "#creating a separate dataset\n",
        "new_data = pd.DataFrame(index=range(0,len(data)),columns=['Date', 'Close'])\n",
        "\n",
        "for i in range(0,len(data)):\n",
        "    new_data['Date'][i] = df['Date'][i]\n",
        "    new_data['Close'][i] = df['Close'][i]"
      ],
      "execution_count": null,
      "outputs": []
    },
    {
      "cell_type": "code",
      "metadata": {
        "id": "EsGz1Et88oUU",
        "outputId": "0b48bed7-090c-4b8f-914b-18322df1aa8a",
        "colab": {
          "base_uri": "https://localhost:8080/",
          "height": 402
        }
      },
      "source": [
        "new_data"
      ],
      "execution_count": null,
      "outputs": [
        {
          "output_type": "execute_result",
          "data": {
            "text/html": [
              "<div>\n",
              "<style scoped>\n",
              "    .dataframe tbody tr th:only-of-type {\n",
              "        vertical-align: middle;\n",
              "    }\n",
              "\n",
              "    .dataframe tbody tr th {\n",
              "        vertical-align: top;\n",
              "    }\n",
              "\n",
              "    .dataframe thead th {\n",
              "        text-align: right;\n",
              "    }\n",
              "</style>\n",
              "<table border=\"1\" class=\"dataframe\">\n",
              "  <thead>\n",
              "    <tr style=\"text-align: right;\">\n",
              "      <th></th>\n",
              "      <th>Date</th>\n",
              "      <th>Close</th>\n",
              "    </tr>\n",
              "  </thead>\n",
              "  <tbody>\n",
              "    <tr>\n",
              "      <th>0</th>\n",
              "      <td>2000-01-03 00:00:00</td>\n",
              "      <td>293.5</td>\n",
              "    </tr>\n",
              "    <tr>\n",
              "      <th>1</th>\n",
              "      <td>2000-01-04 00:00:00</td>\n",
              "      <td>304.05</td>\n",
              "    </tr>\n",
              "    <tr>\n",
              "      <th>2</th>\n",
              "      <td>2000-01-05 00:00:00</td>\n",
              "      <td>292.8</td>\n",
              "    </tr>\n",
              "    <tr>\n",
              "      <th>3</th>\n",
              "      <td>2000-01-06 00:00:00</td>\n",
              "      <td>296.45</td>\n",
              "    </tr>\n",
              "    <tr>\n",
              "      <th>4</th>\n",
              "      <td>2000-01-07 00:00:00</td>\n",
              "      <td>286.55</td>\n",
              "    </tr>\n",
              "    <tr>\n",
              "      <th>...</th>\n",
              "      <td>...</td>\n",
              "      <td>...</td>\n",
              "    </tr>\n",
              "    <tr>\n",
              "      <th>5136</th>\n",
              "      <td>2020-08-25 00:00:00</td>\n",
              "      <td>1829.6</td>\n",
              "    </tr>\n",
              "    <tr>\n",
              "      <th>5137</th>\n",
              "      <td>2020-08-26 00:00:00</td>\n",
              "      <td>1816</td>\n",
              "    </tr>\n",
              "    <tr>\n",
              "      <th>5138</th>\n",
              "      <td>2020-08-27 00:00:00</td>\n",
              "      <td>1864.1</td>\n",
              "    </tr>\n",
              "    <tr>\n",
              "      <th>5139</th>\n",
              "      <td>2020-08-28 00:00:00</td>\n",
              "      <td>1883.25</td>\n",
              "    </tr>\n",
              "    <tr>\n",
              "      <th>5140</th>\n",
              "      <td>2020-08-31 00:00:00</td>\n",
              "      <td>1832.6</td>\n",
              "    </tr>\n",
              "  </tbody>\n",
              "</table>\n",
              "<p>5141 rows × 2 columns</p>\n",
              "</div>"
            ],
            "text/plain": [
              "                     Date    Close\n",
              "0     2000-01-03 00:00:00    293.5\n",
              "1     2000-01-04 00:00:00   304.05\n",
              "2     2000-01-05 00:00:00    292.8\n",
              "3     2000-01-06 00:00:00   296.45\n",
              "4     2000-01-07 00:00:00   286.55\n",
              "...                   ...      ...\n",
              "5136  2020-08-25 00:00:00   1829.6\n",
              "5137  2020-08-26 00:00:00     1816\n",
              "5138  2020-08-27 00:00:00   1864.1\n",
              "5139  2020-08-28 00:00:00  1883.25\n",
              "5140  2020-08-31 00:00:00   1832.6\n",
              "\n",
              "[5141 rows x 2 columns]"
            ]
          },
          "metadata": {
            "tags": []
          },
          "execution_count": 25
        }
      ]
    },
    {
      "cell_type": "code",
      "metadata": {
        "id": "ACFiscME7s7W"
      },
      "source": [
        "#setting index as date\n",
        "new_data.index = new_data.Date\n",
        "new_data.drop('Date', axis=1, inplace=True)"
      ],
      "execution_count": null,
      "outputs": []
    },
    {
      "cell_type": "code",
      "metadata": {
        "id": "c_eP-I_H8891",
        "outputId": "538b8803-d03d-42f2-deb2-0eb61b31a06e",
        "colab": {
          "base_uri": "https://localhost:8080/",
          "height": 431
        }
      },
      "source": [
        "new_data"
      ],
      "execution_count": null,
      "outputs": [
        {
          "output_type": "execute_result",
          "data": {
            "text/html": [
              "<div>\n",
              "<style scoped>\n",
              "    .dataframe tbody tr th:only-of-type {\n",
              "        vertical-align: middle;\n",
              "    }\n",
              "\n",
              "    .dataframe tbody tr th {\n",
              "        vertical-align: top;\n",
              "    }\n",
              "\n",
              "    .dataframe thead th {\n",
              "        text-align: right;\n",
              "    }\n",
              "</style>\n",
              "<table border=\"1\" class=\"dataframe\">\n",
              "  <thead>\n",
              "    <tr style=\"text-align: right;\">\n",
              "      <th></th>\n",
              "      <th>Close</th>\n",
              "    </tr>\n",
              "    <tr>\n",
              "      <th>Date</th>\n",
              "      <th></th>\n",
              "    </tr>\n",
              "  </thead>\n",
              "  <tbody>\n",
              "    <tr>\n",
              "      <th>2000-01-03</th>\n",
              "      <td>293.5</td>\n",
              "    </tr>\n",
              "    <tr>\n",
              "      <th>2000-01-04</th>\n",
              "      <td>304.05</td>\n",
              "    </tr>\n",
              "    <tr>\n",
              "      <th>2000-01-05</th>\n",
              "      <td>292.8</td>\n",
              "    </tr>\n",
              "    <tr>\n",
              "      <th>2000-01-06</th>\n",
              "      <td>296.45</td>\n",
              "    </tr>\n",
              "    <tr>\n",
              "      <th>2000-01-07</th>\n",
              "      <td>286.55</td>\n",
              "    </tr>\n",
              "    <tr>\n",
              "      <th>...</th>\n",
              "      <td>...</td>\n",
              "    </tr>\n",
              "    <tr>\n",
              "      <th>2020-08-25</th>\n",
              "      <td>1829.6</td>\n",
              "    </tr>\n",
              "    <tr>\n",
              "      <th>2020-08-26</th>\n",
              "      <td>1816</td>\n",
              "    </tr>\n",
              "    <tr>\n",
              "      <th>2020-08-27</th>\n",
              "      <td>1864.1</td>\n",
              "    </tr>\n",
              "    <tr>\n",
              "      <th>2020-08-28</th>\n",
              "      <td>1883.25</td>\n",
              "    </tr>\n",
              "    <tr>\n",
              "      <th>2020-08-31</th>\n",
              "      <td>1832.6</td>\n",
              "    </tr>\n",
              "  </tbody>\n",
              "</table>\n",
              "<p>5141 rows × 1 columns</p>\n",
              "</div>"
            ],
            "text/plain": [
              "              Close\n",
              "Date               \n",
              "2000-01-03    293.5\n",
              "2000-01-04   304.05\n",
              "2000-01-05    292.8\n",
              "2000-01-06   296.45\n",
              "2000-01-07   286.55\n",
              "...             ...\n",
              "2020-08-25   1829.6\n",
              "2020-08-26     1816\n",
              "2020-08-27   1864.1\n",
              "2020-08-28  1883.25\n",
              "2020-08-31   1832.6\n",
              "\n",
              "[5141 rows x 1 columns]"
            ]
          },
          "metadata": {
            "tags": []
          },
          "execution_count": 31
        }
      ]
    },
    {
      "cell_type": "code",
      "metadata": {
        "id": "L374Jru6717l",
        "outputId": "2d604fd8-3c3c-4bf7-b83a-9201769034da",
        "colab": {
          "base_uri": "https://localhost:8080/",
          "height": 134
        }
      },
      "source": [
        "dataset = new_data.values\n",
        "dataset"
      ],
      "execution_count": null,
      "outputs": [
        {
          "output_type": "execute_result",
          "data": {
            "text/plain": [
              "array([[293.5],\n",
              "       [304.05],\n",
              "       [292.8],\n",
              "       ...,\n",
              "       [1864.1],\n",
              "       [1883.25],\n",
              "       [1832.6]], dtype=object)"
            ]
          },
          "metadata": {
            "tags": []
          },
          "execution_count": 32
        }
      ]
    },
    {
      "cell_type": "markdown",
      "metadata": {
        "id": "HtxOlA7OC24Y"
      },
      "source": [
        "**Normalizing data**\n",
        "\n",
        "we are normalizing our data so as such our data will in range of 0 to 1."
      ]
    },
    {
      "cell_type": "code",
      "metadata": {
        "id": "bjBB-I5a8FoY"
      },
      "source": [
        "#for normalizing data\n",
        "from sklearn.preprocessing import MinMaxScaler\n",
        "scaler = MinMaxScaler(feature_range=(0, 1))\n",
        "scaled_data = scaler.fit_transform(dataset)"
      ],
      "execution_count": null,
      "outputs": []
    },
    {
      "cell_type": "code",
      "metadata": {
        "id": "tGCA8addDGTt",
        "outputId": "a00bad80-ea55-4beb-bf57-16991d2c1cc0",
        "colab": {
          "base_uri": "https://localhost:8080/",
          "height": 34
        }
      },
      "source": [
        "scaled_data.shape"
      ],
      "execution_count": null,
      "outputs": [
        {
          "output_type": "execute_result",
          "data": {
            "text/plain": [
              "(5141, 1)"
            ]
          },
          "metadata": {
            "tags": []
          },
          "execution_count": 34
        }
      ]
    },
    {
      "cell_type": "code",
      "metadata": {
        "id": "B00icniPDODZ"
      },
      "source": [
        "new_data['Scaled_closing_price']=scaled_data"
      ],
      "execution_count": null,
      "outputs": []
    },
    {
      "cell_type": "code",
      "metadata": {
        "id": "vG5kIGw8DbDL",
        "outputId": "46e0e151-dfe1-453e-ab41-96c6fa409a5b",
        "colab": {
          "base_uri": "https://localhost:8080/",
          "height": 431
        }
      },
      "source": [
        "new_data"
      ],
      "execution_count": null,
      "outputs": [
        {
          "output_type": "execute_result",
          "data": {
            "text/html": [
              "<div>\n",
              "<style scoped>\n",
              "    .dataframe tbody tr th:only-of-type {\n",
              "        vertical-align: middle;\n",
              "    }\n",
              "\n",
              "    .dataframe tbody tr th {\n",
              "        vertical-align: top;\n",
              "    }\n",
              "\n",
              "    .dataframe thead th {\n",
              "        text-align: right;\n",
              "    }\n",
              "</style>\n",
              "<table border=\"1\" class=\"dataframe\">\n",
              "  <thead>\n",
              "    <tr style=\"text-align: right;\">\n",
              "      <th></th>\n",
              "      <th>Close</th>\n",
              "      <th>Scaled_closing_price</th>\n",
              "    </tr>\n",
              "    <tr>\n",
              "      <th>Date</th>\n",
              "      <th></th>\n",
              "      <th></th>\n",
              "    </tr>\n",
              "  </thead>\n",
              "  <tbody>\n",
              "    <tr>\n",
              "      <th>2000-01-03</th>\n",
              "      <td>293.5</td>\n",
              "      <td>0.003332</td>\n",
              "    </tr>\n",
              "    <tr>\n",
              "      <th>2000-01-04</th>\n",
              "      <td>304.05</td>\n",
              "      <td>0.006974</td>\n",
              "    </tr>\n",
              "    <tr>\n",
              "      <th>2000-01-05</th>\n",
              "      <td>292.8</td>\n",
              "      <td>0.003090</td>\n",
              "    </tr>\n",
              "    <tr>\n",
              "      <th>2000-01-06</th>\n",
              "      <td>296.45</td>\n",
              "      <td>0.004350</td>\n",
              "    </tr>\n",
              "    <tr>\n",
              "      <th>2000-01-07</th>\n",
              "      <td>286.55</td>\n",
              "      <td>0.000932</td>\n",
              "    </tr>\n",
              "    <tr>\n",
              "      <th>...</th>\n",
              "      <td>...</td>\n",
              "      <td>...</td>\n",
              "    </tr>\n",
              "    <tr>\n",
              "      <th>2020-08-25</th>\n",
              "      <td>1829.6</td>\n",
              "      <td>0.533698</td>\n",
              "    </tr>\n",
              "    <tr>\n",
              "      <th>2020-08-26</th>\n",
              "      <td>1816</td>\n",
              "      <td>0.529003</td>\n",
              "    </tr>\n",
              "    <tr>\n",
              "      <th>2020-08-27</th>\n",
              "      <td>1864.1</td>\n",
              "      <td>0.545610</td>\n",
              "    </tr>\n",
              "    <tr>\n",
              "      <th>2020-08-28</th>\n",
              "      <td>1883.25</td>\n",
              "      <td>0.552222</td>\n",
              "    </tr>\n",
              "    <tr>\n",
              "      <th>2020-08-31</th>\n",
              "      <td>1832.6</td>\n",
              "      <td>0.534734</td>\n",
              "    </tr>\n",
              "  </tbody>\n",
              "</table>\n",
              "<p>5141 rows × 2 columns</p>\n",
              "</div>"
            ],
            "text/plain": [
              "              Close  Scaled_closing_price\n",
              "Date                                     \n",
              "2000-01-03    293.5              0.003332\n",
              "2000-01-04   304.05              0.006974\n",
              "2000-01-05    292.8              0.003090\n",
              "2000-01-06   296.45              0.004350\n",
              "2000-01-07   286.55              0.000932\n",
              "...             ...                   ...\n",
              "2020-08-25   1829.6              0.533698\n",
              "2020-08-26     1816              0.529003\n",
              "2020-08-27   1864.1              0.545610\n",
              "2020-08-28  1883.25              0.552222\n",
              "2020-08-31   1832.6              0.534734\n",
              "\n",
              "[5141 rows x 2 columns]"
            ]
          },
          "metadata": {
            "tags": []
          },
          "execution_count": 36
        }
      ]
    },
    {
      "cell_type": "markdown",
      "metadata": {
        "id": "Br0aoXb0DpLE"
      },
      "source": [
        "We have our data as scaled closing price and closing price. \n",
        "So, we will convert this into csv file and save it for building model."
      ]
    },
    {
      "cell_type": "code",
      "metadata": {
        "id": "PGoVgy2OD3Py",
        "outputId": "2a08e40e-a3b6-435f-f88f-96ce2bbb9299",
        "colab": {
          "base_uri": "https://localhost:8080/",
          "height": 17
        }
      },
      "source": [
        "from google.colab import files\n",
        "new_data.to_csv('HDFC-Preprocessed.csv')         \n",
        "files.download('HDFC-Preprocessed.csv')"
      ],
      "execution_count": null,
      "outputs": [
        {
          "output_type": "display_data",
          "data": {
            "application/javascript": [
              "\n",
              "    async function download(id, filename, size) {\n",
              "      if (!google.colab.kernel.accessAllowed) {\n",
              "        return;\n",
              "      }\n",
              "      const div = document.createElement('div');\n",
              "      const label = document.createElement('label');\n",
              "      label.textContent = `Downloading \"${filename}\": `;\n",
              "      div.appendChild(label);\n",
              "      const progress = document.createElement('progress');\n",
              "      progress.max = size;\n",
              "      div.appendChild(progress);\n",
              "      document.body.appendChild(div);\n",
              "\n",
              "      const buffers = [];\n",
              "      let downloaded = 0;\n",
              "\n",
              "      const channel = await google.colab.kernel.comms.open(id);\n",
              "      // Send a message to notify the kernel that we're ready.\n",
              "      channel.send({})\n",
              "\n",
              "      for await (const message of channel.messages) {\n",
              "        // Send a message to notify the kernel that we're ready.\n",
              "        channel.send({})\n",
              "        if (message.buffers) {\n",
              "          for (const buffer of message.buffers) {\n",
              "            buffers.push(buffer);\n",
              "            downloaded += buffer.byteLength;\n",
              "            progress.value = downloaded;\n",
              "          }\n",
              "        }\n",
              "      }\n",
              "      const blob = new Blob(buffers, {type: 'application/binary'});\n",
              "      const a = document.createElement('a');\n",
              "      a.href = window.URL.createObjectURL(blob);\n",
              "      a.download = filename;\n",
              "      div.appendChild(a);\n",
              "      a.click();\n",
              "      div.remove();\n",
              "    }\n",
              "  "
            ],
            "text/plain": [
              "<IPython.core.display.Javascript object>"
            ]
          },
          "metadata": {
            "tags": []
          }
        },
        {
          "output_type": "display_data",
          "data": {
            "application/javascript": [
              "download(\"download_2c04cea6-e5a2-4c4d-86a6-1fed619f52bb\", \"HDFC-Preprocessed.csv\", 192721)"
            ],
            "text/plain": [
              "<IPython.core.display.Javascript object>"
            ]
          },
          "metadata": {
            "tags": []
          }
        }
      ]
    },
    {
      "cell_type": "code",
      "metadata": {
        "id": "Dsy2WvWlIImS"
      },
      "source": [
        ""
      ],
      "execution_count": null,
      "outputs": []
    }
  ]
}