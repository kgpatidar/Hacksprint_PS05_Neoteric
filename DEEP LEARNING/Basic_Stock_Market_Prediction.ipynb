{
  "nbformat": 4,
  "nbformat_minor": 0,
  "metadata": {
    "colab": {
      "name": "Basic-Stock-Market-Prediction.ipynb",
      "provenance": [],
      "collapsed_sections": []
    },
    "kernelspec": {
      "name": "python3",
      "display_name": "Python 3"
    }
  },
  "cells": [
    {
      "cell_type": "markdown",
      "metadata": {
        "id": "Az69W9vRtk7q",
        "colab_type": "text"
      },
      "source": [
        "#**Stock Market Prediction using machine learing.**\n",
        "\n",
        "For doing the stock market prediction, we are taking 20 years HDFC stocks results from 2000-01-03 to 2020-08-31. \n",
        "\n",
        "Stride:\n",
        "\n",
        "\n",
        "\n",
        "1.   Loading Libraries\n",
        "2.   Loading dataset\n",
        "3.   Visualization of data\n",
        "4.   Preprocessing of data\n",
        "5.   Train and Test Split\n",
        "6.   Building Model\n",
        "7.   Optimization and Hyperparameter tuning\n",
        "8.   Prediction\n",
        "\n",
        "This file will contain top 4 strides and will continue the last 4 strides in next file.\n",
        "\n",
        "\n",
        "\n",
        "\n"
      ]
    },
    {
      "cell_type": "markdown",
      "metadata": {
        "id": "SM7kz7RqdGB0",
        "colab_type": "text"
      },
      "source": [
        "## **1. Loading Libraries**\n",
        "\n",
        "We have loaded the important libraries and we will load other libraries as we need them."
      ]
    },
    {
      "cell_type": "code",
      "metadata": {
        "id": "p8KW7CYgyNyi",
        "colab_type": "code",
        "colab": {}
      },
      "source": [
        "import pandas as pd\n",
        "import numpy as np\n",
        "import missingno as msno\n",
        "import matplotlib.pyplot as plt \n",
        "%matplotlib inline\n",
        "\n",
        "#setting figure size\n",
        "from matplotlib.pylab import rcParams\n",
        "rcParams['figure.figsize'] = 20,10"
      ],
      "execution_count": null,
      "outputs": []
    },
    {
      "cell_type": "markdown",
      "metadata": {
        "id": "Br1EOKcTd5Ls",
        "colab_type": "text"
      },
      "source": [
        "# **2. Loading Data**\n",
        "\n",
        "We have HDFC stock data and it contains several columns\n",
        "1. Date\n",
        "2. Symbol\n",
        "3. Series\n",
        "4. Prev Close\n",
        "5. Open\n",
        "6. High\n",
        "7. Low \n",
        "8. Last\n",
        "9. Close\n",
        "10. VMAP\n",
        "11. Volume\n",
        "12. Turnover\n",
        "13. Trades\n",
        "14. Deliverable Volume \n",
        "15. %Deliverable\n"
      ]
    },
    {
      "cell_type": "code",
      "metadata": {
        "id": "GgGyNFhSqyyq",
        "colab_type": "code",
        "colab": {}
      },
      "source": [
        "data=pd.read_csv('HDFC.csv') #loading the dataset"
      ],
      "execution_count": 86,
      "outputs": []
    },
    {
      "cell_type": "code",
      "metadata": {
        "id": "lLrL3W4PybRl",
        "colab_type": "code",
        "colab": {
          "base_uri": "https://localhost:8080/",
          "height": 204
        },
        "outputId": "8992fa7c-3af2-4fe6-c258-c3f6602c1255"
      },
      "source": [
        "data.head() #top 5 values of dataset"
      ],
      "execution_count": 87,
      "outputs": [
        {
          "output_type": "execute_result",
          "data": {
            "text/html": [
              "<div>\n",
              "<style scoped>\n",
              "    .dataframe tbody tr th:only-of-type {\n",
              "        vertical-align: middle;\n",
              "    }\n",
              "\n",
              "    .dataframe tbody tr th {\n",
              "        vertical-align: top;\n",
              "    }\n",
              "\n",
              "    .dataframe thead th {\n",
              "        text-align: right;\n",
              "    }\n",
              "</style>\n",
              "<table border=\"1\" class=\"dataframe\">\n",
              "  <thead>\n",
              "    <tr style=\"text-align: right;\">\n",
              "      <th></th>\n",
              "      <th>Date</th>\n",
              "      <th>Symbol</th>\n",
              "      <th>Series</th>\n",
              "      <th>Prev Close</th>\n",
              "      <th>Open</th>\n",
              "      <th>High</th>\n",
              "      <th>Low</th>\n",
              "      <th>Last</th>\n",
              "      <th>Close</th>\n",
              "      <th>VWAP</th>\n",
              "      <th>Volume</th>\n",
              "      <th>Turnover</th>\n",
              "      <th>Trades</th>\n",
              "      <th>Deliverable Volume</th>\n",
              "      <th>%Deliverble</th>\n",
              "    </tr>\n",
              "  </thead>\n",
              "  <tbody>\n",
              "    <tr>\n",
              "      <th>0</th>\n",
              "      <td>2000-01-03</td>\n",
              "      <td>HDFC</td>\n",
              "      <td>EQ</td>\n",
              "      <td>271.75</td>\n",
              "      <td>293.5</td>\n",
              "      <td>293.50</td>\n",
              "      <td>293.5</td>\n",
              "      <td>293.5</td>\n",
              "      <td>293.50</td>\n",
              "      <td>293.50</td>\n",
              "      <td>22744</td>\n",
              "      <td>6.675364e+11</td>\n",
              "      <td>NaN</td>\n",
              "      <td>NaN</td>\n",
              "      <td>NaN</td>\n",
              "    </tr>\n",
              "    <tr>\n",
              "      <th>1</th>\n",
              "      <td>2000-01-04</td>\n",
              "      <td>HDFC</td>\n",
              "      <td>EQ</td>\n",
              "      <td>293.50</td>\n",
              "      <td>317.0</td>\n",
              "      <td>317.00</td>\n",
              "      <td>297.0</td>\n",
              "      <td>304.0</td>\n",
              "      <td>304.05</td>\n",
              "      <td>303.62</td>\n",
              "      <td>255251</td>\n",
              "      <td>7.749972e+12</td>\n",
              "      <td>NaN</td>\n",
              "      <td>NaN</td>\n",
              "      <td>NaN</td>\n",
              "    </tr>\n",
              "    <tr>\n",
              "      <th>2</th>\n",
              "      <td>2000-01-05</td>\n",
              "      <td>HDFC</td>\n",
              "      <td>EQ</td>\n",
              "      <td>304.05</td>\n",
              "      <td>290.0</td>\n",
              "      <td>303.90</td>\n",
              "      <td>285.0</td>\n",
              "      <td>295.0</td>\n",
              "      <td>292.80</td>\n",
              "      <td>294.53</td>\n",
              "      <td>269087</td>\n",
              "      <td>7.925368e+12</td>\n",
              "      <td>NaN</td>\n",
              "      <td>NaN</td>\n",
              "      <td>NaN</td>\n",
              "    </tr>\n",
              "    <tr>\n",
              "      <th>3</th>\n",
              "      <td>2000-01-06</td>\n",
              "      <td>HDFC</td>\n",
              "      <td>EQ</td>\n",
              "      <td>292.80</td>\n",
              "      <td>301.0</td>\n",
              "      <td>314.00</td>\n",
              "      <td>295.0</td>\n",
              "      <td>296.0</td>\n",
              "      <td>296.45</td>\n",
              "      <td>300.14</td>\n",
              "      <td>305916</td>\n",
              "      <td>9.181669e+12</td>\n",
              "      <td>NaN</td>\n",
              "      <td>NaN</td>\n",
              "      <td>NaN</td>\n",
              "    </tr>\n",
              "    <tr>\n",
              "      <th>4</th>\n",
              "      <td>2000-01-07</td>\n",
              "      <td>HDFC</td>\n",
              "      <td>EQ</td>\n",
              "      <td>296.45</td>\n",
              "      <td>290.0</td>\n",
              "      <td>296.35</td>\n",
              "      <td>281.0</td>\n",
              "      <td>287.1</td>\n",
              "      <td>286.55</td>\n",
              "      <td>288.80</td>\n",
              "      <td>197039</td>\n",
              "      <td>5.690480e+12</td>\n",
              "      <td>NaN</td>\n",
              "      <td>NaN</td>\n",
              "      <td>NaN</td>\n",
              "    </tr>\n",
              "  </tbody>\n",
              "</table>\n",
              "</div>"
            ],
            "text/plain": [
              "         Date Symbol Series  ...  Trades  Deliverable Volume  %Deliverble\n",
              "0  2000-01-03   HDFC     EQ  ...     NaN                 NaN          NaN\n",
              "1  2000-01-04   HDFC     EQ  ...     NaN                 NaN          NaN\n",
              "2  2000-01-05   HDFC     EQ  ...     NaN                 NaN          NaN\n",
              "3  2000-01-06   HDFC     EQ  ...     NaN                 NaN          NaN\n",
              "4  2000-01-07   HDFC     EQ  ...     NaN                 NaN          NaN\n",
              "\n",
              "[5 rows x 15 columns]"
            ]
          },
          "metadata": {
            "tags": []
          },
          "execution_count": 87
        }
      ]
    },
    {
      "cell_type": "code",
      "metadata": {
        "id": "GwlWeyb8yf8w",
        "colab_type": "code",
        "colab": {
          "base_uri": "https://localhost:8080/",
          "height": 204
        },
        "outputId": "ee632eda-7f1a-4ebf-8070-b812dfb86aa3"
      },
      "source": [
        "data.tail() #bottom 5 values of data"
      ],
      "execution_count": null,
      "outputs": [
        {
          "output_type": "execute_result",
          "data": {
            "text/html": [
              "<div>\n",
              "<style scoped>\n",
              "    .dataframe tbody tr th:only-of-type {\n",
              "        vertical-align: middle;\n",
              "    }\n",
              "\n",
              "    .dataframe tbody tr th {\n",
              "        vertical-align: top;\n",
              "    }\n",
              "\n",
              "    .dataframe thead th {\n",
              "        text-align: right;\n",
              "    }\n",
              "</style>\n",
              "<table border=\"1\" class=\"dataframe\">\n",
              "  <thead>\n",
              "    <tr style=\"text-align: right;\">\n",
              "      <th></th>\n",
              "      <th>Date</th>\n",
              "      <th>Symbol</th>\n",
              "      <th>Series</th>\n",
              "      <th>Prev Close</th>\n",
              "      <th>Open</th>\n",
              "      <th>High</th>\n",
              "      <th>Low</th>\n",
              "      <th>Last</th>\n",
              "      <th>Close</th>\n",
              "      <th>VWAP</th>\n",
              "      <th>Volume</th>\n",
              "      <th>Turnover</th>\n",
              "      <th>Trades</th>\n",
              "      <th>Deliverable Volume</th>\n",
              "      <th>%Deliverble</th>\n",
              "    </tr>\n",
              "  </thead>\n",
              "  <tbody>\n",
              "    <tr>\n",
              "      <th>5136</th>\n",
              "      <td>2020-08-25</td>\n",
              "      <td>HDFC</td>\n",
              "      <td>EQ</td>\n",
              "      <td>1829.85</td>\n",
              "      <td>1843.75</td>\n",
              "      <td>1852.4</td>\n",
              "      <td>1817.05</td>\n",
              "      <td>1831.40</td>\n",
              "      <td>1829.60</td>\n",
              "      <td>1834.86</td>\n",
              "      <td>2646159</td>\n",
              "      <td>4.855322e+14</td>\n",
              "      <td>111918.0</td>\n",
              "      <td>1044629.0</td>\n",
              "      <td>0.3948</td>\n",
              "    </tr>\n",
              "    <tr>\n",
              "      <th>5137</th>\n",
              "      <td>2020-08-26</td>\n",
              "      <td>HDFC</td>\n",
              "      <td>EQ</td>\n",
              "      <td>1829.60</td>\n",
              "      <td>1837.00</td>\n",
              "      <td>1837.8</td>\n",
              "      <td>1803.60</td>\n",
              "      <td>1810.75</td>\n",
              "      <td>1816.00</td>\n",
              "      <td>1816.89</td>\n",
              "      <td>3187424</td>\n",
              "      <td>5.791196e+14</td>\n",
              "      <td>122481.0</td>\n",
              "      <td>1609579.0</td>\n",
              "      <td>0.5050</td>\n",
              "    </tr>\n",
              "    <tr>\n",
              "      <th>5138</th>\n",
              "      <td>2020-08-27</td>\n",
              "      <td>HDFC</td>\n",
              "      <td>EQ</td>\n",
              "      <td>1816.00</td>\n",
              "      <td>1832.00</td>\n",
              "      <td>1883.0</td>\n",
              "      <td>1830.00</td>\n",
              "      <td>1863.50</td>\n",
              "      <td>1864.10</td>\n",
              "      <td>1864.76</td>\n",
              "      <td>8648531</td>\n",
              "      <td>1.612739e+15</td>\n",
              "      <td>256931.0</td>\n",
              "      <td>3892406.0</td>\n",
              "      <td>0.4501</td>\n",
              "    </tr>\n",
              "    <tr>\n",
              "      <th>5139</th>\n",
              "      <td>2020-08-28</td>\n",
              "      <td>HDFC</td>\n",
              "      <td>EQ</td>\n",
              "      <td>1864.10</td>\n",
              "      <td>1871.00</td>\n",
              "      <td>1889.0</td>\n",
              "      <td>1862.80</td>\n",
              "      <td>1881.00</td>\n",
              "      <td>1883.25</td>\n",
              "      <td>1879.87</td>\n",
              "      <td>4903981</td>\n",
              "      <td>9.218858e+14</td>\n",
              "      <td>167080.0</td>\n",
              "      <td>2547535.0</td>\n",
              "      <td>0.5195</td>\n",
              "    </tr>\n",
              "    <tr>\n",
              "      <th>5140</th>\n",
              "      <td>2020-08-31</td>\n",
              "      <td>HDFC</td>\n",
              "      <td>EQ</td>\n",
              "      <td>1883.25</td>\n",
              "      <td>1898.50</td>\n",
              "      <td>1921.9</td>\n",
              "      <td>1797.55</td>\n",
              "      <td>1825.00</td>\n",
              "      <td>1832.60</td>\n",
              "      <td>1852.71</td>\n",
              "      <td>7604691</td>\n",
              "      <td>1.408930e+15</td>\n",
              "      <td>225537.0</td>\n",
              "      <td>3496941.0</td>\n",
              "      <td>0.4598</td>\n",
              "    </tr>\n",
              "  </tbody>\n",
              "</table>\n",
              "</div>"
            ],
            "text/plain": [
              "            Date Symbol Series  ...    Trades  Deliverable Volume  %Deliverble\n",
              "5136  2020-08-25   HDFC     EQ  ...  111918.0           1044629.0       0.3948\n",
              "5137  2020-08-26   HDFC     EQ  ...  122481.0           1609579.0       0.5050\n",
              "5138  2020-08-27   HDFC     EQ  ...  256931.0           3892406.0       0.4501\n",
              "5139  2020-08-28   HDFC     EQ  ...  167080.0           2547535.0       0.5195\n",
              "5140  2020-08-31   HDFC     EQ  ...  225537.0           3496941.0       0.4598\n",
              "\n",
              "[5 rows x 15 columns]"
            ]
          },
          "metadata": {
            "tags": []
          },
          "execution_count": 6
        }
      ]
    },
    {
      "cell_type": "code",
      "metadata": {
        "id": "OcMl9UIa1j34",
        "colab_type": "code",
        "colab": {
          "base_uri": "https://localhost:8080/",
          "height": 34
        },
        "outputId": "3c2e578f-7383-4d20-c324-1483418b6cf4"
      },
      "source": [
        "data.shape #shape of data"
      ],
      "execution_count": null,
      "outputs": [
        {
          "output_type": "execute_result",
          "data": {
            "text/plain": [
              "(5141, 15)"
            ]
          },
          "metadata": {
            "tags": []
          },
          "execution_count": 7
        }
      ]
    },
    {
      "cell_type": "code",
      "metadata": {
        "id": "HQk_kmAa32N8",
        "colab_type": "code",
        "colab": {
          "base_uri": "https://localhost:8080/",
          "height": 391
        },
        "outputId": "9468a3bb-0025-43b7-a7b3-ce503b42475a"
      },
      "source": [
        "data.info() #information of the columns"
      ],
      "execution_count": null,
      "outputs": [
        {
          "output_type": "stream",
          "text": [
            "<class 'pandas.core.frame.DataFrame'>\n",
            "RangeIndex: 5141 entries, 0 to 5140\n",
            "Data columns (total 15 columns):\n",
            " #   Column              Non-Null Count  Dtype  \n",
            "---  ------              --------------  -----  \n",
            " 0   Date                5141 non-null   object \n",
            " 1   Symbol              5141 non-null   object \n",
            " 2   Series              5141 non-null   object \n",
            " 3   Prev Close          5141 non-null   float64\n",
            " 4   Open                5141 non-null   float64\n",
            " 5   High                5141 non-null   float64\n",
            " 6   Low                 5141 non-null   float64\n",
            " 7   Last                5141 non-null   float64\n",
            " 8   Close               5141 non-null   float64\n",
            " 9   VWAP                5141 non-null   float64\n",
            " 10  Volume              5141 non-null   int64  \n",
            " 11  Turnover            5141 non-null   float64\n",
            " 12  Trades              2291 non-null   float64\n",
            " 13  Deliverable Volume  4632 non-null   float64\n",
            " 14  %Deliverble         4632 non-null   float64\n",
            "dtypes: float64(11), int64(1), object(3)\n",
            "memory usage: 602.6+ KB\n"
          ],
          "name": "stdout"
        }
      ]
    },
    {
      "cell_type": "code",
      "metadata": {
        "id": "2AfpCYoq1uWT",
        "colab_type": "code",
        "colab": {
          "base_uri": "https://localhost:8080/",
          "height": 85
        },
        "outputId": "e90e25c7-c0e1-42c9-ea3e-ff2e6f03925a"
      },
      "source": [
        "data.columns #columns of the data"
      ],
      "execution_count": null,
      "outputs": [
        {
          "output_type": "execute_result",
          "data": {
            "text/plain": [
              "Index(['Date', 'Symbol', 'Series', 'Prev Close', 'Open', 'High', 'Low', 'Last',\n",
              "       'Close', 'VWAP', 'Volume', 'Turnover', 'Trades', 'Deliverable Volume',\n",
              "       '%Deliverble'],\n",
              "      dtype='object')"
            ]
          },
          "metadata": {
            "tags": []
          },
          "execution_count": 11
        }
      ]
    },
    {
      "cell_type": "code",
      "metadata": {
        "id": "S8Y2dsD11xv_",
        "colab_type": "code",
        "colab": {
          "base_uri": "https://localhost:8080/",
          "height": 289
        },
        "outputId": "aee899a4-4584-4479-d8de-48e9d1141cf9"
      },
      "source": [
        "data.dtypes #data types of column"
      ],
      "execution_count": null,
      "outputs": [
        {
          "output_type": "execute_result",
          "data": {
            "text/plain": [
              "Date                   object\n",
              "Symbol                 object\n",
              "Series                 object\n",
              "Prev Close            float64\n",
              "Open                  float64\n",
              "High                  float64\n",
              "Low                   float64\n",
              "Last                  float64\n",
              "Close                 float64\n",
              "VWAP                  float64\n",
              "Volume                  int64\n",
              "Turnover              float64\n",
              "Trades                float64\n",
              "Deliverable Volume    float64\n",
              "%Deliverble           float64\n",
              "dtype: object"
            ]
          },
          "metadata": {
            "tags": []
          },
          "execution_count": 12
        }
      ]
    },
    {
      "cell_type": "code",
      "metadata": {
        "id": "v9mxDhfo0g-9",
        "colab_type": "code",
        "colab": {
          "base_uri": "https://localhost:8080/",
          "height": 289
        },
        "outputId": "81eca47f-3763-4a93-ce87-31a8ee7fc61e"
      },
      "source": [
        "data.isna().sum() #null values in the data"
      ],
      "execution_count": null,
      "outputs": [
        {
          "output_type": "execute_result",
          "data": {
            "text/plain": [
              "Date                     0\n",
              "Symbol                   0\n",
              "Series                   0\n",
              "Prev Close               0\n",
              "Open                     0\n",
              "High                     0\n",
              "Low                      0\n",
              "Last                     0\n",
              "Close                    0\n",
              "VWAP                     0\n",
              "Volume                   0\n",
              "Turnover                 0\n",
              "Trades                2850\n",
              "Deliverable Volume     509\n",
              "%Deliverble            509\n",
              "dtype: int64"
            ]
          },
          "metadata": {
            "tags": []
          },
          "execution_count": 8
        }
      ]
    },
    {
      "cell_type": "code",
      "metadata": {
        "id": "IL3V_-0q2DHc",
        "colab_type": "code",
        "colab": {
          "base_uri": "https://localhost:8080/",
          "height": 289
        },
        "outputId": "8ee7a9ee-5ae0-4ee0-d1fb-4938b22e8439"
      },
      "source": [
        "((data.isnull().sum()/len(data))*100).sort_values(ascending=False) #percentage of null values in the data"
      ],
      "execution_count": null,
      "outputs": [
        {
          "output_type": "execute_result",
          "data": {
            "text/plain": [
              "Trades                55.436685\n",
              "%Deliverble            9.900798\n",
              "Deliverable Volume     9.900798\n",
              "Turnover               0.000000\n",
              "Volume                 0.000000\n",
              "VWAP                   0.000000\n",
              "Close                  0.000000\n",
              "Last                   0.000000\n",
              "Low                    0.000000\n",
              "High                   0.000000\n",
              "Open                   0.000000\n",
              "Prev Close             0.000000\n",
              "Series                 0.000000\n",
              "Symbol                 0.000000\n",
              "Date                   0.000000\n",
              "dtype: float64"
            ]
          },
          "metadata": {
            "tags": []
          },
          "execution_count": 13
        }
      ]
    },
    {
      "cell_type": "markdown",
      "metadata": {
        "id": "mmuX8V728NAX",
        "colab_type": "text"
      },
      "source": [
        "**Visualization of data for seeing null values**"
      ]
    },
    {
      "cell_type": "code",
      "metadata": {
        "id": "YP_9DuDu0ycJ",
        "colab_type": "code",
        "colab": {
          "base_uri": "https://localhost:8080/",
          "height": 447
        },
        "outputId": "23995ee0-f430-41d8-97ce-1d8a1f0c4935"
      },
      "source": [
        "figure, (ax1, ax2) = plt.subplots(1, 2, figsize=(11,4))\n",
        "msno.matrix(data, ax=ax1, sparkline=False, fontsize = 12, color=(0., 0.25, 0.25))\n",
        "msno.bar(data, ax=ax2, fontsize = 12, color=(0.25, 0., 0.25))\n",
        "plt.show() "
      ],
      "execution_count": null,
      "outputs": [
        {
          "output_type": "display_data",
          "data": {
            "image/png": "[encoded data removed]",
            "text/plain": [
              "<Figure size 792x288 with 4 Axes>"
            ]
          },
          "metadata": {
            "tags": []
          }
        }
      ]
    },
    {
      "cell_type": "code",
      "metadata": {
        "id": "JnIiwOFg2mxd",
        "colab_type": "code",
        "colab": {
          "base_uri": "https://localhost:8080/",
          "height": 49
        },
        "outputId": "e6b0fdcf-0632-4f15-e48f-cd819a514670"
      },
      "source": [
        "data[data.duplicated()] #checking the duplicacy of data "
      ],
      "execution_count": null,
      "outputs": [
        {
          "output_type": "execute_result",
          "data": {
            "text/html": [
              "<div>\n",
              "<style scoped>\n",
              "    .dataframe tbody tr th:only-of-type {\n",
              "        vertical-align: middle;\n",
              "    }\n",
              "\n",
              "    .dataframe tbody tr th {\n",
              "        vertical-align: top;\n",
              "    }\n",
              "\n",
              "    .dataframe thead th {\n",
              "        text-align: right;\n",
              "    }\n",
              "</style>\n",
              "<table border=\"1\" class=\"dataframe\">\n",
              "  <thead>\n",
              "    <tr style=\"text-align: right;\">\n",
              "      <th></th>\n",
              "      <th>Date</th>\n",
              "      <th>Symbol</th>\n",
              "      <th>Series</th>\n",
              "      <th>Prev Close</th>\n",
              "      <th>Open</th>\n",
              "      <th>High</th>\n",
              "      <th>Low</th>\n",
              "      <th>Last</th>\n",
              "      <th>Close</th>\n",
              "      <th>VWAP</th>\n",
              "      <th>Volume</th>\n",
              "      <th>Turnover</th>\n",
              "      <th>Trades</th>\n",
              "      <th>Deliverable Volume</th>\n",
              "      <th>%Deliverble</th>\n",
              "    </tr>\n",
              "  </thead>\n",
              "  <tbody>\n",
              "  </tbody>\n",
              "</table>\n",
              "</div>"
            ],
            "text/plain": [
              "Empty DataFrame\n",
              "Columns: [Date, Symbol, Series, Prev Close, Open, High, Low, Last, Close, VWAP, Volume, Turnover, Trades, Deliverable Volume, %Deliverble]\n",
              "Index: []"
            ]
          },
          "metadata": {
            "tags": []
          },
          "execution_count": 17
        }
      ]
    },
    {
      "cell_type": "code",
      "metadata": {
        "id": "t2bxi_4_3DVC",
        "colab_type": "code",
        "colab": {
          "base_uri": "https://localhost:8080/",
          "height": 34
        },
        "outputId": "1675b163-0960-4c5c-eb1d-d45b469f83ce"
      },
      "source": [
        "data.Symbol.unique() #unique value will check the unique element of that particular column"
      ],
      "execution_count": null,
      "outputs": [
        {
          "output_type": "execute_result",
          "data": {
            "text/plain": [
              "array(['HDFC'], dtype=object)"
            ]
          },
          "metadata": {
            "tags": []
          },
          "execution_count": 18
        }
      ]
    },
    {
      "cell_type": "code",
      "metadata": {
        "id": "8ySIv0kw3YRg",
        "colab_type": "code",
        "colab": {
          "base_uri": "https://localhost:8080/",
          "height": 34
        },
        "outputId": "7b234949-54c8-4418-ade3-382795c5f555"
      },
      "source": [
        "data.Series.unique()"
      ],
      "execution_count": null,
      "outputs": [
        {
          "output_type": "execute_result",
          "data": {
            "text/plain": [
              "array(['EQ'], dtype=object)"
            ]
          },
          "metadata": {
            "tags": []
          },
          "execution_count": 22
        }
      ]
    },
    {
      "cell_type": "markdown",
      "metadata": {
        "id": "J1nanvST8lGy",
        "colab_type": "text"
      },
      "source": [
        "##### As we can see HDFC is only element present in Symbol column cause we are using stocks of HDFC only and in Series column we have EQ series only. Hence weare discarding those column. Drop function of pandas will do this work."
      ]
    },
    {
      "cell_type": "code",
      "metadata": {
        "id": "vvePJY6w3LLH",
        "colab_type": "code",
        "colab": {}
      },
      "source": [
        "data.drop('Symbol',axis=1,inplace=True)"
      ],
      "execution_count": null,
      "outputs": []
    },
    {
      "cell_type": "code",
      "metadata": {
        "id": "qGhFM36w3fCU",
        "colab_type": "code",
        "colab": {}
      },
      "source": [
        "data.drop('Series',axis=1,inplace=True)"
      ],
      "execution_count": null,
      "outputs": []
    },
    {
      "cell_type": "code",
      "metadata": {
        "id": "WTZRYfsj3mhO",
        "colab_type": "code",
        "colab": {
          "base_uri": "https://localhost:8080/",
          "height": 419
        },
        "outputId": "2413c3b7-1bef-44d5-b41b-412019f2c191"
      },
      "source": [
        "data"
      ],
      "execution_count": null,
      "outputs": [
        {
          "output_type": "execute_result",
          "data": {
            "text/html": [
              "<div>\n",
              "<style scoped>\n",
              "    .dataframe tbody tr th:only-of-type {\n",
              "        vertical-align: middle;\n",
              "    }\n",
              "\n",
              "    .dataframe tbody tr th {\n",
              "        vertical-align: top;\n",
              "    }\n",
              "\n",
              "    .dataframe thead th {\n",
              "        text-align: right;\n",
              "    }\n",
              "</style>\n",
              "<table border=\"1\" class=\"dataframe\">\n",
              "  <thead>\n",
              "    <tr style=\"text-align: right;\">\n",
              "      <th></th>\n",
              "      <th>Date</th>\n",
              "      <th>Prev Close</th>\n",
              "      <th>Open</th>\n",
              "      <th>High</th>\n",
              "      <th>Low</th>\n",
              "      <th>Last</th>\n",
              "      <th>Close</th>\n",
              "      <th>VWAP</th>\n",
              "      <th>Volume</th>\n",
              "      <th>Turnover</th>\n",
              "      <th>Trades</th>\n",
              "      <th>Deliverable Volume</th>\n",
              "      <th>%Deliverble</th>\n",
              "    </tr>\n",
              "  </thead>\n",
              "  <tbody>\n",
              "    <tr>\n",
              "      <th>0</th>\n",
              "      <td>2000-01-03</td>\n",
              "      <td>271.75</td>\n",
              "      <td>293.50</td>\n",
              "      <td>293.50</td>\n",
              "      <td>293.50</td>\n",
              "      <td>293.50</td>\n",
              "      <td>293.50</td>\n",
              "      <td>293.50</td>\n",
              "      <td>22744</td>\n",
              "      <td>6.675364e+11</td>\n",
              "      <td>NaN</td>\n",
              "      <td>NaN</td>\n",
              "      <td>NaN</td>\n",
              "    </tr>\n",
              "    <tr>\n",
              "      <th>1</th>\n",
              "      <td>2000-01-04</td>\n",
              "      <td>293.50</td>\n",
              "      <td>317.00</td>\n",
              "      <td>317.00</td>\n",
              "      <td>297.00</td>\n",
              "      <td>304.00</td>\n",
              "      <td>304.05</td>\n",
              "      <td>303.62</td>\n",
              "      <td>255251</td>\n",
              "      <td>7.749972e+12</td>\n",
              "      <td>NaN</td>\n",
              "      <td>NaN</td>\n",
              "      <td>NaN</td>\n",
              "    </tr>\n",
              "    <tr>\n",
              "      <th>2</th>\n",
              "      <td>2000-01-05</td>\n",
              "      <td>304.05</td>\n",
              "      <td>290.00</td>\n",
              "      <td>303.90</td>\n",
              "      <td>285.00</td>\n",
              "      <td>295.00</td>\n",
              "      <td>292.80</td>\n",
              "      <td>294.53</td>\n",
              "      <td>269087</td>\n",
              "      <td>7.925368e+12</td>\n",
              "      <td>NaN</td>\n",
              "      <td>NaN</td>\n",
              "      <td>NaN</td>\n",
              "    </tr>\n",
              "    <tr>\n",
              "      <th>3</th>\n",
              "      <td>2000-01-06</td>\n",
              "      <td>292.80</td>\n",
              "      <td>301.00</td>\n",
              "      <td>314.00</td>\n",
              "      <td>295.00</td>\n",
              "      <td>296.00</td>\n",
              "      <td>296.45</td>\n",
              "      <td>300.14</td>\n",
              "      <td>305916</td>\n",
              "      <td>9.181669e+12</td>\n",
              "      <td>NaN</td>\n",
              "      <td>NaN</td>\n",
              "      <td>NaN</td>\n",
              "    </tr>\n",
              "    <tr>\n",
              "      <th>4</th>\n",
              "      <td>2000-01-07</td>\n",
              "      <td>296.45</td>\n",
              "      <td>290.00</td>\n",
              "      <td>296.35</td>\n",
              "      <td>281.00</td>\n",
              "      <td>287.10</td>\n",
              "      <td>286.55</td>\n",
              "      <td>288.80</td>\n",
              "      <td>197039</td>\n",
              "      <td>5.690480e+12</td>\n",
              "      <td>NaN</td>\n",
              "      <td>NaN</td>\n",
              "      <td>NaN</td>\n",
              "    </tr>\n",
              "    <tr>\n",
              "      <th>...</th>\n",
              "      <td>...</td>\n",
              "      <td>...</td>\n",
              "      <td>...</td>\n",
              "      <td>...</td>\n",
              "      <td>...</td>\n",
              "      <td>...</td>\n",
              "      <td>...</td>\n",
              "      <td>...</td>\n",
              "      <td>...</td>\n",
              "      <td>...</td>\n",
              "      <td>...</td>\n",
              "      <td>...</td>\n",
              "      <td>...</td>\n",
              "    </tr>\n",
              "    <tr>\n",
              "      <th>5136</th>\n",
              "      <td>2020-08-25</td>\n",
              "      <td>1829.85</td>\n",
              "      <td>1843.75</td>\n",
              "      <td>1852.40</td>\n",
              "      <td>1817.05</td>\n",
              "      <td>1831.40</td>\n",
              "      <td>1829.60</td>\n",
              "      <td>1834.86</td>\n",
              "      <td>2646159</td>\n",
              "      <td>4.855322e+14</td>\n",
              "      <td>111918.0</td>\n",
              "      <td>1044629.0</td>\n",
              "      <td>0.3948</td>\n",
              "    </tr>\n",
              "    <tr>\n",
              "      <th>5137</th>\n",
              "      <td>2020-08-26</td>\n",
              "      <td>1829.60</td>\n",
              "      <td>1837.00</td>\n",
              "      <td>1837.80</td>\n",
              "      <td>1803.60</td>\n",
              "      <td>1810.75</td>\n",
              "      <td>1816.00</td>\n",
              "      <td>1816.89</td>\n",
              "      <td>3187424</td>\n",
              "      <td>5.791196e+14</td>\n",
              "      <td>122481.0</td>\n",
              "      <td>1609579.0</td>\n",
              "      <td>0.5050</td>\n",
              "    </tr>\n",
              "    <tr>\n",
              "      <th>5138</th>\n",
              "      <td>2020-08-27</td>\n",
              "      <td>1816.00</td>\n",
              "      <td>1832.00</td>\n",
              "      <td>1883.00</td>\n",
              "      <td>1830.00</td>\n",
              "      <td>1863.50</td>\n",
              "      <td>1864.10</td>\n",
              "      <td>1864.76</td>\n",
              "      <td>8648531</td>\n",
              "      <td>1.612739e+15</td>\n",
              "      <td>256931.0</td>\n",
              "      <td>3892406.0</td>\n",
              "      <td>0.4501</td>\n",
              "    </tr>\n",
              "    <tr>\n",
              "      <th>5139</th>\n",
              "      <td>2020-08-28</td>\n",
              "      <td>1864.10</td>\n",
              "      <td>1871.00</td>\n",
              "      <td>1889.00</td>\n",
              "      <td>1862.80</td>\n",
              "      <td>1881.00</td>\n",
              "      <td>1883.25</td>\n",
              "      <td>1879.87</td>\n",
              "      <td>4903981</td>\n",
              "      <td>9.218858e+14</td>\n",
              "      <td>167080.0</td>\n",
              "      <td>2547535.0</td>\n",
              "      <td>0.5195</td>\n",
              "    </tr>\n",
              "    <tr>\n",
              "      <th>5140</th>\n",
              "      <td>2020-08-31</td>\n",
              "      <td>1883.25</td>\n",
              "      <td>1898.50</td>\n",
              "      <td>1921.90</td>\n",
              "      <td>1797.55</td>\n",
              "      <td>1825.00</td>\n",
              "      <td>1832.60</td>\n",
              "      <td>1852.71</td>\n",
              "      <td>7604691</td>\n",
              "      <td>1.408930e+15</td>\n",
              "      <td>225537.0</td>\n",
              "      <td>3496941.0</td>\n",
              "      <td>0.4598</td>\n",
              "    </tr>\n",
              "  </tbody>\n",
              "</table>\n",
              "<p>5141 rows × 13 columns</p>\n",
              "</div>"
            ],
            "text/plain": [
              "            Date  Prev Close  ...  Deliverable Volume  %Deliverble\n",
              "0     2000-01-03      271.75  ...                 NaN          NaN\n",
              "1     2000-01-04      293.50  ...                 NaN          NaN\n",
              "2     2000-01-05      304.05  ...                 NaN          NaN\n",
              "3     2000-01-06      292.80  ...                 NaN          NaN\n",
              "4     2000-01-07      296.45  ...                 NaN          NaN\n",
              "...          ...         ...  ...                 ...          ...\n",
              "5136  2020-08-25     1829.85  ...           1044629.0       0.3948\n",
              "5137  2020-08-26     1829.60  ...           1609579.0       0.5050\n",
              "5138  2020-08-27     1816.00  ...           3892406.0       0.4501\n",
              "5139  2020-08-28     1864.10  ...           2547535.0       0.5195\n",
              "5140  2020-08-31     1883.25  ...           3496941.0       0.4598\n",
              "\n",
              "[5141 rows x 13 columns]"
            ]
          },
          "metadata": {
            "tags": []
          },
          "execution_count": 24
        }
      ]
    },
    {
      "cell_type": "markdown",
      "metadata": {
        "id": "1dK-8VWf9Wok",
        "colab_type": "text"
      },
      "source": [
        "Now we are seeing the description of data that will contain count of all data, mean values, standard deviation, 5 scale values(min, 25% quartile, 50% quartile, 75% quartile and max).\n",
        "We can use this information for checking any anamolies in the data"
      ]
    },
    {
      "cell_type": "code",
      "metadata": {
        "id": "NIe3UKUs3tZE",
        "colab_type": "code",
        "colab": {
          "base_uri": "https://localhost:8080/",
          "height": 334
        },
        "outputId": "8f5de9b4-1abc-43b9-b04d-294756e6e44b"
      },
      "source": [
        "data.describe()"
      ],
      "execution_count": null,
      "outputs": [
        {
          "output_type": "execute_result",
          "data": {
            "text/html": [
              "<div>\n",
              "<style scoped>\n",
              "    .dataframe tbody tr th:only-of-type {\n",
              "        vertical-align: middle;\n",
              "    }\n",
              "\n",
              "    .dataframe tbody tr th {\n",
              "        vertical-align: top;\n",
              "    }\n",
              "\n",
              "    .dataframe thead th {\n",
              "        text-align: right;\n",
              "    }\n",
              "</style>\n",
              "<table border=\"1\" class=\"dataframe\">\n",
              "  <thead>\n",
              "    <tr style=\"text-align: right;\">\n",
              "      <th></th>\n",
              "      <th>Prev Close</th>\n",
              "      <th>Open</th>\n",
              "      <th>High</th>\n",
              "      <th>Low</th>\n",
              "      <th>Last</th>\n",
              "      <th>Close</th>\n",
              "      <th>VWAP</th>\n",
              "      <th>Volume</th>\n",
              "      <th>Turnover</th>\n",
              "      <th>Trades</th>\n",
              "      <th>Deliverable Volume</th>\n",
              "      <th>%Deliverble</th>\n",
              "    </tr>\n",
              "  </thead>\n",
              "  <tbody>\n",
              "    <tr>\n",
              "      <th>count</th>\n",
              "      <td>5141.000000</td>\n",
              "      <td>5141.000000</td>\n",
              "      <td>5141.000000</td>\n",
              "      <td>5141.000000</td>\n",
              "      <td>5141.000000</td>\n",
              "      <td>5141.000000</td>\n",
              "      <td>5141.000000</td>\n",
              "      <td>5.141000e+03</td>\n",
              "      <td>5.141000e+03</td>\n",
              "      <td>2291.000000</td>\n",
              "      <td>4.632000e+03</td>\n",
              "      <td>4632.000000</td>\n",
              "    </tr>\n",
              "    <tr>\n",
              "      <th>mean</th>\n",
              "      <td>1250.235295</td>\n",
              "      <td>1250.866553</td>\n",
              "      <td>1270.373556</td>\n",
              "      <td>1230.175170</td>\n",
              "      <td>1250.370064</td>\n",
              "      <td>1250.538903</td>\n",
              "      <td>1250.162379</td>\n",
              "      <td>1.764469e+06</td>\n",
              "      <td>2.373866e+14</td>\n",
              "      <td>97687.354867</td>\n",
              "      <td>1.292154e+06</td>\n",
              "      <td>0.657592</td>\n",
              "    </tr>\n",
              "    <tr>\n",
              "      <th>std</th>\n",
              "      <td>692.794341</td>\n",
              "      <td>692.954979</td>\n",
              "      <td>704.615342</td>\n",
              "      <td>680.761221</td>\n",
              "      <td>692.541757</td>\n",
              "      <td>692.707454</td>\n",
              "      <td>692.428824</td>\n",
              "      <td>2.980988e+06</td>\n",
              "      <td>3.291024e+14</td>\n",
              "      <td>55197.587466</td>\n",
              "      <td>2.584001e+06</td>\n",
              "      <td>0.127174</td>\n",
              "    </tr>\n",
              "    <tr>\n",
              "      <th>min</th>\n",
              "      <td>271.750000</td>\n",
              "      <td>284.000000</td>\n",
              "      <td>290.500000</td>\n",
              "      <td>273.250000</td>\n",
              "      <td>282.850000</td>\n",
              "      <td>283.850000</td>\n",
              "      <td>283.600000</td>\n",
              "      <td>2.919000e+03</td>\n",
              "      <td>1.834686e+11</td>\n",
              "      <td>973.000000</td>\n",
              "      <td>1.786000e+03</td>\n",
              "      <td>0.119000</td>\n",
              "    </tr>\n",
              "    <tr>\n",
              "      <th>25%</th>\n",
              "      <td>665.800000</td>\n",
              "      <td>665.450000</td>\n",
              "      <td>674.700000</td>\n",
              "      <td>657.400000</td>\n",
              "      <td>665.850000</td>\n",
              "      <td>666.050000</td>\n",
              "      <td>665.370000</td>\n",
              "      <td>2.896580e+05</td>\n",
              "      <td>2.275939e+13</td>\n",
              "      <td>59893.500000</td>\n",
              "      <td>2.560635e+05</td>\n",
              "      <td>0.582775</td>\n",
              "    </tr>\n",
              "    <tr>\n",
              "      <th>50%</th>\n",
              "      <td>1099.600000</td>\n",
              "      <td>1100.000000</td>\n",
              "      <td>1117.000000</td>\n",
              "      <td>1077.000000</td>\n",
              "      <td>1098.150000</td>\n",
              "      <td>1099.750000</td>\n",
              "      <td>1099.570000</td>\n",
              "      <td>1.239746e+06</td>\n",
              "      <td>1.611455e+14</td>\n",
              "      <td>86901.000000</td>\n",
              "      <td>9.622980e+05</td>\n",
              "      <td>0.672000</td>\n",
              "    </tr>\n",
              "    <tr>\n",
              "      <th>75%</th>\n",
              "      <td>1762.000000</td>\n",
              "      <td>1765.700000</td>\n",
              "      <td>1792.700000</td>\n",
              "      <td>1740.000000</td>\n",
              "      <td>1762.000000</td>\n",
              "      <td>1762.250000</td>\n",
              "      <td>1762.550000</td>\n",
              "      <td>2.623207e+06</td>\n",
              "      <td>3.189503e+14</td>\n",
              "      <td>122501.000000</td>\n",
              "      <td>1.885564e+06</td>\n",
              "      <td>0.744600</td>\n",
              "    </tr>\n",
              "    <tr>\n",
              "      <th>max</th>\n",
              "      <td>3180.150000</td>\n",
              "      <td>3148.000000</td>\n",
              "      <td>3262.000000</td>\n",
              "      <td>3100.550000</td>\n",
              "      <td>3178.000000</td>\n",
              "      <td>3180.150000</td>\n",
              "      <td>3166.580000</td>\n",
              "      <td>1.584141e+08</td>\n",
              "      <td>1.043773e+16</td>\n",
              "      <td>454758.000000</td>\n",
              "      <td>1.483131e+08</td>\n",
              "      <td>0.989400</td>\n",
              "    </tr>\n",
              "  </tbody>\n",
              "</table>\n",
              "</div>"
            ],
            "text/plain": [
              "        Prev Close         Open  ...  Deliverable Volume  %Deliverble\n",
              "count  5141.000000  5141.000000  ...        4.632000e+03  4632.000000\n",
              "mean   1250.235295  1250.866553  ...        1.292154e+06     0.657592\n",
              "std     692.794341   692.954979  ...        2.584001e+06     0.127174\n",
              "min     271.750000   284.000000  ...        1.786000e+03     0.119000\n",
              "25%     665.800000   665.450000  ...        2.560635e+05     0.582775\n",
              "50%    1099.600000  1100.000000  ...        9.622980e+05     0.672000\n",
              "75%    1762.000000  1765.700000  ...        1.885564e+06     0.744600\n",
              "max    3180.150000  3148.000000  ...        1.483131e+08     0.989400\n",
              "\n",
              "[8 rows x 12 columns]"
            ]
          },
          "metadata": {
            "tags": []
          },
          "execution_count": 25
        }
      ]
    },
    {
      "cell_type": "markdown",
      "metadata": {
        "id": "UMMwa30E-QWj",
        "colab_type": "text"
      },
      "source": [
        "After getting some insights of the data we are proceeding further and in this section we will visualizing our data\n",
        "\n",
        "**Note.- After doing some research we got know that the profit and loss calculation is usually determined by the closing price of a stock.**\n",
        "\n",
        "So we are going to focus on closing price and preprocess our data based on it.\n"
      ]
    },
    {
      "cell_type": "markdown",
      "metadata": {
        "id": "YCJvoXDe947p",
        "colab_type": "text"
      },
      "source": [
        "#**3. Visualization of data**\n",
        "\n",
        "\n",
        "Visualization of our data will give us insights about the data and\n",
        "For visualization we are using matplotlib library. \n"
      ]
    },
    {
      "cell_type": "markdown",
      "metadata": {
        "id": "IfW3JMr9ANwk",
        "colab_type": "text"
      },
      "source": [
        "In the below code we set the index as date cause as we are focussing on closing price in the time series."
      ]
    },
    {
      "cell_type": "code",
      "metadata": {
        "id": "hhSf8-uT3_-_",
        "colab_type": "code",
        "colab": {
          "base_uri": "https://localhost:8080/",
          "height": 500
        },
        "outputId": "dace6998-2b97-40dc-a669-6fb887ee12e5"
      },
      "source": [
        "#setting index as date\n",
        "data['Date'] = pd.to_datetime(data.Date,format='%Y-%m-%d')\n",
        "data.index = data['Date']\n",
        "\n",
        "#plot\n",
        "plt.figure(figsize=(16,8))\n",
        "plt.plot(data['Close'], label='Close Price history')"
      ],
      "execution_count": 89,
      "outputs": [
        {
          "output_type": "execute_result",
          "data": {
            "text/plain": [
              "[<matplotlib.lines.Line2D at 0x7f39d92c6908>]"
            ]
          },
          "metadata": {
            "tags": []
          },
          "execution_count": 89
        },
        {
          "output_type": "display_data",
          "data": {
            "image/png": "[encoded data removed]",
            "text/plain": [
              "<Figure size 1152x576 with 1 Axes>"
            ]
          },
          "metadata": {
            "tags": [],
            "needs_background": "light"
          }
        }
      ]
    },
    {
      "cell_type": "markdown",
      "metadata": {
        "id": "i1rEcaeeAdlM",
        "colab_type": "text"
      },
      "source": [
        "From the above we can see that how our closing price have behaved in several years. \n",
        "As we can observe there is huge fall in the year 2011, so it could be because company have faced any huge loss or due splitting up of companies."
      ]
    },
    {
      "cell_type": "code",
      "metadata": {
        "id": "DWOkTl6k7EPz",
        "colab_type": "code",
        "colab": {
          "base_uri": "https://localhost:8080/",
          "height": 500
        },
        "outputId": "19a3c6eb-48a2-4fcc-aab9-15b0f6d13499"
      },
      "source": [
        "# Now we are visualizing the open price history as well for checking the behavior.\n",
        "#plot\n",
        "plt.figure(figsize=(16,8))\n",
        "plt.plot(data['Open'], label='Open Price history')"
      ],
      "execution_count": 90,
      "outputs": [
        {
          "output_type": "execute_result",
          "data": {
            "text/plain": [
              "[<matplotlib.lines.Line2D at 0x7f39d9237eb8>]"
            ]
          },
          "metadata": {
            "tags": []
          },
          "execution_count": 90
        },
        {
          "output_type": "display_data",
          "data": {
            "image/png": "[encoded data removed]",
            "text/plain": [
              "<Figure size 1152x576 with 1 Axes>"
            ]
          },
          "metadata": {
            "tags": [],
            "needs_background": "light"
          }
        }
      ]
    },
    {
      "cell_type": "markdown",
      "metadata": {
        "id": "LUklz2cbCsl9",
        "colab_type": "text"
      },
      "source": [
        "##**4. Preprocessing of data**"
      ]
    },
    {
      "cell_type": "markdown",
      "metadata": {
        "id": "c-xUISwvB_7t",
        "colab_type": "text"
      },
      "source": [
        "Now we are making a new dataframe that will contain our date and close (closing price) columns"
      ]
    },
    {
      "cell_type": "code",
      "metadata": {
        "id": "RbrC5hha6QpM",
        "colab_type": "code",
        "colab": {}
      },
      "source": [
        "#sorting\n",
        "df = data.sort_index(ascending=True, axis=0)\n",
        "\n",
        "#creating a separate dataset\n",
        "new_data = pd.DataFrame(index=range(0,len(data)),columns=['Date', 'Close'])\n",
        "\n",
        "for i in range(0,len(data)):\n",
        "    new_data['Date'][i] = df['Date'][i]\n",
        "    new_data['Close'][i] = df['Close'][i]"
      ],
      "execution_count": 119,
      "outputs": []
    },
    {
      "cell_type": "code",
      "metadata": {
        "id": "EsGz1Et88oUU",
        "colab_type": "code",
        "colab": {
          "base_uri": "https://localhost:8080/",
          "height": 419
        },
        "outputId": "fc179578-95fd-4352-d9ac-cc856ffc32a6"
      },
      "source": [
        "new_data"
      ],
      "execution_count": 120,
      "outputs": [
        {
          "output_type": "execute_result",
          "data": {
            "text/html": [
              "<div>\n",
              "<style scoped>\n",
              "    .dataframe tbody tr th:only-of-type {\n",
              "        vertical-align: middle;\n",
              "    }\n",
              "\n",
              "    .dataframe tbody tr th {\n",
              "        vertical-align: top;\n",
              "    }\n",
              "\n",
              "    .dataframe thead th {\n",
              "        text-align: right;\n",
              "    }\n",
              "</style>\n",
              "<table border=\"1\" class=\"dataframe\">\n",
              "  <thead>\n",
              "    <tr style=\"text-align: right;\">\n",
              "      <th></th>\n",
              "      <th>Date</th>\n",
              "      <th>Close</th>\n",
              "    </tr>\n",
              "  </thead>\n",
              "  <tbody>\n",
              "    <tr>\n",
              "      <th>0</th>\n",
              "      <td>2000-01-03 00:00:00</td>\n",
              "      <td>293.5</td>\n",
              "    </tr>\n",
              "    <tr>\n",
              "      <th>1</th>\n",
              "      <td>2000-01-04 00:00:00</td>\n",
              "      <td>304.05</td>\n",
              "    </tr>\n",
              "    <tr>\n",
              "      <th>2</th>\n",
              "      <td>2000-01-05 00:00:00</td>\n",
              "      <td>292.8</td>\n",
              "    </tr>\n",
              "    <tr>\n",
              "      <th>3</th>\n",
              "      <td>2000-01-06 00:00:00</td>\n",
              "      <td>296.45</td>\n",
              "    </tr>\n",
              "    <tr>\n",
              "      <th>4</th>\n",
              "      <td>2000-01-07 00:00:00</td>\n",
              "      <td>286.55</td>\n",
              "    </tr>\n",
              "    <tr>\n",
              "      <th>...</th>\n",
              "      <td>...</td>\n",
              "      <td>...</td>\n",
              "    </tr>\n",
              "    <tr>\n",
              "      <th>5136</th>\n",
              "      <td>2020-08-25 00:00:00</td>\n",
              "      <td>1829.6</td>\n",
              "    </tr>\n",
              "    <tr>\n",
              "      <th>5137</th>\n",
              "      <td>2020-08-26 00:00:00</td>\n",
              "      <td>1816</td>\n",
              "    </tr>\n",
              "    <tr>\n",
              "      <th>5138</th>\n",
              "      <td>2020-08-27 00:00:00</td>\n",
              "      <td>1864.1</td>\n",
              "    </tr>\n",
              "    <tr>\n",
              "      <th>5139</th>\n",
              "      <td>2020-08-28 00:00:00</td>\n",
              "      <td>1883.25</td>\n",
              "    </tr>\n",
              "    <tr>\n",
              "      <th>5140</th>\n",
              "      <td>2020-08-31 00:00:00</td>\n",
              "      <td>1832.6</td>\n",
              "    </tr>\n",
              "  </tbody>\n",
              "</table>\n",
              "<p>5141 rows × 2 columns</p>\n",
              "</div>"
            ],
            "text/plain": [
              "                     Date    Close\n",
              "0     2000-01-03 00:00:00    293.5\n",
              "1     2000-01-04 00:00:00   304.05\n",
              "2     2000-01-05 00:00:00    292.8\n",
              "3     2000-01-06 00:00:00   296.45\n",
              "4     2000-01-07 00:00:00   286.55\n",
              "...                   ...      ...\n",
              "5136  2020-08-25 00:00:00   1829.6\n",
              "5137  2020-08-26 00:00:00     1816\n",
              "5138  2020-08-27 00:00:00   1864.1\n",
              "5139  2020-08-28 00:00:00  1883.25\n",
              "5140  2020-08-31 00:00:00   1832.6\n",
              "\n",
              "[5141 rows x 2 columns]"
            ]
          },
          "metadata": {
            "tags": []
          },
          "execution_count": 120
        }
      ]
    },
    {
      "cell_type": "code",
      "metadata": {
        "id": "ACFiscME7s7W",
        "colab_type": "code",
        "colab": {}
      },
      "source": [
        "#setting index as date\n",
        "#new_data.index = new_data.Date\n",
        "#new_data.drop('Date', axis=1, inplace=True)"
      ],
      "execution_count": 113,
      "outputs": []
    },
    {
      "cell_type": "code",
      "metadata": {
        "id": "c_eP-I_H8891",
        "colab_type": "code",
        "colab": {
          "base_uri": "https://localhost:8080/",
          "height": 450
        },
        "outputId": "3701fe31-032a-483b-9f8b-9edae1273b2f"
      },
      "source": [
        "new_data"
      ],
      "execution_count": 114,
      "outputs": [
        {
          "output_type": "execute_result",
          "data": {
            "text/html": [
              "<div>\n",
              "<style scoped>\n",
              "    .dataframe tbody tr th:only-of-type {\n",
              "        vertical-align: middle;\n",
              "    }\n",
              "\n",
              "    .dataframe tbody tr th {\n",
              "        vertical-align: top;\n",
              "    }\n",
              "\n",
              "    .dataframe thead th {\n",
              "        text-align: right;\n",
              "    }\n",
              "</style>\n",
              "<table border=\"1\" class=\"dataframe\">\n",
              "  <thead>\n",
              "    <tr style=\"text-align: right;\">\n",
              "      <th></th>\n",
              "      <th>Close</th>\n",
              "    </tr>\n",
              "    <tr>\n",
              "      <th>Date</th>\n",
              "      <th></th>\n",
              "    </tr>\n",
              "  </thead>\n",
              "  <tbody>\n",
              "    <tr>\n",
              "      <th>2000-01-03</th>\n",
              "      <td>293.5</td>\n",
              "    </tr>\n",
              "    <tr>\n",
              "      <th>2000-01-04</th>\n",
              "      <td>304.05</td>\n",
              "    </tr>\n",
              "    <tr>\n",
              "      <th>2000-01-05</th>\n",
              "      <td>292.8</td>\n",
              "    </tr>\n",
              "    <tr>\n",
              "      <th>2000-01-06</th>\n",
              "      <td>296.45</td>\n",
              "    </tr>\n",
              "    <tr>\n",
              "      <th>2000-01-07</th>\n",
              "      <td>286.55</td>\n",
              "    </tr>\n",
              "    <tr>\n",
              "      <th>...</th>\n",
              "      <td>...</td>\n",
              "    </tr>\n",
              "    <tr>\n",
              "      <th>2020-08-25</th>\n",
              "      <td>1829.6</td>\n",
              "    </tr>\n",
              "    <tr>\n",
              "      <th>2020-08-26</th>\n",
              "      <td>1816</td>\n",
              "    </tr>\n",
              "    <tr>\n",
              "      <th>2020-08-27</th>\n",
              "      <td>1864.1</td>\n",
              "    </tr>\n",
              "    <tr>\n",
              "      <th>2020-08-28</th>\n",
              "      <td>1883.25</td>\n",
              "    </tr>\n",
              "    <tr>\n",
              "      <th>2020-08-31</th>\n",
              "      <td>1832.6</td>\n",
              "    </tr>\n",
              "  </tbody>\n",
              "</table>\n",
              "<p>5141 rows × 1 columns</p>\n",
              "</div>"
            ],
            "text/plain": [
              "              Close\n",
              "Date               \n",
              "2000-01-03    293.5\n",
              "2000-01-04   304.05\n",
              "2000-01-05    292.8\n",
              "2000-01-06   296.45\n",
              "2000-01-07   286.55\n",
              "...             ...\n",
              "2020-08-25   1829.6\n",
              "2020-08-26     1816\n",
              "2020-08-27   1864.1\n",
              "2020-08-28  1883.25\n",
              "2020-08-31   1832.6\n",
              "\n",
              "[5141 rows x 1 columns]"
            ]
          },
          "metadata": {
            "tags": []
          },
          "execution_count": 114
        }
      ]
    },
    {
      "cell_type": "code",
      "metadata": {
        "id": "L374Jru6717l",
        "colab_type": "code",
        "colab": {
          "base_uri": "https://localhost:8080/",
          "height": 136
        },
        "outputId": "6b50494a-8f94-46f8-9f53-0769724580e3"
      },
      "source": [
        "dataset = new_data.values\n",
        "dataset"
      ],
      "execution_count": 116,
      "outputs": [
        {
          "output_type": "execute_result",
          "data": {
            "text/plain": [
              "array([[293.5],\n",
              "       [304.05],\n",
              "       [292.8],\n",
              "       ...,\n",
              "       [1864.1],\n",
              "       [1883.25],\n",
              "       [1832.6]], dtype=object)"
            ]
          },
          "metadata": {
            "tags": []
          },
          "execution_count": 116
        }
      ]
    },
    {
      "cell_type": "markdown",
      "metadata": {
        "id": "HtxOlA7OC24Y",
        "colab_type": "text"
      },
      "source": [
        "**Normalizing data**\n",
        "\n",
        "we are normalizing our data so as such our data will in range of 0 to 1."
      ]
    },
    {
      "cell_type": "code",
      "metadata": {
        "id": "bjBB-I5a8FoY",
        "colab_type": "code",
        "colab": {}
      },
      "source": [
        "#for normalizing data\n",
        "from sklearn.preprocessing import MinMaxScaler\n",
        "scaler = MinMaxScaler(feature_range=(0, 1))\n",
        "scaled_data = scaler.fit_transform(dataset)"
      ],
      "execution_count": 117,
      "outputs": []
    },
    {
      "cell_type": "code",
      "metadata": {
        "id": "tGCA8addDGTt",
        "colab_type": "code",
        "colab": {
          "base_uri": "https://localhost:8080/",
          "height": 136
        },
        "outputId": "f4d7b483-482f-48c2-838f-332630e86b8d"
      },
      "source": [
        "scaled_data"
      ],
      "execution_count": 118,
      "outputs": [
        {
          "output_type": "execute_result",
          "data": {
            "text/plain": [
              "array([[0.00333184],\n",
              "       [0.00697442],\n",
              "       [0.00309015],\n",
              "       ...,\n",
              "       [0.54560992],\n",
              "       [0.5522218 ],\n",
              "       [0.53473397]])"
            ]
          },
          "metadata": {
            "tags": []
          },
          "execution_count": 118
        }
      ]
    },
    {
      "cell_type": "code",
      "metadata": {
        "id": "B00icniPDODZ",
        "colab_type": "code",
        "colab": {}
      },
      "source": [
        "new_data['Scaled_closing_price']=scaled_data"
      ],
      "execution_count": 121,
      "outputs": []
    },
    {
      "cell_type": "code",
      "metadata": {
        "id": "vG5kIGw8DbDL",
        "colab_type": "code",
        "colab": {
          "base_uri": "https://localhost:8080/",
          "height": 419
        },
        "outputId": "1f581052-c66c-480a-acc1-264bf85d578d"
      },
      "source": [
        "new_data"
      ],
      "execution_count": 122,
      "outputs": [
        {
          "output_type": "execute_result",
          "data": {
            "text/html": [
              "<div>\n",
              "<style scoped>\n",
              "    .dataframe tbody tr th:only-of-type {\n",
              "        vertical-align: middle;\n",
              "    }\n",
              "\n",
              "    .dataframe tbody tr th {\n",
              "        vertical-align: top;\n",
              "    }\n",
              "\n",
              "    .dataframe thead th {\n",
              "        text-align: right;\n",
              "    }\n",
              "</style>\n",
              "<table border=\"1\" class=\"dataframe\">\n",
              "  <thead>\n",
              "    <tr style=\"text-align: right;\">\n",
              "      <th></th>\n",
              "      <th>Date</th>\n",
              "      <th>Close</th>\n",
              "      <th>Scaled_closing_price</th>\n",
              "    </tr>\n",
              "  </thead>\n",
              "  <tbody>\n",
              "    <tr>\n",
              "      <th>0</th>\n",
              "      <td>2000-01-03 00:00:00</td>\n",
              "      <td>293.5</td>\n",
              "      <td>0.003332</td>\n",
              "    </tr>\n",
              "    <tr>\n",
              "      <th>1</th>\n",
              "      <td>2000-01-04 00:00:00</td>\n",
              "      <td>304.05</td>\n",
              "      <td>0.006974</td>\n",
              "    </tr>\n",
              "    <tr>\n",
              "      <th>2</th>\n",
              "      <td>2000-01-05 00:00:00</td>\n",
              "      <td>292.8</td>\n",
              "      <td>0.003090</td>\n",
              "    </tr>\n",
              "    <tr>\n",
              "      <th>3</th>\n",
              "      <td>2000-01-06 00:00:00</td>\n",
              "      <td>296.45</td>\n",
              "      <td>0.004350</td>\n",
              "    </tr>\n",
              "    <tr>\n",
              "      <th>4</th>\n",
              "      <td>2000-01-07 00:00:00</td>\n",
              "      <td>286.55</td>\n",
              "      <td>0.000932</td>\n",
              "    </tr>\n",
              "    <tr>\n",
              "      <th>...</th>\n",
              "      <td>...</td>\n",
              "      <td>...</td>\n",
              "      <td>...</td>\n",
              "    </tr>\n",
              "    <tr>\n",
              "      <th>5136</th>\n",
              "      <td>2020-08-25 00:00:00</td>\n",
              "      <td>1829.6</td>\n",
              "      <td>0.533698</td>\n",
              "    </tr>\n",
              "    <tr>\n",
              "      <th>5137</th>\n",
              "      <td>2020-08-26 00:00:00</td>\n",
              "      <td>1816</td>\n",
              "      <td>0.529003</td>\n",
              "    </tr>\n",
              "    <tr>\n",
              "      <th>5138</th>\n",
              "      <td>2020-08-27 00:00:00</td>\n",
              "      <td>1864.1</td>\n",
              "      <td>0.545610</td>\n",
              "    </tr>\n",
              "    <tr>\n",
              "      <th>5139</th>\n",
              "      <td>2020-08-28 00:00:00</td>\n",
              "      <td>1883.25</td>\n",
              "      <td>0.552222</td>\n",
              "    </tr>\n",
              "    <tr>\n",
              "      <th>5140</th>\n",
              "      <td>2020-08-31 00:00:00</td>\n",
              "      <td>1832.6</td>\n",
              "      <td>0.534734</td>\n",
              "    </tr>\n",
              "  </tbody>\n",
              "</table>\n",
              "<p>5141 rows × 3 columns</p>\n",
              "</div>"
            ],
            "text/plain": [
              "                     Date    Close  Scaled_closing_price\n",
              "0     2000-01-03 00:00:00    293.5              0.003332\n",
              "1     2000-01-04 00:00:00   304.05              0.006974\n",
              "2     2000-01-05 00:00:00    292.8              0.003090\n",
              "3     2000-01-06 00:00:00   296.45              0.004350\n",
              "4     2000-01-07 00:00:00   286.55              0.000932\n",
              "...                   ...      ...                   ...\n",
              "5136  2020-08-25 00:00:00   1829.6              0.533698\n",
              "5137  2020-08-26 00:00:00     1816              0.529003\n",
              "5138  2020-08-27 00:00:00   1864.1              0.545610\n",
              "5139  2020-08-28 00:00:00  1883.25              0.552222\n",
              "5140  2020-08-31 00:00:00   1832.6              0.534734\n",
              "\n",
              "[5141 rows x 3 columns]"
            ]
          },
          "metadata": {
            "tags": []
          },
          "execution_count": 122
        }
      ]
    },
    {
      "cell_type": "markdown",
      "metadata": {
        "id": "Br0aoXb0DpLE",
        "colab_type": "text"
      },
      "source": [
        "We have our data as scaled closing price and closing price. \n",
        "So, we will convert this into csv file and save it for building model."
      ]
    },
    {
      "cell_type": "code",
      "metadata": {
        "id": "PGoVgy2OD3Py",
        "colab_type": "code",
        "colab": {
          "base_uri": "https://localhost:8080/",
          "height": 17
        },
        "outputId": "40ba3863-a5b5-480a-82f5-9929383673e0"
      },
      "source": [
        "from google.colab import files\n",
        "new_data.to_csv('HDFC-Preprocessed.csv')         \n",
        "files.download('HDFC-Preprocessed.csv')"
      ],
      "execution_count": 123,
      "outputs": [
        {
          "output_type": "display_data",
          "data": {
            "application/javascript": [
              "\n",
              "    async function download(id, filename, size) {\n",
              "      if (!google.colab.kernel.accessAllowed) {\n",
              "        return;\n",
              "      }\n",
              "      const div = document.createElement('div');\n",
              "      const label = document.createElement('label');\n",
              "      label.textContent = `Downloading \"${filename}\": `;\n",
              "      div.appendChild(label);\n",
              "      const progress = document.createElement('progress');\n",
              "      progress.max = size;\n",
              "      div.appendChild(progress);\n",
              "      document.body.appendChild(div);\n",
              "\n",
              "      const buffers = [];\n",
              "      let downloaded = 0;\n",
              "\n",
              "      const channel = await google.colab.kernel.comms.open(id);\n",
              "      // Send a message to notify the kernel that we're ready.\n",
              "      channel.send({})\n",
              "\n",
              "      for await (const message of channel.messages) {\n",
              "        // Send a message to notify the kernel that we're ready.\n",
              "        channel.send({})\n",
              "        if (message.buffers) {\n",
              "          for (const buffer of message.buffers) {\n",
              "            buffers.push(buffer);\n",
              "            downloaded += buffer.byteLength;\n",
              "            progress.value = downloaded;\n",
              "          }\n",
              "        }\n",
              "      }\n",
              "      const blob = new Blob(buffers, {type: 'application/binary'});\n",
              "      const a = document.createElement('a');\n",
              "      a.href = window.URL.createObjectURL(blob);\n",
              "      a.download = filename;\n",
              "      div.appendChild(a);\n",
              "      a.click();\n",
              "      div.remove();\n",
              "    }\n",
              "  "
            ],
            "text/plain": [
              "<IPython.core.display.Javascript object>"
            ]
          },
          "metadata": {
            "tags": []
          }
        },
        {
          "output_type": "display_data",
          "data": {
            "application/javascript": [
              "download(\"download_1c5ba094-2ff0-47f9-9b4f-36900857d9e1\", \"HDFC-Preprocessed.csv\", 263586)"
            ],
            "text/plain": [
              "<IPython.core.display.Javascript object>"
            ]
          },
          "metadata": {
            "tags": []
          }
        }
      ]
    },
    {
      "cell_type": "code",
      "metadata": {
        "id": "WWNfpBrLFLe3",
        "colab_type": "code",
        "colab": {
          "base_uri": "https://localhost:8080/",
          "height": 450
        },
        "outputId": "57462fd6-7861-4a24-955a-b1c14cff7524"
      },
      "source": [
        "new_data"
      ],
      "execution_count": 106,
      "outputs": [
        {
          "output_type": "execute_result",
          "data": {
            "text/html": [
              "<div>\n",
              "<style scoped>\n",
              "    .dataframe tbody tr th:only-of-type {\n",
              "        vertical-align: middle;\n",
              "    }\n",
              "\n",
              "    .dataframe tbody tr th {\n",
              "        vertical-align: top;\n",
              "    }\n",
              "\n",
              "    .dataframe thead th {\n",
              "        text-align: right;\n",
              "    }\n",
              "</style>\n",
              "<table border=\"1\" class=\"dataframe\">\n",
              "  <thead>\n",
              "    <tr style=\"text-align: right;\">\n",
              "      <th></th>\n",
              "      <th>Close</th>\n",
              "      <th>Scaled_closing_price</th>\n",
              "    </tr>\n",
              "    <tr>\n",
              "      <th>Date</th>\n",
              "      <th></th>\n",
              "      <th></th>\n",
              "    </tr>\n",
              "  </thead>\n",
              "  <tbody>\n",
              "    <tr>\n",
              "      <th>2000-01-03</th>\n",
              "      <td>293.5</td>\n",
              "      <td>0.003332</td>\n",
              "    </tr>\n",
              "    <tr>\n",
              "      <th>2000-01-04</th>\n",
              "      <td>304.05</td>\n",
              "      <td>0.006974</td>\n",
              "    </tr>\n",
              "    <tr>\n",
              "      <th>2000-01-05</th>\n",
              "      <td>292.8</td>\n",
              "      <td>0.003090</td>\n",
              "    </tr>\n",
              "    <tr>\n",
              "      <th>2000-01-06</th>\n",
              "      <td>296.45</td>\n",
              "      <td>0.004350</td>\n",
              "    </tr>\n",
              "    <tr>\n",
              "      <th>2000-01-07</th>\n",
              "      <td>286.55</td>\n",
              "      <td>0.000932</td>\n",
              "    </tr>\n",
              "    <tr>\n",
              "      <th>...</th>\n",
              "      <td>...</td>\n",
              "      <td>...</td>\n",
              "    </tr>\n",
              "    <tr>\n",
              "      <th>2020-08-25</th>\n",
              "      <td>1829.6</td>\n",
              "      <td>0.533698</td>\n",
              "    </tr>\n",
              "    <tr>\n",
              "      <th>2020-08-26</th>\n",
              "      <td>1816</td>\n",
              "      <td>0.529003</td>\n",
              "    </tr>\n",
              "    <tr>\n",
              "      <th>2020-08-27</th>\n",
              "      <td>1864.1</td>\n",
              "      <td>0.545610</td>\n",
              "    </tr>\n",
              "    <tr>\n",
              "      <th>2020-08-28</th>\n",
              "      <td>1883.25</td>\n",
              "      <td>0.552222</td>\n",
              "    </tr>\n",
              "    <tr>\n",
              "      <th>2020-08-31</th>\n",
              "      <td>1832.6</td>\n",
              "      <td>0.534734</td>\n",
              "    </tr>\n",
              "  </tbody>\n",
              "</table>\n",
              "<p>5141 rows × 2 columns</p>\n",
              "</div>"
            ],
            "text/plain": [
              "              Close  Scaled_closing_price\n",
              "Date                                     \n",
              "2000-01-03    293.5              0.003332\n",
              "2000-01-04   304.05              0.006974\n",
              "2000-01-05    292.8              0.003090\n",
              "2000-01-06   296.45              0.004350\n",
              "2000-01-07   286.55              0.000932\n",
              "...             ...                   ...\n",
              "2020-08-25   1829.6              0.533698\n",
              "2020-08-26     1816              0.529003\n",
              "2020-08-27   1864.1              0.545610\n",
              "2020-08-28  1883.25              0.552222\n",
              "2020-08-31   1832.6              0.534734\n",
              "\n",
              "[5141 rows x 2 columns]"
            ]
          },
          "metadata": {
            "tags": []
          },
          "execution_count": 106
        }
      ]
    }
  ]
}